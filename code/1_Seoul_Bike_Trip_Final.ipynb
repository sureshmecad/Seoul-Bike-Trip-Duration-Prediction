{
 "cells": [
  {
   "cell_type": "markdown",
   "metadata": {
    "id": "72SlyocM8TZ2"
   },
   "source": [
    "### **Project 2**\n",
    "\n",
    "#### **Seoul Bike Trip Duration Prediction**"
   ]
  },
  {
   "cell_type": "markdown",
   "metadata": {
    "id": "IkfBRaw38vH9"
   },
   "source": [
    "##### **Company :** The Machine Learning Company\n",
    "\n",
    "##### **Role :** Machine Learning Intern\n",
    "\n",
    "##### **Author :** Anuganti Suresh"
   ]
  },
  {
   "cell_type": "markdown",
   "metadata": {
    "id": "VmcOL2Di8wM0"
   },
   "source": [
    "#### **Problem Statement**\n",
    "\n",
    "- **Seoul Bike Trip Duration Prediction**"
   ]
  },
  {
   "cell_type": "markdown",
   "metadata": {
    "id": "CX07YZWt81EV"
   },
   "source": [
    "#### **Dataset Information:**\n",
    "\n",
    "- **Number of Rows :** 9601139\n",
    "\n",
    "- **Number of Columns :** 26"
   ]
  },
  {
   "cell_type": "markdown",
   "metadata": {
    "id": "USiXznPX85I1"
   },
   "source": [
    "|Abbreviation   |Parameters/Features    |Type   |Measurement |                  \n",
    "|---------------|-----------------------|-------------|---------------|\n",
    "|Duration       |trip duration          |Continuous    |1, 2, 3, … 5940    |\n",
    "|Distance       |trip distance          |Continuous    |1, 2, 3, … 33,290  |\n",
    "|PD time        |pickup date and time   |year-month-day|\n",
    "|               |                       |hour:minute:second|Time|\n",
    "|DDtime         |dropoff date and time  |year-month-day|\n",
    "|               |                       |hour:minute:second|Time|\n",
    "|PLong          |pickup longitude\t\t    |continuous   |Radians  |\n",
    "|PLatd          |pickup latitude\t\t    |continuous\t  |Radians  |\n",
    "|DLong          |dropoff longitude\t\t  |continuous\t  |Radians  |\n",
    "|DLatd          |dropoff latitude\t\t    |continuous\t  |Radians  |\n",
    "|Haversine      |haversine distance\t\t  |continuous\t  |Kilometres|\n",
    "|Pmonth         |pickup month\t\t        |categorical\t|January, February, March, … December|\n",
    "|Pday           |pickup day\t\t          |categorical\t|1,2,3, … 31|\n",
    "|Phour          |pickup hour\t\t        |categorical\t|0,1,2, … 23|\n",
    "|Pmin           |pickup minute\t\t      |continuous\t  |1,2,3, … 60|\n",
    "|PDweek         |pickup day of the week\t|categorical\t|Sunday, Monday, Tuesday, Wednesday, Thursday, Friday, Saturday|\n",
    "|Dmonth         |dropoff month\t\t      |categorical\t|January, February, March,… December|\n",
    "|Dday           |dropoff day\t\t        |categorical\t|1,2,3, … 31|\n",
    "|Dhour          |dropoff hour\t\t        |categorical\t|0,1,2, … 23|\n",
    "|Dmin           |dropoff minute\t\t      |continuous\t  |1,2,3, … 60|\n",
    "|DDweek         |dropoff day of the week|categorical\t|Sunday, Monday, Tuesday, Wednesday, Thursday, Friday, Saturday|\n",
    "|Temp           |temperature\t\t        |continuous\t  |°C|\n",
    "|Precip         |precipitation\t\t      |continuous\t  |Mm|\n",
    "|Wind           |windspeed\t\t          |continuous\t  |m/s|\n",
    "|Humd           |humidity\t\t            |continuous\t  |%|\n",
    "|Solar          |solar radiation\t\t    |continuous\t  |MJ/m2|\n",
    "|Snow           |snow fall\t\t          |continuous\t  |cm|\n",
    "|GroundTemp     |ground temperature\t\t  |continuous\t  |°C|\n",
    "|Dust           |1 hour average fine dust concentration\t\t|continuous\t|㎍/㎥|"
   ]
  },
  {
   "cell_type": "markdown",
   "metadata": {
    "id": "_Z3dSKOF-N5Y"
   },
   "source": [
    "### Table of Contents\n",
    "\n",
    "* [1) Import Libraries](#1)\n",
    "\n",
    "* [2) Import Data And Preprocessing](#2)\n",
    "\n",
    "* [3) Exploratory Data Analysis](#3)\n",
    "\n",
    " * [3.1) Visualizations](#3.1)\n",
    "\n",
    "   * [3.1.1 Univariate Analysis](#3.1.1)\n",
    "   * [3.1.2 Bivariate Analysis](#3.1.2)\n",
    "   * [3.1.3 Multivariate Analysis](#3.1.3)\n",
    "\n",
    " * [3.2) Relation between Features](#3.2)\n",
    "\n",
    "   * [3.2.1 The correlation between the continuos variables](#3.2.1)\n",
    "   * [3.2.2) The correlation between this continuos features and the target](#3.2.1)\n",
    "\n",
    " * [3.3) Skewness and Kurtosis](#3.3)\n",
    "\n",
    " * [4) Feature Engineering](#4)\n",
    "\n",
    "   * [4.1) Missing Values](#4.1)\n",
    "   * [4.2) Outliers](#4.2)\n",
    "   * [4.3) Label Encoding](#4.3)\n",
    "   * [4.4) Scaling](#4.4)\n",
    "\n",
    "* [5) Modelling](#5)\n",
    "\n",
    "* [6) Model Evaluation](#6)\n",
    "\n",
    "* [7) Hyperparameter Tuning](#7)\n",
    "\n",
    "* [8) Prediction](#8)"
   ]
  },
  {
   "cell_type": "markdown",
   "metadata": {
    "id": "p5Sd3OlR-kcU"
   },
   "source": [
    "#### **1) Import Libraries**"
   ]
  },
  {
   "cell_type": "code",
   "execution_count": 1,
   "metadata": {
    "id": "hRhKDsD78SgB"
   },
   "outputs": [],
   "source": [
    "# Read Data\n",
    "import numpy as np                     # Linear Algebra (calculate the mean and standard deviation)\n",
    "import pandas as pd                    # manipulate data, data processing, load csv file I/O (e.g. pd.read_csv)\n",
    "\n",
    "# Visualization\n",
    "import seaborn as sns                  # Visualization using seaborn\n",
    "import matplotlib.pyplot as plt        # Visualization using matplotlib\n",
    "%matplotlib inline\n",
    "\n",
    "# style\n",
    "plt.style.use(\"fivethirtyeight\")       # Set Graphs Background style using matplotlib\n",
    "sns.set_style(\"darkgrid\")              # Set Graphs Background style using seaborn\n",
    "\n",
    "import warnings                        # Ignore Warnings\n",
    "warnings.filterwarnings(\"ignore\")"
   ]
  },
  {
   "cell_type": "code",
   "execution_count": 2,
   "metadata": {
    "id": "H25ChDI3-qRg"
   },
   "outputs": [],
   "source": [
    "from sklearn.model_selection import train_test_split\n",
    "\n",
    "from sklearn.metrics import mean_squared_error, mean_absolute_error, r2_score\n",
    "\n",
    "from sklearn.preprocessing import LabelEncoder\n",
    "\n",
    "from sklearn.ensemble import RandomForestRegressor\n",
    "from sklearn.tree import DecisionTreeClassifier\n",
    "from sklearn.neighbors import KNeighborsClassifier\n",
    "import xgboost as xgb\n",
    "from xgboost import XGBRegressor, plot_importance\n",
    "from lightgbm import LGBMRegressor, plot_importance"
   ]
  },
  {
   "cell_type": "markdown",
   "metadata": {
    "id": "vWEJItII-kbR"
   },
   "source": [
    "#### **2) Import Data And Preprocessing**"
   ]
  },
  {
   "cell_type": "code",
   "execution_count": 3,
   "metadata": {
    "colab": {
     "base_uri": "https://localhost:8080/"
    },
    "collapsed": true,
    "id": "W5zkhKly-qQJ",
    "outputId": "8a2766cd-b1f1-4cae-88cb-68bd8dc8401a"
   },
   "outputs": [
    {
     "ename": "ModuleNotFoundError",
     "evalue": "No module named 'google.colab'",
     "output_type": "error",
     "traceback": [
      "\u001b[1;31m---------------------------------------------------------------------------\u001b[0m",
      "\u001b[1;31mModuleNotFoundError\u001b[0m                       Traceback (most recent call last)",
      "\u001b[1;32m<ipython-input-3-d5df0069828e>\u001b[0m in \u001b[0;36m<module>\u001b[1;34m\u001b[0m\n\u001b[1;32m----> 1\u001b[1;33m \u001b[1;32mfrom\u001b[0m \u001b[0mgoogle\u001b[0m\u001b[1;33m.\u001b[0m\u001b[0mcolab\u001b[0m \u001b[1;32mimport\u001b[0m \u001b[0mdrive\u001b[0m\u001b[1;33m\u001b[0m\u001b[1;33m\u001b[0m\u001b[0m\n\u001b[0m\u001b[0;32m      2\u001b[0m \u001b[0mdrive\u001b[0m\u001b[1;33m.\u001b[0m\u001b[0mmount\u001b[0m\u001b[1;33m(\u001b[0m\u001b[1;34m'/content/drive'\u001b[0m\u001b[1;33m)\u001b[0m\u001b[1;33m\u001b[0m\u001b[1;33m\u001b[0m\u001b[0m\n",
      "\u001b[1;31mModuleNotFoundError\u001b[0m: No module named 'google.colab'"
     ]
    }
   ],
   "source": [
    "from google.colab import drive\n",
    "drive.mount('/content/drive')"
   ]
  },
  {
   "cell_type": "code",
   "execution_count": 4,
   "metadata": {
    "id": "zrvVXb6I-_oy"
   },
   "outputs": [],
   "source": [
    "Bike = pd.read_csv(\"C:/Users/deepusuresh/Desktop/New folder/Seoul-Bike-Trip-Duration.zip\")"
   ]
  },
  {
   "cell_type": "code",
   "execution_count": 5,
   "metadata": {
    "colab": {
     "base_uri": "https://localhost:8080/",
     "height": 264
    },
    "id": "X55weSfe-_oI",
    "outputId": "c5a26d62-769d-47aa-9f77-b2cc5ba9b80d",
    "scrolled": true
   },
   "outputs": [
    {
     "data": {
      "text/html": [
       "<div>\n",
       "<style scoped>\n",
       "    .dataframe tbody tr th:only-of-type {\n",
       "        vertical-align: middle;\n",
       "    }\n",
       "\n",
       "    .dataframe tbody tr th {\n",
       "        vertical-align: top;\n",
       "    }\n",
       "\n",
       "    .dataframe thead th {\n",
       "        text-align: right;\n",
       "    }\n",
       "</style>\n",
       "<table border=\"1\" class=\"dataframe\">\n",
       "  <thead>\n",
       "    <tr style=\"text-align: right;\">\n",
       "      <th></th>\n",
       "      <th>Unnamed: 0</th>\n",
       "      <th>Duration</th>\n",
       "      <th>Distance</th>\n",
       "      <th>PLong</th>\n",
       "      <th>PLatd</th>\n",
       "      <th>DLong</th>\n",
       "      <th>DLatd</th>\n",
       "      <th>Haversine</th>\n",
       "      <th>Pmonth</th>\n",
       "      <th>Pday</th>\n",
       "      <th>...</th>\n",
       "      <th>Dmin</th>\n",
       "      <th>DDweek</th>\n",
       "      <th>Temp</th>\n",
       "      <th>Precip</th>\n",
       "      <th>Wind</th>\n",
       "      <th>Humid</th>\n",
       "      <th>Solar</th>\n",
       "      <th>Snow</th>\n",
       "      <th>GroundTemp</th>\n",
       "      <th>Dust</th>\n",
       "    </tr>\n",
       "  </thead>\n",
       "  <tbody>\n",
       "    <tr>\n",
       "      <th>0</th>\n",
       "      <td>0</td>\n",
       "      <td>3</td>\n",
       "      <td>50</td>\n",
       "      <td>37.544666</td>\n",
       "      <td>126.888359</td>\n",
       "      <td>37.544666</td>\n",
       "      <td>126.888359</td>\n",
       "      <td>0.000000</td>\n",
       "      <td>1</td>\n",
       "      <td>1</td>\n",
       "      <td>...</td>\n",
       "      <td>4</td>\n",
       "      <td>0</td>\n",
       "      <td>-3.2</td>\n",
       "      <td>0.0</td>\n",
       "      <td>0.5</td>\n",
       "      <td>40.0</td>\n",
       "      <td>0.0</td>\n",
       "      <td>0.0</td>\n",
       "      <td>-2.2</td>\n",
       "      <td>25.0</td>\n",
       "    </tr>\n",
       "    <tr>\n",
       "      <th>1</th>\n",
       "      <td>1</td>\n",
       "      <td>24</td>\n",
       "      <td>7670</td>\n",
       "      <td>37.506199</td>\n",
       "      <td>127.003944</td>\n",
       "      <td>37.551250</td>\n",
       "      <td>127.035103</td>\n",
       "      <td>5.713529</td>\n",
       "      <td>1</td>\n",
       "      <td>1</td>\n",
       "      <td>...</td>\n",
       "      <td>25</td>\n",
       "      <td>0</td>\n",
       "      <td>-3.2</td>\n",
       "      <td>0.0</td>\n",
       "      <td>0.5</td>\n",
       "      <td>40.0</td>\n",
       "      <td>0.0</td>\n",
       "      <td>0.0</td>\n",
       "      <td>-2.2</td>\n",
       "      <td>25.0</td>\n",
       "    </tr>\n",
       "    <tr>\n",
       "      <th>2</th>\n",
       "      <td>2</td>\n",
       "      <td>8</td>\n",
       "      <td>1390</td>\n",
       "      <td>37.544590</td>\n",
       "      <td>127.057083</td>\n",
       "      <td>37.537014</td>\n",
       "      <td>127.061096</td>\n",
       "      <td>0.913702</td>\n",
       "      <td>1</td>\n",
       "      <td>1</td>\n",
       "      <td>...</td>\n",
       "      <td>9</td>\n",
       "      <td>0</td>\n",
       "      <td>-3.2</td>\n",
       "      <td>0.0</td>\n",
       "      <td>0.5</td>\n",
       "      <td>40.0</td>\n",
       "      <td>0.0</td>\n",
       "      <td>0.0</td>\n",
       "      <td>-2.2</td>\n",
       "      <td>25.0</td>\n",
       "    </tr>\n",
       "  </tbody>\n",
       "</table>\n",
       "<p>3 rows × 26 columns</p>\n",
       "</div>"
      ],
      "text/plain": [
       "   Unnamed: 0  Duration  Distance      PLong       PLatd      DLong  \\\n",
       "0           0         3        50  37.544666  126.888359  37.544666   \n",
       "1           1        24      7670  37.506199  127.003944  37.551250   \n",
       "2           2         8      1390  37.544590  127.057083  37.537014   \n",
       "\n",
       "        DLatd  Haversine  Pmonth  Pday  ...  Dmin  DDweek  Temp  Precip  Wind  \\\n",
       "0  126.888359   0.000000       1     1  ...     4       0  -3.2     0.0   0.5   \n",
       "1  127.035103   5.713529       1     1  ...    25       0  -3.2     0.0   0.5   \n",
       "2  127.061096   0.913702       1     1  ...     9       0  -3.2     0.0   0.5   \n",
       "\n",
       "   Humid  Solar  Snow  GroundTemp  Dust  \n",
       "0   40.0    0.0   0.0        -2.2  25.0  \n",
       "1   40.0    0.0   0.0        -2.2  25.0  \n",
       "2   40.0    0.0   0.0        -2.2  25.0  \n",
       "\n",
       "[3 rows x 26 columns]"
      ]
     },
     "metadata": {},
     "output_type": "display_data"
    },
    {
     "data": {
      "text/html": [
       "<div>\n",
       "<style scoped>\n",
       "    .dataframe tbody tr th:only-of-type {\n",
       "        vertical-align: middle;\n",
       "    }\n",
       "\n",
       "    .dataframe tbody tr th {\n",
       "        vertical-align: top;\n",
       "    }\n",
       "\n",
       "    .dataframe thead th {\n",
       "        text-align: right;\n",
       "    }\n",
       "</style>\n",
       "<table border=\"1\" class=\"dataframe\">\n",
       "  <thead>\n",
       "    <tr style=\"text-align: right;\">\n",
       "      <th></th>\n",
       "      <th>Unnamed: 0</th>\n",
       "      <th>Duration</th>\n",
       "      <th>Distance</th>\n",
       "      <th>PLong</th>\n",
       "      <th>PLatd</th>\n",
       "      <th>DLong</th>\n",
       "      <th>DLatd</th>\n",
       "      <th>Haversine</th>\n",
       "      <th>Pmonth</th>\n",
       "      <th>Pday</th>\n",
       "      <th>...</th>\n",
       "      <th>Dmin</th>\n",
       "      <th>DDweek</th>\n",
       "      <th>Temp</th>\n",
       "      <th>Precip</th>\n",
       "      <th>Wind</th>\n",
       "      <th>Humid</th>\n",
       "      <th>Solar</th>\n",
       "      <th>Snow</th>\n",
       "      <th>GroundTemp</th>\n",
       "      <th>Dust</th>\n",
       "    </tr>\n",
       "  </thead>\n",
       "  <tbody>\n",
       "    <tr>\n",
       "      <th>9601136</th>\n",
       "      <td>9830308</td>\n",
       "      <td>118</td>\n",
       "      <td>2730</td>\n",
       "      <td>37.506199</td>\n",
       "      <td>127.003944</td>\n",
       "      <td>37.514870</td>\n",
       "      <td>127.015282</td>\n",
       "      <td>1.389156</td>\n",
       "      <td>12</td>\n",
       "      <td>31</td>\n",
       "      <td>...</td>\n",
       "      <td>58</td>\n",
       "      <td>1</td>\n",
       "      <td>-5.4</td>\n",
       "      <td>0.0</td>\n",
       "      <td>1.3</td>\n",
       "      <td>46.0</td>\n",
       "      <td>0.0</td>\n",
       "      <td>0.0</td>\n",
       "      <td>-5.0</td>\n",
       "      <td>49.0</td>\n",
       "    </tr>\n",
       "    <tr>\n",
       "      <th>9601137</th>\n",
       "      <td>9830309</td>\n",
       "      <td>90</td>\n",
       "      <td>17170</td>\n",
       "      <td>37.489750</td>\n",
       "      <td>126.927467</td>\n",
       "      <td>37.565903</td>\n",
       "      <td>126.901184</td>\n",
       "      <td>8.779307</td>\n",
       "      <td>12</td>\n",
       "      <td>31</td>\n",
       "      <td>...</td>\n",
       "      <td>26</td>\n",
       "      <td>1</td>\n",
       "      <td>-5.2</td>\n",
       "      <td>0.0</td>\n",
       "      <td>1.6</td>\n",
       "      <td>47.0</td>\n",
       "      <td>0.0</td>\n",
       "      <td>0.0</td>\n",
       "      <td>-5.1</td>\n",
       "      <td>53.0</td>\n",
       "    </tr>\n",
       "    <tr>\n",
       "      <th>9601138</th>\n",
       "      <td>9830310</td>\n",
       "      <td>116</td>\n",
       "      <td>1410</td>\n",
       "      <td>37.585655</td>\n",
       "      <td>127.075050</td>\n",
       "      <td>37.585655</td>\n",
       "      <td>127.075050</td>\n",
       "      <td>0.000000</td>\n",
       "      <td>12</td>\n",
       "      <td>31</td>\n",
       "      <td>...</td>\n",
       "      <td>30</td>\n",
       "      <td>1</td>\n",
       "      <td>-5.2</td>\n",
       "      <td>0.0</td>\n",
       "      <td>1.6</td>\n",
       "      <td>47.0</td>\n",
       "      <td>0.0</td>\n",
       "      <td>0.0</td>\n",
       "      <td>-5.1</td>\n",
       "      <td>53.0</td>\n",
       "    </tr>\n",
       "  </tbody>\n",
       "</table>\n",
       "<p>3 rows × 26 columns</p>\n",
       "</div>"
      ],
      "text/plain": [
       "         Unnamed: 0  Duration  Distance      PLong       PLatd      DLong  \\\n",
       "9601136     9830308       118      2730  37.506199  127.003944  37.514870   \n",
       "9601137     9830309        90     17170  37.489750  126.927467  37.565903   \n",
       "9601138     9830310       116      1410  37.585655  127.075050  37.585655   \n",
       "\n",
       "              DLatd  Haversine  Pmonth  Pday  ...  Dmin  DDweek  Temp  Precip  \\\n",
       "9601136  127.015282   1.389156      12    31  ...    58       1  -5.4     0.0   \n",
       "9601137  126.901184   8.779307      12    31  ...    26       1  -5.2     0.0   \n",
       "9601138  127.075050   0.000000      12    31  ...    30       1  -5.2     0.0   \n",
       "\n",
       "         Wind  Humid  Solar  Snow  GroundTemp  Dust  \n",
       "9601136   1.3   46.0    0.0   0.0        -5.0  49.0  \n",
       "9601137   1.6   47.0    0.0   0.0        -5.1  53.0  \n",
       "9601138   1.6   47.0    0.0   0.0        -5.1  53.0  \n",
       "\n",
       "[3 rows x 26 columns]"
      ]
     },
     "metadata": {},
     "output_type": "display_data"
    }
   ],
   "source": [
    "display(Bike.head(3))\n",
    "display(Bike.tail(3))"
   ]
  },
  {
   "cell_type": "code",
   "execution_count": null,
   "metadata": {
    "id": "iC4jaNulASfX"
   },
   "outputs": [],
   "source": [
    "Bike.drop('Unnamed: 0', axis=1, inplace=True)"
   ]
  },
  {
   "cell_type": "code",
   "execution_count": 6,
   "metadata": {
    "colab": {
     "base_uri": "https://localhost:8080/",
     "height": 202
    },
    "id": "oW-izv_lfWiK",
    "outputId": "e005acbd-81c9-4630-f01b-0383b44e93b7"
   },
   "outputs": [
    {
     "data": {
      "text/html": [
       "<div>\n",
       "<style scoped>\n",
       "    .dataframe tbody tr th:only-of-type {\n",
       "        vertical-align: middle;\n",
       "    }\n",
       "\n",
       "    .dataframe tbody tr th {\n",
       "        vertical-align: top;\n",
       "    }\n",
       "\n",
       "    .dataframe thead th {\n",
       "        text-align: right;\n",
       "    }\n",
       "</style>\n",
       "<table border=\"1\" class=\"dataframe\">\n",
       "  <thead>\n",
       "    <tr style=\"text-align: right;\">\n",
       "      <th></th>\n",
       "      <th>Duration</th>\n",
       "      <th>Distance</th>\n",
       "      <th>PLong</th>\n",
       "      <th>DLong</th>\n",
       "      <th>Haversine</th>\n",
       "      <th>Pmonth</th>\n",
       "      <th>Phour</th>\n",
       "      <th>PDweek</th>\n",
       "      <th>Dmonth</th>\n",
       "      <th>Dhour</th>\n",
       "      <th>DDweek</th>\n",
       "      <th>Temp</th>\n",
       "      <th>Wind</th>\n",
       "      <th>Humid</th>\n",
       "      <th>Solar</th>\n",
       "      <th>GroundTemp</th>\n",
       "    </tr>\n",
       "  </thead>\n",
       "  <tbody>\n",
       "    <tr>\n",
       "      <th>0</th>\n",
       "      <td>3</td>\n",
       "      <td>50</td>\n",
       "      <td>37.544666</td>\n",
       "      <td>37.544666</td>\n",
       "      <td>0.000000</td>\n",
       "      <td>1</td>\n",
       "      <td>0</td>\n",
       "      <td>0</td>\n",
       "      <td>1</td>\n",
       "      <td>0</td>\n",
       "      <td>0</td>\n",
       "      <td>-3.2</td>\n",
       "      <td>0.5</td>\n",
       "      <td>40.0</td>\n",
       "      <td>0.0</td>\n",
       "      <td>-2.2</td>\n",
       "    </tr>\n",
       "    <tr>\n",
       "      <th>1</th>\n",
       "      <td>24</td>\n",
       "      <td>7670</td>\n",
       "      <td>37.506199</td>\n",
       "      <td>37.551250</td>\n",
       "      <td>5.713529</td>\n",
       "      <td>1</td>\n",
       "      <td>0</td>\n",
       "      <td>0</td>\n",
       "      <td>1</td>\n",
       "      <td>0</td>\n",
       "      <td>0</td>\n",
       "      <td>-3.2</td>\n",
       "      <td>0.5</td>\n",
       "      <td>40.0</td>\n",
       "      <td>0.0</td>\n",
       "      <td>-2.2</td>\n",
       "    </tr>\n",
       "    <tr>\n",
       "      <th>2</th>\n",
       "      <td>8</td>\n",
       "      <td>1390</td>\n",
       "      <td>37.544590</td>\n",
       "      <td>37.537014</td>\n",
       "      <td>0.913702</td>\n",
       "      <td>1</td>\n",
       "      <td>0</td>\n",
       "      <td>0</td>\n",
       "      <td>1</td>\n",
       "      <td>0</td>\n",
       "      <td>0</td>\n",
       "      <td>-3.2</td>\n",
       "      <td>0.5</td>\n",
       "      <td>40.0</td>\n",
       "      <td>0.0</td>\n",
       "      <td>-2.2</td>\n",
       "    </tr>\n",
       "    <tr>\n",
       "      <th>3</th>\n",
       "      <td>8</td>\n",
       "      <td>1820</td>\n",
       "      <td>37.571102</td>\n",
       "      <td>37.561447</td>\n",
       "      <td>1.468027</td>\n",
       "      <td>1</td>\n",
       "      <td>0</td>\n",
       "      <td>0</td>\n",
       "      <td>1</td>\n",
       "      <td>0</td>\n",
       "      <td>0</td>\n",
       "      <td>-3.2</td>\n",
       "      <td>0.5</td>\n",
       "      <td>40.0</td>\n",
       "      <td>0.0</td>\n",
       "      <td>-2.2</td>\n",
       "    </tr>\n",
       "    <tr>\n",
       "      <th>4</th>\n",
       "      <td>4</td>\n",
       "      <td>850</td>\n",
       "      <td>37.573242</td>\n",
       "      <td>37.565849</td>\n",
       "      <td>0.823227</td>\n",
       "      <td>1</td>\n",
       "      <td>0</td>\n",
       "      <td>0</td>\n",
       "      <td>1</td>\n",
       "      <td>0</td>\n",
       "      <td>0</td>\n",
       "      <td>-3.2</td>\n",
       "      <td>0.5</td>\n",
       "      <td>40.0</td>\n",
       "      <td>0.0</td>\n",
       "      <td>-2.2</td>\n",
       "    </tr>\n",
       "  </tbody>\n",
       "</table>\n",
       "</div>"
      ],
      "text/plain": [
       "   Duration  Distance      PLong      DLong  Haversine  Pmonth  Phour  PDweek  \\\n",
       "0         3        50  37.544666  37.544666   0.000000       1      0       0   \n",
       "1        24      7670  37.506199  37.551250   5.713529       1      0       0   \n",
       "2         8      1390  37.544590  37.537014   0.913702       1      0       0   \n",
       "3         8      1820  37.571102  37.561447   1.468027       1      0       0   \n",
       "4         4       850  37.573242  37.565849   0.823227       1      0       0   \n",
       "\n",
       "   Dmonth  Dhour  DDweek  Temp  Wind  Humid  Solar  GroundTemp  \n",
       "0       1      0       0  -3.2   0.5   40.0    0.0        -2.2  \n",
       "1       1      0       0  -3.2   0.5   40.0    0.0        -2.2  \n",
       "2       1      0       0  -3.2   0.5   40.0    0.0        -2.2  \n",
       "3       1      0       0  -3.2   0.5   40.0    0.0        -2.2  \n",
       "4       1      0       0  -3.2   0.5   40.0    0.0        -2.2  "
      ]
     },
     "execution_count": 6,
     "metadata": {},
     "output_type": "execute_result"
    }
   ],
   "source": [
    "df = Bike.drop(['PLatd', 'DLatd', 'Pday', 'Pmin', 'Dday', 'Dmin', 'Precip', 'Snow', 'Dust'], axis=1)\n",
    "df.head()"
   ]
  },
  {
   "cell_type": "code",
   "execution_count": 7,
   "metadata": {
    "colab": {
     "base_uri": "https://localhost:8080/"
    },
    "id": "_ZqMf-S0-_cj",
    "outputId": "bcb1a289-c9d4-4f74-dc4d-9fc808b9d80c"
   },
   "outputs": [
    {
     "data": {
      "text/plain": [
       "(9601139, 25)"
      ]
     },
     "execution_count": 7,
     "metadata": {},
     "output_type": "execute_result"
    }
   ],
   "source": [
    "Bike.shape"
   ]
  },
  {
   "cell_type": "code",
   "execution_count": 8,
   "metadata": {
    "id": "z_7gU1tW_lyu"
   },
   "outputs": [],
   "source": [
    "Bike_original = Bike.copy()"
   ]
  },
  {
   "cell_type": "code",
   "execution_count": null,
   "metadata": {
    "colab": {
     "base_uri": "https://localhost:8080/"
    },
    "id": "okBmmEmI-_b4",
    "outputId": "0d6fe3e5-fadb-4f9d-917a-5b875c82c149"
   },
   "outputs": [
    {
     "name": "stdout",
     "output_type": "stream",
     "text": [
      "<class 'pandas.core.frame.DataFrame'>\n",
      "RangeIndex: 9601139 entries, 0 to 9601138\n",
      "Data columns (total 25 columns):\n",
      " #   Column      Dtype  \n",
      "---  ------      -----  \n",
      " 0   Duration    int64  \n",
      " 1   Distance    int64  \n",
      " 2   PLong       float64\n",
      " 3   PLatd       float64\n",
      " 4   DLong       float64\n",
      " 5   DLatd       float64\n",
      " 6   Haversine   float64\n",
      " 7   Pmonth      int64  \n",
      " 8   Pday        int64  \n",
      " 9   Phour       int64  \n",
      " 10  Pmin        int64  \n",
      " 11  PDweek      int64  \n",
      " 12  Dmonth      int64  \n",
      " 13  Dday        int64  \n",
      " 14  Dhour       int64  \n",
      " 15  Dmin        int64  \n",
      " 16  DDweek      int64  \n",
      " 17  Temp        float64\n",
      " 18  Precip      float64\n",
      " 19  Wind        float64\n",
      " 20  Humid       float64\n",
      " 21  Solar       float64\n",
      " 22  Snow        float64\n",
      " 23  GroundTemp  float64\n",
      " 24  Dust        float64\n",
      "dtypes: float64(13), int64(12)\n",
      "memory usage: 1.8 GB\n"
     ]
    }
   ],
   "source": [
    "Bike.info()"
   ]
  },
  {
   "cell_type": "code",
   "execution_count": null,
   "metadata": {
    "colab": {
     "base_uri": "https://localhost:8080/",
     "height": 314
    },
    "id": "qh_419FH_9Rx",
    "outputId": "c7faa04c-3a99-40fb-b53e-bae6a710df92"
   },
   "outputs": [
    {
     "data": {
      "text/html": [
       "<div>\n",
       "<style scoped>\n",
       "    .dataframe tbody tr th:only-of-type {\n",
       "        vertical-align: middle;\n",
       "    }\n",
       "\n",
       "    .dataframe tbody tr th {\n",
       "        vertical-align: top;\n",
       "    }\n",
       "\n",
       "    .dataframe thead th {\n",
       "        text-align: right;\n",
       "    }\n",
       "</style>\n",
       "<table border=\"1\" class=\"dataframe\">\n",
       "  <thead>\n",
       "    <tr style=\"text-align: right;\">\n",
       "      <th></th>\n",
       "      <th>Duration</th>\n",
       "      <th>Distance</th>\n",
       "      <th>PLong</th>\n",
       "      <th>PLatd</th>\n",
       "      <th>DLong</th>\n",
       "      <th>DLatd</th>\n",
       "      <th>Haversine</th>\n",
       "      <th>Pmonth</th>\n",
       "      <th>Pday</th>\n",
       "      <th>Phour</th>\n",
       "      <th>Pmin</th>\n",
       "      <th>PDweek</th>\n",
       "      <th>Dmonth</th>\n",
       "      <th>Dday</th>\n",
       "      <th>Dhour</th>\n",
       "      <th>Dmin</th>\n",
       "      <th>DDweek</th>\n",
       "      <th>Temp</th>\n",
       "      <th>Precip</th>\n",
       "      <th>Wind</th>\n",
       "      <th>Humid</th>\n",
       "      <th>Solar</th>\n",
       "      <th>Snow</th>\n",
       "      <th>GroundTemp</th>\n",
       "      <th>Dust</th>\n",
       "    </tr>\n",
       "  </thead>\n",
       "  <tbody>\n",
       "    <tr>\n",
       "      <th>count</th>\n",
       "      <td>9.601139e+06</td>\n",
       "      <td>9.601139e+06</td>\n",
       "      <td>9.601139e+06</td>\n",
       "      <td>9.601139e+06</td>\n",
       "      <td>9.601139e+06</td>\n",
       "      <td>9.601139e+06</td>\n",
       "      <td>9.601139e+06</td>\n",
       "      <td>9.601139e+06</td>\n",
       "      <td>9.601139e+06</td>\n",
       "      <td>9.601139e+06</td>\n",
       "      <td>9.601139e+06</td>\n",
       "      <td>9.601139e+06</td>\n",
       "      <td>9.601139e+06</td>\n",
       "      <td>9.601139e+06</td>\n",
       "      <td>9.601139e+06</td>\n",
       "      <td>9.601139e+06</td>\n",
       "      <td>9.601139e+06</td>\n",
       "      <td>9.601139e+06</td>\n",
       "      <td>9.601139e+06</td>\n",
       "      <td>9.601139e+06</td>\n",
       "      <td>9.601139e+06</td>\n",
       "      <td>9.601139e+06</td>\n",
       "      <td>9.601139e+06</td>\n",
       "      <td>9.601139e+06</td>\n",
       "      <td>9.601139e+06</td>\n",
       "    </tr>\n",
       "    <tr>\n",
       "      <th>mean</th>\n",
       "      <td>2.580294e+01</td>\n",
       "      <td>3.713519e+03</td>\n",
       "      <td>3.754761e+01</td>\n",
       "      <td>1.269908e+02</td>\n",
       "      <td>3.754770e+01</td>\n",
       "      <td>1.269907e+02</td>\n",
       "      <td>1.870315e+00</td>\n",
       "      <td>7.578754e+00</td>\n",
       "      <td>1.576714e+01</td>\n",
       "      <td>1.437801e+01</td>\n",
       "      <td>2.914948e+01</td>\n",
       "      <td>2.943812e+00</td>\n",
       "      <td>7.579198e+00</td>\n",
       "      <td>1.576666e+01</td>\n",
       "      <td>1.442620e+01</td>\n",
       "      <td>2.999278e+01</td>\n",
       "      <td>2.945771e+00</td>\n",
       "      <td>1.856201e+01</td>\n",
       "      <td>1.784856e-02</td>\n",
       "      <td>1.819274e+00</td>\n",
       "      <td>5.397565e+01</td>\n",
       "      <td>7.300679e-01</td>\n",
       "      <td>9.948924e-03</td>\n",
       "      <td>2.072376e+01</td>\n",
       "      <td>3.245798e+01</td>\n",
       "    </tr>\n",
       "    <tr>\n",
       "      <th>std</th>\n",
       "      <td>2.504333e+01</td>\n",
       "      <td>3.956611e+03</td>\n",
       "      <td>4.441376e-02</td>\n",
       "      <td>8.257065e-02</td>\n",
       "      <td>4.445305e-02</td>\n",
       "      <td>8.323726e-02</td>\n",
       "      <td>1.995361e+00</td>\n",
       "      <td>2.696797e+00</td>\n",
       "      <td>8.748012e+00</td>\n",
       "      <td>6.249244e+00</td>\n",
       "      <td>1.725837e+01</td>\n",
       "      <td>1.976063e+00</td>\n",
       "      <td>2.696781e+00</td>\n",
       "      <td>8.747788e+00</td>\n",
       "      <td>6.484493e+00</td>\n",
       "      <td>1.730960e+01</td>\n",
       "      <td>1.977624e+00</td>\n",
       "      <td>9.498075e+00</td>\n",
       "      <td>3.736282e-01</td>\n",
       "      <td>9.710258e-01</td>\n",
       "      <td>1.742159e+01</td>\n",
       "      <td>9.175004e-01</td>\n",
       "      <td>1.628091e-01</td>\n",
       "      <td>1.265221e+01</td>\n",
       "      <td>2.407264e+01</td>\n",
       "    </tr>\n",
       "    <tr>\n",
       "      <th>min</th>\n",
       "      <td>1.000000e+00</td>\n",
       "      <td>1.000000e+00</td>\n",
       "      <td>3.743727e+01</td>\n",
       "      <td>1.267986e+02</td>\n",
       "      <td>3.743727e+01</td>\n",
       "      <td>1.267986e+02</td>\n",
       "      <td>0.000000e+00</td>\n",
       "      <td>1.000000e+00</td>\n",
       "      <td>1.000000e+00</td>\n",
       "      <td>0.000000e+00</td>\n",
       "      <td>0.000000e+00</td>\n",
       "      <td>0.000000e+00</td>\n",
       "      <td>1.000000e+00</td>\n",
       "      <td>1.000000e+00</td>\n",
       "      <td>0.000000e+00</td>\n",
       "      <td>0.000000e+00</td>\n",
       "      <td>0.000000e+00</td>\n",
       "      <td>-1.780000e+01</td>\n",
       "      <td>0.000000e+00</td>\n",
       "      <td>0.000000e+00</td>\n",
       "      <td>1.000000e+01</td>\n",
       "      <td>0.000000e+00</td>\n",
       "      <td>0.000000e+00</td>\n",
       "      <td>-1.360000e+01</td>\n",
       "      <td>0.000000e+00</td>\n",
       "    </tr>\n",
       "    <tr>\n",
       "      <th>25%</th>\n",
       "      <td>8.000000e+00</td>\n",
       "      <td>1.230000e+03</td>\n",
       "      <td>3.751424e+01</td>\n",
       "      <td>1.269200e+02</td>\n",
       "      <td>3.751424e+01</td>\n",
       "      <td>1.269194e+02</td>\n",
       "      <td>6.758669e-01</td>\n",
       "      <td>6.000000e+00</td>\n",
       "      <td>8.000000e+00</td>\n",
       "      <td>1.000000e+01</td>\n",
       "      <td>1.400000e+01</td>\n",
       "      <td>1.000000e+00</td>\n",
       "      <td>6.000000e+00</td>\n",
       "      <td>8.000000e+00</td>\n",
       "      <td>1.000000e+01</td>\n",
       "      <td>1.500000e+01</td>\n",
       "      <td>1.000000e+00</td>\n",
       "      <td>1.220000e+01</td>\n",
       "      <td>0.000000e+00</td>\n",
       "      <td>1.100000e+00</td>\n",
       "      <td>4.100000e+01</td>\n",
       "      <td>0.000000e+00</td>\n",
       "      <td>0.000000e+00</td>\n",
       "      <td>1.160000e+01</td>\n",
       "      <td>1.600000e+01</td>\n",
       "    </tr>\n",
       "    <tr>\n",
       "      <th>50%</th>\n",
       "      <td>1.600000e+01</td>\n",
       "      <td>2.280000e+03</td>\n",
       "      <td>3.754693e+01</td>\n",
       "      <td>1.269943e+02</td>\n",
       "      <td>3.754655e+01</td>\n",
       "      <td>1.269947e+02</td>\n",
       "      <td>1.257498e+00</td>\n",
       "      <td>8.000000e+00</td>\n",
       "      <td>1.600000e+01</td>\n",
       "      <td>1.600000e+01</td>\n",
       "      <td>2.900000e+01</td>\n",
       "      <td>3.000000e+00</td>\n",
       "      <td>8.000000e+00</td>\n",
       "      <td>1.600000e+01</td>\n",
       "      <td>1.600000e+01</td>\n",
       "      <td>3.000000e+01</td>\n",
       "      <td>3.000000e+00</td>\n",
       "      <td>2.010000e+01</td>\n",
       "      <td>0.000000e+00</td>\n",
       "      <td>1.700000e+00</td>\n",
       "      <td>5.300000e+01</td>\n",
       "      <td>2.700000e-01</td>\n",
       "      <td>0.000000e+00</td>\n",
       "      <td>2.110000e+01</td>\n",
       "      <td>2.700000e+01</td>\n",
       "    </tr>\n",
       "    <tr>\n",
       "      <th>75%</th>\n",
       "      <td>3.600000e+01</td>\n",
       "      <td>4.620000e+03</td>\n",
       "      <td>3.757324e+01</td>\n",
       "      <td>1.270618e+02</td>\n",
       "      <td>3.757324e+01</td>\n",
       "      <td>1.270624e+02</td>\n",
       "      <td>2.363812e+00</td>\n",
       "      <td>1.000000e+01</td>\n",
       "      <td>2.300000e+01</td>\n",
       "      <td>1.900000e+01</td>\n",
       "      <td>4.400000e+01</td>\n",
       "      <td>5.000000e+00</td>\n",
       "      <td>1.000000e+01</td>\n",
       "      <td>2.300000e+01</td>\n",
       "      <td>2.000000e+01</td>\n",
       "      <td>4.500000e+01</td>\n",
       "      <td>5.000000e+00</td>\n",
       "      <td>2.550000e+01</td>\n",
       "      <td>0.000000e+00</td>\n",
       "      <td>2.400000e+00</td>\n",
       "      <td>6.700000e+01</td>\n",
       "      <td>1.260000e+00</td>\n",
       "      <td>0.000000e+00</td>\n",
       "      <td>2.850000e+01</td>\n",
       "      <td>4.200000e+01</td>\n",
       "    </tr>\n",
       "    <tr>\n",
       "      <th>max</th>\n",
       "      <td>1.190000e+02</td>\n",
       "      <td>3.329000e+04</td>\n",
       "      <td>3.768972e+01</td>\n",
       "      <td>1.271803e+02</td>\n",
       "      <td>3.768972e+01</td>\n",
       "      <td>1.271803e+02</td>\n",
       "      <td>2.863448e+01</td>\n",
       "      <td>1.200000e+01</td>\n",
       "      <td>3.100000e+01</td>\n",
       "      <td>2.300000e+01</td>\n",
       "      <td>5.900000e+01</td>\n",
       "      <td>6.000000e+00</td>\n",
       "      <td>1.200000e+01</td>\n",
       "      <td>3.100000e+01</td>\n",
       "      <td>2.300000e+01</td>\n",
       "      <td>5.900000e+01</td>\n",
       "      <td>6.000000e+00</td>\n",
       "      <td>3.940000e+01</td>\n",
       "      <td>3.500000e+01</td>\n",
       "      <td>7.400000e+00</td>\n",
       "      <td>9.800000e+01</td>\n",
       "      <td>3.520000e+00</td>\n",
       "      <td>8.800000e+00</td>\n",
       "      <td>6.220000e+01</td>\n",
       "      <td>3.040000e+02</td>\n",
       "    </tr>\n",
       "  </tbody>\n",
       "</table>\n",
       "</div>"
      ],
      "text/plain": [
       "           Duration      Distance  ...    GroundTemp          Dust\n",
       "count  9.601139e+06  9.601139e+06  ...  9.601139e+06  9.601139e+06\n",
       "mean   2.580294e+01  3.713519e+03  ...  2.072376e+01  3.245798e+01\n",
       "std    2.504333e+01  3.956611e+03  ...  1.265221e+01  2.407264e+01\n",
       "min    1.000000e+00  1.000000e+00  ... -1.360000e+01  0.000000e+00\n",
       "25%    8.000000e+00  1.230000e+03  ...  1.160000e+01  1.600000e+01\n",
       "50%    1.600000e+01  2.280000e+03  ...  2.110000e+01  2.700000e+01\n",
       "75%    3.600000e+01  4.620000e+03  ...  2.850000e+01  4.200000e+01\n",
       "max    1.190000e+02  3.329000e+04  ...  6.220000e+01  3.040000e+02\n",
       "\n",
       "[8 rows x 25 columns]"
      ]
     },
     "execution_count": 11,
     "metadata": {
      "tags": []
     },
     "output_type": "execute_result"
    }
   ],
   "source": [
    "Bike.describe()"
   ]
  },
  {
   "cell_type": "markdown",
   "metadata": {
    "id": "0oQ7wf6mkDJ9"
   },
   "source": [
    "#### **3) Exploratory Data Analysis**"
   ]
  },
  {
   "cell_type": "code",
   "execution_count": null,
   "metadata": {
    "colab": {
     "base_uri": "https://localhost:8080/"
    },
    "id": "kY2ykCXckENE",
    "outputId": "8ca7bbfe-bd43-46d3-fdad-cff894293505"
   },
   "outputs": [
    {
     "data": {
      "text/plain": [
       "False    9577233\n",
       "True       23906\n",
       "dtype: int64"
      ]
     },
     "execution_count": 12,
     "metadata": {
      "tags": []
     },
     "output_type": "execute_result"
    }
   ],
   "source": [
    "Bike.duplicated().value_counts()"
   ]
  },
  {
   "cell_type": "code",
   "execution_count": null,
   "metadata": {
    "colab": {
     "base_uri": "https://localhost:8080/"
    },
    "id": "2u9Ap7bLgyiD",
    "outputId": "abd638a9-b05e-436b-c813-3c5911cd2a6f"
   },
   "outputs": [
    {
     "data": {
      "text/plain": [
       "False    9564712\n",
       "True       36427\n",
       "dtype: int64"
      ]
     },
     "execution_count": 13,
     "metadata": {
      "tags": []
     },
     "output_type": "execute_result"
    }
   ],
   "source": [
    "df.duplicated().value_counts()"
   ]
  },
  {
   "cell_type": "code",
   "execution_count": null,
   "metadata": {
    "colab": {
     "base_uri": "https://localhost:8080/"
    },
    "id": "S2C-PKXC_J3c",
    "outputId": "681e836d-0a26-437e-9a83-83bfb99d0dd3"
   },
   "outputs": [
    {
     "name": "stdout",
     "output_type": "stream",
     "text": [
      "Dataset size before removing duplicates: (9601139, 25)\n",
      "Dataset size after removing duplicates: (9577233, 25)\n"
     ]
    }
   ],
   "source": [
    "# Remove all duplicates\n",
    "Bike.drop_duplicates(inplace=True)\n",
    "print(\"Dataset size before removing duplicates:\", Bike_original.shape)\n",
    "print(\"Dataset size after removing duplicates:\", Bike.shape)"
   ]
  },
  {
   "cell_type": "code",
   "execution_count": null,
   "metadata": {
    "colab": {
     "base_uri": "https://localhost:8080/"
    },
    "id": "WhTIwHhog7gj",
    "outputId": "415367c4-cd12-4de1-d2ba-60e58c570465"
   },
   "outputs": [
    {
     "name": "stdout",
     "output_type": "stream",
     "text": [
      "Dataset size before removing duplicates: (9601139, 25)\n",
      "Dataset size after removing duplicates: (9564712, 16)\n"
     ]
    }
   ],
   "source": [
    "# Remove all duplicates\n",
    "df.drop_duplicates(inplace=True)\n",
    "print(\"Dataset size before removing duplicates:\", Bike_original.shape)\n",
    "print(\"Dataset size after removing duplicates:\", df.shape)"
   ]
  },
  {
   "cell_type": "code",
   "execution_count": null,
   "metadata": {
    "colab": {
     "base_uri": "https://localhost:8080/",
     "height": 202
    },
    "id": "gFRD4Ao8psoc",
    "outputId": "97e7f513-7351-4f11-a3df-02b2687b2115"
   },
   "outputs": [
    {
     "data": {
      "text/html": [
       "<div>\n",
       "<style scoped>\n",
       "    .dataframe tbody tr th:only-of-type {\n",
       "        vertical-align: middle;\n",
       "    }\n",
       "\n",
       "    .dataframe tbody tr th {\n",
       "        vertical-align: top;\n",
       "    }\n",
       "\n",
       "    .dataframe thead th {\n",
       "        text-align: right;\n",
       "    }\n",
       "</style>\n",
       "<table border=\"1\" class=\"dataframe\">\n",
       "  <thead>\n",
       "    <tr style=\"text-align: right;\">\n",
       "      <th></th>\n",
       "      <th>Duration</th>\n",
       "      <th>Distance</th>\n",
       "      <th>PLong</th>\n",
       "      <th>DLong</th>\n",
       "      <th>Haversine</th>\n",
       "      <th>Pmonth</th>\n",
       "      <th>Phour</th>\n",
       "      <th>PDweek</th>\n",
       "      <th>Dmonth</th>\n",
       "      <th>Dhour</th>\n",
       "      <th>DDweek</th>\n",
       "      <th>Temp</th>\n",
       "      <th>Wind</th>\n",
       "      <th>Humid</th>\n",
       "      <th>Solar</th>\n",
       "      <th>GroundTemp</th>\n",
       "    </tr>\n",
       "  </thead>\n",
       "  <tbody>\n",
       "    <tr>\n",
       "      <th>0</th>\n",
       "      <td>3</td>\n",
       "      <td>50</td>\n",
       "      <td>37.544666</td>\n",
       "      <td>37.544666</td>\n",
       "      <td>0.000000</td>\n",
       "      <td>1</td>\n",
       "      <td>0</td>\n",
       "      <td>0</td>\n",
       "      <td>1</td>\n",
       "      <td>0</td>\n",
       "      <td>0</td>\n",
       "      <td>-3.2</td>\n",
       "      <td>0.5</td>\n",
       "      <td>40.0</td>\n",
       "      <td>0.0</td>\n",
       "      <td>-2.2</td>\n",
       "    </tr>\n",
       "    <tr>\n",
       "      <th>1</th>\n",
       "      <td>24</td>\n",
       "      <td>7670</td>\n",
       "      <td>37.506199</td>\n",
       "      <td>37.551250</td>\n",
       "      <td>5.713529</td>\n",
       "      <td>1</td>\n",
       "      <td>0</td>\n",
       "      <td>0</td>\n",
       "      <td>1</td>\n",
       "      <td>0</td>\n",
       "      <td>0</td>\n",
       "      <td>-3.2</td>\n",
       "      <td>0.5</td>\n",
       "      <td>40.0</td>\n",
       "      <td>0.0</td>\n",
       "      <td>-2.2</td>\n",
       "    </tr>\n",
       "    <tr>\n",
       "      <th>2</th>\n",
       "      <td>8</td>\n",
       "      <td>1390</td>\n",
       "      <td>37.544590</td>\n",
       "      <td>37.537014</td>\n",
       "      <td>0.913702</td>\n",
       "      <td>1</td>\n",
       "      <td>0</td>\n",
       "      <td>0</td>\n",
       "      <td>1</td>\n",
       "      <td>0</td>\n",
       "      <td>0</td>\n",
       "      <td>-3.2</td>\n",
       "      <td>0.5</td>\n",
       "      <td>40.0</td>\n",
       "      <td>0.0</td>\n",
       "      <td>-2.2</td>\n",
       "    </tr>\n",
       "    <tr>\n",
       "      <th>3</th>\n",
       "      <td>8</td>\n",
       "      <td>1820</td>\n",
       "      <td>37.571102</td>\n",
       "      <td>37.561447</td>\n",
       "      <td>1.468027</td>\n",
       "      <td>1</td>\n",
       "      <td>0</td>\n",
       "      <td>0</td>\n",
       "      <td>1</td>\n",
       "      <td>0</td>\n",
       "      <td>0</td>\n",
       "      <td>-3.2</td>\n",
       "      <td>0.5</td>\n",
       "      <td>40.0</td>\n",
       "      <td>0.0</td>\n",
       "      <td>-2.2</td>\n",
       "    </tr>\n",
       "    <tr>\n",
       "      <th>4</th>\n",
       "      <td>4</td>\n",
       "      <td>850</td>\n",
       "      <td>37.573242</td>\n",
       "      <td>37.565849</td>\n",
       "      <td>0.823227</td>\n",
       "      <td>1</td>\n",
       "      <td>0</td>\n",
       "      <td>0</td>\n",
       "      <td>1</td>\n",
       "      <td>0</td>\n",
       "      <td>0</td>\n",
       "      <td>-3.2</td>\n",
       "      <td>0.5</td>\n",
       "      <td>40.0</td>\n",
       "      <td>0.0</td>\n",
       "      <td>-2.2</td>\n",
       "    </tr>\n",
       "  </tbody>\n",
       "</table>\n",
       "</div>"
      ],
      "text/plain": [
       "   Duration  Distance      PLong      DLong  ...  Wind  Humid  Solar  GroundTemp\n",
       "0         3        50  37.544666  37.544666  ...   0.5   40.0    0.0        -2.2\n",
       "1        24      7670  37.506199  37.551250  ...   0.5   40.0    0.0        -2.2\n",
       "2         8      1390  37.544590  37.537014  ...   0.5   40.0    0.0        -2.2\n",
       "3         8      1820  37.571102  37.561447  ...   0.5   40.0    0.0        -2.2\n",
       "4         4       850  37.573242  37.565849  ...   0.5   40.0    0.0        -2.2\n",
       "\n",
       "[5 rows x 16 columns]"
      ]
     },
     "execution_count": 16,
     "metadata": {
      "tags": []
     },
     "output_type": "execute_result"
    }
   ],
   "source": [
    "df.head()"
   ]
  },
  {
   "cell_type": "markdown",
   "metadata": {
    "id": "sPKOTaKwJO-I"
   },
   "source": [
    "- Create some **additional features** from the **date/time** variable to make the machine learning algorithms work more efficiently. This process of creating additional features from the existing data by using domain knowledge is known as feature engineering.\n",
    "\n",
    "- From the **Pickup date and time** variable, variables such as\n",
    " - pickup month, day, hour, minute and day of the week are computed.\n",
    " \n",
    "- From **Dropoff date and time** variable, variables such as\n",
    " - dropoff month, day, hour, minute and day of the week are extracted.\n",
    " \n",
    "- Although the trip distance is already present in the data, the distance between pickup station and drop off station is computed using haversine function, by using pickup latitude and longitude details and drop off latitude and longitude details."
   ]
  },
  {
   "cell_type": "markdown",
   "metadata": {
    "id": "wGwDjtWL8v-H"
   },
   "source": [
    "### **6) Modelling** "
   ]
  },
  {
   "cell_type": "code",
   "execution_count": null,
   "metadata": {
    "id": "48glhf90i4qW"
   },
   "outputs": [],
   "source": [
    "df = df.iloc[0:900000, 0:16]"
   ]
  },
  {
   "cell_type": "code",
   "execution_count": null,
   "metadata": {
    "colab": {
     "base_uri": "https://localhost:8080/",
     "height": 202
    },
    "id": "qL3-8p-els9J",
    "outputId": "3a830722-2620-462f-9dd0-087b1a5be80c"
   },
   "outputs": [
    {
     "data": {
      "text/html": [
       "<div>\n",
       "<style scoped>\n",
       "    .dataframe tbody tr th:only-of-type {\n",
       "        vertical-align: middle;\n",
       "    }\n",
       "\n",
       "    .dataframe tbody tr th {\n",
       "        vertical-align: top;\n",
       "    }\n",
       "\n",
       "    .dataframe thead th {\n",
       "        text-align: right;\n",
       "    }\n",
       "</style>\n",
       "<table border=\"1\" class=\"dataframe\">\n",
       "  <thead>\n",
       "    <tr style=\"text-align: right;\">\n",
       "      <th></th>\n",
       "      <th>Duration</th>\n",
       "      <th>Distance</th>\n",
       "      <th>PLong</th>\n",
       "      <th>DLong</th>\n",
       "      <th>Haversine</th>\n",
       "      <th>Pmonth</th>\n",
       "      <th>Phour</th>\n",
       "      <th>PDweek</th>\n",
       "      <th>Dmonth</th>\n",
       "      <th>Dhour</th>\n",
       "      <th>DDweek</th>\n",
       "      <th>Temp</th>\n",
       "      <th>Wind</th>\n",
       "      <th>Humid</th>\n",
       "      <th>Solar</th>\n",
       "      <th>GroundTemp</th>\n",
       "    </tr>\n",
       "  </thead>\n",
       "  <tbody>\n",
       "    <tr>\n",
       "      <th>0</th>\n",
       "      <td>3</td>\n",
       "      <td>50</td>\n",
       "      <td>37.544666</td>\n",
       "      <td>37.544666</td>\n",
       "      <td>0.000000</td>\n",
       "      <td>1</td>\n",
       "      <td>0</td>\n",
       "      <td>0</td>\n",
       "      <td>1</td>\n",
       "      <td>0</td>\n",
       "      <td>0</td>\n",
       "      <td>-3.2</td>\n",
       "      <td>0.5</td>\n",
       "      <td>40.0</td>\n",
       "      <td>0.0</td>\n",
       "      <td>-2.2</td>\n",
       "    </tr>\n",
       "    <tr>\n",
       "      <th>1</th>\n",
       "      <td>24</td>\n",
       "      <td>7670</td>\n",
       "      <td>37.506199</td>\n",
       "      <td>37.551250</td>\n",
       "      <td>5.713529</td>\n",
       "      <td>1</td>\n",
       "      <td>0</td>\n",
       "      <td>0</td>\n",
       "      <td>1</td>\n",
       "      <td>0</td>\n",
       "      <td>0</td>\n",
       "      <td>-3.2</td>\n",
       "      <td>0.5</td>\n",
       "      <td>40.0</td>\n",
       "      <td>0.0</td>\n",
       "      <td>-2.2</td>\n",
       "    </tr>\n",
       "    <tr>\n",
       "      <th>2</th>\n",
       "      <td>8</td>\n",
       "      <td>1390</td>\n",
       "      <td>37.544590</td>\n",
       "      <td>37.537014</td>\n",
       "      <td>0.913702</td>\n",
       "      <td>1</td>\n",
       "      <td>0</td>\n",
       "      <td>0</td>\n",
       "      <td>1</td>\n",
       "      <td>0</td>\n",
       "      <td>0</td>\n",
       "      <td>-3.2</td>\n",
       "      <td>0.5</td>\n",
       "      <td>40.0</td>\n",
       "      <td>0.0</td>\n",
       "      <td>-2.2</td>\n",
       "    </tr>\n",
       "    <tr>\n",
       "      <th>3</th>\n",
       "      <td>8</td>\n",
       "      <td>1820</td>\n",
       "      <td>37.571102</td>\n",
       "      <td>37.561447</td>\n",
       "      <td>1.468027</td>\n",
       "      <td>1</td>\n",
       "      <td>0</td>\n",
       "      <td>0</td>\n",
       "      <td>1</td>\n",
       "      <td>0</td>\n",
       "      <td>0</td>\n",
       "      <td>-3.2</td>\n",
       "      <td>0.5</td>\n",
       "      <td>40.0</td>\n",
       "      <td>0.0</td>\n",
       "      <td>-2.2</td>\n",
       "    </tr>\n",
       "    <tr>\n",
       "      <th>4</th>\n",
       "      <td>4</td>\n",
       "      <td>850</td>\n",
       "      <td>37.573242</td>\n",
       "      <td>37.565849</td>\n",
       "      <td>0.823227</td>\n",
       "      <td>1</td>\n",
       "      <td>0</td>\n",
       "      <td>0</td>\n",
       "      <td>1</td>\n",
       "      <td>0</td>\n",
       "      <td>0</td>\n",
       "      <td>-3.2</td>\n",
       "      <td>0.5</td>\n",
       "      <td>40.0</td>\n",
       "      <td>0.0</td>\n",
       "      <td>-2.2</td>\n",
       "    </tr>\n",
       "  </tbody>\n",
       "</table>\n",
       "</div>"
      ],
      "text/plain": [
       "   Duration  Distance      PLong      DLong  ...  Wind  Humid  Solar  GroundTemp\n",
       "0         3        50  37.544666  37.544666  ...   0.5   40.0    0.0        -2.2\n",
       "1        24      7670  37.506199  37.551250  ...   0.5   40.0    0.0        -2.2\n",
       "2         8      1390  37.544590  37.537014  ...   0.5   40.0    0.0        -2.2\n",
       "3         8      1820  37.571102  37.561447  ...   0.5   40.0    0.0        -2.2\n",
       "4         4       850  37.573242  37.565849  ...   0.5   40.0    0.0        -2.2\n",
       "\n",
       "[5 rows x 16 columns]"
      ]
     },
     "execution_count": 62,
     "metadata": {
      "tags": []
     },
     "output_type": "execute_result"
    }
   ],
   "source": [
    "df.head()"
   ]
  },
  {
   "cell_type": "code",
   "execution_count": null,
   "metadata": {
    "id": "k1Ra4yTL7_LX"
   },
   "outputs": [],
   "source": [
    "X = df.drop('Duration', axis=1)\n",
    "y = df['Duration']"
   ]
  },
  {
   "cell_type": "code",
   "execution_count": null,
   "metadata": {
    "id": "9DHZVRFX7_XO"
   },
   "outputs": [],
   "source": [
    "X_train, X_test, y_train, y_test = train_test_split(X, y, test_size=0.2, random_state=0)"
   ]
  },
  {
   "cell_type": "markdown",
   "metadata": {
    "id": "ZAO5Y2KZ81pv"
   },
   "source": [
    "#### **7) Model Evaluation**"
   ]
  },
  {
   "cell_type": "markdown",
   "metadata": {
    "id": "vKSaiXDe9mcx"
   },
   "source": [
    "##### **7.1) Random Forest**"
   ]
  },
  {
   "cell_type": "code",
   "execution_count": null,
   "metadata": {
    "colab": {
     "base_uri": "https://localhost:8080/"
    },
    "id": "_NW4iar99nfh",
    "outputId": "aaccedad-2cf3-4a44-86c9-2a4621b24dae"
   },
   "outputs": [
    {
     "data": {
      "text/plain": [
       "RandomForestRegressor(bootstrap=True, ccp_alpha=0.0, criterion='mse',\n",
       "                      max_depth=None, max_features='auto', max_leaf_nodes=None,\n",
       "                      max_samples=None, min_impurity_decrease=0.0,\n",
       "                      min_impurity_split=None, min_samples_leaf=1,\n",
       "                      min_samples_split=2, min_weight_fraction_leaf=0.0,\n",
       "                      n_estimators=100, n_jobs=None, oob_score=False,\n",
       "                      random_state=None, verbose=0, warm_start=False)"
      ]
     },
     "execution_count": 21,
     "metadata": {
      "tags": []
     },
     "output_type": "execute_result"
    }
   ],
   "source": [
    "rfc = RandomForestRegressor()\n",
    "rfc.fit(X_train, y_train)"
   ]
  },
  {
   "cell_type": "code",
   "execution_count": null,
   "metadata": {
    "id": "_RYqth0A95qJ"
   },
   "outputs": [],
   "source": [
    "y_pred_rfc = rfc.predict(X_test)"
   ]
  },
  {
   "cell_type": "code",
   "execution_count": null,
   "metadata": {
    "colab": {
     "base_uri": "https://localhost:8080/"
    },
    "id": "FvVEgx-095Xp",
    "outputId": "93ce3c2f-e0bc-47b9-8f83-b8e198ad6e41"
   },
   "outputs": [
    {
     "name": "stdout",
     "output_type": "stream",
     "text": [
      "Random Forest : Train Score 0.96 & Test Score 0.75\n"
     ]
    }
   ],
   "source": [
    "print(\"Random Forest : Train Score {:.2f} & Test Score {:.2f}\".format(rfc.score(X_train, y_train), rfc.score(X_test, y_test)))"
   ]
  },
  {
   "cell_type": "code",
   "execution_count": null,
   "metadata": {
    "colab": {
     "base_uri": "https://localhost:8080/",
     "height": 590
    },
    "id": "DzmtntR0-D4T",
    "outputId": "a41ed0f9-02bb-413f-fe03-f0445375deba"
   },
   "outputs": [
    {
     "name": "stderr",
     "output_type": "stream",
     "text": [
      "No handles with labels found to put in legend.\n"
     ]
    },
    {
     "data": {
      "image/png": "[encoded data removed]",
      "text/plain": [
       "<Figure size 720x648 with 1 Axes>"
      ]
     },
     "metadata": {
      "needs_background": "light",
      "tags": []
     },
     "output_type": "display_data"
    }
   ],
   "source": [
    "plt.figure(figsize=(10,9))\n",
    "feature_imp = pd.Series(rfc.feature_importances_, index=X.columns).sort_values(ascending=False)\n",
    "\n",
    "# Creating a bar plot\n",
    "sns.barplot(x=feature_imp, y=feature_imp.index)\n",
    "\n",
    "# Add labels to your graph\n",
    "plt.xlabel('Feature Importance Score')\n",
    "plt.ylabel('Features')\n",
    "plt.title(\"Visualizing Important Features\", size=20)\n",
    "plt.legend()\n",
    "plt.show()"
   ]
  },
  {
   "cell_type": "markdown",
   "metadata": {
    "id": "-DBSrahs8OId"
   },
   "source": [
    "##### **7.1) XGBoost**"
   ]
  },
  {
   "cell_type": "code",
   "execution_count": null,
   "metadata": {
    "colab": {
     "base_uri": "https://localhost:8080/"
    },
    "id": "9miUvLIN7_fe",
    "outputId": "8994963f-7d43-47d6-f812-1ebaffaf7a11"
   },
   "outputs": [
    {
     "name": "stdout",
     "output_type": "stream",
     "text": [
      "[05:59:25] WARNING: /workspace/src/objective/regression_obj.cu:152: reg:linear is now deprecated in favor of reg:squarederror.\n"
     ]
    },
    {
     "data": {
      "text/plain": [
       "XGBRegressor(base_score=0.5, booster='gbtree', colsample_bylevel=1,\n",
       "             colsample_bynode=1, colsample_bytree=1, gamma=0,\n",
       "             importance_type='gain', learning_rate=0.1, max_delta_step=0,\n",
       "             max_depth=3, min_child_weight=1, missing=None, n_estimators=100,\n",
       "             n_jobs=1, nthread=None, objective='reg:linear', random_state=0,\n",
       "             reg_alpha=0, reg_lambda=1, scale_pos_weight=1, seed=None,\n",
       "             silent=None, subsample=1, verbosity=1)"
      ]
     },
     "execution_count": 30,
     "metadata": {
      "tags": []
     },
     "output_type": "execute_result"
    }
   ],
   "source": [
    "xgb1 = XGBRegressor()\n",
    "xgb1.fit(X_train, y_train)"
   ]
  },
  {
   "cell_type": "code",
   "execution_count": null,
   "metadata": {
    "id": "VSjy_GeU8A51"
   },
   "outputs": [],
   "source": [
    "# make predictions for test set\n",
    "y_pred_xgb1 = xgb1.predict(X_test)\n",
    "predictions = [round(value) for value in y_pred_xgb1]"
   ]
  },
  {
   "cell_type": "code",
   "execution_count": null,
   "metadata": {
    "colab": {
     "base_uri": "https://localhost:8080/"
    },
    "id": "4Jrf1Bug8BWN",
    "outputId": "cf917b35-41dd-4421-d86f-5ac815a109cc"
   },
   "outputs": [
    {
     "name": "stdout",
     "output_type": "stream",
     "text": [
      "XGBoost : Train Score 0.72 & Test Score 0.71\n"
     ]
    }
   ],
   "source": [
    "print(\"XGBoost : Train Score {:.2f} & Test Score {:.2f}\".format(xgb1.score(X_train, y_train), xgb1.score(X_test, y_test)))"
   ]
  },
  {
   "cell_type": "markdown",
   "metadata": {
    "id": "xPEqbEIN-JnE"
   },
   "source": [
    "##### **7.3) LGBM**"
   ]
  },
  {
   "cell_type": "code",
   "execution_count": null,
   "metadata": {
    "colab": {
     "base_uri": "https://localhost:8080/"
    },
    "id": "ZVf__M0_8BVV",
    "outputId": "3d2e6256-65d0-46e9-ccb3-6d4d838863d9"
   },
   "outputs": [
    {
     "data": {
      "text/plain": [
       "LGBMRegressor(boosting_type='gbdt', class_weight=None, colsample_bytree=1.0,\n",
       "              importance_type='split', learning_rate=0.1, max_depth=-1,\n",
       "              min_child_samples=20, min_child_weight=0.001, min_split_gain=0.0,\n",
       "              n_estimators=100, n_jobs=-1, num_leaves=31, objective=None,\n",
       "              random_state=None, reg_alpha=0.0, reg_lambda=0.0, silent=True,\n",
       "              subsample=1.0, subsample_for_bin=200000, subsample_freq=0)"
      ]
     },
     "execution_count": 65,
     "metadata": {
      "tags": []
     },
     "output_type": "execute_result"
    }
   ],
   "source": [
    "LGB = LGBMRegressor()\n",
    "LGB.fit(X_train, y_train)"
   ]
  },
  {
   "cell_type": "code",
   "execution_count": null,
   "metadata": {
    "id": "BWjc7iM4-PVT"
   },
   "outputs": [],
   "source": [
    "y_pred_LGB = LGB.predict(X_test)"
   ]
  },
  {
   "cell_type": "code",
   "execution_count": null,
   "metadata": {
    "colab": {
     "base_uri": "https://localhost:8080/"
    },
    "id": "5jx_kZt5-PSi",
    "outputId": "f7dec3e9-70db-4dbc-c212-276f6c65d05f"
   },
   "outputs": [
    {
     "name": "stdout",
     "output_type": "stream",
     "text": [
      "XGBoost : Train Score 0.80 & Test Score 0.79\n"
     ]
    }
   ],
   "source": [
    "print(\"XGBoost : Train Score {:.2f} & Test Score {:.2f}\".format(LGB.score(X_train, y_train), LGB.score(X_test, y_test)))"
   ]
  },
  {
   "cell_type": "code",
   "execution_count": null,
   "metadata": {
    "colab": {
     "base_uri": "https://localhost:8080/"
    },
    "id": "pJDlM5tWyWHq",
    "outputId": "e972753d-cd19-4cdc-b87a-4a7f84d3634c"
   },
   "outputs": [
    {
     "name": "stdout",
     "output_type": "stream",
     "text": [
      "MAE:  5.3740704599458455\n"
     ]
    }
   ],
   "source": [
    "mae_lgb = mean_absolute_error(y_test, y_pred_LGB)\n",
    "print(\"MAE: \", mae_lgb)"
   ]
  },
  {
   "cell_type": "code",
   "execution_count": null,
   "metadata": {
    "colab": {
     "base_uri": "https://localhost:8080/",
     "height": 567
    },
    "id": "7UO9B2Nc-V2q",
    "outputId": "3b4e26ab-1a5c-401d-ffb8-870d5c79595b"
   },
   "outputs": [
    {
     "data": {
      "image/png": "[encoded data removed]",
      "text/plain": [
       "<Figure size 720x648 with 1 Axes>"
      ]
     },
     "metadata": {
      "needs_background": "light",
      "tags": []
     },
     "output_type": "display_data"
    }
   ],
   "source": [
    "plot_importance(LGB, figsize=(10, 9));"
   ]
  },
  {
   "cell_type": "markdown",
   "metadata": {
    "id": "pIlrAsQ9-ctK"
   },
   "source": [
    "##### **7.4) KNN**"
   ]
  },
  {
   "cell_type": "code",
   "execution_count": null,
   "metadata": {
    "colab": {
     "base_uri": "https://localhost:8080/",
     "height": 310
    },
    "id": "VQ7NkB3r-dCY",
    "outputId": "841e397e-47fb-40db-af69-ef32e9dc39a3"
   },
   "outputs": [
    {
     "name": "stdout",
     "output_type": "stream",
     "text": [
      "kneighbors 3\n",
      "\n",
      "KNeighborsClassifier : Train Score 0.42 & Test Score 0.13\n",
      "----------------------------------------------------------------------\n"
     ]
    },
    {
     "ename": "NameError",
     "evalue": "ignored",
     "output_type": "error",
     "traceback": [
      "\u001b[0;31m---------------------------------------------------------------------------\u001b[0m",
      "\u001b[0;31mNameError\u001b[0m                                 Traceback (most recent call last)",
      "\u001b[0;32m<ipython-input-38-c37df3125261>\u001b[0m in \u001b[0;36m<module>\u001b[0;34m()\u001b[0m\n\u001b[1;32m     11\u001b[0m     \u001b[0mprint\u001b[0m\u001b[0;34m(\u001b[0m\u001b[0;34m\"\\nKNeighborsClassifier : Train Score {:.2f} & Test Score {:.2f}\"\u001b[0m\u001b[0;34m.\u001b[0m\u001b[0mformat\u001b[0m\u001b[0;34m(\u001b[0m\u001b[0mKNN\u001b[0m\u001b[0;34m.\u001b[0m\u001b[0mscore\u001b[0m\u001b[0;34m(\u001b[0m\u001b[0mX_train\u001b[0m\u001b[0;34m,\u001b[0m \u001b[0my_train\u001b[0m\u001b[0;34m)\u001b[0m\u001b[0;34m,\u001b[0m \u001b[0mKNN\u001b[0m\u001b[0;34m.\u001b[0m\u001b[0mscore\u001b[0m\u001b[0;34m(\u001b[0m\u001b[0mX_test\u001b[0m\u001b[0;34m,\u001b[0m \u001b[0my_test\u001b[0m\u001b[0;34m)\u001b[0m\u001b[0;34m)\u001b[0m\u001b[0;34m)\u001b[0m\u001b[0;34m\u001b[0m\u001b[0;34m\u001b[0m\u001b[0m\n\u001b[1;32m     12\u001b[0m     \u001b[0mprint\u001b[0m\u001b[0;34m(\u001b[0m\u001b[0;34m'-'\u001b[0m\u001b[0;34m*\u001b[0m\u001b[0;36m70\u001b[0m\u001b[0;34m)\u001b[0m\u001b[0;34m\u001b[0m\u001b[0;34m\u001b[0m\u001b[0m\n\u001b[0;32m---> 13\u001b[0;31m     \u001b[0mprint\u001b[0m\u001b[0;34m(\u001b[0m\u001b[0;34m\"\\n\\nConfusion matrix: \\n\\n\"\u001b[0m\u001b[0;34m,\u001b[0m\u001b[0mconfusion_matrix\u001b[0m\u001b[0;34m(\u001b[0m\u001b[0my_test\u001b[0m\u001b[0;34m,\u001b[0m \u001b[0my_pred_KNN\u001b[0m\u001b[0;34m)\u001b[0m\u001b[0;34m)\u001b[0m\u001b[0;34m\u001b[0m\u001b[0;34m\u001b[0m\u001b[0m\n\u001b[0m\u001b[1;32m     14\u001b[0m     \u001b[0mprint\u001b[0m\u001b[0;34m(\u001b[0m\u001b[0;34m'-'\u001b[0m\u001b[0;34m*\u001b[0m\u001b[0;36m70\u001b[0m\u001b[0;34m)\u001b[0m\u001b[0;34m\u001b[0m\u001b[0;34m\u001b[0m\u001b[0m\n\u001b[1;32m     15\u001b[0m     \u001b[0mprint\u001b[0m\u001b[0;34m(\u001b[0m\u001b[0;34m\"\\n\\nClassification Report: \\n\\n\"\u001b[0m\u001b[0;34m,\u001b[0m \u001b[0mclassification_report\u001b[0m\u001b[0;34m(\u001b[0m\u001b[0my_pred_KNN\u001b[0m\u001b[0;34m,\u001b[0m \u001b[0my_test\u001b[0m\u001b[0;34m,\u001b[0m \u001b[0mlabels\u001b[0m\u001b[0;34m=\u001b[0m\u001b[0;32mNone\u001b[0m\u001b[0;34m)\u001b[0m\u001b[0;34m)\u001b[0m\u001b[0;34m\u001b[0m\u001b[0;34m\u001b[0m\u001b[0m\n",
      "\u001b[0;31mNameError\u001b[0m: name 'confusion_matrix' is not defined"
     ]
    }
   ],
   "source": [
    "for i in range(3,15,3):\n",
    "    \n",
    "    KNN = KNeighborsClassifier(n_neighbors=i)\n",
    "    KNN.fit(X_train, y_train)\n",
    "    y_pred_KNN = KNN.predict(X_test)\n",
    "\n",
    "    # accuracy\n",
    "    KNN_acc = accuracy_score(y_test, y_pred_KNN)\n",
    "\n",
    "    print(\"kneighbors {}\".format(i))\n",
    "    print(\"\\nKNeighborsClassifier : Train Score {:.2f} & Test Score {:.2f}\".format(KNN.score(X_train, y_train), KNN.score(X_test, y_test)))\n",
    "    print('-'*70)\n",
    "    print(\"\\n\\nConfusion matrix: \\n\\n\",confusion_matrix(y_test, y_pred_KNN))\n",
    "    print('-'*70)\n",
    "    print(\"\\n\\nClassification Report: \\n\\n\", classification_report(y_pred_KNN, y_test, labels=None))\n",
    "    print('-'*70)\n",
    "    print(\"\\n\\ncohen kappa score: \\n\\n\", cohen_kappa_score(y_test, y_pred_KNN))\n",
    "    print('*'*70)\n",
    "    print(\"\\n\\n\")"
   ]
  }
 ],
 "metadata": {
  "colab": {
   "collapsed_sections": [],
   "name": "1_Seoul-Bike-Trip_Final.ipynb",
   "provenance": []
  },
  "kernelspec": {
   "display_name": "Python 3",
   "language": "python",
   "name": "python3"
  },
  "language_info": {
   "codemirror_mode": {
    "name": "ipython",
    "version": 3
   },
   "file_extension": ".py",
   "mimetype": "text/x-python",
   "name": "python",
   "nbconvert_exporter": "python",
   "pygments_lexer": "ipython3",
   "version": "3.7.3"
  }
 },
 "nbformat": 4,
 "nbformat_minor": 1
}
