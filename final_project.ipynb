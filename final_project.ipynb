{
 "cells": [
  {
   "cell_type": "markdown",
   "metadata": {},
   "source": [
    "# Import libraries"
   ]
  },
  {
   "cell_type": "code",
   "execution_count": 14,
   "metadata": {},
   "outputs": [],
   "source": [
    "import numpy as np\n",
    "import pandas as pd\n",
    "import matplotlib.pyplot as plt\n",
    "import seaborn as sns\n"
   ]
  },
  {
   "cell_type": "markdown",
   "metadata": {},
   "source": [
    "# Import the dataset "
   ]
  },
  {
   "cell_type": "code",
   "execution_count": 15,
   "metadata": {},
   "outputs": [],
   "source": [
    "df=pd.read_csv('SeoulBikeData.csv',encoding='ISO-8859-1')"
   ]
  },
  {
   "cell_type": "markdown",
   "metadata": {},
   "source": [
    "##### This dataframe presents the rented bike count in this city of Seoul. It is presented as a time series which presents the data with a step of an hour.   \n",
    "For each hour, the dataframe mainly presents weather conditions and information about the day.  \n"
   ]
  },
  {
   "cell_type": "code",
   "execution_count": 16,
   "metadata": {},
   "outputs": [
    {
     "data": {
      "text/html": [
       "<div>\n",
       "<style scoped>\n",
       "    .dataframe tbody tr th:only-of-type {\n",
       "        vertical-align: middle;\n",
       "    }\n",
       "\n",
       "    .dataframe tbody tr th {\n",
       "        vertical-align: top;\n",
       "    }\n",
       "\n",
       "    .dataframe thead th {\n",
       "        text-align: right;\n",
       "    }\n",
       "</style>\n",
       "<table border=\"1\" class=\"dataframe\">\n",
       "  <thead>\n",
       "    <tr style=\"text-align: right;\">\n",
       "      <th></th>\n",
       "      <th>Date</th>\n",
       "      <th>Rented Bike Count</th>\n",
       "      <th>Hour</th>\n",
       "      <th>Temperature(°C)</th>\n",
       "      <th>Humidity(%)</th>\n",
       "      <th>Wind speed (m/s)</th>\n",
       "      <th>Visibility (10m)</th>\n",
       "      <th>Dew point temperature(°C)</th>\n",
       "      <th>Solar Radiation (MJ/m2)</th>\n",
       "      <th>Rainfall(mm)</th>\n",
       "      <th>Snowfall (cm)</th>\n",
       "      <th>Seasons</th>\n",
       "      <th>Holiday</th>\n",
       "      <th>Functioning Day</th>\n",
       "    </tr>\n",
       "  </thead>\n",
       "  <tbody>\n",
       "    <tr>\n",
       "      <th>0</th>\n",
       "      <td>01/12/2017</td>\n",
       "      <td>254</td>\n",
       "      <td>0</td>\n",
       "      <td>-5.2</td>\n",
       "      <td>37</td>\n",
       "      <td>2.2</td>\n",
       "      <td>2000</td>\n",
       "      <td>-17.6</td>\n",
       "      <td>0.0</td>\n",
       "      <td>0.0</td>\n",
       "      <td>0.0</td>\n",
       "      <td>Winter</td>\n",
       "      <td>No Holiday</td>\n",
       "      <td>Yes</td>\n",
       "    </tr>\n",
       "    <tr>\n",
       "      <th>1</th>\n",
       "      <td>01/12/2017</td>\n",
       "      <td>204</td>\n",
       "      <td>1</td>\n",
       "      <td>-5.5</td>\n",
       "      <td>38</td>\n",
       "      <td>0.8</td>\n",
       "      <td>2000</td>\n",
       "      <td>-17.6</td>\n",
       "      <td>0.0</td>\n",
       "      <td>0.0</td>\n",
       "      <td>0.0</td>\n",
       "      <td>Winter</td>\n",
       "      <td>No Holiday</td>\n",
       "      <td>Yes</td>\n",
       "    </tr>\n",
       "    <tr>\n",
       "      <th>2</th>\n",
       "      <td>01/12/2017</td>\n",
       "      <td>173</td>\n",
       "      <td>2</td>\n",
       "      <td>-6.0</td>\n",
       "      <td>39</td>\n",
       "      <td>1.0</td>\n",
       "      <td>2000</td>\n",
       "      <td>-17.7</td>\n",
       "      <td>0.0</td>\n",
       "      <td>0.0</td>\n",
       "      <td>0.0</td>\n",
       "      <td>Winter</td>\n",
       "      <td>No Holiday</td>\n",
       "      <td>Yes</td>\n",
       "    </tr>\n",
       "    <tr>\n",
       "      <th>3</th>\n",
       "      <td>01/12/2017</td>\n",
       "      <td>107</td>\n",
       "      <td>3</td>\n",
       "      <td>-6.2</td>\n",
       "      <td>40</td>\n",
       "      <td>0.9</td>\n",
       "      <td>2000</td>\n",
       "      <td>-17.6</td>\n",
       "      <td>0.0</td>\n",
       "      <td>0.0</td>\n",
       "      <td>0.0</td>\n",
       "      <td>Winter</td>\n",
       "      <td>No Holiday</td>\n",
       "      <td>Yes</td>\n",
       "    </tr>\n",
       "    <tr>\n",
       "      <th>4</th>\n",
       "      <td>01/12/2017</td>\n",
       "      <td>78</td>\n",
       "      <td>4</td>\n",
       "      <td>-6.0</td>\n",
       "      <td>36</td>\n",
       "      <td>2.3</td>\n",
       "      <td>2000</td>\n",
       "      <td>-18.6</td>\n",
       "      <td>0.0</td>\n",
       "      <td>0.0</td>\n",
       "      <td>0.0</td>\n",
       "      <td>Winter</td>\n",
       "      <td>No Holiday</td>\n",
       "      <td>Yes</td>\n",
       "    </tr>\n",
       "  </tbody>\n",
       "</table>\n",
       "</div>"
      ],
      "text/plain": [
       "         Date  Rented Bike Count  Hour  Temperature(°C)  Humidity(%)  \\\n",
       "0  01/12/2017                254     0             -5.2           37   \n",
       "1  01/12/2017                204     1             -5.5           38   \n",
       "2  01/12/2017                173     2             -6.0           39   \n",
       "3  01/12/2017                107     3             -6.2           40   \n",
       "4  01/12/2017                 78     4             -6.0           36   \n",
       "\n",
       "   Wind speed (m/s)  Visibility (10m)  Dew point temperature(°C)  \\\n",
       "0               2.2              2000                      -17.6   \n",
       "1               0.8              2000                      -17.6   \n",
       "2               1.0              2000                      -17.7   \n",
       "3               0.9              2000                      -17.6   \n",
       "4               2.3              2000                      -18.6   \n",
       "\n",
       "   Solar Radiation (MJ/m2)  Rainfall(mm)  Snowfall (cm) Seasons     Holiday  \\\n",
       "0                      0.0           0.0            0.0  Winter  No Holiday   \n",
       "1                      0.0           0.0            0.0  Winter  No Holiday   \n",
       "2                      0.0           0.0            0.0  Winter  No Holiday   \n",
       "3                      0.0           0.0            0.0  Winter  No Holiday   \n",
       "4                      0.0           0.0            0.0  Winter  No Holiday   \n",
       "\n",
       "  Functioning Day  \n",
       "0             Yes  \n",
       "1             Yes  \n",
       "2             Yes  \n",
       "3             Yes  \n",
       "4             Yes  "
      ]
     },
     "execution_count": 16,
     "metadata": {},
     "output_type": "execute_result"
    }
   ],
   "source": [
    "df.head()"
   ]
  },
  {
   "cell_type": "code",
   "execution_count": 17,
   "metadata": {
    "scrolled": true
   },
   "outputs": [
    {
     "data": {
      "text/html": [
       "<div>\n",
       "<style scoped>\n",
       "    .dataframe tbody tr th:only-of-type {\n",
       "        vertical-align: middle;\n",
       "    }\n",
       "\n",
       "    .dataframe tbody tr th {\n",
       "        vertical-align: top;\n",
       "    }\n",
       "\n",
       "    .dataframe thead th {\n",
       "        text-align: right;\n",
       "    }\n",
       "</style>\n",
       "<table border=\"1\" class=\"dataframe\">\n",
       "  <thead>\n",
       "    <tr style=\"text-align: right;\">\n",
       "      <th></th>\n",
       "      <th>Date</th>\n",
       "      <th>Rented Bike Count</th>\n",
       "      <th>Hour</th>\n",
       "      <th>Temperature(°C)</th>\n",
       "      <th>Humidity(%)</th>\n",
       "      <th>Wind speed (m/s)</th>\n",
       "      <th>Visibility (10m)</th>\n",
       "      <th>Dew point temperature(°C)</th>\n",
       "      <th>Solar Radiation (MJ/m2)</th>\n",
       "      <th>Rainfall(mm)</th>\n",
       "      <th>Snowfall (cm)</th>\n",
       "      <th>Seasons</th>\n",
       "      <th>Holiday</th>\n",
       "      <th>Functioning Day</th>\n",
       "    </tr>\n",
       "  </thead>\n",
       "  <tbody>\n",
       "    <tr>\n",
       "      <th>8755</th>\n",
       "      <td>30/11/2018</td>\n",
       "      <td>1003</td>\n",
       "      <td>19</td>\n",
       "      <td>4.2</td>\n",
       "      <td>34</td>\n",
       "      <td>2.6</td>\n",
       "      <td>1894</td>\n",
       "      <td>-10.3</td>\n",
       "      <td>0.0</td>\n",
       "      <td>0.0</td>\n",
       "      <td>0.0</td>\n",
       "      <td>Autumn</td>\n",
       "      <td>No Holiday</td>\n",
       "      <td>Yes</td>\n",
       "    </tr>\n",
       "    <tr>\n",
       "      <th>8756</th>\n",
       "      <td>30/11/2018</td>\n",
       "      <td>764</td>\n",
       "      <td>20</td>\n",
       "      <td>3.4</td>\n",
       "      <td>37</td>\n",
       "      <td>2.3</td>\n",
       "      <td>2000</td>\n",
       "      <td>-9.9</td>\n",
       "      <td>0.0</td>\n",
       "      <td>0.0</td>\n",
       "      <td>0.0</td>\n",
       "      <td>Autumn</td>\n",
       "      <td>No Holiday</td>\n",
       "      <td>Yes</td>\n",
       "    </tr>\n",
       "    <tr>\n",
       "      <th>8757</th>\n",
       "      <td>30/11/2018</td>\n",
       "      <td>694</td>\n",
       "      <td>21</td>\n",
       "      <td>2.6</td>\n",
       "      <td>39</td>\n",
       "      <td>0.3</td>\n",
       "      <td>1968</td>\n",
       "      <td>-9.9</td>\n",
       "      <td>0.0</td>\n",
       "      <td>0.0</td>\n",
       "      <td>0.0</td>\n",
       "      <td>Autumn</td>\n",
       "      <td>No Holiday</td>\n",
       "      <td>Yes</td>\n",
       "    </tr>\n",
       "    <tr>\n",
       "      <th>8758</th>\n",
       "      <td>30/11/2018</td>\n",
       "      <td>712</td>\n",
       "      <td>22</td>\n",
       "      <td>2.1</td>\n",
       "      <td>41</td>\n",
       "      <td>1.0</td>\n",
       "      <td>1859</td>\n",
       "      <td>-9.8</td>\n",
       "      <td>0.0</td>\n",
       "      <td>0.0</td>\n",
       "      <td>0.0</td>\n",
       "      <td>Autumn</td>\n",
       "      <td>No Holiday</td>\n",
       "      <td>Yes</td>\n",
       "    </tr>\n",
       "    <tr>\n",
       "      <th>8759</th>\n",
       "      <td>30/11/2018</td>\n",
       "      <td>584</td>\n",
       "      <td>23</td>\n",
       "      <td>1.9</td>\n",
       "      <td>43</td>\n",
       "      <td>1.3</td>\n",
       "      <td>1909</td>\n",
       "      <td>-9.3</td>\n",
       "      <td>0.0</td>\n",
       "      <td>0.0</td>\n",
       "      <td>0.0</td>\n",
       "      <td>Autumn</td>\n",
       "      <td>No Holiday</td>\n",
       "      <td>Yes</td>\n",
       "    </tr>\n",
       "  </tbody>\n",
       "</table>\n",
       "</div>"
      ],
      "text/plain": [
       "            Date  Rented Bike Count  Hour  Temperature(°C)  Humidity(%)  \\\n",
       "8755  30/11/2018               1003    19              4.2           34   \n",
       "8756  30/11/2018                764    20              3.4           37   \n",
       "8757  30/11/2018                694    21              2.6           39   \n",
       "8758  30/11/2018                712    22              2.1           41   \n",
       "8759  30/11/2018                584    23              1.9           43   \n",
       "\n",
       "      Wind speed (m/s)  Visibility (10m)  Dew point temperature(°C)  \\\n",
       "8755               2.6              1894                      -10.3   \n",
       "8756               2.3              2000                       -9.9   \n",
       "8757               0.3              1968                       -9.9   \n",
       "8758               1.0              1859                       -9.8   \n",
       "8759               1.3              1909                       -9.3   \n",
       "\n",
       "      Solar Radiation (MJ/m2)  Rainfall(mm)  Snowfall (cm) Seasons  \\\n",
       "8755                      0.0           0.0            0.0  Autumn   \n",
       "8756                      0.0           0.0            0.0  Autumn   \n",
       "8757                      0.0           0.0            0.0  Autumn   \n",
       "8758                      0.0           0.0            0.0  Autumn   \n",
       "8759                      0.0           0.0            0.0  Autumn   \n",
       "\n",
       "         Holiday Functioning Day  \n",
       "8755  No Holiday             Yes  \n",
       "8756  No Holiday             Yes  \n",
       "8757  No Holiday             Yes  \n",
       "8758  No Holiday             Yes  \n",
       "8759  No Holiday             Yes  "
      ]
     },
     "execution_count": 17,
     "metadata": {},
     "output_type": "execute_result"
    }
   ],
   "source": [
    "df.tail()"
   ]
  },
  {
   "cell_type": "markdown",
   "metadata": {},
   "source": [
    " "
   ]
  },
  {
   "cell_type": "markdown",
   "metadata": {},
   "source": [
    "# Step 1 : Exploratory Data Analysis and Preprocessing"
   ]
  },
  {
   "cell_type": "code",
   "execution_count": 18,
   "metadata": {},
   "outputs": [
    {
     "name": "stdout",
     "output_type": "stream",
     "text": [
      "The DataFrame contains 8760 lines and 14 columns because in a day we have 24 hours and we have 365 days a year so 365*24 = 8760, which represents the number of lines\n"
     ]
    }
   ],
   "source": [
    "print('The DataFrame contains {} lines and {} columns because in a day we have 24 hours and we have 365 days a year so 365*24 = 8760, which represents the number of lines'.format(df.shape[0],df.shape[1]))"
   ]
  },
  {
   "cell_type": "markdown",
   "metadata": {},
   "source": [
    "### Variable prensentation\n",
    "Here are all the columns of the DataSet :  \n",
    "\n",
    "<li>Date : The day of the day, during 365 days, type : str                  \n",
    "<li>Rented Bike Count : Number of rented bikes per hour which is the target, type : int \n",
    "<li>Hour: The hour of the day, type : int\n",
    "<li>Temperature(°C): Temperature per hour, type : Float\n",
    "<li>Humidity(%): Humidity in the air in %, type : int            \n",
    "<li>Wind speed (m/s) : Speed of the wind in m/s, type : Float\n",
    "<li>Visibility (10m): Visibility in m, type : int\n",
    "<li>Dew point temperature(°C): Temperature at the beggining of the day, type : Float\n",
    "<li>Solar Radiation (MJ/m2): Sun contribution, type : Float\n",
    "<li>Rainfall(mm): Amount of rain in mm, type : Float\n",
    "<li>Snowfall (cm): Amount of snow in cm, type : Float\n",
    "<li>Seasons: Season of the year, type : str\n",
    "<li>Holiday: If it is holiday period, type: str\n",
    "<li>Functioning Day: If it is a Functioning Day, type : str"
   ]
  },
  {
   "cell_type": "markdown",
   "metadata": {},
   "source": [
    "##### We mainly have numeric values, datetime and str "
   ]
  },
  {
   "cell_type": "code",
   "execution_count": 19,
   "metadata": {},
   "outputs": [
    {
     "data": {
      "text/plain": [
       "Date                          object\n",
       "Rented Bike Count              int64\n",
       "Hour                           int64\n",
       "Temperature(°C)              float64\n",
       "Humidity(%)                    int64\n",
       "Wind speed (m/s)             float64\n",
       "Visibility (10m)               int64\n",
       "Dew point temperature(°C)    float64\n",
       "Solar Radiation (MJ/m2)      float64\n",
       "Rainfall(mm)                 float64\n",
       "Snowfall (cm)                float64\n",
       "Seasons                       object\n",
       "Holiday                       object\n",
       "Functioning Day               object\n",
       "dtype: object"
      ]
     },
     "execution_count": 19,
     "metadata": {},
     "output_type": "execute_result"
    }
   ],
   "source": [
    "df.dtypes"
   ]
  },
  {
   "cell_type": "markdown",
   "metadata": {},
   "source": [
    "\n",
    "##### Here is the statitical description of the features"
   ]
  },
  {
   "cell_type": "code",
   "execution_count": 20,
   "metadata": {
    "scrolled": true
   },
   "outputs": [
    {
     "data": {
      "text/html": [
       "<div>\n",
       "<style scoped>\n",
       "    .dataframe tbody tr th:only-of-type {\n",
       "        vertical-align: middle;\n",
       "    }\n",
       "\n",
       "    .dataframe tbody tr th {\n",
       "        vertical-align: top;\n",
       "    }\n",
       "\n",
       "    .dataframe thead th {\n",
       "        text-align: right;\n",
       "    }\n",
       "</style>\n",
       "<table border=\"1\" class=\"dataframe\">\n",
       "  <thead>\n",
       "    <tr style=\"text-align: right;\">\n",
       "      <th></th>\n",
       "      <th>count</th>\n",
       "      <th>mean</th>\n",
       "      <th>std</th>\n",
       "      <th>min</th>\n",
       "      <th>25%</th>\n",
       "      <th>50%</th>\n",
       "      <th>75%</th>\n",
       "      <th>max</th>\n",
       "    </tr>\n",
       "  </thead>\n",
       "  <tbody>\n",
       "    <tr>\n",
       "      <th>Rented Bike Count</th>\n",
       "      <td>8760.0</td>\n",
       "      <td>704.602055</td>\n",
       "      <td>644.997468</td>\n",
       "      <td>0.0</td>\n",
       "      <td>191.00</td>\n",
       "      <td>504.50</td>\n",
       "      <td>1065.25</td>\n",
       "      <td>3556.00</td>\n",
       "    </tr>\n",
       "    <tr>\n",
       "      <th>Hour</th>\n",
       "      <td>8760.0</td>\n",
       "      <td>11.500000</td>\n",
       "      <td>6.922582</td>\n",
       "      <td>0.0</td>\n",
       "      <td>5.75</td>\n",
       "      <td>11.50</td>\n",
       "      <td>17.25</td>\n",
       "      <td>23.00</td>\n",
       "    </tr>\n",
       "    <tr>\n",
       "      <th>Temperature(°C)</th>\n",
       "      <td>8760.0</td>\n",
       "      <td>12.882922</td>\n",
       "      <td>11.944825</td>\n",
       "      <td>-17.8</td>\n",
       "      <td>3.50</td>\n",
       "      <td>13.70</td>\n",
       "      <td>22.50</td>\n",
       "      <td>39.40</td>\n",
       "    </tr>\n",
       "    <tr>\n",
       "      <th>Humidity(%)</th>\n",
       "      <td>8760.0</td>\n",
       "      <td>58.226256</td>\n",
       "      <td>20.362413</td>\n",
       "      <td>0.0</td>\n",
       "      <td>42.00</td>\n",
       "      <td>57.00</td>\n",
       "      <td>74.00</td>\n",
       "      <td>98.00</td>\n",
       "    </tr>\n",
       "    <tr>\n",
       "      <th>Wind speed (m/s)</th>\n",
       "      <td>8760.0</td>\n",
       "      <td>1.724909</td>\n",
       "      <td>1.036300</td>\n",
       "      <td>0.0</td>\n",
       "      <td>0.90</td>\n",
       "      <td>1.50</td>\n",
       "      <td>2.30</td>\n",
       "      <td>7.40</td>\n",
       "    </tr>\n",
       "    <tr>\n",
       "      <th>Visibility (10m)</th>\n",
       "      <td>8760.0</td>\n",
       "      <td>1436.825799</td>\n",
       "      <td>608.298712</td>\n",
       "      <td>27.0</td>\n",
       "      <td>940.00</td>\n",
       "      <td>1698.00</td>\n",
       "      <td>2000.00</td>\n",
       "      <td>2000.00</td>\n",
       "    </tr>\n",
       "    <tr>\n",
       "      <th>Dew point temperature(°C)</th>\n",
       "      <td>8760.0</td>\n",
       "      <td>4.073813</td>\n",
       "      <td>13.060369</td>\n",
       "      <td>-30.6</td>\n",
       "      <td>-4.70</td>\n",
       "      <td>5.10</td>\n",
       "      <td>14.80</td>\n",
       "      <td>27.20</td>\n",
       "    </tr>\n",
       "    <tr>\n",
       "      <th>Solar Radiation (MJ/m2)</th>\n",
       "      <td>8760.0</td>\n",
       "      <td>0.569111</td>\n",
       "      <td>0.868746</td>\n",
       "      <td>0.0</td>\n",
       "      <td>0.00</td>\n",
       "      <td>0.01</td>\n",
       "      <td>0.93</td>\n",
       "      <td>3.52</td>\n",
       "    </tr>\n",
       "    <tr>\n",
       "      <th>Rainfall(mm)</th>\n",
       "      <td>8760.0</td>\n",
       "      <td>0.148687</td>\n",
       "      <td>1.128193</td>\n",
       "      <td>0.0</td>\n",
       "      <td>0.00</td>\n",
       "      <td>0.00</td>\n",
       "      <td>0.00</td>\n",
       "      <td>35.00</td>\n",
       "    </tr>\n",
       "    <tr>\n",
       "      <th>Snowfall (cm)</th>\n",
       "      <td>8760.0</td>\n",
       "      <td>0.075068</td>\n",
       "      <td>0.436746</td>\n",
       "      <td>0.0</td>\n",
       "      <td>0.00</td>\n",
       "      <td>0.00</td>\n",
       "      <td>0.00</td>\n",
       "      <td>8.80</td>\n",
       "    </tr>\n",
       "  </tbody>\n",
       "</table>\n",
       "</div>"
      ],
      "text/plain": [
       "                            count         mean         std   min     25%  \\\n",
       "Rented Bike Count          8760.0   704.602055  644.997468   0.0  191.00   \n",
       "Hour                       8760.0    11.500000    6.922582   0.0    5.75   \n",
       "Temperature(°C)            8760.0    12.882922   11.944825 -17.8    3.50   \n",
       "Humidity(%)                8760.0    58.226256   20.362413   0.0   42.00   \n",
       "Wind speed (m/s)           8760.0     1.724909    1.036300   0.0    0.90   \n",
       "Visibility (10m)           8760.0  1436.825799  608.298712  27.0  940.00   \n",
       "Dew point temperature(°C)  8760.0     4.073813   13.060369 -30.6   -4.70   \n",
       "Solar Radiation (MJ/m2)    8760.0     0.569111    0.868746   0.0    0.00   \n",
       "Rainfall(mm)               8760.0     0.148687    1.128193   0.0    0.00   \n",
       "Snowfall (cm)              8760.0     0.075068    0.436746   0.0    0.00   \n",
       "\n",
       "                               50%      75%      max  \n",
       "Rented Bike Count           504.50  1065.25  3556.00  \n",
       "Hour                         11.50    17.25    23.00  \n",
       "Temperature(°C)              13.70    22.50    39.40  \n",
       "Humidity(%)                  57.00    74.00    98.00  \n",
       "Wind speed (m/s)              1.50     2.30     7.40  \n",
       "Visibility (10m)           1698.00  2000.00  2000.00  \n",
       "Dew point temperature(°C)     5.10    14.80    27.20  \n",
       "Solar Radiation (MJ/m2)       0.01     0.93     3.52  \n",
       "Rainfall(mm)                  0.00     0.00    35.00  \n",
       "Snowfall (cm)                 0.00     0.00     8.80  "
      ]
     },
     "execution_count": 20,
     "metadata": {},
     "output_type": "execute_result"
    }
   ],
   "source": [
    "df.describe().T"
   ]
  },
  {
   "cell_type": "markdown",
   "metadata": {},
   "source": [
    "#####  Verify that there are no missing values"
   ]
  },
  {
   "cell_type": "code",
   "execution_count": 21,
   "metadata": {},
   "outputs": [
    {
     "data": {
      "text/plain": [
       "Date                         0\n",
       "Rented Bike Count            0\n",
       "Hour                         0\n",
       "Temperature(°C)              0\n",
       "Humidity(%)                  0\n",
       "Wind speed (m/s)             0\n",
       "Visibility (10m)             0\n",
       "Dew point temperature(°C)    0\n",
       "Solar Radiation (MJ/m2)      0\n",
       "Rainfall(mm)                 0\n",
       "Snowfall (cm)                0\n",
       "Seasons                      0\n",
       "Holiday                      0\n",
       "Functioning Day              0\n",
       "dtype: int64"
      ]
     },
     "execution_count": 21,
     "metadata": {},
     "output_type": "execute_result"
    }
   ],
   "source": [
    "df.isna().sum()"
   ]
  },
  {
   "cell_type": "markdown",
   "metadata": {},
   "source": [
    "#### We convert as datetime the series 'Date'"
   ]
  },
  {
   "cell_type": "code",
   "execution_count": 22,
   "metadata": {},
   "outputs": [],
   "source": [
    "df['Date']=pd.to_datetime(df['Date'],format=\"%d/%m/%Y\")"
   ]
  },
  {
   "cell_type": "markdown",
   "metadata": {},
   "source": [
    "####   "
   ]
  },
  {
   "cell_type": "markdown",
   "metadata": {},
   "source": [
    "## Here are the correlations between variables "
   ]
  },
  {
   "cell_type": "markdown",
   "metadata": {},
   "source": [
    "#### We can see that on the target variable line the most correlated variables to the rent are : \n",
    "<li>the hour\n",
    "<li>the temperature\n",
    "<li>the dew point temperature\n",
    "<li>the solar radiation"
   ]
  },
  {
   "cell_type": "markdown",
   "metadata": {},
   "source": [
    "##### (The dew point is a temperature which is so cold that the vapor becomes liquid)"
   ]
  },
  {
   "cell_type": "code",
   "execution_count": 23,
   "metadata": {},
   "outputs": [
    {
     "data": {
      "image/png": "[encoded data removed]",
      "text/plain": [
       "<Figure size 720x720 with 2 Axes>"
      ]
     },
     "metadata": {
      "needs_background": "light"
     },
     "output_type": "display_data"
    }
   ],
   "source": [
    "plt.figure(figsize=(10,10))\n",
    "sns.heatmap(df.corr(\"pearson\"),\n",
    "            vmin=-1, vmax=1,\n",
    "            cmap='coolwarm',\n",
    "            annot=True, \n",
    "            square=True);"
   ]
  },
  {
   "cell_type": "markdown",
   "metadata": {},
   "source": [
    "#### We see that there is a hyper correlation between columns 'Temperature(°C)' and 'Dew point temperature(°C)'  so we can drop the column 'Dew point temperature(°C)'. And they have the same variations."
   ]
  },
  {
   "cell_type": "code",
   "execution_count": 24,
   "metadata": {},
   "outputs": [],
   "source": [
    "df=df.drop(['Dew point temperature(°C)'],axis=1)"
   ]
  },
  {
   "cell_type": "markdown",
   "metadata": {},
   "source": [
    "#### This is the list of sorted correlation of variables to the target"
   ]
  },
  {
   "cell_type": "code",
   "execution_count": 27,
   "metadata": {},
   "outputs": [
    {
     "data": {
      "text/html": [
       "<style  type=\"text/css\" >\n",
       "#T_fbe53_row0_col0{\n",
       "            background-color:  #ff0000;\n",
       "            color:  #f1f1f1;\n",
       "        }#T_fbe53_row1_col0{\n",
       "            background-color:  #ff5858;\n",
       "            color:  #000000;\n",
       "        }#T_fbe53_row2_col0{\n",
       "            background-color:  #ff7070;\n",
       "            color:  #000000;\n",
       "        }#T_fbe53_row3_col0{\n",
       "            background-color:  #ff8d8d;\n",
       "            color:  #000000;\n",
       "        }#T_fbe53_row4_col0{\n",
       "            background-color:  #ff9999;\n",
       "            color:  #000000;\n",
       "        }#T_fbe53_row5_col0{\n",
       "            background-color:  #ffa8a8;\n",
       "            color:  #000000;\n",
       "        }#T_fbe53_row6_col0{\n",
       "            background-color:  #ffd7d7;\n",
       "            color:  #000000;\n",
       "        }#T_fbe53_row7_col0{\n",
       "            background-color:  #ffdbdb;\n",
       "            color:  #000000;\n",
       "        }#T_fbe53_row8_col0{\n",
       "            background-color:  #ffe5e5;\n",
       "            color:  #000000;\n",
       "        }</style><table id=\"T_fbe53_\" ><thead>    <tr>        <th class=\"blank level0\" ></th>        <th class=\"col_heading level0 col0\" >Correlation to the target</th>    </tr></thead><tbody>\n",
       "                <tr>\n",
       "                        <th id=\"T_fbe53_level0_row0\" class=\"row_heading level0 row0\" >Rented Bike Count</th>\n",
       "                        <td id=\"T_fbe53_row0_col0\" class=\"data row0 col0\" >1.000000</td>\n",
       "            </tr>\n",
       "            <tr>\n",
       "                        <th id=\"T_fbe53_level0_row1\" class=\"row_heading level0 row1\" >Temperature(°C)</th>\n",
       "                        <td id=\"T_fbe53_row1_col0\" class=\"data row1 col0\" >0.538558</td>\n",
       "            </tr>\n",
       "            <tr>\n",
       "                        <th id=\"T_fbe53_level0_row2\" class=\"row_heading level0 row2\" >Hour</th>\n",
       "                        <td id=\"T_fbe53_row2_col0\" class=\"data row2 col0\" >0.410257</td>\n",
       "            </tr>\n",
       "            <tr>\n",
       "                        <th id=\"T_fbe53_level0_row3\" class=\"row_heading level0 row3\" >Solar Radiation (MJ/m2)</th>\n",
       "                        <td id=\"T_fbe53_row3_col0\" class=\"data row3 col0\" >0.261837</td>\n",
       "            </tr>\n",
       "            <tr>\n",
       "                        <th id=\"T_fbe53_level0_row4\" class=\"row_heading level0 row4\" >Visibility (10m)</th>\n",
       "                        <td id=\"T_fbe53_row4_col0\" class=\"data row4 col0\" >0.199280</td>\n",
       "            </tr>\n",
       "            <tr>\n",
       "                        <th id=\"T_fbe53_level0_row5\" class=\"row_heading level0 row5\" >Wind speed (m/s)</th>\n",
       "                        <td id=\"T_fbe53_row5_col0\" class=\"data row5 col0\" >0.121108</td>\n",
       "            </tr>\n",
       "            <tr>\n",
       "                        <th id=\"T_fbe53_level0_row6\" class=\"row_heading level0 row6\" >Rainfall(mm)</th>\n",
       "                        <td id=\"T_fbe53_row6_col0\" class=\"data row6 col0\" >-0.123074</td>\n",
       "            </tr>\n",
       "            <tr>\n",
       "                        <th id=\"T_fbe53_level0_row7\" class=\"row_heading level0 row7\" >Snowfall (cm)</th>\n",
       "                        <td id=\"T_fbe53_row7_col0\" class=\"data row7 col0\" >-0.141804</td>\n",
       "            </tr>\n",
       "            <tr>\n",
       "                        <th id=\"T_fbe53_level0_row8\" class=\"row_heading level0 row8\" >Humidity(%)</th>\n",
       "                        <td id=\"T_fbe53_row8_col0\" class=\"data row8 col0\" >-0.199780</td>\n",
       "            </tr>\n",
       "    </tbody></table>"
      ],
      "text/plain": [
       "<pandas.io.formats.style.Styler at 0x207a0637400>"
      ]
     },
     "execution_count": 27,
     "metadata": {},
     "output_type": "execute_result"
    }
   ],
   "source": [
    "df1Corr=pd.DataFrame(df.corr().unstack().sort_values(ascending=False)['Rented Bike Count'],columns=['Correlation to the target'])\n",
    "df1Corr.style.background_gradient(cmap=sns.light_palette(\"red\", as_cmap=True))"
   ]
  },
  {
   "cell_type": "markdown",
   "metadata": {},
   "source": [
    "####  "
   ]
  },
  {
   "cell_type": "markdown",
   "metadata": {},
   "source": [
    "# Step 2 : Data Preparation and data Visualisation using Matplotlib and seaborn"
   ]
  },
  {
   "cell_type": "markdown",
   "metadata": {},
   "source": [
    "\n",
    "\n",
    "\n",
    "\n",
    "## Creating variables "
   ]
  },
  {
   "cell_type": "markdown",
   "metadata": {},
   "source": [
    "#### Variable which informs us if it is night or day"
   ]
  },
  {
   "cell_type": "code",
   "execution_count": 28,
   "metadata": {},
   "outputs": [],
   "source": [
    "df['label_day_night']=df['Hour'].apply(lambda x : 'Night' if (x >20 or x<5) else( 'Day'))"
   ]
  },
  {
   "cell_type": "markdown",
   "metadata": {},
   "source": [
    "###### We create a column feature which gives the day of the week and the month corresponding to the date"
   ]
  },
  {
   "cell_type": "code",
   "execution_count": 29,
   "metadata": {
    "scrolled": true
   },
   "outputs": [],
   "source": [
    "df['WeekDay']=df[\"Date\"].dt.day_name() \n"
   ]
  },
  {
   "cell_type": "code",
   "execution_count": 30,
   "metadata": {},
   "outputs": [],
   "source": [
    "df['Month']=df['Date'].dt.month"
   ]
  },
  {
   "cell_type": "markdown",
   "metadata": {},
   "source": [
    "## Plotting variables to the target "
   ]
  },
  {
   "cell_type": "markdown",
   "metadata": {},
   "source": [
    "#### On this first plot, we see a high raise between april to autumn of bikes rent"
   ]
  },
  {
   "cell_type": "code",
   "execution_count": 31,
   "metadata": {},
   "outputs": [
    {
     "data": {
      "text/plain": [
       "<matplotlib.axes._subplots.AxesSubplot at 0x207a044b240>"
      ]
     },
     "execution_count": 31,
     "metadata": {},
     "output_type": "execute_result"
    },
    {
     "data": {
      "image/png": "[encoded data removed]",
      "text/plain": [
       "<Figure size 432x288 with 1 Axes>"
      ]
     },
     "metadata": {
      "needs_background": "light"
     },
     "output_type": "display_data"
    }
   ],
   "source": [
    "df.plot(x='Date',y='Rented Bike Count',kind='line')"
   ]
  },
  {
   "cell_type": "markdown",
   "metadata": {},
   "source": [
    "#### So let's focus on the seasons where we have the most rents\n",
    "###### We can see that as we expected, summer is the season in which we have the most rents.\n",
    "Let's try to understand why summer is the season with the most rents"
   ]
  },
  {
   "cell_type": "code",
   "execution_count": 32,
   "metadata": {},
   "outputs": [
    {
     "data": {
      "text/html": [
       "<style  type=\"text/css\" >\n",
       "#T_f20cc_row0_col0{\n",
       "            background-color:  #ff0000;\n",
       "            color:  #f1f1f1;\n",
       "        }#T_f20cc_row1_col0{\n",
       "            background-color:  #ff3f3f;\n",
       "            color:  #f1f1f1;\n",
       "        }#T_f20cc_row2_col0{\n",
       "            background-color:  #ff5656;\n",
       "            color:  #000000;\n",
       "        }#T_f20cc_row3_col0{\n",
       "            background-color:  #ffe5e5;\n",
       "            color:  #000000;\n",
       "        }</style><table id=\"T_f20cc_\" ><thead>    <tr>        <th class=\"blank level0\" ></th>        <th class=\"col_heading level0 col0\" >Rented Bike Count</th>    </tr>    <tr>        <th class=\"index_name level0\" >Seasons</th>        <th class=\"blank\" ></th>    </tr></thead><tbody>\n",
       "                <tr>\n",
       "                        <th id=\"T_f20cc_level0_row0\" class=\"row_heading level0 row0\" >Summer</th>\n",
       "                        <td id=\"T_f20cc_row0_col0\" class=\"data row0 col0\" >2283234</td>\n",
       "            </tr>\n",
       "            <tr>\n",
       "                        <th id=\"T_f20cc_level0_row1\" class=\"row_heading level0 row1\" >Autumn</th>\n",
       "                        <td id=\"T_f20cc_row1_col0\" class=\"data row1 col0\" >1790002</td>\n",
       "            </tr>\n",
       "            <tr>\n",
       "                        <th id=\"T_f20cc_level0_row2\" class=\"row_heading level0 row2\" >Spring</th>\n",
       "                        <td id=\"T_f20cc_row2_col0\" class=\"data row2 col0\" >1611909</td>\n",
       "            </tr>\n",
       "            <tr>\n",
       "                        <th id=\"T_f20cc_level0_row3\" class=\"row_heading level0 row3\" >Winter</th>\n",
       "                        <td id=\"T_f20cc_row3_col0\" class=\"data row3 col0\" >487169</td>\n",
       "            </tr>\n",
       "    </tbody></table>"
      ],
      "text/plain": [
       "<pandas.io.formats.style.Styler at 0x207a05248d0>"
      ]
     },
     "execution_count": 32,
     "metadata": {},
     "output_type": "execute_result"
    }
   ],
   "source": [
    "df1VizSeasons=pd.DataFrame(df.groupby('Seasons').sum()['Rented Bike Count'].sort_values(ascending=False))\n",
    "df1VizSeasons.style.background_gradient(cmap=sns.light_palette(\"red\", as_cmap=True))"
   ]
  },
  {
   "cell_type": "markdown",
   "metadata": {},
   "source": [
    "###### Let's verify that it is linked to the solar Radiation\n",
    "This plot explains the high correlation with the feature 'solar Radiation' and 'Summer'"
   ]
  },
  {
   "cell_type": "code",
   "execution_count": 33,
   "metadata": {},
   "outputs": [
    {
     "data": {
      "text/html": [
       "<style  type=\"text/css\" >\n",
       "#T_05dbe_row0_col0{\n",
       "            background-color:  #ff0000;\n",
       "            color:  #f1f1f1;\n",
       "        }#T_05dbe_row1_col0{\n",
       "            background-color:  #ff2323;\n",
       "            color:  #f1f1f1;\n",
       "        }#T_05dbe_row2_col0{\n",
       "            background-color:  #ff7878;\n",
       "            color:  #000000;\n",
       "        }#T_05dbe_row3_col0{\n",
       "            background-color:  #ffe5e5;\n",
       "            color:  #000000;\n",
       "        }</style><table id=\"T_05dbe_\" ><thead>    <tr>        <th class=\"blank level0\" ></th>        <th class=\"col_heading level0 col0\" >Solar Radiation (MJ/m2)</th>    </tr>    <tr>        <th class=\"index_name level0\" >Seasons</th>        <th class=\"blank\" ></th>    </tr></thead><tbody>\n",
       "                <tr>\n",
       "                        <th id=\"T_05dbe_level0_row0\" class=\"row_heading level0 row0\" >Summer</th>\n",
       "                        <td id=\"T_05dbe_row0_col0\" class=\"data row0 col0\" >1680.850000</td>\n",
       "            </tr>\n",
       "            <tr>\n",
       "                        <th id=\"T_05dbe_level0_row1\" class=\"row_heading level0 row1\" >Spring</th>\n",
       "                        <td id=\"T_05dbe_row1_col0\" class=\"data row1 col0\" >1520.840000</td>\n",
       "            </tr>\n",
       "            <tr>\n",
       "                        <th id=\"T_05dbe_level0_row2\" class=\"row_heading level0 row2\" >Autumn</th>\n",
       "                        <td id=\"T_05dbe_row2_col0\" class=\"data row2 col0\" >1139.650000</td>\n",
       "            </tr>\n",
       "            <tr>\n",
       "                        <th id=\"T_05dbe_level0_row3\" class=\"row_heading level0 row3\" >Winter</th>\n",
       "                        <td id=\"T_05dbe_row3_col0\" class=\"data row3 col0\" >644.070000</td>\n",
       "            </tr>\n",
       "    </tbody></table>"
      ],
      "text/plain": [
       "<pandas.io.formats.style.Styler at 0x207a0524438>"
      ]
     },
     "execution_count": 33,
     "metadata": {},
     "output_type": "execute_result"
    }
   ],
   "source": [
    "df1VizSolarRadiation=pd.DataFrame(df.groupby('Seasons').sum()['Solar Radiation (MJ/m2)'].sort_values(ascending=False))\n",
    "df1VizSolarRadiation.style.background_gradient(cmap=sns.light_palette(\"red\", as_cmap=True))"
   ]
  },
  {
   "cell_type": "code",
   "execution_count": 34,
   "metadata": {},
   "outputs": [
    {
     "data": {
      "text/plain": [
       "<matplotlib.axes._subplots.AxesSubplot at 0x207a0563400>"
      ]
     },
     "execution_count": 34,
     "metadata": {},
     "output_type": "execute_result"
    },
    {
     "data": {
      "image/png": "[encoded data removed]",
      "text/plain": [
       "<Figure size 432x288 with 1 Axes>"
      ]
     },
     "metadata": {},
     "output_type": "display_data"
    }
   ],
   "source": [
    "df.groupby('Seasons').sum()['Rented Bike Count'].plot.pie()"
   ]
  },
  {
   "cell_type": "markdown",
   "metadata": {},
   "source": [
    "#### Here the amount of rented bikes is huge, when there is solar radiation, the counter of rents is around 1000"
   ]
  },
  {
   "cell_type": "code",
   "execution_count": 35,
   "metadata": {
    "scrolled": true
   },
   "outputs": [
    {
     "data": {
      "text/plain": [
       "<matplotlib.axes._subplots.AxesSubplot at 0x207a05a93c8>"
      ]
     },
     "execution_count": 35,
     "metadata": {},
     "output_type": "execute_result"
    },
    {
     "data": {
      "image/png": "[encoded data removed]",
      "text/plain": [
       "<Figure size 432x288 with 1 Axes>"
      ]
     },
     "metadata": {
      "needs_background": "light"
     },
     "output_type": "display_data"
    }
   ],
   "source": [
    "df.groupby('Solar Radiation (MJ/m2)').mean()['Rented Bike Count'].plot()"
   ]
  },
  {
   "cell_type": "markdown",
   "metadata": {},
   "source": [
    "#### Here we have a repartition of the rents by hour, at the beginning of the day we suppose people go to work and return by bike "
   ]
  },
  {
   "cell_type": "code",
   "execution_count": 36,
   "metadata": {},
   "outputs": [
    {
     "data": {
      "text/plain": [
       "<matplotlib.axes._subplots.AxesSubplot at 0x207a02dc0f0>"
      ]
     },
     "execution_count": 36,
     "metadata": {},
     "output_type": "execute_result"
    },
    {
     "data": {
      "image/png": "[encoded data removed]",
      "text/plain": [
       "<Figure size 432x288 with 1 Axes>"
      ]
     },
     "metadata": {
      "needs_background": "light"
     },
     "output_type": "display_data"
    }
   ],
   "source": [
    "df.groupby('Hour').sum()['Rented Bike Count'].plot.bar()\n",
    "df.groupby('Hour').sum()['Rented Bike Count'].plot()"
   ]
  },
  {
   "cell_type": "markdown",
   "metadata": {},
   "source": [
    "#### Days with highest rented bike are week days\n",
    "So we suppose people rent bikes to go to work or school "
   ]
  },
  {
   "cell_type": "code",
   "execution_count": 37,
   "metadata": {},
   "outputs": [
    {
     "data": {
      "text/html": [
       "<style  type=\"text/css\" >\n",
       "#T_45c54_row0_col0{\n",
       "            background-color:  #ff0000;\n",
       "            color:  #f1f1f1;\n",
       "        }#T_45c54_row1_col0{\n",
       "            background-color:  #ff2323;\n",
       "            color:  #f1f1f1;\n",
       "        }#T_45c54_row2_col0{\n",
       "            background-color:  #ff3434;\n",
       "            color:  #f1f1f1;\n",
       "        }#T_45c54_row3_col0{\n",
       "            background-color:  #ff5757;\n",
       "            color:  #000000;\n",
       "        }#T_45c54_row4_col0{\n",
       "            background-color:  #ff7777;\n",
       "            color:  #000000;\n",
       "        }#T_45c54_row5_col0{\n",
       "            background-color:  #ff7c7c;\n",
       "            color:  #000000;\n",
       "        }#T_45c54_row6_col0{\n",
       "            background-color:  #ffe5e5;\n",
       "            color:  #000000;\n",
       "        }</style><table id=\"T_45c54_\" ><thead>    <tr>        <th class=\"blank level0\" ></th>        <th class=\"col_heading level0 col0\" >Rented Bike Count</th>    </tr>    <tr>        <th class=\"index_name level0\" >WeekDay</th>        <th class=\"blank\" ></th>    </tr></thead><tbody>\n",
       "                <tr>\n",
       "                        <th id=\"T_45c54_level0_row0\" class=\"row_heading level0 row0\" >Friday</th>\n",
       "                        <td id=\"T_45c54_row0_col0\" class=\"data row0 col0\" >950334</td>\n",
       "            </tr>\n",
       "            <tr>\n",
       "                        <th id=\"T_45c54_level0_row1\" class=\"row_heading level0 row1\" >Wednesday</th>\n",
       "                        <td id=\"T_45c54_row1_col0\" class=\"data row1 col0\" >923956</td>\n",
       "            </tr>\n",
       "            <tr>\n",
       "                        <th id=\"T_45c54_level0_row2\" class=\"row_heading level0 row2\" >Monday</th>\n",
       "                        <td id=\"T_45c54_row2_col0\" class=\"data row2 col0\" >911743</td>\n",
       "            </tr>\n",
       "            <tr>\n",
       "                        <th id=\"T_45c54_level0_row3\" class=\"row_heading level0 row3\" >Saturday</th>\n",
       "                        <td id=\"T_45c54_row3_col0\" class=\"data row3 col0\" >885492</td>\n",
       "            </tr>\n",
       "            <tr>\n",
       "                        <th id=\"T_45c54_level0_row4\" class=\"row_heading level0 row4\" >Thursday</th>\n",
       "                        <td id=\"T_45c54_row4_col0\" class=\"data row4 col0\" >861999</td>\n",
       "            </tr>\n",
       "            <tr>\n",
       "                        <th id=\"T_45c54_level0_row5\" class=\"row_heading level0 row5\" >Tuesday</th>\n",
       "                        <td id=\"T_45c54_row5_col0\" class=\"data row5 col0\" >858596</td>\n",
       "            </tr>\n",
       "            <tr>\n",
       "                        <th id=\"T_45c54_level0_row6\" class=\"row_heading level0 row6\" >Sunday</th>\n",
       "                        <td id=\"T_45c54_row6_col0\" class=\"data row6 col0\" >780194</td>\n",
       "            </tr>\n",
       "    </tbody></table>"
      ],
      "text/plain": [
       "<pandas.io.formats.style.Styler at 0x207a0374c50>"
      ]
     },
     "execution_count": 37,
     "metadata": {},
     "output_type": "execute_result"
    }
   ],
   "source": [
    "df1VizDays=pd.DataFrame(df.groupby('WeekDay').sum()['Rented Bike Count'].sort_values(ascending=False))\n",
    "df1VizDays.style.background_gradient(cmap=sns.light_palette(\"red\", as_cmap=True))"
   ]
  },
  {
   "cell_type": "markdown",
   "metadata": {},
   "source": [
    "####  "
   ]
  },
  {
   "cell_type": "markdown",
   "metadata": {},
   "source": [
    "#### Korean people like to ride bikes when it is pretty hot around 25°C in average"
   ]
  },
  {
   "cell_type": "code",
   "execution_count": 38,
   "metadata": {},
   "outputs": [
    {
     "data": {
      "text/plain": [
       "<matplotlib.axes._subplots.AxesSubplot at 0x2079fb04358>"
      ]
     },
     "execution_count": 38,
     "metadata": {},
     "output_type": "execute_result"
    },
    {
     "data": {
      "image/png": "[encoded data removed]",
      "text/plain": [
       "<Figure size 432x288 with 1 Axes>"
      ]
     },
     "metadata": {
      "needs_background": "light"
     },
     "output_type": "display_data"
    }
   ],
   "source": [
    "df.groupby('Temperature(°C)').mean()['Rented Bike Count'].plot()"
   ]
  },
  {
   "cell_type": "markdown",
   "metadata": {},
   "source": [
    "##### Let's see the repartition of the rents follonwing the moment of the day"
   ]
  },
  {
   "cell_type": "code",
   "execution_count": 39,
   "metadata": {},
   "outputs": [
    {
     "data": {
      "text/plain": [
       "<matplotlib.axes._subplots.AxesSubplot at 0x2079fb297b8>"
      ]
     },
     "execution_count": 39,
     "metadata": {},
     "output_type": "execute_result"
    },
    {
     "data": {
      "image/png": "[encoded data removed]",
      "text/plain": [
       "<Figure size 432x288 with 1 Axes>"
      ]
     },
     "metadata": {},
     "output_type": "display_data"
    }
   ],
   "source": [
    "df.groupby('label_day_night').sum()['Rented Bike Count'].plot.pie()"
   ]
  },
  {
   "cell_type": "markdown",
   "metadata": {},
   "source": [
    "#### According to this boxplot there are much more rents during the day than the night \n",
    "As the median for the day is around 600 and the median for the night is around 350"
   ]
  },
  {
   "cell_type": "code",
   "execution_count": 40,
   "metadata": {},
   "outputs": [
    {
     "name": "stderr",
     "output_type": "stream",
     "text": [
      "C:\\Users\\TRANG THOMAS\\Anaconda\\lib\\site-packages\\numpy\\core\\_asarray.py:83: VisibleDeprecationWarning: Creating an ndarray from ragged nested sequences (which is a list-or-tuple of lists-or-tuples-or ndarrays with different lengths or shapes) is deprecated. If you meant to do this, you must specify 'dtype=object' when creating the ndarray\n",
      "  return array(a, dtype, copy=False, order=order)\n"
     ]
    },
    {
     "data": {
      "image/png": "[encoded data removed]",
      "text/plain": [
       "<Figure size 504x504 with 1 Axes>"
      ]
     },
     "metadata": {
      "needs_background": "light"
     },
     "output_type": "display_data"
    }
   ],
   "source": [
    "boxplotDay_night= df.boxplot(['Rented Bike Count'],by='label_day_night',figsize=(7,7))\n",
    "\n"
   ]
  },
  {
   "cell_type": "markdown",
   "metadata": {},
   "source": [
    "#### Let's do a visualisation during the holidays\n",
    "It means that koreans rent bikes to go to school or work "
   ]
  },
  {
   "cell_type": "code",
   "execution_count": 41,
   "metadata": {},
   "outputs": [
    {
     "data": {
      "text/plain": [
       "<matplotlib.axes._subplots.AxesSubplot at 0x207a0877550>"
      ]
     },
     "execution_count": 41,
     "metadata": {},
     "output_type": "execute_result"
    },
    {
     "data": {
      "image/png": "[encoded data removed]",
      "text/plain": [
       "<Figure size 432x288 with 1 Axes>"
      ]
     },
     "metadata": {},
     "output_type": "display_data"
    }
   ],
   "source": [
    "df.groupby('Holiday').sum()['Rented Bike Count'].plot.pie(radius=0.5)\n"
   ]
  },
  {
   "cell_type": "markdown",
   "metadata": {},
   "source": [
    "#### We see that holiday rent are very low so let's see on which period extends holidays\n",
    "The shape of this Df is 432 lines and 16 columns, it means that there are only 18 days of holidays in Korea which is very short. And that explains why the proportion of rents during holiday is low. So we understand that this column is not that important"
   ]
  },
  {
   "cell_type": "code",
   "execution_count": 42,
   "metadata": {
    "scrolled": false
   },
   "outputs": [],
   "source": [
    "dfHoliday=df.loc[df['Holiday'] == 'Holiday']"
   ]
  },
  {
   "cell_type": "code",
   "execution_count": 43,
   "metadata": {},
   "outputs": [
    {
     "data": {
      "text/plain": [
       "(432, 16)"
      ]
     },
     "execution_count": 43,
     "metadata": {},
     "output_type": "execute_result"
    }
   ],
   "source": [
    "dfHoliday.shape"
   ]
  },
  {
   "cell_type": "markdown",
   "metadata": {},
   "source": [
    "### Let's plot the rent of bikes following the state of the  weather"
   ]
  },
  {
   "cell_type": "markdown",
   "metadata": {},
   "source": [
    "#### We can see that even if it rains a lot of korean rent bikes, here for example even if we have 20 mm of rain there is a big peak of rented bikes"
   ]
  },
  {
   "cell_type": "code",
   "execution_count": 44,
   "metadata": {},
   "outputs": [
    {
     "data": {
      "text/plain": [
       "<matplotlib.axes._subplots.AxesSubplot at 0x2079fe61240>"
      ]
     },
     "execution_count": 44,
     "metadata": {},
     "output_type": "execute_result"
    },
    {
     "data": {
      "image/png": "[encoded data removed]",
      "text/plain": [
       "<Figure size 432x288 with 1 Axes>"
      ]
     },
     "metadata": {
      "needs_background": "light"
     },
     "output_type": "display_data"
    }
   ],
   "source": [
    "df.groupby('Rainfall(mm)').mean()['Rented Bike Count'].plot()"
   ]
  },
  {
   "cell_type": "markdown",
   "metadata": {},
   "source": [
    "#### This raise between 20 and 25 mm of rainfall seems very contradictory, so we decide to explain this\n",
    "We can see that these days of rainfall are in the summer and the T° is not bad, furthermore theses are Week Days, that's why we have so much rented bike even if the rain is so important"
   ]
  },
  {
   "cell_type": "code",
   "execution_count": 45,
   "metadata": {},
   "outputs": [
    {
     "data": {
      "text/html": [
       "<div>\n",
       "<style scoped>\n",
       "    .dataframe tbody tr th:only-of-type {\n",
       "        vertical-align: middle;\n",
       "    }\n",
       "\n",
       "    .dataframe tbody tr th {\n",
       "        vertical-align: top;\n",
       "    }\n",
       "\n",
       "    .dataframe thead th {\n",
       "        text-align: right;\n",
       "    }\n",
       "</style>\n",
       "<table border=\"1\" class=\"dataframe\">\n",
       "  <thead>\n",
       "    <tr style=\"text-align: right;\">\n",
       "      <th></th>\n",
       "      <th>Date</th>\n",
       "      <th>Rented Bike Count</th>\n",
       "      <th>Hour</th>\n",
       "      <th>Temperature(°C)</th>\n",
       "      <th>Humidity(%)</th>\n",
       "      <th>Wind speed (m/s)</th>\n",
       "      <th>Visibility (10m)</th>\n",
       "      <th>Solar Radiation (MJ/m2)</th>\n",
       "      <th>Rainfall(mm)</th>\n",
       "      <th>Snowfall (cm)</th>\n",
       "      <th>Seasons</th>\n",
       "      <th>Holiday</th>\n",
       "      <th>Functioning Day</th>\n",
       "      <th>label_day_night</th>\n",
       "      <th>WeekDay</th>\n",
       "      <th>Month</th>\n",
       "    </tr>\n",
       "  </thead>\n",
       "  <tbody>\n",
       "    <tr>\n",
       "      <th>5034</th>\n",
       "      <td>2018-06-28</td>\n",
       "      <td>596</td>\n",
       "      <td>18</td>\n",
       "      <td>20.6</td>\n",
       "      <td>97</td>\n",
       "      <td>0.7</td>\n",
       "      <td>222</td>\n",
       "      <td>0.14</td>\n",
       "      <td>21.5</td>\n",
       "      <td>0.0</td>\n",
       "      <td>Summer</td>\n",
       "      <td>No Holiday</td>\n",
       "      <td>Yes</td>\n",
       "      <td>Day</td>\n",
       "      <td>Thursday</td>\n",
       "      <td>6</td>\n",
       "    </tr>\n",
       "    <tr>\n",
       "      <th>5132</th>\n",
       "      <td>2018-07-02</td>\n",
       "      <td>61</td>\n",
       "      <td>20</td>\n",
       "      <td>23.5</td>\n",
       "      <td>97</td>\n",
       "      <td>0.1</td>\n",
       "      <td>1814</td>\n",
       "      <td>0.04</td>\n",
       "      <td>24.0</td>\n",
       "      <td>0.0</td>\n",
       "      <td>Summer</td>\n",
       "      <td>No Holiday</td>\n",
       "      <td>Yes</td>\n",
       "      <td>Day</td>\n",
       "      <td>Monday</td>\n",
       "      <td>7</td>\n",
       "    </tr>\n",
       "    <tr>\n",
       "      <th>6524</th>\n",
       "      <td>2018-08-29</td>\n",
       "      <td>19</td>\n",
       "      <td>20</td>\n",
       "      <td>23.4</td>\n",
       "      <td>98</td>\n",
       "      <td>0.6</td>\n",
       "      <td>70</td>\n",
       "      <td>0.00</td>\n",
       "      <td>21.0</td>\n",
       "      <td>0.0</td>\n",
       "      <td>Summer</td>\n",
       "      <td>No Holiday</td>\n",
       "      <td>Yes</td>\n",
       "      <td>Day</td>\n",
       "      <td>Wednesday</td>\n",
       "      <td>8</td>\n",
       "    </tr>\n",
       "  </tbody>\n",
       "</table>\n",
       "</div>"
      ],
      "text/plain": [
       "           Date  Rented Bike Count  Hour  Temperature(°C)  Humidity(%)  \\\n",
       "5034 2018-06-28                596    18             20.6           97   \n",
       "5132 2018-07-02                 61    20             23.5           97   \n",
       "6524 2018-08-29                 19    20             23.4           98   \n",
       "\n",
       "      Wind speed (m/s)  Visibility (10m)  Solar Radiation (MJ/m2)  \\\n",
       "5034               0.7               222                     0.14   \n",
       "5132               0.1              1814                     0.04   \n",
       "6524               0.6                70                     0.00   \n",
       "\n",
       "      Rainfall(mm)  Snowfall (cm) Seasons     Holiday Functioning Day  \\\n",
       "5034          21.5            0.0  Summer  No Holiday             Yes   \n",
       "5132          24.0            0.0  Summer  No Holiday             Yes   \n",
       "6524          21.0            0.0  Summer  No Holiday             Yes   \n",
       "\n",
       "     label_day_night    WeekDay  Month  \n",
       "5034             Day   Thursday      6  \n",
       "5132             Day     Monday      7  \n",
       "6524             Day  Wednesday      8  "
      ]
     },
     "execution_count": 45,
     "metadata": {},
     "output_type": "execute_result"
    }
   ],
   "source": [
    "df.loc[(df['Rainfall(mm)']>20)&(df['Rainfall(mm)']<25)]"
   ]
  },
  {
   "cell_type": "markdown",
   "metadata": {},
   "source": [
    "#### We can see on the y-axis, the amount of rents is very low\n",
    "When we have more than 4 cm of snow, the bike rents is much lower"
   ]
  },
  {
   "cell_type": "code",
   "execution_count": 46,
   "metadata": {},
   "outputs": [
    {
     "data": {
      "text/plain": [
       "<matplotlib.axes._subplots.AxesSubplot at 0x2079ff4c048>"
      ]
     },
     "execution_count": 46,
     "metadata": {},
     "output_type": "execute_result"
    },
    {
     "data": {
      "image/png": "[encoded data removed]",
      "text/plain": [
       "<Figure size 432x288 with 1 Axes>"
      ]
     },
     "metadata": {
      "needs_background": "light"
     },
     "output_type": "display_data"
    }
   ],
   "source": [
    "df.groupby('Snowfall (cm)').mean()['Rented Bike Count'].plot()"
   ]
  },
  {
   "cell_type": "markdown",
   "metadata": {},
   "source": [
    "#### We create the variable to encode WeekDay "
   ]
  },
  {
   "cell_type": "code",
   "execution_count": 47,
   "metadata": {},
   "outputs": [],
   "source": [
    "mapping_dictDay={'Monday':1,'Tuesday':2,'Wednesday':3,'Thursday':4,'Friday':5,'Saturday':6,'Sunday':7}\n",
    "\n",
    "df['WeekDayEncoding']=df['WeekDay'].map(mapping_dictDay)"
   ]
  },
  {
   "cell_type": "markdown",
   "metadata": {},
   "source": [
    "####    "
   ]
  },
  {
   "cell_type": "markdown",
   "metadata": {},
   "source": [
    "####  "
   ]
  },
  {
   "cell_type": "markdown",
   "metadata": {},
   "source": [
    "# Step 3 : Modeling\n",
    "We have to keep in mind that the most correlated features to the target are : \n",
    "\n",
    "<li>the hour </li>\n",
    "<li>the temperature </li>\n",
    "<li>the solar radiation</li>\n",
    "\n",
    "We have to drop some features that are not important to our target "
   ]
  },
  {
   "cell_type": "markdown",
   "metadata": {},
   "source": [
    "####  "
   ]
  },
  {
   "cell_type": "markdown",
   "metadata": {},
   "source": [
    "#### Let's import libraires needed in this modeling part"
   ]
  },
  {
   "cell_type": "code",
   "execution_count": 48,
   "metadata": {},
   "outputs": [],
   "source": [
    "from sklearn.model_selection import train_test_split\n",
    "from sklearn import preprocessing\n",
    "from sklearn import linear_model\n",
    "from sklearn.metrics import r2_score,mean_squared_error\n",
    "from sklearn.linear_model import Ridge\n",
    "from sklearn.model_selection import GridSearchCV\n",
    "from sklearn.linear_model import Lasso\n",
    "from sklearn.svm import SVR\n",
    "from sklearn.tree import DecisionTreeRegressor\n",
    "from sklearn.ensemble import RandomForestRegressor\n",
    "from sklearn.ensemble import ExtraTreesRegressor\n"
   ]
  },
  {
   "cell_type": "markdown",
   "metadata": {},
   "source": [
    "#### Let's create an object to report results"
   ]
  },
  {
   "cell_type": "code",
   "execution_count": 49,
   "metadata": {},
   "outputs": [],
   "source": [
    "reporting={}"
   ]
  },
  {
   "cell_type": "code",
   "execution_count": 50,
   "metadata": {},
   "outputs": [],
   "source": [
    "X_MultipleLinearRegression=df.drop(['Rented Bike Count','Date','Seasons','Holiday','label_day_night','Functioning Day','WeekDay'],axis =1)\n",
    "y=df.iloc[:,1] #the target\n"
   ]
  },
  {
   "cell_type": "code",
   "execution_count": 51,
   "metadata": {},
   "outputs": [],
   "source": [
    "X_train,X_test,y_train,y_test=train_test_split(X_MultipleLinearRegression,y,test_size=0.27)"
   ]
  },
  {
   "cell_type": "markdown",
   "metadata": {},
   "source": [
    "## Mutiple Linear Regression "
   ]
  },
  {
   "cell_type": "markdown",
   "metadata": {},
   "source": [
    "We tried to drop some of the features of the X_train_MultipleRegression to see if the score rised but it was not the case. So we kept the feature selection with the best score\n",
    "Furthermore, we don't scale data in Linear Regression, but if we did we would first have to split into train and test set"
   ]
  },
  {
   "cell_type": "code",
   "execution_count": 52,
   "metadata": {},
   "outputs": [],
   "source": [
    "regr = linear_model.LinearRegression()\n",
    "fitregr=regr.fit(X_train, y_train)\n",
    "predregrtrain=fitregr.predict(X_train)\n",
    "predregrtest=fitregr.predict(X_test)"
   ]
  },
  {
   "cell_type": "code",
   "execution_count": 53,
   "metadata": {
    "scrolled": true
   },
   "outputs": [
    {
     "name": "stdout",
     "output_type": "stream",
     "text": [
      "The equation of this Linear Regression has format : y= coefficient*Features + intercept\n",
      "Linear model intercept: 438.0868481936782 and the coefficients are: [ 2.76148778e+01  3.08747989e+01 -7.70343804e+00  9.47488991e+00\n",
      "  1.46052312e-02 -8.71238206e+01 -5.85198059e+01  1.66706928e+01\n",
      "  7.87735463e+00 -9.11887998e+00]\n"
     ]
    }
   ],
   "source": [
    "print('The equation of this Linear Regression has format : y= coefficient*Features + intercept')\n",
    "print('Linear model intercept: {} and the coefficients are: {}'\n",
    "     .format(fitregr.intercept_,fitregr.coef_))"
   ]
  },
  {
   "cell_type": "markdown",
   "metadata": {},
   "source": [
    "After fitting the model, we print the score between predictions and test targets"
   ]
  },
  {
   "cell_type": "code",
   "execution_count": 54,
   "metadata": {},
   "outputs": [
    {
     "name": "stdout",
     "output_type": "stream",
     "text": [
      "Linear model, R2 train score is : 0.4729147422951254 and the train root mean square is: 465.03999659462045\n",
      "Linear model, R2 test score is : 0.47201385771404825 and the test root mean square is: 477.1770761977524\n"
     ]
    }
   ],
   "source": [
    "train_set_rmse = (np.sqrt(mean_squared_error(predregrtrain,y_train )))\n",
    "train_set_r2 = r2_score(y_train, predregrtrain)\n",
    "print('Linear model, R2 train score is : {} and the train root mean square is: {}'\n",
    "     .format(train_set_r2,train_set_rmse))\n",
    "\n",
    "test_set_rmse = (np.sqrt(mean_squared_error(predregrtest,y_test )))\n",
    "test_set_r2 = r2_score(y_test, predregrtest)\n",
    "print('Linear model, R2 test score is : {} and the test root mean square is: {}'\n",
    "     .format(test_set_r2,test_set_rmse))"
   ]
  },
  {
   "cell_type": "code",
   "execution_count": 55,
   "metadata": {},
   "outputs": [],
   "source": [
    "reporting['Linear regression']=test_set_r2"
   ]
  },
  {
   "cell_type": "markdown",
   "metadata": {},
   "source": [
    "This is a test to predict the rented bikes following features selected :   \n",
    "The order of the features in this test are :  \n",
    "### [Hour (0 to 24) , Temperature (°C) , Humidity(%) , Wind speed (m/s) , Visibility(m) , Solar radiation (MJ/m2) , Rainfall(mm) , Snowfall(cm) , month(1 to 12) , WeekDay(1 to 7 : monday to Sunday)]"
   ]
  },
  {
   "cell_type": "code",
   "execution_count": 56,
   "metadata": {},
   "outputs": [],
   "source": [
    "#fitregr.predict([[10,10,60,3,1000,0,0,2,12,1]])"
   ]
  },
  {
   "cell_type": "markdown",
   "metadata": {},
   "source": [
    "####  "
   ]
  },
  {
   "cell_type": "markdown",
   "metadata": {},
   "source": [
    "## Ridge regression\n",
    "What is Ridge regression ? The main idea begin Ridge Regression is to find a new line that doesn't fit the training data. Ridge regression can provide better long term regression. The goal of the regularization parameter alpha is to reduce the variation\n",
    "Ridge regression is interesting when we have only very interesting features on the dataset."
   ]
  },
  {
   "cell_type": "code",
   "execution_count": 57,
   "metadata": {},
   "outputs": [],
   "source": [
    "X_RidgeRegression=df.drop(['Rented Bike Count','Date','Seasons','Holiday','label_day_night','Functioning Day','WeekDay'],axis =1)\n",
    "y=df.iloc[:,1] #the target\n",
    "X_train,X_test,y_train,y_test=train_test_split(X_RidgeRegression,y,test_size=0.27)"
   ]
  },
  {
   "cell_type": "markdown",
   "metadata": {},
   "source": [
    "Let's test the values of the Ridge in function of the alpha value\n",
    "The R2 test highest value is 0.47, which is the same result as we had in the Linear Regression\n"
   ]
  },
  {
   "cell_type": "code",
   "execution_count": 58,
   "metadata": {},
   "outputs": [
    {
     "name": "stdout",
     "output_type": "stream",
     "text": [
      "Alpha = -2000.00\n",
      " R2 training: 0.31, R2 test: 0.29\n",
      "\n",
      "Alpha = -1000.00\n",
      " R2 training: 0.37, R2 test: 0.34\n",
      "\n",
      "Alpha = 0.00\n",
      " R2 training: 0.48, R2 test: 0.46\n",
      "\n",
      "Alpha = 10.00\n",
      " R2 training: 0.48, R2 test: 0.46\n",
      "\n",
      "Alpha = 20.00\n",
      " R2 training: 0.48, R2 test: 0.46\n",
      "\n",
      "Alpha = 50.00\n",
      " R2 training: 0.48, R2 test: 0.46\n",
      "\n",
      "Alpha = 6000.00\n",
      " R2 training: 0.47, R2 test: 0.46\n",
      "\n",
      "Alpha = 1000000.00\n",
      " R2 training: 0.32, R2 test: 0.31\n",
      "\n"
     ]
    }
   ],
   "source": [
    "errors=[]\n",
    "coefs=[]\n",
    "alphas=[-2000,-1000, 0, 10, 20, 50, 6000, 1000000]\n",
    "for alpha in alphas:\n",
    "    linridge = Ridge(alpha = alpha).fit(X_train, y_train)\n",
    "    r2_train = linridge.score(X_train, y_train)\n",
    "    r2_test = linridge.score(X_test, y_test)\n",
    "    coefs.append(linridge.coef_)\n",
    "    errors.append(np.mean((linridge.predict(X_test)-y_test)**2))\n",
    "    print('Alpha = {:.2f}\\n \\\n",
    "R2 training: {:.2f}, R2 test: {:.2f}\\n'\n",
    "         .format(alpha, r2_train, r2_test))\n"
   ]
  },
  {
   "cell_type": "markdown",
   "metadata": {},
   "source": [
    "Grid Search on Ridge, we find the same result as the previous test"
   ]
  },
  {
   "cell_type": "code",
   "execution_count": 59,
   "metadata": {},
   "outputs": [
    {
     "data": {
      "text/plain": [
       "GridSearchCV(cv=3, estimator=Ridge(),\n",
       "             param_grid={'alpha': [-300, -299, -298, -297, -296, -295, -294,\n",
       "                                   -293, -292, -291, -290, -289, -288, -287,\n",
       "                                   -286, -285, -284, -283, -282, -281, -280,\n",
       "                                   -279, -278, -277, -276, -275, -274, -273,\n",
       "                                   -272, -271, ...]},\n",
       "             scoring='r2')"
      ]
     },
     "execution_count": 59,
     "metadata": {},
     "output_type": "execute_result"
    }
   ],
   "source": [
    "ridge=Ridge()\n",
    "#parameters={'alpha':[-10000,-6000,-100,-200, 1, 10, 20, 50,100,150,200, 600, 1000000]}\n",
    "parameters={'alpha':list(range(-300,300))}\n",
    "\n",
    "gridSearchRidge=GridSearchCV(ridge,parameters,scoring='r2',cv=3)\n",
    "gridSearchRidge.fit(X_train,y_train)\n"
   ]
  },
  {
   "cell_type": "code",
   "execution_count": 60,
   "metadata": {},
   "outputs": [],
   "source": [
    "best_ridge=gridSearchRidge.best_estimator_\n",
    "bestridge_testScore=best_ridge.score(X_test,y_test)\n"
   ]
  },
  {
   "cell_type": "code",
   "execution_count": 61,
   "metadata": {},
   "outputs": [
    {
     "name": "stdout",
     "output_type": "stream",
     "text": [
      "The best R2 train score is : 0.48\n",
      " with Alpha = 46.00\n",
      " \n",
      "The best R2 test score is : 0.46\n",
      " with Alpha = 46.00\n",
      " \n"
     ]
    }
   ],
   "source": [
    "print('The best R2 train score is : {:.2f}\\n with Alpha = {:.2f}\\n \\\n",
    "'.format(gridSearchRidge.best_score_,gridSearchRidge.best_params_['alpha']))\n",
    "print('The best R2 test score is : {:.2f}\\n with Alpha = {:.2f}\\n \\\n",
    "'.format(bestridge_testScore,gridSearchRidge.best_params_['alpha']))"
   ]
  },
  {
   "cell_type": "code",
   "execution_count": 62,
   "metadata": {},
   "outputs": [],
   "source": [
    "reporting['Ridge regression']=bestridge_testScore"
   ]
  },
  {
   "cell_type": "code",
   "execution_count": 63,
   "metadata": {},
   "outputs": [],
   "source": [
    "#gridSearchRidge.predict([[10,10,60,3,1000,0,0,2,12,1]])[0]"
   ]
  },
  {
   "cell_type": "markdown",
   "metadata": {},
   "source": [
    "We see that when alpha is very large, it tends to 0"
   ]
  },
  {
   "cell_type": "code",
   "execution_count": 64,
   "metadata": {},
   "outputs": [
    {
     "data": {
      "image/png": "[encoded data removed]",
      "text/plain": [
       "<Figure size 432x288 with 1 Axes>"
      ]
     },
     "metadata": {
      "needs_background": "light"
     },
     "output_type": "display_data"
    }
   ],
   "source": [
    "ax=plt.gca()\n",
    "ax.plot(alphas,coefs)\n",
    "ax.set_xscale('log')\n",
    "ax.set_ylim(-100,100)\n",
    "plt.show()"
   ]
  },
  {
   "cell_type": "markdown",
   "metadata": {},
   "source": [
    "## Lasso \n",
    "Lasso regression is a little bit different from Ridge regression.\n",
    "When lambda=0, the lasso regression is the same as the least squares line, when lambda increases, the slope gets smaller. \n",
    "Unlike RIdge regression, Lasso can exclude useless features from the model because it reduce variance."
   ]
  },
  {
   "cell_type": "code",
   "execution_count": 65,
   "metadata": {
    "scrolled": true
   },
   "outputs": [
    {
     "name": "stderr",
     "output_type": "stream",
     "text": [
      "C:\\Users\\TRANG THOMAS\\Anaconda\\lib\\site-packages\\sklearn\\linear_model\\_coordinate_descent.py:532: ConvergenceWarning: Objective did not converge. You might want to increase the number of iterations. Duality gap: 2591455193.360839, tolerance: 264012.43700345635\n",
      "  positive)\n",
      "C:\\Users\\TRANG THOMAS\\Anaconda\\lib\\site-packages\\ipykernel_launcher.py:5: UserWarning: With alpha=0, this algorithm does not converge well. You are advised to use the LinearRegression estimator\n",
      "  \"\"\"\n",
      "C:\\Users\\TRANG THOMAS\\Anaconda\\lib\\site-packages\\sklearn\\linear_model\\_coordinate_descent.py:532: UserWarning: Coordinate descent with no regularization may lead to unexpected results and is discouraged.\n",
      "  positive)\n",
      "C:\\Users\\TRANG THOMAS\\Anaconda\\lib\\site-packages\\sklearn\\linear_model\\_coordinate_descent.py:532: ConvergenceWarning: Objective did not converge. You might want to increase the number of iterations. Duality gap: 691029071.7502341, tolerance: 264012.43700345635\n",
      "  positive)\n"
     ]
    },
    {
     "name": "stdout",
     "output_type": "stream",
     "text": [
      "Alpha = -60.00\n",
      " Lasso R2 training: 0.37, R2 test: 0.35\n",
      "\n",
      "Alpha = 0.00\n",
      " Lasso R2 training: 0.48, R2 test: 0.46\n",
      "\n",
      "Alpha = 10.00\n",
      " Lasso R2 training: 0.48, R2 test: 0.46\n",
      "\n",
      "Alpha = 20.00\n",
      " Lasso R2 training: 0.47, R2 test: 0.46\n",
      "\n",
      "Alpha = 50.00\n",
      " Lasso R2 training: 0.46, R2 test: 0.45\n",
      "\n",
      "Alpha = 6000.00\n",
      " Lasso R2 training: 0.04, R2 test: 0.03\n",
      "\n",
      "Alpha = 1000000.00\n",
      " Lasso R2 training: 0.00, R2 test: -0.00\n",
      "\n"
     ]
    }
   ],
   "source": [
    "errors=[]\n",
    "coefs=[]\n",
    "alphas=[-60, 0, 10, 20, 50, 6000, 1000000]\n",
    "for alpha in alphas:\n",
    "    linLasso = Lasso(alpha = alpha).fit(X_train, y_train)\n",
    "    r2_train = linLasso.score(X_train, y_train)\n",
    "    r2_test = linLasso.score(X_test, y_test)\n",
    "    coefs.append(linLasso.coef_)\n",
    "    errors.append(np.mean((linLasso.predict(X_test)-y_test)**2))\n",
    "    print('Alpha = {:.2f}\\n \\\n",
    "Lasso R2 training: {:.2f}, R2 test: {:.2f}\\n'\n",
    "         .format(alpha, r2_train, r2_test))"
   ]
  },
  {
   "cell_type": "markdown",
   "metadata": {},
   "source": [
    "Grid Search on Lasso, we find the same result as the previous test"
   ]
  },
  {
   "cell_type": "code",
   "execution_count": 66,
   "metadata": {},
   "outputs": [
    {
     "name": "stderr",
     "output_type": "stream",
     "text": [
      "C:\\Users\\TRANG THOMAS\\Anaconda\\lib\\site-packages\\sklearn\\linear_model\\_coordinate_descent.py:532: ConvergenceWarning: Objective did not converge. You might want to increase the number of iterations. Duality gap: 1976953163.7291207, tolerance: 198064.4263844421\n",
      "  positive)\n",
      "C:\\Users\\TRANG THOMAS\\Anaconda\\lib\\site-packages\\sklearn\\linear_model\\_coordinate_descent.py:532: ConvergenceWarning: Objective did not converge. You might want to increase the number of iterations. Duality gap: 1983956762.5391922, tolerance: 202219.9535969969\n",
      "  positive)\n",
      "C:\\Users\\TRANG THOMAS\\Anaconda\\lib\\site-packages\\sklearn\\linear_model\\_coordinate_descent.py:532: ConvergenceWarning: Objective did not converge. You might want to increase the number of iterations. Duality gap: 1911205036.791418, tolerance: 191615.72795852792\n",
      "  positive)\n",
      "C:\\Users\\TRANG THOMAS\\Anaconda\\lib\\site-packages\\sklearn\\linear_model\\_coordinate_descent.py:532: ConvergenceWarning: Objective did not converge. You might want to increase the number of iterations. Duality gap: 1994009232.3440142, tolerance: 200123.5302821518\n",
      "  positive)\n",
      "C:\\Users\\TRANG THOMAS\\Anaconda\\lib\\site-packages\\sklearn\\linear_model\\_coordinate_descent.py:532: ConvergenceWarning: Objective did not converge. You might want to increase the number of iterations. Duality gap: 1977290455.7382507, tolerance: 198064.4263844421\n",
      "  positive)\n",
      "C:\\Users\\TRANG THOMAS\\Anaconda\\lib\\site-packages\\sklearn\\linear_model\\_coordinate_descent.py:532: ConvergenceWarning: Objective did not converge. You might want to increase the number of iterations. Duality gap: 1984437904.2801032, tolerance: 202219.9535969969\n",
      "  positive)\n",
      "C:\\Users\\TRANG THOMAS\\Anaconda\\lib\\site-packages\\sklearn\\linear_model\\_coordinate_descent.py:532: ConvergenceWarning: Objective did not converge. You might want to increase the number of iterations. Duality gap: 1911443406.0769663, tolerance: 191615.72795852792\n",
      "  positive)\n",
      "C:\\Users\\TRANG THOMAS\\Anaconda\\lib\\site-packages\\sklearn\\linear_model\\_coordinate_descent.py:532: ConvergenceWarning: Objective did not converge. You might want to increase the number of iterations. Duality gap: 1994356335.245359, tolerance: 200123.5302821518\n",
      "  positive)\n",
      "C:\\Users\\TRANG THOMAS\\Anaconda\\lib\\site-packages\\sklearn\\linear_model\\_coordinate_descent.py:532: ConvergenceWarning: Objective did not converge. You might want to increase the number of iterations. Duality gap: 1977627747.747366, tolerance: 198064.4263844421\n",
      "  positive)\n",
      "C:\\Users\\TRANG THOMAS\\Anaconda\\lib\\site-packages\\sklearn\\linear_model\\_coordinate_descent.py:532: ConvergenceWarning: Objective did not converge. You might want to increase the number of iterations. Duality gap: 1984919046.0205193, tolerance: 202219.9535969969\n",
      "  positive)\n",
      "C:\\Users\\TRANG THOMAS\\Anaconda\\lib\\site-packages\\sklearn\\linear_model\\_coordinate_descent.py:532: ConvergenceWarning: Objective did not converge. You might want to increase the number of iterations. Duality gap: 1911681775.3624425, tolerance: 191615.72795852792\n",
      "  positive)\n",
      "C:\\Users\\TRANG THOMAS\\Anaconda\\lib\\site-packages\\sklearn\\linear_model\\_coordinate_descent.py:532: ConvergenceWarning: Objective did not converge. You might want to increase the number of iterations. Duality gap: 1994703438.1460671, tolerance: 200123.5302821518\n",
      "  positive)\n",
      "C:\\Users\\TRANG THOMAS\\Anaconda\\lib\\site-packages\\sklearn\\linear_model\\_coordinate_descent.py:532: ConvergenceWarning: Objective did not converge. You might want to increase the number of iterations. Duality gap: 1977965039.7565126, tolerance: 198064.4263844421\n",
      "  positive)\n",
      "C:\\Users\\TRANG THOMAS\\Anaconda\\lib\\site-packages\\sklearn\\linear_model\\_coordinate_descent.py:532: ConvergenceWarning: Objective did not converge. You might want to increase the number of iterations. Duality gap: 1985400187.7610002, tolerance: 202219.9535969969\n",
      "  positive)\n",
      "C:\\Users\\TRANG THOMAS\\Anaconda\\lib\\site-packages\\sklearn\\linear_model\\_coordinate_descent.py:532: ConvergenceWarning: Objective did not converge. You might want to increase the number of iterations. Duality gap: 1911920144.6479497, tolerance: 191615.72795852792\n",
      "  positive)\n",
      "C:\\Users\\TRANG THOMAS\\Anaconda\\lib\\site-packages\\sklearn\\linear_model\\_coordinate_descent.py:532: ConvergenceWarning: Objective did not converge. You might want to increase the number of iterations. Duality gap: 1995050541.046657, tolerance: 200123.5302821518\n",
      "  positive)\n",
      "C:\\Users\\TRANG THOMAS\\Anaconda\\lib\\site-packages\\sklearn\\linear_model\\_coordinate_descent.py:532: ConvergenceWarning: Objective did not converge. You might want to increase the number of iterations. Duality gap: 1978302331.7656503, tolerance: 198064.4263844421\n",
      "  positive)\n",
      "C:\\Users\\TRANG THOMAS\\Anaconda\\lib\\site-packages\\sklearn\\linear_model\\_coordinate_descent.py:532: ConvergenceWarning: Objective did not converge. You might want to increase the number of iterations. Duality gap: 1985881329.5008507, tolerance: 202219.9535969969\n",
      "  positive)\n",
      "C:\\Users\\TRANG THOMAS\\Anaconda\\lib\\site-packages\\sklearn\\linear_model\\_coordinate_descent.py:532: ConvergenceWarning: Objective did not converge. You might want to increase the number of iterations. Duality gap: 1912158513.9334316, tolerance: 191615.72795852792\n",
      "  positive)\n",
      "C:\\Users\\TRANG THOMAS\\Anaconda\\lib\\site-packages\\sklearn\\linear_model\\_coordinate_descent.py:532: ConvergenceWarning: Objective did not converge. You might want to increase the number of iterations. Duality gap: 1995397643.947475, tolerance: 200123.5302821518\n",
      "  positive)\n",
      "C:\\Users\\TRANG THOMAS\\Anaconda\\lib\\site-packages\\sklearn\\linear_model\\_coordinate_descent.py:532: ConvergenceWarning: Objective did not converge. You might want to increase the number of iterations. Duality gap: 1978639623.774745, tolerance: 198064.4263844421\n",
      "  positive)\n",
      "C:\\Users\\TRANG THOMAS\\Anaconda\\lib\\site-packages\\sklearn\\linear_model\\_coordinate_descent.py:532: ConvergenceWarning: Objective did not converge. You might want to increase the number of iterations. Duality gap: 1986362471.241846, tolerance: 202219.9535969969\n",
      "  positive)\n",
      "C:\\Users\\TRANG THOMAS\\Anaconda\\lib\\site-packages\\sklearn\\linear_model\\_coordinate_descent.py:532: ConvergenceWarning: Objective did not converge. You might want to increase the number of iterations. Duality gap: 1912396883.2189627, tolerance: 191615.72795852792\n",
      "  positive)\n",
      "C:\\Users\\TRANG THOMAS\\Anaconda\\lib\\site-packages\\sklearn\\linear_model\\_coordinate_descent.py:532: ConvergenceWarning: Objective did not converge. You might want to increase the number of iterations. Duality gap: 1995744746.8481789, tolerance: 200123.5302821518\n",
      "  positive)\n",
      "C:\\Users\\TRANG THOMAS\\Anaconda\\lib\\site-packages\\sklearn\\linear_model\\_coordinate_descent.py:532: ConvergenceWarning: Objective did not converge. You might want to increase the number of iterations. Duality gap: 1978976915.7839384, tolerance: 198064.4263844421\n",
      "  positive)\n",
      "C:\\Users\\TRANG THOMAS\\Anaconda\\lib\\site-packages\\sklearn\\linear_model\\_coordinate_descent.py:532: ConvergenceWarning: Objective did not converge. You might want to increase the number of iterations. Duality gap: 1986843612.981823, tolerance: 202219.9535969969\n",
      "  positive)\n",
      "C:\\Users\\TRANG THOMAS\\Anaconda\\lib\\site-packages\\sklearn\\linear_model\\_coordinate_descent.py:532: ConvergenceWarning: Objective did not converge. You might want to increase the number of iterations. Duality gap: 1912635252.504239, tolerance: 191615.72795852792\n",
      "  positive)\n",
      "C:\\Users\\TRANG THOMAS\\Anaconda\\lib\\site-packages\\sklearn\\linear_model\\_coordinate_descent.py:532: ConvergenceWarning: Objective did not converge. You might want to increase the number of iterations. Duality gap: 1996091849.7489452, tolerance: 200123.5302821518\n",
      "  positive)\n",
      "C:\\Users\\TRANG THOMAS\\Anaconda\\lib\\site-packages\\sklearn\\linear_model\\_coordinate_descent.py:532: ConvergenceWarning: Objective did not converge. You might want to increase the number of iterations. Duality gap: 1979314207.793066, tolerance: 198064.4263844421\n",
      "  positive)\n",
      "C:\\Users\\TRANG THOMAS\\Anaconda\\lib\\site-packages\\sklearn\\linear_model\\_coordinate_descent.py:532: ConvergenceWarning: Objective did not converge. You might want to increase the number of iterations. Duality gap: 1987324754.7226992, tolerance: 202219.9535969969\n",
      "  positive)\n",
      "C:\\Users\\TRANG THOMAS\\Anaconda\\lib\\site-packages\\sklearn\\linear_model\\_coordinate_descent.py:532: ConvergenceWarning: Objective did not converge. You might want to increase the number of iterations. Duality gap: 1912873621.78996, tolerance: 191615.72795852792\n",
      "  positive)\n"
     ]
    },
    {
     "name": "stderr",
     "output_type": "stream",
     "text": [
      "C:\\Users\\TRANG THOMAS\\Anaconda\\lib\\site-packages\\sklearn\\linear_model\\_coordinate_descent.py:532: ConvergenceWarning: Objective did not converge. You might want to increase the number of iterations. Duality gap: 1996438952.6494694, tolerance: 200123.5302821518\n",
      "  positive)\n",
      "C:\\Users\\TRANG THOMAS\\Anaconda\\lib\\site-packages\\sklearn\\linear_model\\_coordinate_descent.py:532: ConvergenceWarning: Objective did not converge. You might want to increase the number of iterations. Duality gap: 1979651499.8021884, tolerance: 198064.4263844421\n",
      "  positive)\n",
      "C:\\Users\\TRANG THOMAS\\Anaconda\\lib\\site-packages\\sklearn\\linear_model\\_coordinate_descent.py:532: ConvergenceWarning: Objective did not converge. You might want to increase the number of iterations. Duality gap: 1987805896.463132, tolerance: 202219.9535969969\n",
      "  positive)\n",
      "C:\\Users\\TRANG THOMAS\\Anaconda\\lib\\site-packages\\sklearn\\linear_model\\_coordinate_descent.py:532: ConvergenceWarning: Objective did not converge. You might want to increase the number of iterations. Duality gap: 1913111991.0754604, tolerance: 191615.72795852792\n",
      "  positive)\n",
      "C:\\Users\\TRANG THOMAS\\Anaconda\\lib\\site-packages\\sklearn\\linear_model\\_coordinate_descent.py:532: ConvergenceWarning: Objective did not converge. You might want to increase the number of iterations. Duality gap: 1996786055.550356, tolerance: 200123.5302821518\n",
      "  positive)\n",
      "C:\\Users\\TRANG THOMAS\\Anaconda\\lib\\site-packages\\sklearn\\linear_model\\_coordinate_descent.py:532: ConvergenceWarning: Objective did not converge. You might want to increase the number of iterations. Duality gap: 1979988791.8113246, tolerance: 198064.4263844421\n",
      "  positive)\n",
      "C:\\Users\\TRANG THOMAS\\Anaconda\\lib\\site-packages\\sklearn\\linear_model\\_coordinate_descent.py:532: ConvergenceWarning: Objective did not converge. You might want to increase the number of iterations. Duality gap: 1988287038.2035546, tolerance: 202219.9535969969\n",
      "  positive)\n",
      "C:\\Users\\TRANG THOMAS\\Anaconda\\lib\\site-packages\\sklearn\\linear_model\\_coordinate_descent.py:532: ConvergenceWarning: Objective did not converge. You might want to increase the number of iterations. Duality gap: 1913350360.3609695, tolerance: 191615.72795852792\n",
      "  positive)\n",
      "C:\\Users\\TRANG THOMAS\\Anaconda\\lib\\site-packages\\sklearn\\linear_model\\_coordinate_descent.py:532: ConvergenceWarning: Objective did not converge. You might want to increase the number of iterations. Duality gap: 1997133158.450779, tolerance: 200123.5302821518\n",
      "  positive)\n",
      "C:\\Users\\TRANG THOMAS\\Anaconda\\lib\\site-packages\\sklearn\\linear_model\\_coordinate_descent.py:532: ConvergenceWarning: Objective did not converge. You might want to increase the number of iterations. Duality gap: 1980326083.8204565, tolerance: 198064.4263844421\n",
      "  positive)\n",
      "C:\\Users\\TRANG THOMAS\\Anaconda\\lib\\site-packages\\sklearn\\linear_model\\_coordinate_descent.py:532: ConvergenceWarning: Objective did not converge. You might want to increase the number of iterations. Duality gap: 1988768179.9439979, tolerance: 202219.9535969969\n",
      "  positive)\n",
      "C:\\Users\\TRANG THOMAS\\Anaconda\\lib\\site-packages\\sklearn\\linear_model\\_coordinate_descent.py:532: ConvergenceWarning: Objective did not converge. You might want to increase the number of iterations. Duality gap: 1913588729.6465006, tolerance: 191615.72795852792\n",
      "  positive)\n",
      "C:\\Users\\TRANG THOMAS\\Anaconda\\lib\\site-packages\\sklearn\\linear_model\\_coordinate_descent.py:532: ConvergenceWarning: Objective did not converge. You might want to increase the number of iterations. Duality gap: 1997480261.3515253, tolerance: 200123.5302821518\n",
      "  positive)\n",
      "C:\\Users\\TRANG THOMAS\\Anaconda\\lib\\site-packages\\sklearn\\linear_model\\_coordinate_descent.py:532: ConvergenceWarning: Objective did not converge. You might want to increase the number of iterations. Duality gap: 1980663375.8296227, tolerance: 198064.4263844421\n",
      "  positive)\n",
      "C:\\Users\\TRANG THOMAS\\Anaconda\\lib\\site-packages\\sklearn\\linear_model\\_coordinate_descent.py:532: ConvergenceWarning: Objective did not converge. You might want to increase the number of iterations. Duality gap: 1989249321.6843777, tolerance: 202219.9535969969\n",
      "  positive)\n",
      "C:\\Users\\TRANG THOMAS\\Anaconda\\lib\\site-packages\\sklearn\\linear_model\\_coordinate_descent.py:532: ConvergenceWarning: Objective did not converge. You might want to increase the number of iterations. Duality gap: 1913827098.9319725, tolerance: 191615.72795852792\n",
      "  positive)\n",
      "C:\\Users\\TRANG THOMAS\\Anaconda\\lib\\site-packages\\sklearn\\linear_model\\_coordinate_descent.py:532: ConvergenceWarning: Objective did not converge. You might want to increase the number of iterations. Duality gap: 1997827364.2523537, tolerance: 200123.5302821518\n",
      "  positive)\n",
      "C:\\Users\\TRANG THOMAS\\Anaconda\\lib\\site-packages\\sklearn\\linear_model\\_coordinate_descent.py:532: ConvergenceWarning: Objective did not converge. You might want to increase the number of iterations. Duality gap: 1981000667.8387523, tolerance: 198064.4263844421\n",
      "  positive)\n",
      "C:\\Users\\TRANG THOMAS\\Anaconda\\lib\\site-packages\\sklearn\\linear_model\\_coordinate_descent.py:532: ConvergenceWarning: Objective did not converge. You might want to increase the number of iterations. Duality gap: 1989730463.4247322, tolerance: 202219.9535969969\n",
      "  positive)\n",
      "C:\\Users\\TRANG THOMAS\\Anaconda\\lib\\site-packages\\sklearn\\linear_model\\_coordinate_descent.py:532: ConvergenceWarning: Objective did not converge. You might want to increase the number of iterations. Duality gap: 1914065468.2174892, tolerance: 191615.72795852792\n",
      "  positive)\n",
      "C:\\Users\\TRANG THOMAS\\Anaconda\\lib\\site-packages\\sklearn\\linear_model\\_coordinate_descent.py:532: ConvergenceWarning: Objective did not converge. You might want to increase the number of iterations. Duality gap: 1998174467.152423, tolerance: 200123.5302821518\n",
      "  positive)\n",
      "C:\\Users\\TRANG THOMAS\\Anaconda\\lib\\site-packages\\sklearn\\linear_model\\_coordinate_descent.py:532: ConvergenceWarning: Objective did not converge. You might want to increase the number of iterations. Duality gap: 1981337959.84791, tolerance: 198064.4263844421\n",
      "  positive)\n",
      "C:\\Users\\TRANG THOMAS\\Anaconda\\lib\\site-packages\\sklearn\\linear_model\\_coordinate_descent.py:532: ConvergenceWarning: Objective did not converge. You might want to increase the number of iterations. Duality gap: 1990211605.1652164, tolerance: 202219.9535969969\n",
      "  positive)\n",
      "C:\\Users\\TRANG THOMAS\\Anaconda\\lib\\site-packages\\sklearn\\linear_model\\_coordinate_descent.py:532: ConvergenceWarning: Objective did not converge. You might want to increase the number of iterations. Duality gap: 1914303837.5027986, tolerance: 191615.72795852792\n",
      "  positive)\n",
      "C:\\Users\\TRANG THOMAS\\Anaconda\\lib\\site-packages\\sklearn\\linear_model\\_coordinate_descent.py:532: ConvergenceWarning: Objective did not converge. You might want to increase the number of iterations. Duality gap: 1998521570.0539026, tolerance: 200123.5302821518\n",
      "  positive)\n",
      "C:\\Users\\TRANG THOMAS\\Anaconda\\lib\\site-packages\\sklearn\\linear_model\\_coordinate_descent.py:532: ConvergenceWarning: Objective did not converge. You might want to increase the number of iterations. Duality gap: 1981675251.856986, tolerance: 198064.4263844421\n",
      "  positive)\n",
      "C:\\Users\\TRANG THOMAS\\Anaconda\\lib\\site-packages\\sklearn\\linear_model\\_coordinate_descent.py:532: ConvergenceWarning: Objective did not converge. You might want to increase the number of iterations. Duality gap: 1990692746.9054747, tolerance: 202219.9535969969\n",
      "  positive)\n",
      "C:\\Users\\TRANG THOMAS\\Anaconda\\lib\\site-packages\\sklearn\\linear_model\\_coordinate_descent.py:532: ConvergenceWarning: Objective did not converge. You might want to increase the number of iterations. Duality gap: 1914542206.7883596, tolerance: 191615.72795852792\n",
      "  positive)\n",
      "C:\\Users\\TRANG THOMAS\\Anaconda\\lib\\site-packages\\sklearn\\linear_model\\_coordinate_descent.py:532: ConvergenceWarning: Objective did not converge. You might want to increase the number of iterations. Duality gap: 1998868672.9537096, tolerance: 200123.5302821518\n",
      "  positive)\n",
      "C:\\Users\\TRANG THOMAS\\Anaconda\\lib\\site-packages\\sklearn\\linear_model\\_coordinate_descent.py:532: ConvergenceWarning: Objective did not converge. You might want to increase the number of iterations. Duality gap: 1982012543.8661437, tolerance: 198064.4263844421\n",
      "  positive)\n",
      "C:\\Users\\TRANG THOMAS\\Anaconda\\lib\\site-packages\\sklearn\\linear_model\\_coordinate_descent.py:532: ConvergenceWarning: Objective did not converge. You might want to increase the number of iterations. Duality gap: 1991173888.6461692, tolerance: 202219.9535969969\n",
      "  positive)\n"
     ]
    },
    {
     "name": "stderr",
     "output_type": "stream",
     "text": [
      "C:\\Users\\TRANG THOMAS\\Anaconda\\lib\\site-packages\\sklearn\\linear_model\\_coordinate_descent.py:532: ConvergenceWarning: Objective did not converge. You might want to increase the number of iterations. Duality gap: 1914780576.0740185, tolerance: 191615.72795852792\n",
      "  positive)\n",
      "C:\\Users\\TRANG THOMAS\\Anaconda\\lib\\site-packages\\sklearn\\linear_model\\_coordinate_descent.py:532: ConvergenceWarning: Objective did not converge. You might want to increase the number of iterations. Duality gap: 1999215775.85531, tolerance: 200123.5302821518\n",
      "  positive)\n",
      "C:\\Users\\TRANG THOMAS\\Anaconda\\lib\\site-packages\\sklearn\\linear_model\\_coordinate_descent.py:532: ConvergenceWarning: Objective did not converge. You might want to increase the number of iterations. Duality gap: 1982349835.875269, tolerance: 198064.4263844421\n",
      "  positive)\n",
      "C:\\Users\\TRANG THOMAS\\Anaconda\\lib\\site-packages\\sklearn\\linear_model\\_coordinate_descent.py:532: ConvergenceWarning: Objective did not converge. You might want to increase the number of iterations. Duality gap: 1991655030.3865948, tolerance: 202219.9535969969\n",
      "  positive)\n",
      "C:\\Users\\TRANG THOMAS\\Anaconda\\lib\\site-packages\\sklearn\\linear_model\\_coordinate_descent.py:532: ConvergenceWarning: Objective did not converge. You might want to increase the number of iterations. Duality gap: 1915018945.3594937, tolerance: 191615.72795852792\n",
      "  positive)\n",
      "C:\\Users\\TRANG THOMAS\\Anaconda\\lib\\site-packages\\sklearn\\linear_model\\_coordinate_descent.py:532: ConvergenceWarning: Objective did not converge. You might want to increase the number of iterations. Duality gap: 1999562878.7557173, tolerance: 200123.5302821518\n",
      "  positive)\n",
      "C:\\Users\\TRANG THOMAS\\Anaconda\\lib\\site-packages\\sklearn\\linear_model\\_coordinate_descent.py:532: ConvergenceWarning: Objective did not converge. You might want to increase the number of iterations. Duality gap: 1982687127.8844008, tolerance: 198064.4263844421\n",
      "  positive)\n",
      "C:\\Users\\TRANG THOMAS\\Anaconda\\lib\\site-packages\\sklearn\\linear_model\\_coordinate_descent.py:532: ConvergenceWarning: Objective did not converge. You might want to increase the number of iterations. Duality gap: 1992136172.127036, tolerance: 202219.9535969969\n",
      "  positive)\n",
      "C:\\Users\\TRANG THOMAS\\Anaconda\\lib\\site-packages\\sklearn\\linear_model\\_coordinate_descent.py:532: ConvergenceWarning: Objective did not converge. You might want to increase the number of iterations. Duality gap: 1915257314.645008, tolerance: 191615.72795852792\n",
      "  positive)\n",
      "C:\\Users\\TRANG THOMAS\\Anaconda\\lib\\site-packages\\sklearn\\linear_model\\_coordinate_descent.py:532: ConvergenceWarning: Objective did not converge. You might want to increase the number of iterations. Duality gap: 1999909981.6566448, tolerance: 200123.5302821518\n",
      "  positive)\n",
      "C:\\Users\\TRANG THOMAS\\Anaconda\\lib\\site-packages\\sklearn\\linear_model\\_coordinate_descent.py:532: ConvergenceWarning: Objective did not converge. You might want to increase the number of iterations. Duality gap: 1983024419.8935685, tolerance: 198064.4263844421\n",
      "  positive)\n",
      "C:\\Users\\TRANG THOMAS\\Anaconda\\lib\\site-packages\\sklearn\\linear_model\\_coordinate_descent.py:532: ConvergenceWarning: Objective did not converge. You might want to increase the number of iterations. Duality gap: 1992617313.8670993, tolerance: 202219.9535969969\n",
      "  positive)\n",
      "C:\\Users\\TRANG THOMAS\\Anaconda\\lib\\site-packages\\sklearn\\linear_model\\_coordinate_descent.py:532: ConvergenceWarning: Objective did not converge. You might want to increase the number of iterations. Duality gap: 1915495683.930428, tolerance: 191615.72795852792\n",
      "  positive)\n",
      "C:\\Users\\TRANG THOMAS\\Anaconda\\lib\\site-packages\\sklearn\\linear_model\\_coordinate_descent.py:532: ConvergenceWarning: Objective did not converge. You might want to increase the number of iterations. Duality gap: 2000257084.557434, tolerance: 200123.5302821518\n",
      "  positive)\n",
      "C:\\Users\\TRANG THOMAS\\Anaconda\\lib\\site-packages\\sklearn\\linear_model\\_coordinate_descent.py:532: ConvergenceWarning: Objective did not converge. You might want to increase the number of iterations. Duality gap: 1983361711.9026852, tolerance: 198064.4263844421\n",
      "  positive)\n",
      "C:\\Users\\TRANG THOMAS\\Anaconda\\lib\\site-packages\\sklearn\\linear_model\\_coordinate_descent.py:532: ConvergenceWarning: Objective did not converge. You might want to increase the number of iterations. Duality gap: 1993098455.607912, tolerance: 202219.9535969969\n",
      "  positive)\n",
      "C:\\Users\\TRANG THOMAS\\Anaconda\\lib\\site-packages\\sklearn\\linear_model\\_coordinate_descent.py:532: ConvergenceWarning: Objective did not converge. You might want to increase the number of iterations. Duality gap: 1915734053.2153091, tolerance: 191615.72795852792\n",
      "  positive)\n",
      "C:\\Users\\TRANG THOMAS\\Anaconda\\lib\\site-packages\\sklearn\\linear_model\\_coordinate_descent.py:532: ConvergenceWarning: Objective did not converge. You might want to increase the number of iterations. Duality gap: 2000604187.4578705, tolerance: 200123.5302821518\n",
      "  positive)\n",
      "C:\\Users\\TRANG THOMAS\\Anaconda\\lib\\site-packages\\sklearn\\linear_model\\_coordinate_descent.py:532: ConvergenceWarning: Objective did not converge. You might want to increase the number of iterations. Duality gap: 1983699003.9118276, tolerance: 198064.4263844421\n",
      "  positive)\n",
      "C:\\Users\\TRANG THOMAS\\Anaconda\\lib\\site-packages\\sklearn\\linear_model\\_coordinate_descent.py:532: ConvergenceWarning: Objective did not converge. You might want to increase the number of iterations. Duality gap: 1993579597.3479114, tolerance: 202219.9535969969\n",
      "  positive)\n",
      "C:\\Users\\TRANG THOMAS\\Anaconda\\lib\\site-packages\\sklearn\\linear_model\\_coordinate_descent.py:532: ConvergenceWarning: Objective did not converge. You might want to increase the number of iterations. Duality gap: 1915972422.5014796, tolerance: 191615.72795852792\n",
      "  positive)\n",
      "C:\\Users\\TRANG THOMAS\\Anaconda\\lib\\site-packages\\sklearn\\linear_model\\_coordinate_descent.py:532: ConvergenceWarning: Objective did not converge. You might want to increase the number of iterations. Duality gap: 2000951290.3581243, tolerance: 200123.5302821518\n",
      "  positive)\n",
      "C:\\Users\\TRANG THOMAS\\Anaconda\\lib\\site-packages\\sklearn\\linear_model\\_coordinate_descent.py:532: ConvergenceWarning: Objective did not converge. You might want to increase the number of iterations. Duality gap: 1984036295.9209619, tolerance: 198064.4263844421\n",
      "  positive)\n",
      "C:\\Users\\TRANG THOMAS\\Anaconda\\lib\\site-packages\\sklearn\\linear_model\\_coordinate_descent.py:532: ConvergenceWarning: Objective did not converge. You might want to increase the number of iterations. Duality gap: 1994060739.088776, tolerance: 202219.9535969969\n",
      "  positive)\n",
      "C:\\Users\\TRANG THOMAS\\Anaconda\\lib\\site-packages\\sklearn\\linear_model\\_coordinate_descent.py:532: ConvergenceWarning: Objective did not converge. You might want to increase the number of iterations. Duality gap: 1916210791.7870364, tolerance: 191615.72795852792\n",
      "  positive)\n",
      "C:\\Users\\TRANG THOMAS\\Anaconda\\lib\\site-packages\\sklearn\\linear_model\\_coordinate_descent.py:532: ConvergenceWarning: Objective did not converge. You might want to increase the number of iterations. Duality gap: 2001298393.2596064, tolerance: 200123.5302821518\n",
      "  positive)\n",
      "C:\\Users\\TRANG THOMAS\\Anaconda\\lib\\site-packages\\sklearn\\linear_model\\_coordinate_descent.py:532: ConvergenceWarning: Objective did not converge. You might want to increase the number of iterations. Duality gap: 1984373587.9297004, tolerance: 198064.4263844421\n",
      "  positive)\n",
      "C:\\Users\\TRANG THOMAS\\Anaconda\\lib\\site-packages\\sklearn\\linear_model\\_coordinate_descent.py:532: ConvergenceWarning: Objective did not converge. You might want to increase the number of iterations. Duality gap: 1994541880.8291922, tolerance: 202219.9535969969\n",
      "  positive)\n",
      "C:\\Users\\TRANG THOMAS\\Anaconda\\lib\\site-packages\\sklearn\\linear_model\\_coordinate_descent.py:532: ConvergenceWarning: Objective did not converge. You might want to increase the number of iterations. Duality gap: 1916449161.072555, tolerance: 191615.72795852792\n",
      "  positive)\n",
      "C:\\Users\\TRANG THOMAS\\Anaconda\\lib\\site-packages\\sklearn\\linear_model\\_coordinate_descent.py:532: ConvergenceWarning: Objective did not converge. You might want to increase the number of iterations. Duality gap: 2001645496.1602812, tolerance: 200123.5302821518\n",
      "  positive)\n",
      "C:\\Users\\TRANG THOMAS\\Anaconda\\lib\\site-packages\\sklearn\\linear_model\\_coordinate_descent.py:532: ConvergenceWarning: Objective did not converge. You might want to increase the number of iterations. Duality gap: 1984710879.9392138, tolerance: 198064.4263844421\n",
      "  positive)\n"
     ]
    },
    {
     "name": "stderr",
     "output_type": "stream",
     "text": [
      "C:\\Users\\TRANG THOMAS\\Anaconda\\lib\\site-packages\\sklearn\\linear_model\\_coordinate_descent.py:532: ConvergenceWarning: Objective did not converge. You might want to increase the number of iterations. Duality gap: 1995023022.569159, tolerance: 202219.9535969969\n",
      "  positive)\n",
      "C:\\Users\\TRANG THOMAS\\Anaconda\\lib\\site-packages\\sklearn\\linear_model\\_coordinate_descent.py:532: ConvergenceWarning: Objective did not converge. You might want to increase the number of iterations. Duality gap: 1916687530.358039, tolerance: 191615.72795852792\n",
      "  positive)\n",
      "C:\\Users\\TRANG THOMAS\\Anaconda\\lib\\site-packages\\sklearn\\linear_model\\_coordinate_descent.py:532: ConvergenceWarning: Objective did not converge. You might want to increase the number of iterations. Duality gap: 2001992599.0606642, tolerance: 200123.5302821518\n",
      "  positive)\n",
      "C:\\Users\\TRANG THOMAS\\Anaconda\\lib\\site-packages\\sklearn\\linear_model\\_coordinate_descent.py:532: ConvergenceWarning: Objective did not converge. You might want to increase the number of iterations. Duality gap: 1985048171.948347, tolerance: 198064.4263844421\n",
      "  positive)\n",
      "C:\\Users\\TRANG THOMAS\\Anaconda\\lib\\site-packages\\sklearn\\linear_model\\_coordinate_descent.py:532: ConvergenceWarning: Objective did not converge. You might want to increase the number of iterations. Duality gap: 1995504164.3100395, tolerance: 202219.9535969969\n",
      "  positive)\n",
      "C:\\Users\\TRANG THOMAS\\Anaconda\\lib\\site-packages\\sklearn\\linear_model\\_coordinate_descent.py:532: ConvergenceWarning: Objective did not converge. You might want to increase the number of iterations. Duality gap: 1916925899.6435857, tolerance: 191615.72795852792\n",
      "  positive)\n",
      "C:\\Users\\TRANG THOMAS\\Anaconda\\lib\\site-packages\\sklearn\\linear_model\\_coordinate_descent.py:532: ConvergenceWarning: Objective did not converge. You might want to increase the number of iterations. Duality gap: 2002339701.9617195, tolerance: 200123.5302821518\n",
      "  positive)\n",
      "C:\\Users\\TRANG THOMAS\\Anaconda\\lib\\site-packages\\sklearn\\linear_model\\_coordinate_descent.py:532: ConvergenceWarning: Objective did not converge. You might want to increase the number of iterations. Duality gap: 1985385463.9575238, tolerance: 198064.4263844421\n",
      "  positive)\n",
      "C:\\Users\\TRANG THOMAS\\Anaconda\\lib\\site-packages\\sklearn\\linear_model\\_coordinate_descent.py:532: ConvergenceWarning: Objective did not converge. You might want to increase the number of iterations. Duality gap: 1995985306.050228, tolerance: 202219.9535969969\n",
      "  positive)\n",
      "C:\\Users\\TRANG THOMAS\\Anaconda\\lib\\site-packages\\sklearn\\linear_model\\_coordinate_descent.py:532: ConvergenceWarning: Objective did not converge. You might want to increase the number of iterations. Duality gap: 1917164268.9290533, tolerance: 191615.72795852792\n",
      "  positive)\n",
      "C:\\Users\\TRANG THOMAS\\Anaconda\\lib\\site-packages\\sklearn\\linear_model\\_coordinate_descent.py:532: ConvergenceWarning: Objective did not converge. You might want to increase the number of iterations. Duality gap: 2002686804.862442, tolerance: 200123.5302821518\n",
      "  positive)\n",
      "C:\\Users\\TRANG THOMAS\\Anaconda\\lib\\site-packages\\sklearn\\linear_model\\_coordinate_descent.py:532: ConvergenceWarning: Objective did not converge. You might want to increase the number of iterations. Duality gap: 1985722755.9666348, tolerance: 198064.4263844421\n",
      "  positive)\n",
      "C:\\Users\\TRANG THOMAS\\Anaconda\\lib\\site-packages\\sklearn\\linear_model\\_coordinate_descent.py:532: ConvergenceWarning: Objective did not converge. You might want to increase the number of iterations. Duality gap: 1996466447.7909412, tolerance: 202219.9535969969\n",
      "  positive)\n",
      "C:\\Users\\TRANG THOMAS\\Anaconda\\lib\\site-packages\\sklearn\\linear_model\\_coordinate_descent.py:532: ConvergenceWarning: Objective did not converge. You might want to increase the number of iterations. Duality gap: 1917402638.2145834, tolerance: 191615.72795852792\n",
      "  positive)\n",
      "C:\\Users\\TRANG THOMAS\\Anaconda\\lib\\site-packages\\sklearn\\linear_model\\_coordinate_descent.py:532: ConvergenceWarning: Objective did not converge. You might want to increase the number of iterations. Duality gap: 2003033907.7629175, tolerance: 200123.5302821518\n",
      "  positive)\n",
      "C:\\Users\\TRANG THOMAS\\Anaconda\\lib\\site-packages\\sklearn\\linear_model\\_coordinate_descent.py:532: ConvergenceWarning: Objective did not converge. You might want to increase the number of iterations. Duality gap: 1986060047.9757767, tolerance: 198064.4263844421\n",
      "  positive)\n",
      "C:\\Users\\TRANG THOMAS\\Anaconda\\lib\\site-packages\\sklearn\\linear_model\\_coordinate_descent.py:532: ConvergenceWarning: Objective did not converge. You might want to increase the number of iterations. Duality gap: 1996947589.5312405, tolerance: 202219.9535969969\n",
      "  positive)\n",
      "C:\\Users\\TRANG THOMAS\\Anaconda\\lib\\site-packages\\sklearn\\linear_model\\_coordinate_descent.py:532: ConvergenceWarning: Objective did not converge. You might want to increase the number of iterations. Duality gap: 1917641007.5000157, tolerance: 191615.72795852792\n",
      "  positive)\n",
      "C:\\Users\\TRANG THOMAS\\Anaconda\\lib\\site-packages\\sklearn\\linear_model\\_coordinate_descent.py:532: ConvergenceWarning: Objective did not converge. You might want to increase the number of iterations. Duality gap: 2003381010.6638165, tolerance: 200123.5302821518\n",
      "  positive)\n",
      "C:\\Users\\TRANG THOMAS\\Anaconda\\lib\\site-packages\\sklearn\\linear_model\\_coordinate_descent.py:532: ConvergenceWarning: Objective did not converge. You might want to increase the number of iterations. Duality gap: 1986397339.9848976, tolerance: 198064.4263844421\n",
      "  positive)\n",
      "C:\\Users\\TRANG THOMAS\\Anaconda\\lib\\site-packages\\sklearn\\linear_model\\_coordinate_descent.py:532: ConvergenceWarning: Objective did not converge. You might want to increase the number of iterations. Duality gap: 1997428731.2716732, tolerance: 202219.9535969969\n",
      "  positive)\n",
      "C:\\Users\\TRANG THOMAS\\Anaconda\\lib\\site-packages\\sklearn\\linear_model\\_coordinate_descent.py:532: ConvergenceWarning: Objective did not converge. You might want to increase the number of iterations. Duality gap: 1917879376.7855692, tolerance: 191615.72795852792\n",
      "  positive)\n",
      "C:\\Users\\TRANG THOMAS\\Anaconda\\lib\\site-packages\\sklearn\\linear_model\\_coordinate_descent.py:532: ConvergenceWarning: Objective did not converge. You might want to increase the number of iterations. Duality gap: 2003728113.5645823, tolerance: 200123.5302821518\n",
      "  positive)\n",
      "C:\\Users\\TRANG THOMAS\\Anaconda\\lib\\site-packages\\sklearn\\linear_model\\_coordinate_descent.py:532: ConvergenceWarning: Objective did not converge. You might want to increase the number of iterations. Duality gap: 1986734631.9940467, tolerance: 198064.4263844421\n",
      "  positive)\n",
      "C:\\Users\\TRANG THOMAS\\Anaconda\\lib\\site-packages\\sklearn\\linear_model\\_coordinate_descent.py:532: ConvergenceWarning: Objective did not converge. You might want to increase the number of iterations. Duality gap: 1997909873.0120606, tolerance: 202219.9535969969\n",
      "  positive)\n",
      "C:\\Users\\TRANG THOMAS\\Anaconda\\lib\\site-packages\\sklearn\\linear_model\\_coordinate_descent.py:532: ConvergenceWarning: Objective did not converge. You might want to increase the number of iterations. Duality gap: 1918117746.0710578, tolerance: 191615.72795852792\n",
      "  positive)\n",
      "C:\\Users\\TRANG THOMAS\\Anaconda\\lib\\site-packages\\sklearn\\linear_model\\_coordinate_descent.py:532: ConvergenceWarning: Objective did not converge. You might want to increase the number of iterations. Duality gap: 2004075216.465303, tolerance: 200123.5302821518\n",
      "  positive)\n",
      "C:\\Users\\TRANG THOMAS\\Anaconda\\lib\\site-packages\\sklearn\\linear_model\\_coordinate_descent.py:532: ConvergenceWarning: Objective did not converge. You might want to increase the number of iterations. Duality gap: 1987071924.003161, tolerance: 198064.4263844421\n",
      "  positive)\n",
      "C:\\Users\\TRANG THOMAS\\Anaconda\\lib\\site-packages\\sklearn\\linear_model\\_coordinate_descent.py:532: ConvergenceWarning: Objective did not converge. You might want to increase the number of iterations. Duality gap: 1998391014.7525477, tolerance: 202219.9535969969\n",
      "  positive)\n",
      "C:\\Users\\TRANG THOMAS\\Anaconda\\lib\\site-packages\\sklearn\\linear_model\\_coordinate_descent.py:532: ConvergenceWarning: Objective did not converge. You might want to increase the number of iterations. Duality gap: 1918356115.3565588, tolerance: 191615.72795852792\n",
      "  positive)\n",
      "C:\\Users\\TRANG THOMAS\\Anaconda\\lib\\site-packages\\sklearn\\linear_model\\_coordinate_descent.py:532: ConvergenceWarning: Objective did not converge. You might want to increase the number of iterations. Duality gap: 2004422319.3660207, tolerance: 200123.5302821518\n",
      "  positive)\n",
      "C:\\Users\\TRANG THOMAS\\Anaconda\\lib\\site-packages\\sklearn\\linear_model\\_coordinate_descent.py:532: ConvergenceWarning: Objective did not converge. You might want to increase the number of iterations. Duality gap: 1987409216.0120463, tolerance: 198064.4263844421\n",
      "  positive)\n"
     ]
    },
    {
     "name": "stderr",
     "output_type": "stream",
     "text": [
      "C:\\Users\\TRANG THOMAS\\Anaconda\\lib\\site-packages\\sklearn\\linear_model\\_coordinate_descent.py:532: ConvergenceWarning: Objective did not converge. You might want to increase the number of iterations. Duality gap: 1998872156.4930725, tolerance: 202219.9535969969\n",
      "  positive)\n",
      "C:\\Users\\TRANG THOMAS\\Anaconda\\lib\\site-packages\\sklearn\\linear_model\\_coordinate_descent.py:532: ConvergenceWarning: Objective did not converge. You might want to increase the number of iterations. Duality gap: 1918594484.6420784, tolerance: 191615.72795852792\n",
      "  positive)\n",
      "C:\\Users\\TRANG THOMAS\\Anaconda\\lib\\site-packages\\sklearn\\linear_model\\_coordinate_descent.py:532: ConvergenceWarning: Objective did not converge. You might want to increase the number of iterations. Duality gap: 2004769422.2666898, tolerance: 200123.5302821518\n",
      "  positive)\n",
      "C:\\Users\\TRANG THOMAS\\Anaconda\\lib\\site-packages\\sklearn\\linear_model\\_coordinate_descent.py:532: ConvergenceWarning: Objective did not converge. You might want to increase the number of iterations. Duality gap: 1987746508.0214443, tolerance: 198064.4263844421\n",
      "  positive)\n",
      "C:\\Users\\TRANG THOMAS\\Anaconda\\lib\\site-packages\\sklearn\\linear_model\\_coordinate_descent.py:532: ConvergenceWarning: Objective did not converge. You might want to increase the number of iterations. Duality gap: 1999353298.2334986, tolerance: 202219.9535969969\n",
      "  positive)\n",
      "C:\\Users\\TRANG THOMAS\\Anaconda\\lib\\site-packages\\sklearn\\linear_model\\_coordinate_descent.py:532: ConvergenceWarning: Objective did not converge. You might want to increase the number of iterations. Duality gap: 1918832853.927577, tolerance: 191615.72795852792\n",
      "  positive)\n",
      "C:\\Users\\TRANG THOMAS\\Anaconda\\lib\\site-packages\\sklearn\\linear_model\\_coordinate_descent.py:532: ConvergenceWarning: Objective did not converge. You might want to increase the number of iterations. Duality gap: 2005116525.1674352, tolerance: 200123.5302821518\n",
      "  positive)\n",
      "C:\\Users\\TRANG THOMAS\\Anaconda\\lib\\site-packages\\sklearn\\linear_model\\_coordinate_descent.py:532: ConvergenceWarning: Objective did not converge. You might want to increase the number of iterations. Duality gap: 1988083800.0305176, tolerance: 198064.4263844421\n",
      "  positive)\n",
      "C:\\Users\\TRANG THOMAS\\Anaconda\\lib\\site-packages\\sklearn\\linear_model\\_coordinate_descent.py:532: ConvergenceWarning: Objective did not converge. You might want to increase the number of iterations. Duality gap: 1999834439.973916, tolerance: 202219.9535969969\n",
      "  positive)\n",
      "C:\\Users\\TRANG THOMAS\\Anaconda\\lib\\site-packages\\sklearn\\linear_model\\_coordinate_descent.py:532: ConvergenceWarning: Objective did not converge. You might want to increase the number of iterations. Duality gap: 1919071223.2128386, tolerance: 191615.72795852792\n",
      "  positive)\n",
      "C:\\Users\\TRANG THOMAS\\Anaconda\\lib\\site-packages\\sklearn\\linear_model\\_coordinate_descent.py:532: ConvergenceWarning: Objective did not converge. You might want to increase the number of iterations. Duality gap: 2005463628.0681672, tolerance: 200123.5302821518\n",
      "  positive)\n",
      "C:\\Users\\TRANG THOMAS\\Anaconda\\lib\\site-packages\\sklearn\\linear_model\\_coordinate_descent.py:532: ConvergenceWarning: Objective did not converge. You might want to increase the number of iterations. Duality gap: 1988421092.0394268, tolerance: 198064.4263844421\n",
      "  positive)\n",
      "C:\\Users\\TRANG THOMAS\\Anaconda\\lib\\site-packages\\sklearn\\linear_model\\_coordinate_descent.py:532: ConvergenceWarning: Objective did not converge. You might want to increase the number of iterations. Duality gap: 2000315581.7142425, tolerance: 202219.9535969969\n",
      "  positive)\n",
      "C:\\Users\\TRANG THOMAS\\Anaconda\\lib\\site-packages\\sklearn\\linear_model\\_coordinate_descent.py:532: ConvergenceWarning: Objective did not converge. You might want to increase the number of iterations. Duality gap: 1919309592.4985814, tolerance: 191615.72795852792\n",
      "  positive)\n",
      "C:\\Users\\TRANG THOMAS\\Anaconda\\lib\\site-packages\\sklearn\\linear_model\\_coordinate_descent.py:532: ConvergenceWarning: Objective did not converge. You might want to increase the number of iterations. Duality gap: 2005810730.9687338, tolerance: 200123.5302821518\n",
      "  positive)\n",
      "C:\\Users\\TRANG THOMAS\\Anaconda\\lib\\site-packages\\sklearn\\linear_model\\_coordinate_descent.py:532: ConvergenceWarning: Objective did not converge. You might want to increase the number of iterations. Duality gap: 1988758384.048833, tolerance: 198064.4263844421\n",
      "  positive)\n",
      "C:\\Users\\TRANG THOMAS\\Anaconda\\lib\\site-packages\\sklearn\\linear_model\\_coordinate_descent.py:532: ConvergenceWarning: Objective did not converge. You might want to increase the number of iterations. Duality gap: 2000796723.4548006, tolerance: 202219.9535969969\n",
      "  positive)\n",
      "C:\\Users\\TRANG THOMAS\\Anaconda\\lib\\site-packages\\sklearn\\linear_model\\_coordinate_descent.py:532: ConvergenceWarning: Objective did not converge. You might want to increase the number of iterations. Duality gap: 1919547961.7840915, tolerance: 191615.72795852792\n",
      "  positive)\n",
      "C:\\Users\\TRANG THOMAS\\Anaconda\\lib\\site-packages\\sklearn\\linear_model\\_coordinate_descent.py:532: ConvergenceWarning: Objective did not converge. You might want to increase the number of iterations. Duality gap: 2006157833.869268, tolerance: 200123.5302821518\n",
      "  positive)\n",
      "C:\\Users\\TRANG THOMAS\\Anaconda\\lib\\site-packages\\sklearn\\linear_model\\_coordinate_descent.py:532: ConvergenceWarning: Objective did not converge. You might want to increase the number of iterations. Duality gap: 1989095676.057949, tolerance: 198064.4263844421\n",
      "  positive)\n",
      "C:\\Users\\TRANG THOMAS\\Anaconda\\lib\\site-packages\\sklearn\\linear_model\\_coordinate_descent.py:532: ConvergenceWarning: Objective did not converge. You might want to increase the number of iterations. Duality gap: 2001277865.195218, tolerance: 202219.9535969969\n",
      "  positive)\n",
      "C:\\Users\\TRANG THOMAS\\Anaconda\\lib\\site-packages\\sklearn\\linear_model\\_coordinate_descent.py:532: ConvergenceWarning: Objective did not converge. You might want to increase the number of iterations. Duality gap: 1919786331.0695739, tolerance: 191615.72795852792\n",
      "  positive)\n",
      "C:\\Users\\TRANG THOMAS\\Anaconda\\lib\\site-packages\\sklearn\\linear_model\\_coordinate_descent.py:532: ConvergenceWarning: Objective did not converge. You might want to increase the number of iterations. Duality gap: 2006504936.7702665, tolerance: 200123.5302821518\n",
      "  positive)\n",
      "C:\\Users\\TRANG THOMAS\\Anaconda\\lib\\site-packages\\sklearn\\linear_model\\_coordinate_descent.py:532: ConvergenceWarning: Objective did not converge. You might want to increase the number of iterations. Duality gap: 1989432968.0670567, tolerance: 198064.4263844421\n",
      "  positive)\n",
      "C:\\Users\\TRANG THOMAS\\Anaconda\\lib\\site-packages\\sklearn\\linear_model\\_coordinate_descent.py:532: ConvergenceWarning: Objective did not converge. You might want to increase the number of iterations. Duality gap: 2001759006.9352884, tolerance: 202219.9535969969\n",
      "  positive)\n",
      "C:\\Users\\TRANG THOMAS\\Anaconda\\lib\\site-packages\\sklearn\\linear_model\\_coordinate_descent.py:532: ConvergenceWarning: Objective did not converge. You might want to increase the number of iterations. Duality gap: 1920024700.3550906, tolerance: 191615.72795852792\n",
      "  positive)\n",
      "C:\\Users\\TRANG THOMAS\\Anaconda\\lib\\site-packages\\sklearn\\linear_model\\_coordinate_descent.py:532: ConvergenceWarning: Objective did not converge. You might want to increase the number of iterations. Duality gap: 2006852039.6707635, tolerance: 200123.5302821518\n",
      "  positive)\n",
      "C:\\Users\\TRANG THOMAS\\Anaconda\\lib\\site-packages\\sklearn\\linear_model\\_coordinate_descent.py:532: ConvergenceWarning: Objective did not converge. You might want to increase the number of iterations. Duality gap: 1989770260.076138, tolerance: 198064.4263844421\n",
      "  positive)\n",
      "C:\\Users\\TRANG THOMAS\\Anaconda\\lib\\site-packages\\sklearn\\linear_model\\_coordinate_descent.py:532: ConvergenceWarning: Objective did not converge. You might want to increase the number of iterations. Duality gap: 2002240148.675673, tolerance: 202219.9535969969\n",
      "  positive)\n",
      "C:\\Users\\TRANG THOMAS\\Anaconda\\lib\\site-packages\\sklearn\\linear_model\\_coordinate_descent.py:532: ConvergenceWarning: Objective did not converge. You might want to increase the number of iterations. Duality gap: 1920263069.640604, tolerance: 191615.72795852792\n",
      "  positive)\n",
      "C:\\Users\\TRANG THOMAS\\Anaconda\\lib\\site-packages\\sklearn\\linear_model\\_coordinate_descent.py:532: ConvergenceWarning: Objective did not converge. You might want to increase the number of iterations. Duality gap: 2007199142.5717063, tolerance: 200123.5302821518\n",
      "  positive)\n",
      "C:\\Users\\TRANG THOMAS\\Anaconda\\lib\\site-packages\\sklearn\\linear_model\\_coordinate_descent.py:532: ConvergenceWarning: Objective did not converge. You might want to increase the number of iterations. Duality gap: 1990107552.0853896, tolerance: 198064.4263844421\n",
      "  positive)\n",
      "C:\\Users\\TRANG THOMAS\\Anaconda\\lib\\site-packages\\sklearn\\linear_model\\_coordinate_descent.py:532: ConvergenceWarning: Objective did not converge. You might want to increase the number of iterations. Duality gap: 2002721290.4160604, tolerance: 202219.9535969969\n",
      "  positive)\n"
     ]
    },
    {
     "name": "stderr",
     "output_type": "stream",
     "text": [
      "C:\\Users\\TRANG THOMAS\\Anaconda\\lib\\site-packages\\sklearn\\linear_model\\_coordinate_descent.py:532: ConvergenceWarning: Objective did not converge. You might want to increase the number of iterations. Duality gap: 1920501438.9258919, tolerance: 191615.72795852792\n",
      "  positive)\n",
      "C:\\Users\\TRANG THOMAS\\Anaconda\\lib\\site-packages\\sklearn\\linear_model\\_coordinate_descent.py:532: ConvergenceWarning: Objective did not converge. You might want to increase the number of iterations. Duality gap: 2007546245.4724226, tolerance: 200123.5302821518\n",
      "  positive)\n",
      "C:\\Users\\TRANG THOMAS\\Anaconda\\lib\\site-packages\\sklearn\\linear_model\\_coordinate_descent.py:532: ConvergenceWarning: Objective did not converge. You might want to increase the number of iterations. Duality gap: 1990444844.0945258, tolerance: 198064.4263844421\n",
      "  positive)\n",
      "C:\\Users\\TRANG THOMAS\\Anaconda\\lib\\site-packages\\sklearn\\linear_model\\_coordinate_descent.py:532: ConvergenceWarning: Objective did not converge. You might want to increase the number of iterations. Duality gap: 2003202432.1570063, tolerance: 202219.9535969969\n",
      "  positive)\n",
      "C:\\Users\\TRANG THOMAS\\Anaconda\\lib\\site-packages\\sklearn\\linear_model\\_coordinate_descent.py:532: ConvergenceWarning: Objective did not converge. You might want to increase the number of iterations. Duality gap: 1920739808.211616, tolerance: 191615.72795852792\n",
      "  positive)\n",
      "C:\\Users\\TRANG THOMAS\\Anaconda\\lib\\site-packages\\sklearn\\linear_model\\_coordinate_descent.py:532: ConvergenceWarning: Objective did not converge. You might want to increase the number of iterations. Duality gap: 2007893348.373127, tolerance: 200123.5302821518\n",
      "  positive)\n",
      "C:\\Users\\TRANG THOMAS\\Anaconda\\lib\\site-packages\\sklearn\\linear_model\\_coordinate_descent.py:532: ConvergenceWarning: Objective did not converge. You might want to increase the number of iterations. Duality gap: 1990782136.1036363, tolerance: 198064.4263844421\n",
      "  positive)\n",
      "C:\\Users\\TRANG THOMAS\\Anaconda\\lib\\site-packages\\sklearn\\linear_model\\_coordinate_descent.py:532: ConvergenceWarning: Objective did not converge. You might want to increase the number of iterations. Duality gap: 2003683573.8970485, tolerance: 202219.9535969969\n",
      "  positive)\n",
      "C:\\Users\\TRANG THOMAS\\Anaconda\\lib\\site-packages\\sklearn\\linear_model\\_coordinate_descent.py:532: ConvergenceWarning: Objective did not converge. You might want to increase the number of iterations. Duality gap: 1920978177.4971128, tolerance: 191615.72795852792\n",
      "  positive)\n",
      "C:\\Users\\TRANG THOMAS\\Anaconda\\lib\\site-packages\\sklearn\\linear_model\\_coordinate_descent.py:532: ConvergenceWarning: Objective did not converge. You might want to increase the number of iterations. Duality gap: 2008240451.2738352, tolerance: 200123.5302821518\n",
      "  positive)\n",
      "C:\\Users\\TRANG THOMAS\\Anaconda\\lib\\site-packages\\sklearn\\linear_model\\_coordinate_descent.py:532: ConvergenceWarning: Objective did not converge. You might want to increase the number of iterations. Duality gap: 1991119428.11279, tolerance: 198064.4263844421\n",
      "  positive)\n",
      "C:\\Users\\TRANG THOMAS\\Anaconda\\lib\\site-packages\\sklearn\\linear_model\\_coordinate_descent.py:532: ConvergenceWarning: Objective did not converge. You might want to increase the number of iterations. Duality gap: 2004164715.6376758, tolerance: 202219.9535969969\n",
      "  positive)\n",
      "C:\\Users\\TRANG THOMAS\\Anaconda\\lib\\site-packages\\sklearn\\linear_model\\_coordinate_descent.py:532: ConvergenceWarning: Objective did not converge. You might want to increase the number of iterations. Duality gap: 1921216546.7825036, tolerance: 191615.72795852792\n",
      "  positive)\n",
      "C:\\Users\\TRANG THOMAS\\Anaconda\\lib\\site-packages\\sklearn\\linear_model\\_coordinate_descent.py:532: ConvergenceWarning: Objective did not converge. You might want to increase the number of iterations. Duality gap: 2008587554.1745515, tolerance: 200123.5302821518\n",
      "  positive)\n",
      "C:\\Users\\TRANG THOMAS\\Anaconda\\lib\\site-packages\\sklearn\\linear_model\\_coordinate_descent.py:532: ConvergenceWarning: Objective did not converge. You might want to increase the number of iterations. Duality gap: 1991456720.1215215, tolerance: 198064.4263844421\n",
      "  positive)\n",
      "C:\\Users\\TRANG THOMAS\\Anaconda\\lib\\site-packages\\sklearn\\linear_model\\_coordinate_descent.py:532: ConvergenceWarning: Objective did not converge. You might want to increase the number of iterations. Duality gap: 2004645857.3782759, tolerance: 202219.9535969969\n",
      "  positive)\n",
      "C:\\Users\\TRANG THOMAS\\Anaconda\\lib\\site-packages\\sklearn\\linear_model\\_coordinate_descent.py:532: ConvergenceWarning: Objective did not converge. You might want to increase the number of iterations. Duality gap: 1921454916.0680408, tolerance: 191615.72795852792\n",
      "  positive)\n",
      "C:\\Users\\TRANG THOMAS\\Anaconda\\lib\\site-packages\\sklearn\\linear_model\\_coordinate_descent.py:532: ConvergenceWarning: Objective did not converge. You might want to increase the number of iterations. Duality gap: 2008934657.0752702, tolerance: 200123.5302821518\n",
      "  positive)\n",
      "C:\\Users\\TRANG THOMAS\\Anaconda\\lib\\site-packages\\sklearn\\linear_model\\_coordinate_descent.py:532: ConvergenceWarning: Objective did not converge. You might want to increase the number of iterations. Duality gap: 1991794012.1310606, tolerance: 198064.4263844421\n",
      "  positive)\n",
      "C:\\Users\\TRANG THOMAS\\Anaconda\\lib\\site-packages\\sklearn\\linear_model\\_coordinate_descent.py:532: ConvergenceWarning: Objective did not converge. You might want to increase the number of iterations. Duality gap: 2005126999.1186996, tolerance: 202219.9535969969\n",
      "  positive)\n",
      "C:\\Users\\TRANG THOMAS\\Anaconda\\lib\\site-packages\\sklearn\\linear_model\\_coordinate_descent.py:532: ConvergenceWarning: Objective did not converge. You might want to increase the number of iterations. Duality gap: 1921693285.353633, tolerance: 191615.72795852792\n",
      "  positive)\n",
      "C:\\Users\\TRANG THOMAS\\Anaconda\\lib\\site-packages\\sklearn\\linear_model\\_coordinate_descent.py:532: ConvergenceWarning: Objective did not converge. You might want to increase the number of iterations. Duality gap: 2009281759.9759912, tolerance: 200123.5302821518\n",
      "  positive)\n",
      "C:\\Users\\TRANG THOMAS\\Anaconda\\lib\\site-packages\\sklearn\\linear_model\\_coordinate_descent.py:532: ConvergenceWarning: Objective did not converge. You might want to increase the number of iterations. Duality gap: 1992131304.1402292, tolerance: 198064.4263844421\n",
      "  positive)\n",
      "C:\\Users\\TRANG THOMAS\\Anaconda\\lib\\site-packages\\sklearn\\linear_model\\_coordinate_descent.py:532: ConvergenceWarning: Objective did not converge. You might want to increase the number of iterations. Duality gap: 2005608140.8591518, tolerance: 202219.9535969969\n",
      "  positive)\n",
      "C:\\Users\\TRANG THOMAS\\Anaconda\\lib\\site-packages\\sklearn\\linear_model\\_coordinate_descent.py:532: ConvergenceWarning: Objective did not converge. You might want to increase the number of iterations. Duality gap: 1921931654.639155, tolerance: 191615.72795852792\n",
      "  positive)\n",
      "C:\\Users\\TRANG THOMAS\\Anaconda\\lib\\site-packages\\sklearn\\linear_model\\_coordinate_descent.py:532: ConvergenceWarning: Objective did not converge. You might want to increase the number of iterations. Duality gap: 2009628862.8765512, tolerance: 200123.5302821518\n",
      "  positive)\n",
      "C:\\Users\\TRANG THOMAS\\Anaconda\\lib\\site-packages\\sklearn\\linear_model\\_coordinate_descent.py:532: ConvergenceWarning: Objective did not converge. You might want to increase the number of iterations. Duality gap: 1992468596.1493263, tolerance: 198064.4263844421\n",
      "  positive)\n",
      "C:\\Users\\TRANG THOMAS\\Anaconda\\lib\\site-packages\\sklearn\\linear_model\\_coordinate_descent.py:532: ConvergenceWarning: Objective did not converge. You might want to increase the number of iterations. Duality gap: 2006089282.5994644, tolerance: 202219.9535969969\n",
      "  positive)\n",
      "C:\\Users\\TRANG THOMAS\\Anaconda\\lib\\site-packages\\sklearn\\linear_model\\_coordinate_descent.py:532: ConvergenceWarning: Objective did not converge. You might want to increase the number of iterations. Duality gap: 1922170023.924644, tolerance: 191615.72795852792\n",
      "  positive)\n",
      "C:\\Users\\TRANG THOMAS\\Anaconda\\lib\\site-packages\\sklearn\\linear_model\\_coordinate_descent.py:532: ConvergenceWarning: Objective did not converge. You might want to increase the number of iterations. Duality gap: 2009975965.7774253, tolerance: 200123.5302821518\n",
      "  positive)\n",
      "C:\\Users\\TRANG THOMAS\\Anaconda\\lib\\site-packages\\sklearn\\linear_model\\_coordinate_descent.py:532: ConvergenceWarning: Objective did not converge. You might want to increase the number of iterations. Duality gap: 1992805888.1584563, tolerance: 198064.4263844421\n",
      "  positive)\n",
      "C:\\Users\\TRANG THOMAS\\Anaconda\\lib\\site-packages\\sklearn\\linear_model\\_coordinate_descent.py:532: ConvergenceWarning: Objective did not converge. You might want to increase the number of iterations. Duality gap: 2006570424.339981, tolerance: 202219.9535969969\n",
      "  positive)\n"
     ]
    },
    {
     "name": "stderr",
     "output_type": "stream",
     "text": [
      "C:\\Users\\TRANG THOMAS\\Anaconda\\lib\\site-packages\\sklearn\\linear_model\\_coordinate_descent.py:532: ConvergenceWarning: Objective did not converge. You might want to increase the number of iterations. Duality gap: 1922408393.2101488, tolerance: 191615.72795852792\n",
      "  positive)\n",
      "C:\\Users\\TRANG THOMAS\\Anaconda\\lib\\site-packages\\sklearn\\linear_model\\_coordinate_descent.py:532: ConvergenceWarning: Objective did not converge. You might want to increase the number of iterations. Duality gap: 2010323068.6779466, tolerance: 200123.5302821518\n",
      "  positive)\n",
      "C:\\Users\\TRANG THOMAS\\Anaconda\\lib\\site-packages\\sklearn\\linear_model\\_coordinate_descent.py:532: ConvergenceWarning: Objective did not converge. You might want to increase the number of iterations. Duality gap: 1993143180.167593, tolerance: 198064.4263844421\n",
      "  positive)\n",
      "C:\\Users\\TRANG THOMAS\\Anaconda\\lib\\site-packages\\sklearn\\linear_model\\_coordinate_descent.py:532: ConvergenceWarning: Objective did not converge. You might want to increase the number of iterations. Duality gap: 2007051566.0804424, tolerance: 202219.9535969969\n",
      "  positive)\n",
      "C:\\Users\\TRANG THOMAS\\Anaconda\\lib\\site-packages\\sklearn\\linear_model\\_coordinate_descent.py:532: ConvergenceWarning: Objective did not converge. You might want to increase the number of iterations. Duality gap: 1922646762.495551, tolerance: 191615.72795852792\n",
      "  positive)\n",
      "C:\\Users\\TRANG THOMAS\\Anaconda\\lib\\site-packages\\sklearn\\linear_model\\_coordinate_descent.py:532: ConvergenceWarning: Objective did not converge. You might want to increase the number of iterations. Duality gap: 2010670171.5788593, tolerance: 200123.5302821518\n",
      "  positive)\n",
      "C:\\Users\\TRANG THOMAS\\Anaconda\\lib\\site-packages\\sklearn\\linear_model\\_coordinate_descent.py:532: ConvergenceWarning: Objective did not converge. You might want to increase the number of iterations. Duality gap: 1993480472.1767435, tolerance: 198064.4263844421\n",
      "  positive)\n",
      "C:\\Users\\TRANG THOMAS\\Anaconda\\lib\\site-packages\\sklearn\\linear_model\\_coordinate_descent.py:532: ConvergenceWarning: Objective did not converge. You might want to increase the number of iterations. Duality gap: 2007532707.8208857, tolerance: 202219.9535969969\n",
      "  positive)\n",
      "C:\\Users\\TRANG THOMAS\\Anaconda\\lib\\site-packages\\sklearn\\linear_model\\_coordinate_descent.py:532: ConvergenceWarning: Objective did not converge. You might want to increase the number of iterations. Duality gap: 1922885131.7811599, tolerance: 191615.72795852792\n",
      "  positive)\n",
      "C:\\Users\\TRANG THOMAS\\Anaconda\\lib\\site-packages\\sklearn\\linear_model\\_coordinate_descent.py:532: ConvergenceWarning: Objective did not converge. You might want to increase the number of iterations. Duality gap: 2011017274.47935, tolerance: 200123.5302821518\n",
      "  positive)\n",
      "C:\\Users\\TRANG THOMAS\\Anaconda\\lib\\site-packages\\sklearn\\linear_model\\_coordinate_descent.py:532: ConvergenceWarning: Objective did not converge. You might want to increase the number of iterations. Duality gap: 1993817764.1858673, tolerance: 198064.4263844421\n",
      "  positive)\n",
      "C:\\Users\\TRANG THOMAS\\Anaconda\\lib\\site-packages\\sklearn\\linear_model\\_coordinate_descent.py:532: ConvergenceWarning: Objective did not converge. You might want to increase the number of iterations. Duality gap: 2008013849.5613346, tolerance: 202219.9535969969\n",
      "  positive)\n",
      "C:\\Users\\TRANG THOMAS\\Anaconda\\lib\\site-packages\\sklearn\\linear_model\\_coordinate_descent.py:532: ConvergenceWarning: Objective did not converge. You might want to increase the number of iterations. Duality gap: 1923123501.0665007, tolerance: 191615.72795852792\n",
      "  positive)\n",
      "C:\\Users\\TRANG THOMAS\\Anaconda\\lib\\site-packages\\sklearn\\linear_model\\_coordinate_descent.py:532: ConvergenceWarning: Objective did not converge. You might want to increase the number of iterations. Duality gap: 2011364377.3802624, tolerance: 200123.5302821518\n",
      "  positive)\n",
      "C:\\Users\\TRANG THOMAS\\Anaconda\\lib\\site-packages\\sklearn\\linear_model\\_coordinate_descent.py:532: ConvergenceWarning: Objective did not converge. You might want to increase the number of iterations. Duality gap: 1994155056.195005, tolerance: 198064.4263844421\n",
      "  positive)\n",
      "C:\\Users\\TRANG THOMAS\\Anaconda\\lib\\site-packages\\sklearn\\linear_model\\_coordinate_descent.py:532: ConvergenceWarning: Objective did not converge. You might want to increase the number of iterations. Duality gap: 2008494991.3014002, tolerance: 202219.9535969969\n",
      "  positive)\n",
      "C:\\Users\\TRANG THOMAS\\Anaconda\\lib\\site-packages\\sklearn\\linear_model\\_coordinate_descent.py:532: ConvergenceWarning: Objective did not converge. You might want to increase the number of iterations. Duality gap: 1923361870.3521671, tolerance: 191615.72795852792\n",
      "  positive)\n",
      "C:\\Users\\TRANG THOMAS\\Anaconda\\lib\\site-packages\\sklearn\\linear_model\\_coordinate_descent.py:532: ConvergenceWarning: Objective did not converge. You might want to increase the number of iterations. Duality gap: 2011711480.2803168, tolerance: 200123.5302821518\n",
      "  positive)\n",
      "C:\\Users\\TRANG THOMAS\\Anaconda\\lib\\site-packages\\sklearn\\linear_model\\_coordinate_descent.py:532: ConvergenceWarning: Objective did not converge. You might want to increase the number of iterations. Duality gap: 1994492348.2040558, tolerance: 198064.4263844421\n",
      "  positive)\n",
      "C:\\Users\\TRANG THOMAS\\Anaconda\\lib\\site-packages\\sklearn\\linear_model\\_coordinate_descent.py:532: ConvergenceWarning: Objective did not converge. You might want to increase the number of iterations. Duality gap: 2008976133.042173, tolerance: 202219.9535969969\n",
      "  positive)\n",
      "C:\\Users\\TRANG THOMAS\\Anaconda\\lib\\site-packages\\sklearn\\linear_model\\_coordinate_descent.py:532: ConvergenceWarning: Objective did not converge. You might want to increase the number of iterations. Duality gap: 1923600239.6373544, tolerance: 191615.72795852792\n",
      "  positive)\n",
      "C:\\Users\\TRANG THOMAS\\Anaconda\\lib\\site-packages\\sklearn\\linear_model\\_coordinate_descent.py:532: ConvergenceWarning: Objective did not converge. You might want to increase the number of iterations. Duality gap: 2012058583.1816788, tolerance: 200123.5302821518\n",
      "  positive)\n",
      "C:\\Users\\TRANG THOMAS\\Anaconda\\lib\\site-packages\\sklearn\\linear_model\\_coordinate_descent.py:532: ConvergenceWarning: Objective did not converge. You might want to increase the number of iterations. Duality gap: 1994829640.212844, tolerance: 198064.4263844421\n",
      "  positive)\n",
      "C:\\Users\\TRANG THOMAS\\Anaconda\\lib\\site-packages\\sklearn\\linear_model\\_coordinate_descent.py:532: ConvergenceWarning: Objective did not converge. You might want to increase the number of iterations. Duality gap: 2009457274.7826157, tolerance: 202219.9535969969\n",
      "  positive)\n",
      "C:\\Users\\TRANG THOMAS\\Anaconda\\lib\\site-packages\\sklearn\\linear_model\\_coordinate_descent.py:532: ConvergenceWarning: Objective did not converge. You might want to increase the number of iterations. Duality gap: 1923838608.92318, tolerance: 191615.72795852792\n",
      "  positive)\n",
      "C:\\Users\\TRANG THOMAS\\Anaconda\\lib\\site-packages\\sklearn\\linear_model\\_coordinate_descent.py:532: ConvergenceWarning: Objective did not converge. You might want to increase the number of iterations. Duality gap: 2012405686.0824065, tolerance: 200123.5302821518\n",
      "  positive)\n",
      "C:\\Users\\TRANG THOMAS\\Anaconda\\lib\\site-packages\\sklearn\\linear_model\\_coordinate_descent.py:532: ConvergenceWarning: Objective did not converge. You might want to increase the number of iterations. Duality gap: 1995166932.2223916, tolerance: 198064.4263844421\n",
      "  positive)\n",
      "C:\\Users\\TRANG THOMAS\\Anaconda\\lib\\site-packages\\sklearn\\linear_model\\_coordinate_descent.py:532: ConvergenceWarning: Objective did not converge. You might want to increase the number of iterations. Duality gap: 2009938416.522737, tolerance: 202219.9535969969\n",
      "  positive)\n",
      "C:\\Users\\TRANG THOMAS\\Anaconda\\lib\\site-packages\\sklearn\\linear_model\\_coordinate_descent.py:532: ConvergenceWarning: Objective did not converge. You might want to increase the number of iterations. Duality gap: 1924076978.208683, tolerance: 191615.72795852792\n",
      "  positive)\n",
      "C:\\Users\\TRANG THOMAS\\Anaconda\\lib\\site-packages\\sklearn\\linear_model\\_coordinate_descent.py:532: ConvergenceWarning: Objective did not converge. You might want to increase the number of iterations. Duality gap: 2012752788.983088, tolerance: 200123.5302821518\n",
      "  positive)\n",
      "C:\\Users\\TRANG THOMAS\\Anaconda\\lib\\site-packages\\sklearn\\linear_model\\_coordinate_descent.py:532: ConvergenceWarning: Objective did not converge. You might want to increase the number of iterations. Duality gap: 1995504224.2315345, tolerance: 198064.4263844421\n",
      "  positive)\n"
     ]
    },
    {
     "name": "stderr",
     "output_type": "stream",
     "text": [
      "C:\\Users\\TRANG THOMAS\\Anaconda\\lib\\site-packages\\sklearn\\linear_model\\_coordinate_descent.py:532: ConvergenceWarning: Objective did not converge. You might want to increase the number of iterations. Duality gap: 2010419558.263473, tolerance: 202219.9535969969\n",
      "  positive)\n",
      "C:\\Users\\TRANG THOMAS\\Anaconda\\lib\\site-packages\\sklearn\\linear_model\\_coordinate_descent.py:532: ConvergenceWarning: Objective did not converge. You might want to increase the number of iterations. Duality gap: 1924315347.4941673, tolerance: 191615.72795852792\n",
      "  positive)\n",
      "C:\\Users\\TRANG THOMAS\\Anaconda\\lib\\site-packages\\sklearn\\linear_model\\_coordinate_descent.py:532: ConvergenceWarning: Objective did not converge. You might want to increase the number of iterations. Duality gap: 2013099891.8838239, tolerance: 200123.5302821518\n",
      "  positive)\n",
      "C:\\Users\\TRANG THOMAS\\Anaconda\\lib\\site-packages\\sklearn\\linear_model\\_coordinate_descent.py:532: ConvergenceWarning: Objective did not converge. You might want to increase the number of iterations. Duality gap: 1995841516.2406883, tolerance: 198064.4263844421\n",
      "  positive)\n",
      "C:\\Users\\TRANG THOMAS\\Anaconda\\lib\\site-packages\\sklearn\\linear_model\\_coordinate_descent.py:532: ConvergenceWarning: Objective did not converge. You might want to increase the number of iterations. Duality gap: 2010900700.0037618, tolerance: 202219.9535969969\n",
      "  positive)\n",
      "C:\\Users\\TRANG THOMAS\\Anaconda\\lib\\site-packages\\sklearn\\linear_model\\_coordinate_descent.py:532: ConvergenceWarning: Objective did not converge. You might want to increase the number of iterations. Duality gap: 1924553716.779192, tolerance: 191615.72795852792\n",
      "  positive)\n",
      "C:\\Users\\TRANG THOMAS\\Anaconda\\lib\\site-packages\\sklearn\\linear_model\\_coordinate_descent.py:532: ConvergenceWarning: Objective did not converge. You might want to increase the number of iterations. Duality gap: 2013446994.784512, tolerance: 200123.5302821518\n",
      "  positive)\n",
      "C:\\Users\\TRANG THOMAS\\Anaconda\\lib\\site-packages\\sklearn\\linear_model\\_coordinate_descent.py:532: ConvergenceWarning: Objective did not converge. You might want to increase the number of iterations. Duality gap: 1996178808.2498136, tolerance: 198064.4263844421\n",
      "  positive)\n",
      "C:\\Users\\TRANG THOMAS\\Anaconda\\lib\\site-packages\\sklearn\\linear_model\\_coordinate_descent.py:532: ConvergenceWarning: Objective did not converge. You might want to increase the number of iterations. Duality gap: 2011381841.7440772, tolerance: 202219.9535969969\n",
      "  positive)\n",
      "C:\\Users\\TRANG THOMAS\\Anaconda\\lib\\site-packages\\sklearn\\linear_model\\_coordinate_descent.py:532: ConvergenceWarning: Objective did not converge. You might want to increase the number of iterations. Duality gap: 1924792086.065189, tolerance: 191615.72795852792\n",
      "  positive)\n",
      "C:\\Users\\TRANG THOMAS\\Anaconda\\lib\\site-packages\\sklearn\\linear_model\\_coordinate_descent.py:532: ConvergenceWarning: Objective did not converge. You might want to increase the number of iterations. Duality gap: 2013794097.6852303, tolerance: 200123.5302821518\n",
      "  positive)\n",
      "C:\\Users\\TRANG THOMAS\\Anaconda\\lib\\site-packages\\sklearn\\linear_model\\_coordinate_descent.py:532: ConvergenceWarning: Objective did not converge. You might want to increase the number of iterations. Duality gap: 1996516100.2589483, tolerance: 198064.4263844421\n",
      "  positive)\n",
      "C:\\Users\\TRANG THOMAS\\Anaconda\\lib\\site-packages\\sklearn\\linear_model\\_coordinate_descent.py:532: ConvergenceWarning: Objective did not converge. You might want to increase the number of iterations. Duality gap: 2011862983.4844995, tolerance: 202219.9535969969\n",
      "  positive)\n",
      "C:\\Users\\TRANG THOMAS\\Anaconda\\lib\\site-packages\\sklearn\\linear_model\\_coordinate_descent.py:532: ConvergenceWarning: Objective did not converge. You might want to increase the number of iterations. Duality gap: 1925030455.3506908, tolerance: 191615.72795852792\n",
      "  positive)\n",
      "C:\\Users\\TRANG THOMAS\\Anaconda\\lib\\site-packages\\sklearn\\linear_model\\_coordinate_descent.py:532: ConvergenceWarning: Objective did not converge. You might want to increase the number of iterations. Duality gap: 2014141200.5859437, tolerance: 200123.5302821518\n",
      "  positive)\n",
      "C:\\Users\\TRANG THOMAS\\Anaconda\\lib\\site-packages\\sklearn\\linear_model\\_coordinate_descent.py:532: ConvergenceWarning: Objective did not converge. You might want to increase the number of iterations. Duality gap: 1996853392.2680836, tolerance: 198064.4263844421\n",
      "  positive)\n",
      "C:\\Users\\TRANG THOMAS\\Anaconda\\lib\\site-packages\\sklearn\\linear_model\\_coordinate_descent.py:532: ConvergenceWarning: Objective did not converge. You might want to increase the number of iterations. Duality gap: 2012344125.2251987, tolerance: 202219.9535969969\n",
      "  positive)\n",
      "C:\\Users\\TRANG THOMAS\\Anaconda\\lib\\site-packages\\sklearn\\linear_model\\_coordinate_descent.py:532: ConvergenceWarning: Objective did not converge. You might want to increase the number of iterations. Duality gap: 1925268824.636201, tolerance: 191615.72795852792\n",
      "  positive)\n",
      "C:\\Users\\TRANG THOMAS\\Anaconda\\lib\\site-packages\\sklearn\\linear_model\\_coordinate_descent.py:532: ConvergenceWarning: Objective did not converge. You might want to increase the number of iterations. Duality gap: 2014488303.4865513, tolerance: 200123.5302821518\n",
      "  positive)\n",
      "C:\\Users\\TRANG THOMAS\\Anaconda\\lib\\site-packages\\sklearn\\linear_model\\_coordinate_descent.py:532: ConvergenceWarning: Objective did not converge. You might want to increase the number of iterations. Duality gap: 1997190684.2772212, tolerance: 198064.4263844421\n",
      "  positive)\n",
      "C:\\Users\\TRANG THOMAS\\Anaconda\\lib\\site-packages\\sklearn\\linear_model\\_coordinate_descent.py:532: ConvergenceWarning: Objective did not converge. You might want to increase the number of iterations. Duality gap: 2012825266.9655542, tolerance: 202219.9535969969\n",
      "  positive)\n",
      "C:\\Users\\TRANG THOMAS\\Anaconda\\lib\\site-packages\\sklearn\\linear_model\\_coordinate_descent.py:532: ConvergenceWarning: Objective did not converge. You might want to increase the number of iterations. Duality gap: 1925507193.921691, tolerance: 191615.72795852792\n",
      "  positive)\n",
      "C:\\Users\\TRANG THOMAS\\Anaconda\\lib\\site-packages\\sklearn\\linear_model\\_coordinate_descent.py:532: ConvergenceWarning: Objective did not converge. You might want to increase the number of iterations. Duality gap: 2014835406.3871217, tolerance: 200123.5302821518\n",
      "  positive)\n",
      "C:\\Users\\TRANG THOMAS\\Anaconda\\lib\\site-packages\\sklearn\\linear_model\\_coordinate_descent.py:532: ConvergenceWarning: Objective did not converge. You might want to increase the number of iterations. Duality gap: 1997527976.286355, tolerance: 198064.4263844421\n",
      "  positive)\n",
      "C:\\Users\\TRANG THOMAS\\Anaconda\\lib\\site-packages\\sklearn\\linear_model\\_coordinate_descent.py:532: ConvergenceWarning: Objective did not converge. You might want to increase the number of iterations. Duality gap: 2013306408.7058954, tolerance: 202219.9535969969\n",
      "  positive)\n",
      "C:\\Users\\TRANG THOMAS\\Anaconda\\lib\\site-packages\\sklearn\\linear_model\\_coordinate_descent.py:532: ConvergenceWarning: Objective did not converge. You might want to increase the number of iterations. Duality gap: 1925745563.207181, tolerance: 191615.72795852792\n",
      "  positive)\n",
      "C:\\Users\\TRANG THOMAS\\Anaconda\\lib\\site-packages\\sklearn\\linear_model\\_coordinate_descent.py:532: ConvergenceWarning: Objective did not converge. You might want to increase the number of iterations. Duality gap: 2015182509.2880664, tolerance: 200123.5302821518\n",
      "  positive)\n",
      "C:\\Users\\TRANG THOMAS\\Anaconda\\lib\\site-packages\\sklearn\\linear_model\\_coordinate_descent.py:532: ConvergenceWarning: Objective did not converge. You might want to increase the number of iterations. Duality gap: 1997865268.2955003, tolerance: 198064.4263844421\n",
      "  positive)\n",
      "C:\\Users\\TRANG THOMAS\\Anaconda\\lib\\site-packages\\sklearn\\linear_model\\_coordinate_descent.py:532: ConvergenceWarning: Objective did not converge. You might want to increase the number of iterations. Duality gap: 2013787550.4464905, tolerance: 202219.9535969969\n",
      "  positive)\n",
      "C:\\Users\\TRANG THOMAS\\Anaconda\\lib\\site-packages\\sklearn\\linear_model\\_coordinate_descent.py:532: ConvergenceWarning: Objective did not converge. You might want to increase the number of iterations. Duality gap: 1925983932.4927113, tolerance: 191615.72795852792\n",
      "  positive)\n",
      "C:\\Users\\TRANG THOMAS\\Anaconda\\lib\\site-packages\\sklearn\\linear_model\\_coordinate_descent.py:532: ConvergenceWarning: Objective did not converge. You might want to increase the number of iterations. Duality gap: 2015529612.188726, tolerance: 200123.5302821518\n",
      "  positive)\n",
      "C:\\Users\\TRANG THOMAS\\Anaconda\\lib\\site-packages\\sklearn\\linear_model\\_coordinate_descent.py:532: ConvergenceWarning: Objective did not converge. You might want to increase the number of iterations. Duality gap: 1998202560.3044186, tolerance: 198064.4263844421\n",
      "  positive)\n"
     ]
    },
    {
     "name": "stderr",
     "output_type": "stream",
     "text": [
      "C:\\Users\\TRANG THOMAS\\Anaconda\\lib\\site-packages\\sklearn\\linear_model\\_coordinate_descent.py:532: ConvergenceWarning: Objective did not converge. You might want to increase the number of iterations. Duality gap: 2014268692.1869187, tolerance: 202219.9535969969\n",
      "  positive)\n",
      "C:\\Users\\TRANG THOMAS\\Anaconda\\lib\\site-packages\\sklearn\\linear_model\\_coordinate_descent.py:532: ConvergenceWarning: Objective did not converge. You might want to increase the number of iterations. Duality gap: 1926222301.77821, tolerance: 191615.72795852792\n",
      "  positive)\n",
      "C:\\Users\\TRANG THOMAS\\Anaconda\\lib\\site-packages\\sklearn\\linear_model\\_coordinate_descent.py:532: ConvergenceWarning: Objective did not converge. You might want to increase the number of iterations. Duality gap: 2015876715.0893116, tolerance: 200123.5302821518\n",
      "  positive)\n",
      "C:\\Users\\TRANG THOMAS\\Anaconda\\lib\\site-packages\\sklearn\\linear_model\\_coordinate_descent.py:532: ConvergenceWarning: Objective did not converge. You might want to increase the number of iterations. Duality gap: 1998539852.3137782, tolerance: 198064.4263844421\n",
      "  positive)\n",
      "C:\\Users\\TRANG THOMAS\\Anaconda\\lib\\site-packages\\sklearn\\linear_model\\_coordinate_descent.py:532: ConvergenceWarning: Objective did not converge. You might want to increase the number of iterations. Duality gap: 2014749833.9273715, tolerance: 202219.9535969969\n",
      "  positive)\n",
      "C:\\Users\\TRANG THOMAS\\Anaconda\\lib\\site-packages\\sklearn\\linear_model\\_coordinate_descent.py:532: ConvergenceWarning: Objective did not converge. You might want to increase the number of iterations. Duality gap: 1926460671.0637236, tolerance: 191615.72795852792\n",
      "  positive)\n",
      "C:\\Users\\TRANG THOMAS\\Anaconda\\lib\\site-packages\\sklearn\\linear_model\\_coordinate_descent.py:532: ConvergenceWarning: Objective did not converge. You might want to increase the number of iterations. Duality gap: 2016223817.9897995, tolerance: 200123.5302821518\n",
      "  positive)\n",
      "C:\\Users\\TRANG THOMAS\\Anaconda\\lib\\site-packages\\sklearn\\linear_model\\_coordinate_descent.py:532: ConvergenceWarning: Objective did not converge. You might want to increase the number of iterations. Duality gap: 1998877144.3229027, tolerance: 198064.4263844421\n",
      "  positive)\n",
      "C:\\Users\\TRANG THOMAS\\Anaconda\\lib\\site-packages\\sklearn\\linear_model\\_coordinate_descent.py:532: ConvergenceWarning: Objective did not converge. You might want to increase the number of iterations. Duality gap: 2015230975.6674757, tolerance: 202219.9535969969\n",
      "  positive)\n",
      "C:\\Users\\TRANG THOMAS\\Anaconda\\lib\\site-packages\\sklearn\\linear_model\\_coordinate_descent.py:532: ConvergenceWarning: Objective did not converge. You might want to increase the number of iterations. Duality gap: 1926699040.3491955, tolerance: 191615.72795852792\n",
      "  positive)\n",
      "C:\\Users\\TRANG THOMAS\\Anaconda\\lib\\site-packages\\sklearn\\linear_model\\_coordinate_descent.py:532: ConvergenceWarning: Objective did not converge. You might want to increase the number of iterations. Duality gap: 2016570920.8909197, tolerance: 200123.5302821518\n",
      "  positive)\n",
      "C:\\Users\\TRANG THOMAS\\Anaconda\\lib\\site-packages\\sklearn\\linear_model\\_coordinate_descent.py:532: ConvergenceWarning: Objective did not converge. You might want to increase the number of iterations. Duality gap: 1999214436.332029, tolerance: 198064.4263844421\n",
      "  positive)\n",
      "C:\\Users\\TRANG THOMAS\\Anaconda\\lib\\site-packages\\sklearn\\linear_model\\_coordinate_descent.py:532: ConvergenceWarning: Objective did not converge. You might want to increase the number of iterations. Duality gap: 2015712117.408238, tolerance: 202219.9535969969\n",
      "  positive)\n",
      "C:\\Users\\TRANG THOMAS\\Anaconda\\lib\\site-packages\\sklearn\\linear_model\\_coordinate_descent.py:532: ConvergenceWarning: Objective did not converge. You might want to increase the number of iterations. Duality gap: 1926937409.634713, tolerance: 191615.72795852792\n",
      "  positive)\n",
      "C:\\Users\\TRANG THOMAS\\Anaconda\\lib\\site-packages\\sklearn\\linear_model\\_coordinate_descent.py:532: ConvergenceWarning: Objective did not converge. You might want to increase the number of iterations. Duality gap: 2016918023.7914143, tolerance: 200123.5302821518\n",
      "  positive)\n",
      "C:\\Users\\TRANG THOMAS\\Anaconda\\lib\\site-packages\\sklearn\\linear_model\\_coordinate_descent.py:532: ConvergenceWarning: Objective did not converge. You might want to increase the number of iterations. Duality gap: 1999551728.3411903, tolerance: 198064.4263844421\n",
      "  positive)\n",
      "C:\\Users\\TRANG THOMAS\\Anaconda\\lib\\site-packages\\sklearn\\linear_model\\_coordinate_descent.py:532: ConvergenceWarning: Objective did not converge. You might want to increase the number of iterations. Duality gap: 2016193259.1484923, tolerance: 202219.9535969969\n",
      "  positive)\n",
      "C:\\Users\\TRANG THOMAS\\Anaconda\\lib\\site-packages\\sklearn\\linear_model\\_coordinate_descent.py:532: ConvergenceWarning: Objective did not converge. You might want to increase the number of iterations. Duality gap: 1927175778.9202356, tolerance: 191615.72795852792\n",
      "  positive)\n",
      "C:\\Users\\TRANG THOMAS\\Anaconda\\lib\\site-packages\\sklearn\\linear_model\\_coordinate_descent.py:532: ConvergenceWarning: Objective did not converge. You might want to increase the number of iterations. Duality gap: 2017265126.6923418, tolerance: 200123.5302821518\n",
      "  positive)\n",
      "C:\\Users\\TRANG THOMAS\\Anaconda\\lib\\site-packages\\sklearn\\linear_model\\_coordinate_descent.py:532: ConvergenceWarning: Objective did not converge. You might want to increase the number of iterations. Duality gap: 1999889020.3502707, tolerance: 198064.4263844421\n",
      "  positive)\n",
      "C:\\Users\\TRANG THOMAS\\Anaconda\\lib\\site-packages\\sklearn\\linear_model\\_coordinate_descent.py:532: ConvergenceWarning: Objective did not converge. You might want to increase the number of iterations. Duality gap: 2016674400.8890972, tolerance: 202219.9535969969\n",
      "  positive)\n",
      "C:\\Users\\TRANG THOMAS\\Anaconda\\lib\\site-packages\\sklearn\\linear_model\\_coordinate_descent.py:532: ConvergenceWarning: Objective did not converge. You might want to increase the number of iterations. Duality gap: 1927414148.205733, tolerance: 191615.72795852792\n",
      "  positive)\n",
      "C:\\Users\\TRANG THOMAS\\Anaconda\\lib\\site-packages\\sklearn\\linear_model\\_coordinate_descent.py:532: ConvergenceWarning: Objective did not converge. You might want to increase the number of iterations. Duality gap: 2017612229.5930872, tolerance: 200123.5302821518\n",
      "  positive)\n",
      "C:\\Users\\TRANG THOMAS\\Anaconda\\lib\\site-packages\\sklearn\\linear_model\\_coordinate_descent.py:532: ConvergenceWarning: Objective did not converge. You might want to increase the number of iterations. Duality gap: 2000226312.3594327, tolerance: 198064.4263844421\n",
      "  positive)\n",
      "C:\\Users\\TRANG THOMAS\\Anaconda\\lib\\site-packages\\sklearn\\linear_model\\_coordinate_descent.py:532: ConvergenceWarning: Objective did not converge. You might want to increase the number of iterations. Duality gap: 2017155542.6295514, tolerance: 202219.9535969969\n",
      "  positive)\n",
      "C:\\Users\\TRANG THOMAS\\Anaconda\\lib\\site-packages\\sklearn\\linear_model\\_coordinate_descent.py:532: ConvergenceWarning: Objective did not converge. You might want to increase the number of iterations. Duality gap: 1927652517.491243, tolerance: 191615.72795852792\n",
      "  positive)\n",
      "C:\\Users\\TRANG THOMAS\\Anaconda\\lib\\site-packages\\sklearn\\linear_model\\_coordinate_descent.py:532: ConvergenceWarning: Objective did not converge. You might want to increase the number of iterations. Duality gap: 2017959332.4937062, tolerance: 200123.5302821518\n",
      "  positive)\n",
      "C:\\Users\\TRANG THOMAS\\Anaconda\\lib\\site-packages\\sklearn\\linear_model\\_coordinate_descent.py:532: ConvergenceWarning: Objective did not converge. You might want to increase the number of iterations. Duality gap: 2000563604.368529, tolerance: 198064.4263844421\n",
      "  positive)\n",
      "C:\\Users\\TRANG THOMAS\\Anaconda\\lib\\site-packages\\sklearn\\linear_model\\_coordinate_descent.py:532: ConvergenceWarning: Objective did not converge. You might want to increase the number of iterations. Duality gap: 2017636684.369966, tolerance: 202219.9535969969\n",
      "  positive)\n",
      "C:\\Users\\TRANG THOMAS\\Anaconda\\lib\\site-packages\\sklearn\\linear_model\\_coordinate_descent.py:532: ConvergenceWarning: Objective did not converge. You might want to increase the number of iterations. Duality gap: 1927890886.7767467, tolerance: 191615.72795852792\n",
      "  positive)\n",
      "C:\\Users\\TRANG THOMAS\\Anaconda\\lib\\site-packages\\sklearn\\linear_model\\_coordinate_descent.py:532: ConvergenceWarning: Objective did not converge. You might want to increase the number of iterations. Duality gap: 2018306435.3945093, tolerance: 200123.5302821518\n",
      "  positive)\n"
     ]
    },
    {
     "name": "stderr",
     "output_type": "stream",
     "text": [
      "C:\\Users\\TRANG THOMAS\\Anaconda\\lib\\site-packages\\sklearn\\linear_model\\_coordinate_descent.py:532: ConvergenceWarning: Objective did not converge. You might want to increase the number of iterations. Duality gap: 2000900896.377712, tolerance: 198064.4263844421\n",
      "  positive)\n",
      "C:\\Users\\TRANG THOMAS\\Anaconda\\lib\\site-packages\\sklearn\\linear_model\\_coordinate_descent.py:532: ConvergenceWarning: Objective did not converge. You might want to increase the number of iterations. Duality gap: 2018117826.1103954, tolerance: 202219.9535969969\n",
      "  positive)\n",
      "C:\\Users\\TRANG THOMAS\\Anaconda\\lib\\site-packages\\sklearn\\linear_model\\_coordinate_descent.py:532: ConvergenceWarning: Objective did not converge. You might want to increase the number of iterations. Duality gap: 1928129256.0622628, tolerance: 191615.72795852792\n",
      "  positive)\n",
      "C:\\Users\\TRANG THOMAS\\Anaconda\\lib\\site-packages\\sklearn\\linear_model\\_coordinate_descent.py:532: ConvergenceWarning: Objective did not converge. You might want to increase the number of iterations. Duality gap: 2018653538.2948518, tolerance: 200123.5302821518\n",
      "  positive)\n",
      "C:\\Users\\TRANG THOMAS\\Anaconda\\lib\\site-packages\\sklearn\\linear_model\\_coordinate_descent.py:532: ConvergenceWarning: Objective did not converge. You might want to increase the number of iterations. Duality gap: 2001238188.3868418, tolerance: 198064.4263844421\n",
      "  positive)\n",
      "C:\\Users\\TRANG THOMAS\\Anaconda\\lib\\site-packages\\sklearn\\linear_model\\_coordinate_descent.py:532: ConvergenceWarning: Objective did not converge. You might want to increase the number of iterations. Duality gap: 2018598967.8508377, tolerance: 202219.9535969969\n",
      "  positive)\n",
      "C:\\Users\\TRANG THOMAS\\Anaconda\\lib\\site-packages\\sklearn\\linear_model\\_coordinate_descent.py:532: ConvergenceWarning: Objective did not converge. You might want to increase the number of iterations. Duality gap: 1928367625.3477497, tolerance: 191615.72795852792\n",
      "  positive)\n",
      "C:\\Users\\TRANG THOMAS\\Anaconda\\lib\\site-packages\\sklearn\\linear_model\\_coordinate_descent.py:532: ConvergenceWarning: Objective did not converge. You might want to increase the number of iterations. Duality gap: 2019000641.1959095, tolerance: 200123.5302821518\n",
      "  positive)\n",
      "C:\\Users\\TRANG THOMAS\\Anaconda\\lib\\site-packages\\sklearn\\linear_model\\_coordinate_descent.py:532: ConvergenceWarning: Objective did not converge. You might want to increase the number of iterations. Duality gap: 2001575480.3959887, tolerance: 198064.4263844421\n",
      "  positive)\n",
      "C:\\Users\\TRANG THOMAS\\Anaconda\\lib\\site-packages\\sklearn\\linear_model\\_coordinate_descent.py:532: ConvergenceWarning: Objective did not converge. You might want to increase the number of iterations. Duality gap: 2019080109.591291, tolerance: 202219.9535969969\n",
      "  positive)\n",
      "C:\\Users\\TRANG THOMAS\\Anaconda\\lib\\site-packages\\sklearn\\linear_model\\_coordinate_descent.py:532: ConvergenceWarning: Objective did not converge. You might want to increase the number of iterations. Duality gap: 1928605994.6332762, tolerance: 191615.72795852792\n",
      "  positive)\n",
      "C:\\Users\\TRANG THOMAS\\Anaconda\\lib\\site-packages\\sklearn\\linear_model\\_coordinate_descent.py:532: ConvergenceWarning: Objective did not converge. You might want to increase the number of iterations. Duality gap: 2019347744.0966392, tolerance: 200123.5302821518\n",
      "  positive)\n",
      "C:\\Users\\TRANG THOMAS\\Anaconda\\lib\\site-packages\\sklearn\\linear_model\\_coordinate_descent.py:532: ConvergenceWarning: Objective did not converge. You might want to increase the number of iterations. Duality gap: 2001912772.4051197, tolerance: 198064.4263844421\n",
      "  positive)\n",
      "C:\\Users\\TRANG THOMAS\\Anaconda\\lib\\site-packages\\sklearn\\linear_model\\_coordinate_descent.py:532: ConvergenceWarning: Objective did not converge. You might want to increase the number of iterations. Duality gap: 2019561251.3315382, tolerance: 202219.9535969969\n",
      "  positive)\n",
      "C:\\Users\\TRANG THOMAS\\Anaconda\\lib\\site-packages\\sklearn\\linear_model\\_coordinate_descent.py:532: ConvergenceWarning: Objective did not converge. You might want to increase the number of iterations. Duality gap: 1928844363.918776, tolerance: 191615.72795852792\n",
      "  positive)\n",
      "C:\\Users\\TRANG THOMAS\\Anaconda\\lib\\site-packages\\sklearn\\linear_model\\_coordinate_descent.py:532: ConvergenceWarning: Objective did not converge. You might want to increase the number of iterations. Duality gap: 2019694846.9973607, tolerance: 200123.5302821518\n",
      "  positive)\n",
      "C:\\Users\\TRANG THOMAS\\Anaconda\\lib\\site-packages\\sklearn\\linear_model\\_coordinate_descent.py:532: ConvergenceWarning: Objective did not converge. You might want to increase the number of iterations. Duality gap: 2002250064.414237, tolerance: 198064.4263844421\n",
      "  positive)\n",
      "C:\\Users\\TRANG THOMAS\\Anaconda\\lib\\site-packages\\sklearn\\linear_model\\_coordinate_descent.py:532: ConvergenceWarning: Objective did not converge. You might want to increase the number of iterations. Duality gap: 2020042393.0721211, tolerance: 202219.9535969969\n",
      "  positive)\n",
      "C:\\Users\\TRANG THOMAS\\Anaconda\\lib\\site-packages\\sklearn\\linear_model\\_coordinate_descent.py:532: ConvergenceWarning: Objective did not converge. You might want to increase the number of iterations. Duality gap: 1929082733.2042599, tolerance: 191615.72795852792\n",
      "  positive)\n",
      "C:\\Users\\TRANG THOMAS\\Anaconda\\lib\\site-packages\\sklearn\\linear_model\\_coordinate_descent.py:532: ConvergenceWarning: Objective did not converge. You might want to increase the number of iterations. Duality gap: 2020041949.8979833, tolerance: 200123.5302821518\n",
      "  positive)\n",
      "C:\\Users\\TRANG THOMAS\\Anaconda\\lib\\site-packages\\sklearn\\linear_model\\_coordinate_descent.py:532: ConvergenceWarning: Objective did not converge. You might want to increase the number of iterations. Duality gap: 2002587356.4233785, tolerance: 198064.4263844421\n",
      "  positive)\n",
      "C:\\Users\\TRANG THOMAS\\Anaconda\\lib\\site-packages\\sklearn\\linear_model\\_coordinate_descent.py:532: ConvergenceWarning: Objective did not converge. You might want to increase the number of iterations. Duality gap: 2020523534.8123307, tolerance: 202219.9535969969\n",
      "  positive)\n",
      "C:\\Users\\TRANG THOMAS\\Anaconda\\lib\\site-packages\\sklearn\\linear_model\\_coordinate_descent.py:532: ConvergenceWarning: Objective did not converge. You might want to increase the number of iterations. Duality gap: 1929321102.4897525, tolerance: 191615.72795852792\n",
      "  positive)\n",
      "C:\\Users\\TRANG THOMAS\\Anaconda\\lib\\site-packages\\sklearn\\linear_model\\_coordinate_descent.py:532: ConvergenceWarning: Objective did not converge. You might want to increase the number of iterations. Duality gap: 2020389052.798655, tolerance: 200123.5302821518\n",
      "  positive)\n",
      "C:\\Users\\TRANG THOMAS\\Anaconda\\lib\\site-packages\\sklearn\\linear_model\\_coordinate_descent.py:532: ConvergenceWarning: Objective did not converge. You might want to increase the number of iterations. Duality gap: 2002924648.4325335, tolerance: 198064.4263844421\n",
      "  positive)\n",
      "C:\\Users\\TRANG THOMAS\\Anaconda\\lib\\site-packages\\sklearn\\linear_model\\_coordinate_descent.py:532: ConvergenceWarning: Objective did not converge. You might want to increase the number of iterations. Duality gap: 2021004676.552521, tolerance: 202219.9535969969\n",
      "  positive)\n",
      "C:\\Users\\TRANG THOMAS\\Anaconda\\lib\\site-packages\\sklearn\\linear_model\\_coordinate_descent.py:532: ConvergenceWarning: Objective did not converge. You might want to increase the number of iterations. Duality gap: 1929559471.775278, tolerance: 191615.72795852792\n",
      "  positive)\n",
      "C:\\Users\\TRANG THOMAS\\Anaconda\\lib\\site-packages\\sklearn\\linear_model\\_coordinate_descent.py:532: ConvergenceWarning: Objective did not converge. You might want to increase the number of iterations. Duality gap: 2020736155.6995072, tolerance: 200123.5302821518\n",
      "  positive)\n",
      "C:\\Users\\TRANG THOMAS\\Anaconda\\lib\\site-packages\\sklearn\\linear_model\\_coordinate_descent.py:532: ConvergenceWarning: Objective did not converge. You might want to increase the number of iterations. Duality gap: 2003261940.441547, tolerance: 198064.4263844421\n",
      "  positive)\n",
      "C:\\Users\\TRANG THOMAS\\Anaconda\\lib\\site-packages\\sklearn\\linear_model\\_coordinate_descent.py:532: ConvergenceWarning: Objective did not converge. You might want to increase the number of iterations. Duality gap: 2021485818.2932546, tolerance: 202219.9535969969\n",
      "  positive)\n",
      "C:\\Users\\TRANG THOMAS\\Anaconda\\lib\\site-packages\\sklearn\\linear_model\\_coordinate_descent.py:532: ConvergenceWarning: Objective did not converge. You might want to increase the number of iterations. Duality gap: 1929797841.0607805, tolerance: 191615.72795852792\n",
      "  positive)\n"
     ]
    },
    {
     "name": "stderr",
     "output_type": "stream",
     "text": [
      "C:\\Users\\TRANG THOMAS\\Anaconda\\lib\\site-packages\\sklearn\\linear_model\\_coordinate_descent.py:532: ConvergenceWarning: Objective did not converge. You might want to increase the number of iterations. Duality gap: 2021083258.600184, tolerance: 200123.5302821518\n",
      "  positive)\n",
      "C:\\Users\\TRANG THOMAS\\Anaconda\\lib\\site-packages\\sklearn\\linear_model\\_coordinate_descent.py:532: ConvergenceWarning: Objective did not converge. You might want to increase the number of iterations. Duality gap: 2003599232.4507952, tolerance: 198064.4263844421\n",
      "  positive)\n",
      "C:\\Users\\TRANG THOMAS\\Anaconda\\lib\\site-packages\\sklearn\\linear_model\\_coordinate_descent.py:532: ConvergenceWarning: Objective did not converge. You might want to increase the number of iterations. Duality gap: 2021966960.0338368, tolerance: 202219.9535969969\n",
      "  positive)\n",
      "C:\\Users\\TRANG THOMAS\\Anaconda\\lib\\site-packages\\sklearn\\linear_model\\_coordinate_descent.py:532: ConvergenceWarning: Objective did not converge. You might want to increase the number of iterations. Duality gap: 1930036210.3462973, tolerance: 191615.72795852792\n",
      "  positive)\n",
      "C:\\Users\\TRANG THOMAS\\Anaconda\\lib\\site-packages\\sklearn\\linear_model\\_coordinate_descent.py:532: ConvergenceWarning: Objective did not converge. You might want to increase the number of iterations. Duality gap: 2021430361.5009246, tolerance: 200123.5302821518\n",
      "  positive)\n",
      "C:\\Users\\TRANG THOMAS\\Anaconda\\lib\\site-packages\\sklearn\\linear_model\\_coordinate_descent.py:532: ConvergenceWarning: Objective did not converge. You might want to increase the number of iterations. Duality gap: 2003936524.459918, tolerance: 198064.4263844421\n",
      "  positive)\n",
      "C:\\Users\\TRANG THOMAS\\Anaconda\\lib\\site-packages\\sklearn\\linear_model\\_coordinate_descent.py:532: ConvergenceWarning: Objective did not converge. You might want to increase the number of iterations. Duality gap: 2022448101.7741919, tolerance: 202219.9535969969\n",
      "  positive)\n",
      "C:\\Users\\TRANG THOMAS\\Anaconda\\lib\\site-packages\\sklearn\\linear_model\\_coordinate_descent.py:532: ConvergenceWarning: Objective did not converge. You might want to increase the number of iterations. Duality gap: 1930274579.63179, tolerance: 191615.72795852792\n",
      "  positive)\n",
      "C:\\Users\\TRANG THOMAS\\Anaconda\\lib\\site-packages\\sklearn\\linear_model\\_coordinate_descent.py:532: ConvergenceWarning: Objective did not converge. You might want to increase the number of iterations. Duality gap: 2021777464.4016218, tolerance: 200123.5302821518\n",
      "  positive)\n",
      "C:\\Users\\TRANG THOMAS\\Anaconda\\lib\\site-packages\\sklearn\\linear_model\\_coordinate_descent.py:532: ConvergenceWarning: Objective did not converge. You might want to increase the number of iterations. Duality gap: 2004273816.4690733, tolerance: 198064.4263844421\n",
      "  positive)\n",
      "C:\\Users\\TRANG THOMAS\\Anaconda\\lib\\site-packages\\sklearn\\linear_model\\_coordinate_descent.py:532: ConvergenceWarning: Objective did not converge. You might want to increase the number of iterations. Duality gap: 2022929243.5145786, tolerance: 202219.9535969969\n",
      "  positive)\n",
      "C:\\Users\\TRANG THOMAS\\Anaconda\\lib\\site-packages\\sklearn\\linear_model\\_coordinate_descent.py:532: ConvergenceWarning: Objective did not converge. You might want to increase the number of iterations. Duality gap: 1930512948.9173017, tolerance: 191615.72795852792\n",
      "  positive)\n",
      "C:\\Users\\TRANG THOMAS\\Anaconda\\lib\\site-packages\\sklearn\\linear_model\\_coordinate_descent.py:532: ConvergenceWarning: Objective did not converge. You might want to increase the number of iterations. Duality gap: 2022124567.3023498, tolerance: 200123.5302821518\n",
      "  positive)\n",
      "C:\\Users\\TRANG THOMAS\\Anaconda\\lib\\site-packages\\sklearn\\linear_model\\_coordinate_descent.py:532: ConvergenceWarning: Objective did not converge. You might want to increase the number of iterations. Duality gap: 2004611108.478208, tolerance: 198064.4263844421\n",
      "  positive)\n",
      "C:\\Users\\TRANG THOMAS\\Anaconda\\lib\\site-packages\\sklearn\\linear_model\\_coordinate_descent.py:532: ConvergenceWarning: Objective did not converge. You might want to increase the number of iterations. Duality gap: 2023410385.2551494, tolerance: 202219.9535969969\n",
      "  positive)\n",
      "C:\\Users\\TRANG THOMAS\\Anaconda\\lib\\site-packages\\sklearn\\linear_model\\_coordinate_descent.py:532: ConvergenceWarning: Objective did not converge. You might want to increase the number of iterations. Duality gap: 1930751318.2027764, tolerance: 191615.72795852792\n",
      "  positive)\n",
      "C:\\Users\\TRANG THOMAS\\Anaconda\\lib\\site-packages\\sklearn\\linear_model\\_coordinate_descent.py:532: ConvergenceWarning: Objective did not converge. You might want to increase the number of iterations. Duality gap: 2022471670.2030535, tolerance: 200123.5302821518\n",
      "  positive)\n",
      "C:\\Users\\TRANG THOMAS\\Anaconda\\lib\\site-packages\\sklearn\\linear_model\\_coordinate_descent.py:532: ConvergenceWarning: Objective did not converge. You might want to increase the number of iterations. Duality gap: 2004948400.487341, tolerance: 198064.4263844421\n",
      "  positive)\n",
      "C:\\Users\\TRANG THOMAS\\Anaconda\\lib\\site-packages\\sklearn\\linear_model\\_coordinate_descent.py:532: ConvergenceWarning: Objective did not converge. You might want to increase the number of iterations. Duality gap: 2023891526.9955637, tolerance: 202219.9535969969\n",
      "  positive)\n",
      "C:\\Users\\TRANG THOMAS\\Anaconda\\lib\\site-packages\\sklearn\\linear_model\\_coordinate_descent.py:532: ConvergenceWarning: Objective did not converge. You might want to increase the number of iterations. Duality gap: 1930989687.4881248, tolerance: 191615.72795852792\n",
      "  positive)\n",
      "C:\\Users\\TRANG THOMAS\\Anaconda\\lib\\site-packages\\sklearn\\linear_model\\_coordinate_descent.py:532: ConvergenceWarning: Objective did not converge. You might want to increase the number of iterations. Duality gap: 2022818773.1037655, tolerance: 200123.5302821518\n",
      "  positive)\n",
      "C:\\Users\\TRANG THOMAS\\Anaconda\\lib\\site-packages\\sklearn\\linear_model\\_coordinate_descent.py:532: ConvergenceWarning: Objective did not converge. You might want to increase the number of iterations. Duality gap: 2005285692.4964745, tolerance: 198064.4263844421\n",
      "  positive)\n",
      "C:\\Users\\TRANG THOMAS\\Anaconda\\lib\\site-packages\\sklearn\\linear_model\\_coordinate_descent.py:532: ConvergenceWarning: Objective did not converge. You might want to increase the number of iterations. Duality gap: 2024372668.7360363, tolerance: 202219.9535969969\n",
      "  positive)\n",
      "C:\\Users\\TRANG THOMAS\\Anaconda\\lib\\site-packages\\sklearn\\linear_model\\_coordinate_descent.py:532: ConvergenceWarning: Objective did not converge. You might want to increase the number of iterations. Duality gap: 1931228056.7737932, tolerance: 191615.72795852792\n",
      "  positive)\n",
      "C:\\Users\\TRANG THOMAS\\Anaconda\\lib\\site-packages\\sklearn\\linear_model\\_coordinate_descent.py:532: ConvergenceWarning: Objective did not converge. You might want to increase the number of iterations. Duality gap: 2023165876.0044596, tolerance: 200123.5302821518\n",
      "  positive)\n",
      "C:\\Users\\TRANG THOMAS\\Anaconda\\lib\\site-packages\\sklearn\\linear_model\\_coordinate_descent.py:532: ConvergenceWarning: Objective did not converge. You might want to increase the number of iterations. Duality gap: 2005622984.5055974, tolerance: 198064.4263844421\n",
      "  positive)\n",
      "C:\\Users\\TRANG THOMAS\\Anaconda\\lib\\site-packages\\sklearn\\linear_model\\_coordinate_descent.py:532: ConvergenceWarning: Objective did not converge. You might want to increase the number of iterations. Duality gap: 2024853810.476387, tolerance: 202219.9535969969\n",
      "  positive)\n",
      "C:\\Users\\TRANG THOMAS\\Anaconda\\lib\\site-packages\\sklearn\\linear_model\\_coordinate_descent.py:532: ConvergenceWarning: Objective did not converge. You might want to increase the number of iterations. Duality gap: 1931466426.0592933, tolerance: 191615.72795852792\n",
      "  positive)\n",
      "C:\\Users\\TRANG THOMAS\\Anaconda\\lib\\site-packages\\sklearn\\linear_model\\_coordinate_descent.py:532: ConvergenceWarning: Objective did not converge. You might want to increase the number of iterations. Duality gap: 2023512978.90516, tolerance: 200123.5302821518\n",
      "  positive)\n",
      "C:\\Users\\TRANG THOMAS\\Anaconda\\lib\\site-packages\\sklearn\\linear_model\\_coordinate_descent.py:532: ConvergenceWarning: Objective did not converge. You might want to increase the number of iterations. Duality gap: 2005960276.5147493, tolerance: 198064.4263844421\n",
      "  positive)\n",
      "C:\\Users\\TRANG THOMAS\\Anaconda\\lib\\site-packages\\sklearn\\linear_model\\_coordinate_descent.py:532: ConvergenceWarning: Objective did not converge. You might want to increase the number of iterations. Duality gap: 2025334952.216825, tolerance: 202219.9535969969\n",
      "  positive)\n",
      "C:\\Users\\TRANG THOMAS\\Anaconda\\lib\\site-packages\\sklearn\\linear_model\\_coordinate_descent.py:532: ConvergenceWarning: Objective did not converge. You might want to increase the number of iterations. Duality gap: 1931704795.344824, tolerance: 191615.72795852792\n",
      "  positive)\n"
     ]
    },
    {
     "name": "stderr",
     "output_type": "stream",
     "text": [
      "C:\\Users\\TRANG THOMAS\\Anaconda\\lib\\site-packages\\sklearn\\linear_model\\_coordinate_descent.py:532: ConvergenceWarning: Objective did not converge. You might want to increase the number of iterations. Duality gap: 2023860081.805923, tolerance: 200123.5302821518\n",
      "  positive)\n",
      "C:\\Users\\TRANG THOMAS\\Anaconda\\lib\\site-packages\\sklearn\\linear_model\\_coordinate_descent.py:532: ConvergenceWarning: Objective did not converge. You might want to increase the number of iterations. Duality gap: 2006297568.5238342, tolerance: 198064.4263844421\n",
      "  positive)\n",
      "C:\\Users\\TRANG THOMAS\\Anaconda\\lib\\site-packages\\sklearn\\linear_model\\_coordinate_descent.py:532: ConvergenceWarning: Objective did not converge. You might want to increase the number of iterations. Duality gap: 2025816093.9573164, tolerance: 202219.9535969969\n",
      "  positive)\n",
      "C:\\Users\\TRANG THOMAS\\Anaconda\\lib\\site-packages\\sklearn\\linear_model\\_coordinate_descent.py:532: ConvergenceWarning: Objective did not converge. You might want to increase the number of iterations. Duality gap: 1931943164.6303182, tolerance: 191615.72795852792\n",
      "  positive)\n",
      "C:\\Users\\TRANG THOMAS\\Anaconda\\lib\\site-packages\\sklearn\\linear_model\\_coordinate_descent.py:532: ConvergenceWarning: Objective did not converge. You might want to increase the number of iterations. Duality gap: 2024207184.7066278, tolerance: 200123.5302821518\n",
      "  positive)\n",
      "C:\\Users\\TRANG THOMAS\\Anaconda\\lib\\site-packages\\sklearn\\linear_model\\_coordinate_descent.py:532: ConvergenceWarning: Objective did not converge. You might want to increase the number of iterations. Duality gap: 2006634860.533021, tolerance: 198064.4263844421\n",
      "  positive)\n",
      "C:\\Users\\TRANG THOMAS\\Anaconda\\lib\\site-packages\\sklearn\\linear_model\\_coordinate_descent.py:532: ConvergenceWarning: Objective did not converge. You might want to increase the number of iterations. Duality gap: 2026297235.6977544, tolerance: 202219.9535969969\n",
      "  positive)\n",
      "C:\\Users\\TRANG THOMAS\\Anaconda\\lib\\site-packages\\sklearn\\linear_model\\_coordinate_descent.py:532: ConvergenceWarning: Objective did not converge. You might want to increase the number of iterations. Duality gap: 1932181533.915812, tolerance: 191615.72795852792\n",
      "  positive)\n",
      "C:\\Users\\TRANG THOMAS\\Anaconda\\lib\\site-packages\\sklearn\\linear_model\\_coordinate_descent.py:532: ConvergenceWarning: Objective did not converge. You might want to increase the number of iterations. Duality gap: 2024554287.6072278, tolerance: 200123.5302821518\n",
      "  positive)\n",
      "C:\\Users\\TRANG THOMAS\\Anaconda\\lib\\site-packages\\sklearn\\linear_model\\_coordinate_descent.py:532: ConvergenceWarning: Objective did not converge. You might want to increase the number of iterations. Duality gap: 2006972152.5421548, tolerance: 198064.4263844421\n",
      "  positive)\n",
      "C:\\Users\\TRANG THOMAS\\Anaconda\\lib\\site-packages\\sklearn\\linear_model\\_coordinate_descent.py:532: ConvergenceWarning: Objective did not converge. You might want to increase the number of iterations. Duality gap: 2026778377.4381714, tolerance: 202219.9535969969\n",
      "  positive)\n",
      "C:\\Users\\TRANG THOMAS\\Anaconda\\lib\\site-packages\\sklearn\\linear_model\\_coordinate_descent.py:532: ConvergenceWarning: Objective did not converge. You might want to increase the number of iterations. Duality gap: 1932419903.201324, tolerance: 191615.72795852792\n",
      "  positive)\n",
      "C:\\Users\\TRANG THOMAS\\Anaconda\\lib\\site-packages\\sklearn\\linear_model\\_coordinate_descent.py:532: ConvergenceWarning: Objective did not converge. You might want to increase the number of iterations. Duality gap: 2024901390.5079334, tolerance: 200123.5302821518\n",
      "  positive)\n",
      "C:\\Users\\TRANG THOMAS\\Anaconda\\lib\\site-packages\\sklearn\\linear_model\\_coordinate_descent.py:532: ConvergenceWarning: Objective did not converge. You might want to increase the number of iterations. Duality gap: 2007309444.5512857, tolerance: 198064.4263844421\n",
      "  positive)\n",
      "C:\\Users\\TRANG THOMAS\\Anaconda\\lib\\site-packages\\sklearn\\linear_model\\_coordinate_descent.py:532: ConvergenceWarning: Objective did not converge. You might want to increase the number of iterations. Duality gap: 2027259519.1786318, tolerance: 202219.9535969969\n",
      "  positive)\n",
      "C:\\Users\\TRANG THOMAS\\Anaconda\\lib\\site-packages\\sklearn\\linear_model\\_coordinate_descent.py:532: ConvergenceWarning: Objective did not converge. You might want to increase the number of iterations. Duality gap: 1932658272.4868393, tolerance: 191615.72795852792\n",
      "  positive)\n",
      "C:\\Users\\TRANG THOMAS\\Anaconda\\lib\\site-packages\\sklearn\\linear_model\\_coordinate_descent.py:532: ConvergenceWarning: Objective did not converge. You might want to increase the number of iterations. Duality gap: 2025248493.4087567, tolerance: 200123.5302821518\n",
      "  positive)\n",
      "C:\\Users\\TRANG THOMAS\\Anaconda\\lib\\site-packages\\sklearn\\linear_model\\_coordinate_descent.py:532: ConvergenceWarning: Objective did not converge. You might want to increase the number of iterations. Duality gap: 2007646736.5604239, tolerance: 198064.4263844421\n",
      "  positive)\n",
      "C:\\Users\\TRANG THOMAS\\Anaconda\\lib\\site-packages\\sklearn\\linear_model\\_coordinate_descent.py:532: ConvergenceWarning: Objective did not converge. You might want to increase the number of iterations. Duality gap: 2027740660.91899, tolerance: 202219.9535969969\n",
      "  positive)\n",
      "C:\\Users\\TRANG THOMAS\\Anaconda\\lib\\site-packages\\sklearn\\linear_model\\_coordinate_descent.py:532: ConvergenceWarning: Objective did not converge. You might want to increase the number of iterations. Duality gap: 1932896641.772325, tolerance: 191615.72795852792\n",
      "  positive)\n",
      "C:\\Users\\TRANG THOMAS\\Anaconda\\lib\\site-packages\\sklearn\\linear_model\\_coordinate_descent.py:532: ConvergenceWarning: Objective did not converge. You might want to increase the number of iterations. Duality gap: 2025595596.3094435, tolerance: 200123.5302821518\n",
      "  positive)\n",
      "C:\\Users\\TRANG THOMAS\\Anaconda\\lib\\site-packages\\sklearn\\linear_model\\_coordinate_descent.py:532: ConvergenceWarning: Objective did not converge. You might want to increase the number of iterations. Duality gap: 2007984028.5695405, tolerance: 198064.4263844421\n",
      "  positive)\n",
      "C:\\Users\\TRANG THOMAS\\Anaconda\\lib\\site-packages\\sklearn\\linear_model\\_coordinate_descent.py:532: ConvergenceWarning: Objective did not converge. You might want to increase the number of iterations. Duality gap: 2028221802.6591918, tolerance: 202219.9535969969\n",
      "  positive)\n",
      "C:\\Users\\TRANG THOMAS\\Anaconda\\lib\\site-packages\\sklearn\\linear_model\\_coordinate_descent.py:532: ConvergenceWarning: Objective did not converge. You might want to increase the number of iterations. Duality gap: 1933135011.057841, tolerance: 191615.72795852792\n",
      "  positive)\n",
      "C:\\Users\\TRANG THOMAS\\Anaconda\\lib\\site-packages\\sklearn\\linear_model\\_coordinate_descent.py:532: ConvergenceWarning: Objective did not converge. You might want to increase the number of iterations. Duality gap: 2025942699.210171, tolerance: 200123.5302821518\n",
      "  positive)\n",
      "C:\\Users\\TRANG THOMAS\\Anaconda\\lib\\site-packages\\sklearn\\linear_model\\_coordinate_descent.py:532: ConvergenceWarning: Objective did not converge. You might want to increase the number of iterations. Duality gap: 2008321320.5786753, tolerance: 198064.4263844421\n",
      "  positive)\n",
      "C:\\Users\\TRANG THOMAS\\Anaconda\\lib\\site-packages\\sklearn\\linear_model\\_coordinate_descent.py:532: ConvergenceWarning: Objective did not converge. You might want to increase the number of iterations. Duality gap: 2028702944.3998814, tolerance: 202219.9535969969\n",
      "  positive)\n",
      "C:\\Users\\TRANG THOMAS\\Anaconda\\lib\\site-packages\\sklearn\\linear_model\\_coordinate_descent.py:532: ConvergenceWarning: Objective did not converge. You might want to increase the number of iterations. Duality gap: 1933373380.3433533, tolerance: 191615.72795852792\n",
      "  positive)\n",
      "C:\\Users\\TRANG THOMAS\\Anaconda\\lib\\site-packages\\sklearn\\linear_model\\_coordinate_descent.py:532: ConvergenceWarning: Objective did not converge. You might want to increase the number of iterations. Duality gap: 2026289802.1105936, tolerance: 200123.5302821518\n",
      "  positive)\n",
      "C:\\Users\\TRANG THOMAS\\Anaconda\\lib\\site-packages\\sklearn\\linear_model\\_coordinate_descent.py:532: ConvergenceWarning: Objective did not converge. You might want to increase the number of iterations. Duality gap: 2008658612.5877073, tolerance: 198064.4263844421\n",
      "  positive)\n",
      "C:\\Users\\TRANG THOMAS\\Anaconda\\lib\\site-packages\\sklearn\\linear_model\\_coordinate_descent.py:532: ConvergenceWarning: Objective did not converge. You might want to increase the number of iterations. Duality gap: 2029184086.1403522, tolerance: 202219.9535969969\n",
      "  positive)\n"
     ]
    },
    {
     "name": "stderr",
     "output_type": "stream",
     "text": [
      "C:\\Users\\TRANG THOMAS\\Anaconda\\lib\\site-packages\\sklearn\\linear_model\\_coordinate_descent.py:532: ConvergenceWarning: Objective did not converge. You might want to increase the number of iterations. Duality gap: 1933611749.628839, tolerance: 191615.72795852792\n",
      "  positive)\n",
      "C:\\Users\\TRANG THOMAS\\Anaconda\\lib\\site-packages\\sklearn\\linear_model\\_coordinate_descent.py:532: ConvergenceWarning: Objective did not converge. You might want to increase the number of iterations. Duality gap: 2026636905.0115955, tolerance: 200123.5302821518\n",
      "  positive)\n",
      "C:\\Users\\TRANG THOMAS\\Anaconda\\lib\\site-packages\\sklearn\\linear_model\\_coordinate_descent.py:532: ConvergenceWarning: Objective did not converge. You might want to increase the number of iterations. Duality gap: 2008995904.5969505, tolerance: 198064.4263844421\n",
      "  positive)\n",
      "C:\\Users\\TRANG THOMAS\\Anaconda\\lib\\site-packages\\sklearn\\linear_model\\_coordinate_descent.py:532: ConvergenceWarning: Objective did not converge. You might want to increase the number of iterations. Duality gap: 2029665227.8807664, tolerance: 202219.9535969969\n",
      "  positive)\n",
      "C:\\Users\\TRANG THOMAS\\Anaconda\\lib\\site-packages\\sklearn\\linear_model\\_coordinate_descent.py:532: ConvergenceWarning: Objective did not converge. You might want to increase the number of iterations. Duality gap: 1933850118.9143481, tolerance: 191615.72795852792\n",
      "  positive)\n",
      "C:\\Users\\TRANG THOMAS\\Anaconda\\lib\\site-packages\\sklearn\\linear_model\\_coordinate_descent.py:532: ConvergenceWarning: Objective did not converge. You might want to increase the number of iterations. Duality gap: 2026984007.9121766, tolerance: 200123.5302821518\n",
      "  positive)\n",
      "C:\\Users\\TRANG THOMAS\\Anaconda\\lib\\site-packages\\sklearn\\linear_model\\_coordinate_descent.py:532: ConvergenceWarning: Objective did not converge. You might want to increase the number of iterations. Duality gap: 2009333196.606093, tolerance: 198064.4263844421\n",
      "  positive)\n",
      "C:\\Users\\TRANG THOMAS\\Anaconda\\lib\\site-packages\\sklearn\\linear_model\\_coordinate_descent.py:532: ConvergenceWarning: Objective did not converge. You might want to increase the number of iterations. Duality gap: 2030146369.620747, tolerance: 202219.9535969969\n",
      "  positive)\n",
      "C:\\Users\\TRANG THOMAS\\Anaconda\\lib\\site-packages\\sklearn\\linear_model\\_coordinate_descent.py:532: ConvergenceWarning: Objective did not converge. You might want to increase the number of iterations. Duality gap: 1934088488.1998572, tolerance: 191615.72795852792\n",
      "  positive)\n",
      "C:\\Users\\TRANG THOMAS\\Anaconda\\lib\\site-packages\\sklearn\\linear_model\\_coordinate_descent.py:532: ConvergenceWarning: Objective did not converge. You might want to increase the number of iterations. Duality gap: 2027331110.8130221, tolerance: 200123.5302821518\n",
      "  positive)\n",
      "C:\\Users\\TRANG THOMAS\\Anaconda\\lib\\site-packages\\sklearn\\linear_model\\_coordinate_descent.py:532: ConvergenceWarning: Objective did not converge. You might want to increase the number of iterations. Duality gap: 2009670488.6152246, tolerance: 198064.4263844421\n",
      "  positive)\n",
      "C:\\Users\\TRANG THOMAS\\Anaconda\\lib\\site-packages\\sklearn\\linear_model\\_coordinate_descent.py:532: ConvergenceWarning: Objective did not converge. You might want to increase the number of iterations. Duality gap: 2030627511.3613415, tolerance: 202219.9535969969\n",
      "  positive)\n",
      "C:\\Users\\TRANG THOMAS\\Anaconda\\lib\\site-packages\\sklearn\\linear_model\\_coordinate_descent.py:532: ConvergenceWarning: Objective did not converge. You might want to increase the number of iterations. Duality gap: 1934326857.4853587, tolerance: 191615.72795852792\n",
      "  positive)\n",
      "C:\\Users\\TRANG THOMAS\\Anaconda\\lib\\site-packages\\sklearn\\linear_model\\_coordinate_descent.py:532: ConvergenceWarning: Objective did not converge. You might want to increase the number of iterations. Duality gap: 2027678213.713327, tolerance: 200123.5302821518\n",
      "  positive)\n",
      "C:\\Users\\TRANG THOMAS\\Anaconda\\lib\\site-packages\\sklearn\\linear_model\\_coordinate_descent.py:532: ConvergenceWarning: Objective did not converge. You might want to increase the number of iterations. Duality gap: 2010007780.6243625, tolerance: 198064.4263844421\n",
      "  positive)\n",
      "C:\\Users\\TRANG THOMAS\\Anaconda\\lib\\site-packages\\sklearn\\linear_model\\_coordinate_descent.py:532: ConvergenceWarning: Objective did not converge. You might want to increase the number of iterations. Duality gap: 2031108653.1020882, tolerance: 202219.9535969969\n",
      "  positive)\n",
      "C:\\Users\\TRANG THOMAS\\Anaconda\\lib\\site-packages\\sklearn\\linear_model\\_coordinate_descent.py:532: ConvergenceWarning: Objective did not converge. You might want to increase the number of iterations. Duality gap: 1934565226.7708492, tolerance: 191615.72795852792\n",
      "  positive)\n",
      "C:\\Users\\TRANG THOMAS\\Anaconda\\lib\\site-packages\\sklearn\\linear_model\\_coordinate_descent.py:532: ConvergenceWarning: Objective did not converge. You might want to increase the number of iterations. Duality gap: 2028025316.61436, tolerance: 200123.5302821518\n",
      "  positive)\n",
      "C:\\Users\\TRANG THOMAS\\Anaconda\\lib\\site-packages\\sklearn\\linear_model\\_coordinate_descent.py:532: ConvergenceWarning: Objective did not converge. You might want to increase the number of iterations. Duality gap: 2010345072.633483, tolerance: 198064.4263844421\n",
      "  positive)\n",
      "C:\\Users\\TRANG THOMAS\\Anaconda\\lib\\site-packages\\sklearn\\linear_model\\_coordinate_descent.py:532: ConvergenceWarning: Objective did not converge. You might want to increase the number of iterations. Duality gap: 2031589794.8425198, tolerance: 202219.9535969969\n",
      "  positive)\n",
      "C:\\Users\\TRANG THOMAS\\Anaconda\\lib\\site-packages\\sklearn\\linear_model\\_coordinate_descent.py:532: ConvergenceWarning: Objective did not converge. You might want to increase the number of iterations. Duality gap: 1934803596.0563552, tolerance: 191615.72795852792\n",
      "  positive)\n",
      "C:\\Users\\TRANG THOMAS\\Anaconda\\lib\\site-packages\\sklearn\\linear_model\\_coordinate_descent.py:532: ConvergenceWarning: Objective did not converge. You might want to increase the number of iterations. Duality gap: 2028372419.5151644, tolerance: 200123.5302821518\n",
      "  positive)\n",
      "C:\\Users\\TRANG THOMAS\\Anaconda\\lib\\site-packages\\sklearn\\linear_model\\_coordinate_descent.py:532: ConvergenceWarning: Objective did not converge. You might want to increase the number of iterations. Duality gap: 2010682364.6426432, tolerance: 198064.4263844421\n",
      "  positive)\n",
      "C:\\Users\\TRANG THOMAS\\Anaconda\\lib\\site-packages\\sklearn\\linear_model\\_coordinate_descent.py:532: ConvergenceWarning: Objective did not converge. You might want to increase the number of iterations. Duality gap: 2032070936.5829568, tolerance: 202219.9535969969\n",
      "  positive)\n",
      "C:\\Users\\TRANG THOMAS\\Anaconda\\lib\\site-packages\\sklearn\\linear_model\\_coordinate_descent.py:532: ConvergenceWarning: Objective did not converge. You might want to increase the number of iterations. Duality gap: 1935041965.3418608, tolerance: 191615.72795852792\n",
      "  positive)\n",
      "C:\\Users\\TRANG THOMAS\\Anaconda\\lib\\site-packages\\sklearn\\linear_model\\_coordinate_descent.py:532: ConvergenceWarning: Objective did not converge. You might want to increase the number of iterations. Duality gap: 2028719522.415876, tolerance: 200123.5302821518\n",
      "  positive)\n",
      "C:\\Users\\TRANG THOMAS\\Anaconda\\lib\\site-packages\\sklearn\\linear_model\\_coordinate_descent.py:532: ConvergenceWarning: Objective did not converge. You might want to increase the number of iterations. Duality gap: 2011019656.6517658, tolerance: 198064.4263844421\n",
      "  positive)\n",
      "C:\\Users\\TRANG THOMAS\\Anaconda\\lib\\site-packages\\sklearn\\linear_model\\_coordinate_descent.py:532: ConvergenceWarning: Objective did not converge. You might want to increase the number of iterations. Duality gap: 2032552078.3233745, tolerance: 202219.9535969969\n",
      "  positive)\n",
      "C:\\Users\\TRANG THOMAS\\Anaconda\\lib\\site-packages\\sklearn\\linear_model\\_coordinate_descent.py:532: ConvergenceWarning: Objective did not converge. You might want to increase the number of iterations. Duality gap: 1935280334.6273513, tolerance: 191615.72795852792\n",
      "  positive)\n",
      "C:\\Users\\TRANG THOMAS\\Anaconda\\lib\\site-packages\\sklearn\\linear_model\\_coordinate_descent.py:532: ConvergenceWarning: Objective did not converge. You might want to increase the number of iterations. Duality gap: 2029066625.3165193, tolerance: 200123.5302821518\n",
      "  positive)\n",
      "C:\\Users\\TRANG THOMAS\\Anaconda\\lib\\site-packages\\sklearn\\linear_model\\_coordinate_descent.py:532: ConvergenceWarning: Objective did not converge. You might want to increase the number of iterations. Duality gap: 2011356948.6608853, tolerance: 198064.4263844421\n",
      "  positive)\n"
     ]
    },
    {
     "name": "stderr",
     "output_type": "stream",
     "text": [
      "C:\\Users\\TRANG THOMAS\\Anaconda\\lib\\site-packages\\sklearn\\linear_model\\_coordinate_descent.py:532: ConvergenceWarning: Objective did not converge. You might want to increase the number of iterations. Duality gap: 2033033220.0638223, tolerance: 202219.9535969969\n",
      "  positive)\n",
      "C:\\Users\\TRANG THOMAS\\Anaconda\\lib\\site-packages\\sklearn\\linear_model\\_coordinate_descent.py:532: ConvergenceWarning: Objective did not converge. You might want to increase the number of iterations. Duality gap: 1935518703.9128716, tolerance: 191615.72795852792\n",
      "  positive)\n",
      "C:\\Users\\TRANG THOMAS\\Anaconda\\lib\\site-packages\\sklearn\\linear_model\\_coordinate_descent.py:532: ConvergenceWarning: Objective did not converge. You might want to increase the number of iterations. Duality gap: 2029413728.2173073, tolerance: 200123.5302821518\n",
      "  positive)\n",
      "C:\\Users\\TRANG THOMAS\\Anaconda\\lib\\site-packages\\sklearn\\linear_model\\_coordinate_descent.py:532: ConvergenceWarning: Objective did not converge. You might want to increase the number of iterations. Duality gap: 2011694240.6700428, tolerance: 198064.4263844421\n",
      "  positive)\n",
      "C:\\Users\\TRANG THOMAS\\Anaconda\\lib\\site-packages\\sklearn\\linear_model\\_coordinate_descent.py:532: ConvergenceWarning: Objective did not converge. You might want to increase the number of iterations. Duality gap: 2033514361.80407, tolerance: 202219.9535969969\n",
      "  positive)\n",
      "C:\\Users\\TRANG THOMAS\\Anaconda\\lib\\site-packages\\sklearn\\linear_model\\_coordinate_descent.py:532: ConvergenceWarning: Objective did not converge. You might want to increase the number of iterations. Duality gap: 1935757073.198394, tolerance: 191615.72795852792\n",
      "  positive)\n",
      "C:\\Users\\TRANG THOMAS\\Anaconda\\lib\\site-packages\\sklearn\\linear_model\\_coordinate_descent.py:532: ConvergenceWarning: Objective did not converge. You might want to increase the number of iterations. Duality gap: 2029760831.1179261, tolerance: 200123.5302821518\n",
      "  positive)\n",
      "C:\\Users\\TRANG THOMAS\\Anaconda\\lib\\site-packages\\sklearn\\linear_model\\_coordinate_descent.py:532: ConvergenceWarning: Objective did not converge. You might want to increase the number of iterations. Duality gap: 2012031532.6791573, tolerance: 198064.4263844421\n",
      "  positive)\n",
      "C:\\Users\\TRANG THOMAS\\Anaconda\\lib\\site-packages\\sklearn\\linear_model\\_coordinate_descent.py:532: ConvergenceWarning: Objective did not converge. You might want to increase the number of iterations. Duality gap: 2033995503.5443559, tolerance: 202219.9535969969\n",
      "  positive)\n",
      "C:\\Users\\TRANG THOMAS\\Anaconda\\lib\\site-packages\\sklearn\\linear_model\\_coordinate_descent.py:532: ConvergenceWarning: Objective did not converge. You might want to increase the number of iterations. Duality gap: 1935995442.483878, tolerance: 191615.72795852792\n",
      "  positive)\n",
      "C:\\Users\\TRANG THOMAS\\Anaconda\\lib\\site-packages\\sklearn\\linear_model\\_coordinate_descent.py:532: ConvergenceWarning: Objective did not converge. You might want to increase the number of iterations. Duality gap: 2030107934.0187268, tolerance: 200123.5302821518\n",
      "  positive)\n",
      "C:\\Users\\TRANG THOMAS\\Anaconda\\lib\\site-packages\\sklearn\\linear_model\\_coordinate_descent.py:532: ConvergenceWarning: Objective did not converge. You might want to increase the number of iterations. Duality gap: 2012368824.688314, tolerance: 198064.4263844421\n",
      "  positive)\n",
      "C:\\Users\\TRANG THOMAS\\Anaconda\\lib\\site-packages\\sklearn\\linear_model\\_coordinate_descent.py:532: ConvergenceWarning: Objective did not converge. You might want to increase the number of iterations. Duality gap: 2034476645.2848248, tolerance: 202219.9535969969\n",
      "  positive)\n",
      "C:\\Users\\TRANG THOMAS\\Anaconda\\lib\\site-packages\\sklearn\\linear_model\\_coordinate_descent.py:532: ConvergenceWarning: Objective did not converge. You might want to increase the number of iterations. Duality gap: 1936233811.769391, tolerance: 191615.72795852792\n",
      "  positive)\n",
      "C:\\Users\\TRANG THOMAS\\Anaconda\\lib\\site-packages\\sklearn\\linear_model\\_coordinate_descent.py:532: ConvergenceWarning: Objective did not converge. You might want to increase the number of iterations. Duality gap: 2030455036.9194393, tolerance: 200123.5302821518\n",
      "  positive)\n",
      "C:\\Users\\TRANG THOMAS\\Anaconda\\lib\\site-packages\\sklearn\\linear_model\\_coordinate_descent.py:532: ConvergenceWarning: Objective did not converge. You might want to increase the number of iterations. Duality gap: 2012706116.6974258, tolerance: 198064.4263844421\n",
      "  positive)\n",
      "C:\\Users\\TRANG THOMAS\\Anaconda\\lib\\site-packages\\sklearn\\linear_model\\_coordinate_descent.py:532: ConvergenceWarning: Objective did not converge. You might want to increase the number of iterations. Duality gap: 2034957787.0254154, tolerance: 202219.9535969969\n",
      "  positive)\n",
      "C:\\Users\\TRANG THOMAS\\Anaconda\\lib\\site-packages\\sklearn\\linear_model\\_coordinate_descent.py:532: ConvergenceWarning: Objective did not converge. You might want to increase the number of iterations. Duality gap: 1936472181.0548527, tolerance: 191615.72795852792\n",
      "  positive)\n",
      "C:\\Users\\TRANG THOMAS\\Anaconda\\lib\\site-packages\\sklearn\\linear_model\\_coordinate_descent.py:532: ConvergenceWarning: Objective did not converge. You might want to increase the number of iterations. Duality gap: 2030802139.8200016, tolerance: 200123.5302821518\n",
      "  positive)\n",
      "C:\\Users\\TRANG THOMAS\\Anaconda\\lib\\site-packages\\sklearn\\linear_model\\_coordinate_descent.py:532: ConvergenceWarning: Objective did not converge. You might want to increase the number of iterations. Duality gap: 2013043408.7065837, tolerance: 198064.4263844421\n",
      "  positive)\n",
      "C:\\Users\\TRANG THOMAS\\Anaconda\\lib\\site-packages\\sklearn\\linear_model\\_coordinate_descent.py:532: ConvergenceWarning: Objective did not converge. You might want to increase the number of iterations. Duality gap: 2035438928.765967, tolerance: 202219.9535969969\n",
      "  positive)\n",
      "C:\\Users\\TRANG THOMAS\\Anaconda\\lib\\site-packages\\sklearn\\linear_model\\_coordinate_descent.py:532: ConvergenceWarning: Objective did not converge. You might want to increase the number of iterations. Duality gap: 1936710550.340406, tolerance: 191615.72795852792\n",
      "  positive)\n",
      "C:\\Users\\TRANG THOMAS\\Anaconda\\lib\\site-packages\\sklearn\\linear_model\\_coordinate_descent.py:532: ConvergenceWarning: Objective did not converge. You might want to increase the number of iterations. Duality gap: 2031149242.72087, tolerance: 200123.5302821518\n",
      "  positive)\n",
      "C:\\Users\\TRANG THOMAS\\Anaconda\\lib\\site-packages\\sklearn\\linear_model\\_coordinate_descent.py:532: ConvergenceWarning: Objective did not converge. You might want to increase the number of iterations. Duality gap: 2013380700.7157018, tolerance: 198064.4263844421\n",
      "  positive)\n",
      "C:\\Users\\TRANG THOMAS\\Anaconda\\lib\\site-packages\\sklearn\\linear_model\\_coordinate_descent.py:532: ConvergenceWarning: Objective did not converge. You might want to increase the number of iterations. Duality gap: 2035920070.506198, tolerance: 202219.9535969969\n",
      "  positive)\n",
      "C:\\Users\\TRANG THOMAS\\Anaconda\\lib\\site-packages\\sklearn\\linear_model\\_coordinate_descent.py:532: ConvergenceWarning: Objective did not converge. You might want to increase the number of iterations. Duality gap: 1936948919.6259167, tolerance: 191615.72795852792\n",
      "  positive)\n",
      "C:\\Users\\TRANG THOMAS\\Anaconda\\lib\\site-packages\\sklearn\\linear_model\\_coordinate_descent.py:532: ConvergenceWarning: Objective did not converge. You might want to increase the number of iterations. Duality gap: 2031496345.6215742, tolerance: 200123.5302821518\n",
      "  positive)\n",
      "C:\\Users\\TRANG THOMAS\\Anaconda\\lib\\site-packages\\sklearn\\linear_model\\_coordinate_descent.py:532: ConvergenceWarning: Objective did not converge. You might want to increase the number of iterations. Duality gap: 2013717992.724832, tolerance: 198064.4263844421\n",
      "  positive)\n",
      "C:\\Users\\TRANG THOMAS\\Anaconda\\lib\\site-packages\\sklearn\\linear_model\\_coordinate_descent.py:532: ConvergenceWarning: Objective did not converge. You might want to increase the number of iterations. Duality gap: 2036401212.246838, tolerance: 202219.9535969969\n",
      "  positive)\n",
      "C:\\Users\\TRANG THOMAS\\Anaconda\\lib\\site-packages\\sklearn\\linear_model\\_coordinate_descent.py:532: ConvergenceWarning: Objective did not converge. You might want to increase the number of iterations. Duality gap: 1937187288.9114108, tolerance: 191615.72795852792\n",
      "  positive)\n",
      "C:\\Users\\TRANG THOMAS\\Anaconda\\lib\\site-packages\\sklearn\\linear_model\\_coordinate_descent.py:532: ConvergenceWarning: Objective did not converge. You might want to increase the number of iterations. Duality gap: 2031843448.522287, tolerance: 200123.5302821518\n",
      "  positive)\n",
      "C:\\Users\\TRANG THOMAS\\Anaconda\\lib\\site-packages\\sklearn\\linear_model\\_coordinate_descent.py:532: ConvergenceWarning: Objective did not converge. You might want to increase the number of iterations. Duality gap: 2014055284.7339878, tolerance: 198064.4263844421\n",
      "  positive)\n"
     ]
    },
    {
     "name": "stderr",
     "output_type": "stream",
     "text": [
      "C:\\Users\\TRANG THOMAS\\Anaconda\\lib\\site-packages\\sklearn\\linear_model\\_coordinate_descent.py:532: ConvergenceWarning: Objective did not converge. You might want to increase the number of iterations. Duality gap: 2036882353.9870942, tolerance: 202219.9535969969\n",
      "  positive)\n",
      "C:\\Users\\TRANG THOMAS\\Anaconda\\lib\\site-packages\\sklearn\\linear_model\\_coordinate_descent.py:532: ConvergenceWarning: Objective did not converge. You might want to increase the number of iterations. Duality gap: 1937425658.1969073, tolerance: 191615.72795852792\n",
      "  positive)\n",
      "C:\\Users\\TRANG THOMAS\\Anaconda\\lib\\site-packages\\sklearn\\linear_model\\_coordinate_descent.py:532: ConvergenceWarning: Objective did not converge. You might want to increase the number of iterations. Duality gap: 2032190551.4229932, tolerance: 200123.5302821518\n",
      "  positive)\n",
      "C:\\Users\\TRANG THOMAS\\Anaconda\\lib\\site-packages\\sklearn\\linear_model\\_coordinate_descent.py:532: ConvergenceWarning: Objective did not converge. You might want to increase the number of iterations. Duality gap: 2014392576.7431092, tolerance: 198064.4263844421\n",
      "  positive)\n",
      "C:\\Users\\TRANG THOMAS\\Anaconda\\lib\\site-packages\\sklearn\\linear_model\\_coordinate_descent.py:532: ConvergenceWarning: Objective did not converge. You might want to increase the number of iterations. Duality gap: 2037363495.7274265, tolerance: 202219.9535969969\n",
      "  positive)\n",
      "C:\\Users\\TRANG THOMAS\\Anaconda\\lib\\site-packages\\sklearn\\linear_model\\_coordinate_descent.py:532: ConvergenceWarning: Objective did not converge. You might want to increase the number of iterations. Duality gap: 1937664027.4824214, tolerance: 191615.72795852792\n",
      "  positive)\n",
      "C:\\Users\\TRANG THOMAS\\Anaconda\\lib\\site-packages\\sklearn\\linear_model\\_coordinate_descent.py:532: ConvergenceWarning: Objective did not converge. You might want to increase the number of iterations. Duality gap: 2032537654.3236754, tolerance: 200123.5302821518\n",
      "  positive)\n",
      "C:\\Users\\TRANG THOMAS\\Anaconda\\lib\\site-packages\\sklearn\\linear_model\\_coordinate_descent.py:532: ConvergenceWarning: Objective did not converge. You might want to increase the number of iterations. Duality gap: 2014729868.7522492, tolerance: 198064.4263844421\n",
      "  positive)\n",
      "C:\\Users\\TRANG THOMAS\\Anaconda\\lib\\site-packages\\sklearn\\linear_model\\_coordinate_descent.py:532: ConvergenceWarning: Objective did not converge. You might want to increase the number of iterations. Duality gap: 2037844637.4679346, tolerance: 202219.9535969969\n",
      "  positive)\n",
      "C:\\Users\\TRANG THOMAS\\Anaconda\\lib\\site-packages\\sklearn\\linear_model\\_coordinate_descent.py:532: ConvergenceWarning: Objective did not converge. You might want to increase the number of iterations. Duality gap: 1937902396.7679353, tolerance: 191615.72795852792\n",
      "  positive)\n",
      "C:\\Users\\TRANG THOMAS\\Anaconda\\lib\\site-packages\\sklearn\\linear_model\\_coordinate_descent.py:532: ConvergenceWarning: Objective did not converge. You might want to increase the number of iterations. Duality gap: 2032884757.2244291, tolerance: 200123.5302821518\n",
      "  positive)\n",
      "C:\\Users\\TRANG THOMAS\\Anaconda\\lib\\site-packages\\sklearn\\linear_model\\_coordinate_descent.py:532: ConvergenceWarning: Objective did not converge. You might want to increase the number of iterations. Duality gap: 2015067160.761393, tolerance: 198064.4263844421\n",
      "  positive)\n",
      "C:\\Users\\TRANG THOMAS\\Anaconda\\lib\\site-packages\\sklearn\\linear_model\\_coordinate_descent.py:532: ConvergenceWarning: Objective did not converge. You might want to increase the number of iterations. Duality gap: 2038325779.2085707, tolerance: 202219.9535969969\n",
      "  positive)\n",
      "C:\\Users\\TRANG THOMAS\\Anaconda\\lib\\site-packages\\sklearn\\linear_model\\_coordinate_descent.py:532: ConvergenceWarning: Objective did not converge. You might want to increase the number of iterations. Duality gap: 1938140766.0534394, tolerance: 191615.72795852792\n",
      "  positive)\n",
      "C:\\Users\\TRANG THOMAS\\Anaconda\\lib\\site-packages\\sklearn\\linear_model\\_coordinate_descent.py:532: ConvergenceWarning: Objective did not converge. You might want to increase the number of iterations. Duality gap: 2033231860.125144, tolerance: 200123.5302821518\n",
      "  positive)\n",
      "C:\\Users\\TRANG THOMAS\\Anaconda\\lib\\site-packages\\sklearn\\linear_model\\_coordinate_descent.py:532: ConvergenceWarning: Objective did not converge. You might want to increase the number of iterations. Duality gap: 2015404452.770518, tolerance: 198064.4263844421\n",
      "  positive)\n",
      "C:\\Users\\TRANG THOMAS\\Anaconda\\lib\\site-packages\\sklearn\\linear_model\\_coordinate_descent.py:532: ConvergenceWarning: Objective did not converge. You might want to increase the number of iterations. Duality gap: 2038806920.9488325, tolerance: 202219.9535969969\n",
      "  positive)\n",
      "C:\\Users\\TRANG THOMAS\\Anaconda\\lib\\site-packages\\sklearn\\linear_model\\_coordinate_descent.py:532: ConvergenceWarning: Objective did not converge. You might want to increase the number of iterations. Duality gap: 1938379135.3389344, tolerance: 191615.72795852792\n",
      "  positive)\n",
      "C:\\Users\\TRANG THOMAS\\Anaconda\\lib\\site-packages\\sklearn\\linear_model\\_coordinate_descent.py:532: ConvergenceWarning: Objective did not converge. You might want to increase the number of iterations. Duality gap: 2033578963.0258203, tolerance: 200123.5302821518\n",
      "  positive)\n",
      "C:\\Users\\TRANG THOMAS\\Anaconda\\lib\\site-packages\\sklearn\\linear_model\\_coordinate_descent.py:532: ConvergenceWarning: Objective did not converge. You might want to increase the number of iterations. Duality gap: 2015741744.7796423, tolerance: 198064.4263844421\n",
      "  positive)\n",
      "C:\\Users\\TRANG THOMAS\\Anaconda\\lib\\site-packages\\sklearn\\linear_model\\_coordinate_descent.py:532: ConvergenceWarning: Objective did not converge. You might want to increase the number of iterations. Duality gap: 2039288062.6893272, tolerance: 202219.9535969969\n",
      "  positive)\n",
      "C:\\Users\\TRANG THOMAS\\Anaconda\\lib\\site-packages\\sklearn\\linear_model\\_coordinate_descent.py:532: ConvergenceWarning: Objective did not converge. You might want to increase the number of iterations. Duality gap: 1938617504.6244097, tolerance: 191615.72795852792\n",
      "  positive)\n",
      "C:\\Users\\TRANG THOMAS\\Anaconda\\lib\\site-packages\\sklearn\\linear_model\\_coordinate_descent.py:532: ConvergenceWarning: Objective did not converge. You might want to increase the number of iterations. Duality gap: 2033926065.9265642, tolerance: 200123.5302821518\n",
      "  positive)\n",
      "C:\\Users\\TRANG THOMAS\\Anaconda\\lib\\site-packages\\sklearn\\linear_model\\_coordinate_descent.py:532: ConvergenceWarning: Objective did not converge. You might want to increase the number of iterations. Duality gap: 2016079036.7887905, tolerance: 198064.4263844421\n",
      "  positive)\n",
      "C:\\Users\\TRANG THOMAS\\Anaconda\\lib\\site-packages\\sklearn\\linear_model\\_coordinate_descent.py:532: ConvergenceWarning: Objective did not converge. You might want to increase the number of iterations. Duality gap: 2039769204.4295516, tolerance: 202219.9535969969\n",
      "  positive)\n",
      "C:\\Users\\TRANG THOMAS\\Anaconda\\lib\\site-packages\\sklearn\\linear_model\\_coordinate_descent.py:532: ConvergenceWarning: Objective did not converge. You might want to increase the number of iterations. Duality gap: 1938855873.9099069, tolerance: 191615.72795852792\n",
      "  positive)\n",
      "C:\\Users\\TRANG THOMAS\\Anaconda\\lib\\site-packages\\sklearn\\linear_model\\_coordinate_descent.py:532: ConvergenceWarning: Objective did not converge. You might want to increase the number of iterations. Duality gap: 2034273168.8271399, tolerance: 200123.5302821518\n",
      "  positive)\n",
      "C:\\Users\\TRANG THOMAS\\Anaconda\\lib\\site-packages\\sklearn\\linear_model\\_coordinate_descent.py:532: ConvergenceWarning: Objective did not converge. You might want to increase the number of iterations. Duality gap: 2016416328.7979412, tolerance: 198064.4263844421\n",
      "  positive)\n",
      "C:\\Users\\TRANG THOMAS\\Anaconda\\lib\\site-packages\\sklearn\\linear_model\\_coordinate_descent.py:532: ConvergenceWarning: Objective did not converge. You might want to increase the number of iterations. Duality gap: 2040250346.1703167, tolerance: 202219.9535969969\n",
      "  positive)\n",
      "C:\\Users\\TRANG THOMAS\\Anaconda\\lib\\site-packages\\sklearn\\linear_model\\_coordinate_descent.py:532: ConvergenceWarning: Objective did not converge. You might want to increase the number of iterations. Duality gap: 1939094243.1954415, tolerance: 191615.72795852792\n",
      "  positive)\n"
     ]
    },
    {
     "name": "stderr",
     "output_type": "stream",
     "text": [
      "C:\\Users\\TRANG THOMAS\\Anaconda\\lib\\site-packages\\sklearn\\linear_model\\_coordinate_descent.py:532: ConvergenceWarning: Objective did not converge. You might want to increase the number of iterations. Duality gap: 2034620271.727714, tolerance: 200123.5302821518\n",
      "  positive)\n",
      "C:\\Users\\TRANG THOMAS\\Anaconda\\lib\\site-packages\\sklearn\\linear_model\\_coordinate_descent.py:532: ConvergenceWarning: Objective did not converge. You might want to increase the number of iterations. Duality gap: 2016753620.8070698, tolerance: 198064.4263844421\n",
      "  positive)\n",
      "C:\\Users\\TRANG THOMAS\\Anaconda\\lib\\site-packages\\sklearn\\linear_model\\_coordinate_descent.py:532: ConvergenceWarning: Objective did not converge. You might want to increase the number of iterations. Duality gap: 2040731487.9106946, tolerance: 202219.9535969969\n",
      "  positive)\n",
      "C:\\Users\\TRANG THOMAS\\Anaconda\\lib\\site-packages\\sklearn\\linear_model\\_coordinate_descent.py:532: ConvergenceWarning: Objective did not converge. You might want to increase the number of iterations. Duality gap: 1939332612.4809442, tolerance: 191615.72795852792\n",
      "  positive)\n",
      "C:\\Users\\TRANG THOMAS\\Anaconda\\lib\\site-packages\\sklearn\\linear_model\\_coordinate_descent.py:532: ConvergenceWarning: Objective did not converge. You might want to increase the number of iterations. Duality gap: 2034967374.6285186, tolerance: 200123.5302821518\n",
      "  positive)\n",
      "C:\\Users\\TRANG THOMAS\\Anaconda\\lib\\site-packages\\sklearn\\linear_model\\_coordinate_descent.py:532: ConvergenceWarning: Objective did not converge. You might want to increase the number of iterations. Duality gap: 2017090912.816192, tolerance: 198064.4263844421\n",
      "  positive)\n",
      "C:\\Users\\TRANG THOMAS\\Anaconda\\lib\\site-packages\\sklearn\\linear_model\\_coordinate_descent.py:532: ConvergenceWarning: Objective did not converge. You might want to increase the number of iterations. Duality gap: 2041212629.6510694, tolerance: 202219.9535969969\n",
      "  positive)\n",
      "C:\\Users\\TRANG THOMAS\\Anaconda\\lib\\site-packages\\sklearn\\linear_model\\_coordinate_descent.py:532: ConvergenceWarning: Objective did not converge. You might want to increase the number of iterations. Duality gap: 1939570981.7664466, tolerance: 191615.72795852792\n",
      "  positive)\n",
      "C:\\Users\\TRANG THOMAS\\Anaconda\\lib\\site-packages\\sklearn\\linear_model\\_coordinate_descent.py:532: ConvergenceWarning: Objective did not converge. You might want to increase the number of iterations. Duality gap: 2035314477.5294228, tolerance: 200123.5302821518\n",
      "  positive)\n",
      "C:\\Users\\TRANG THOMAS\\Anaconda\\lib\\site-packages\\sklearn\\linear_model\\_coordinate_descent.py:532: ConvergenceWarning: Objective did not converge. You might want to increase the number of iterations. Duality gap: 2017428204.8253338, tolerance: 198064.4263844421\n",
      "  positive)\n",
      "C:\\Users\\TRANG THOMAS\\Anaconda\\lib\\site-packages\\sklearn\\linear_model\\_coordinate_descent.py:532: ConvergenceWarning: Objective did not converge. You might want to increase the number of iterations. Duality gap: 2041693771.3915553, tolerance: 202219.9535969969\n",
      "  positive)\n",
      "C:\\Users\\TRANG THOMAS\\Anaconda\\lib\\site-packages\\sklearn\\linear_model\\_coordinate_descent.py:532: ConvergenceWarning: Objective did not converge. You might want to increase the number of iterations. Duality gap: 1939809351.0519614, tolerance: 191615.72795852792\n",
      "  positive)\n",
      "C:\\Users\\TRANG THOMAS\\Anaconda\\lib\\site-packages\\sklearn\\linear_model\\_coordinate_descent.py:532: ConvergenceWarning: Objective did not converge. You might want to increase the number of iterations. Duality gap: 2035661580.4296823, tolerance: 200123.5302821518\n",
      "  positive)\n",
      "C:\\Users\\TRANG THOMAS\\Anaconda\\lib\\site-packages\\sklearn\\linear_model\\_coordinate_descent.py:532: ConvergenceWarning: Objective did not converge. You might want to increase the number of iterations. Duality gap: 2017765496.8344607, tolerance: 198064.4263844421\n",
      "  positive)\n",
      "C:\\Users\\TRANG THOMAS\\Anaconda\\lib\\site-packages\\sklearn\\linear_model\\_coordinate_descent.py:532: ConvergenceWarning: Objective did not converge. You might want to increase the number of iterations. Duality gap: 2042174913.132046, tolerance: 202219.9535969969\n",
      "  positive)\n",
      "C:\\Users\\TRANG THOMAS\\Anaconda\\lib\\site-packages\\sklearn\\linear_model\\_coordinate_descent.py:532: ConvergenceWarning: Objective did not converge. You might want to increase the number of iterations. Duality gap: 1940047720.3374662, tolerance: 191615.72795852792\n",
      "  positive)\n",
      "C:\\Users\\TRANG THOMAS\\Anaconda\\lib\\site-packages\\sklearn\\linear_model\\_coordinate_descent.py:532: ConvergenceWarning: Objective did not converge. You might want to increase the number of iterations. Duality gap: 2036008683.3308377, tolerance: 200123.5302821518\n",
      "  positive)\n",
      "C:\\Users\\TRANG THOMAS\\Anaconda\\lib\\site-packages\\sklearn\\linear_model\\_coordinate_descent.py:532: ConvergenceWarning: Objective did not converge. You might want to increase the number of iterations. Duality gap: 2018102788.8436153, tolerance: 198064.4263844421\n",
      "  positive)\n",
      "C:\\Users\\TRANG THOMAS\\Anaconda\\lib\\site-packages\\sklearn\\linear_model\\_coordinate_descent.py:532: ConvergenceWarning: Objective did not converge. You might want to increase the number of iterations. Duality gap: 2042656054.8722467, tolerance: 202219.9535969969\n",
      "  positive)\n",
      "C:\\Users\\TRANG THOMAS\\Anaconda\\lib\\site-packages\\sklearn\\linear_model\\_coordinate_descent.py:532: ConvergenceWarning: Objective did not converge. You might want to increase the number of iterations. Duality gap: 1940286089.6229644, tolerance: 191615.72795852792\n",
      "  positive)\n",
      "C:\\Users\\TRANG THOMAS\\Anaconda\\lib\\site-packages\\sklearn\\linear_model\\_coordinate_descent.py:532: ConvergenceWarning: Objective did not converge. You might want to increase the number of iterations. Duality gap: 2036355786.2312918, tolerance: 200123.5302821518\n",
      "  positive)\n",
      "C:\\Users\\TRANG THOMAS\\Anaconda\\lib\\site-packages\\sklearn\\linear_model\\_coordinate_descent.py:532: ConvergenceWarning: Objective did not converge. You might want to increase the number of iterations. Duality gap: 2018440080.8527246, tolerance: 198064.4263844421\n",
      "  positive)\n",
      "C:\\Users\\TRANG THOMAS\\Anaconda\\lib\\site-packages\\sklearn\\linear_model\\_coordinate_descent.py:532: ConvergenceWarning: Objective did not converge. You might want to increase the number of iterations. Duality gap: 2043137196.6126533, tolerance: 202219.9535969969\n",
      "  positive)\n",
      "C:\\Users\\TRANG THOMAS\\Anaconda\\lib\\site-packages\\sklearn\\linear_model\\_coordinate_descent.py:532: ConvergenceWarning: Objective did not converge. You might want to increase the number of iterations. Duality gap: 1940524458.9084773, tolerance: 191615.72795852792\n",
      "  positive)\n",
      "C:\\Users\\TRANG THOMAS\\Anaconda\\lib\\site-packages\\sklearn\\linear_model\\_coordinate_descent.py:532: ConvergenceWarning: Objective did not converge. You might want to increase the number of iterations. Duality gap: 2036702889.1322582, tolerance: 200123.5302821518\n",
      "  positive)\n",
      "C:\\Users\\TRANG THOMAS\\Anaconda\\lib\\site-packages\\sklearn\\linear_model\\_coordinate_descent.py:532: ConvergenceWarning: Objective did not converge. You might want to increase the number of iterations. Duality gap: 2018777372.8618739, tolerance: 198064.4263844421\n",
      "  positive)\n",
      "C:\\Users\\TRANG THOMAS\\Anaconda\\lib\\site-packages\\sklearn\\linear_model\\_coordinate_descent.py:532: ConvergenceWarning: Objective did not converge. You might want to increase the number of iterations. Duality gap: 2043618338.3533416, tolerance: 202219.9535969969\n",
      "  positive)\n",
      "C:\\Users\\TRANG THOMAS\\Anaconda\\lib\\site-packages\\sklearn\\linear_model\\_coordinate_descent.py:532: ConvergenceWarning: Objective did not converge. You might want to increase the number of iterations. Duality gap: 1940762828.193972, tolerance: 191615.72795852792\n",
      "  positive)\n",
      "C:\\Users\\TRANG THOMAS\\Anaconda\\lib\\site-packages\\sklearn\\linear_model\\_coordinate_descent.py:532: ConvergenceWarning: Objective did not converge. You might want to increase the number of iterations. Duality gap: 2037049992.0329685, tolerance: 200123.5302821518\n",
      "  positive)\n",
      "C:\\Users\\TRANG THOMAS\\Anaconda\\lib\\site-packages\\sklearn\\linear_model\\_coordinate_descent.py:532: ConvergenceWarning: Objective did not converge. You might want to increase the number of iterations. Duality gap: 2019114664.8709908, tolerance: 198064.4263844421\n",
      "  positive)\n"
     ]
    },
    {
     "name": "stderr",
     "output_type": "stream",
     "text": [
      "C:\\Users\\TRANG THOMAS\\Anaconda\\lib\\site-packages\\sklearn\\linear_model\\_coordinate_descent.py:532: ConvergenceWarning: Objective did not converge. You might want to increase the number of iterations. Duality gap: 2044099480.0937052, tolerance: 202219.9535969969\n",
      "  positive)\n",
      "C:\\Users\\TRANG THOMAS\\Anaconda\\lib\\site-packages\\sklearn\\linear_model\\_coordinate_descent.py:532: ConvergenceWarning: Objective did not converge. You might want to increase the number of iterations. Duality gap: 1941001197.4794784, tolerance: 191615.72795852792\n",
      "  positive)\n",
      "C:\\Users\\TRANG THOMAS\\Anaconda\\lib\\site-packages\\sklearn\\linear_model\\_coordinate_descent.py:532: ConvergenceWarning: Objective did not converge. You might want to increase the number of iterations. Duality gap: 2037397094.9335332, tolerance: 200123.5302821518\n",
      "  positive)\n",
      "C:\\Users\\TRANG THOMAS\\Anaconda\\lib\\site-packages\\sklearn\\linear_model\\_coordinate_descent.py:532: ConvergenceWarning: Objective did not converge. You might want to increase the number of iterations. Duality gap: 2019451956.880147, tolerance: 198064.4263844421\n",
      "  positive)\n",
      "C:\\Users\\TRANG THOMAS\\Anaconda\\lib\\site-packages\\sklearn\\linear_model\\_coordinate_descent.py:532: ConvergenceWarning: Objective did not converge. You might want to increase the number of iterations. Duality gap: 2044580621.834199, tolerance: 202219.9535969969\n",
      "  positive)\n",
      "C:\\Users\\TRANG THOMAS\\Anaconda\\lib\\site-packages\\sklearn\\linear_model\\_coordinate_descent.py:532: ConvergenceWarning: Objective did not converge. You might want to increase the number of iterations. Duality gap: 1941239566.7649887, tolerance: 191615.72795852792\n",
      "  positive)\n",
      "C:\\Users\\TRANG THOMAS\\Anaconda\\lib\\site-packages\\sklearn\\linear_model\\_coordinate_descent.py:532: ConvergenceWarning: Objective did not converge. You might want to increase the number of iterations. Duality gap: 2037744197.8344169, tolerance: 200123.5302821518\n",
      "  positive)\n",
      "C:\\Users\\TRANG THOMAS\\Anaconda\\lib\\site-packages\\sklearn\\linear_model\\_coordinate_descent.py:532: ConvergenceWarning: Objective did not converge. You might want to increase the number of iterations. Duality gap: 2019789248.8892686, tolerance: 198064.4263844421\n",
      "  positive)\n",
      "C:\\Users\\TRANG THOMAS\\Anaconda\\lib\\site-packages\\sklearn\\linear_model\\_coordinate_descent.py:532: ConvergenceWarning: Objective did not converge. You might want to increase the number of iterations. Duality gap: 2045061763.5745716, tolerance: 202219.9535969969\n",
      "  positive)\n",
      "C:\\Users\\TRANG THOMAS\\Anaconda\\lib\\site-packages\\sklearn\\linear_model\\_coordinate_descent.py:532: ConvergenceWarning: Objective did not converge. You might want to increase the number of iterations. Duality gap: 1941477936.0503714, tolerance: 191615.72795852792\n",
      "  positive)\n",
      "C:\\Users\\TRANG THOMAS\\Anaconda\\lib\\site-packages\\sklearn\\linear_model\\_coordinate_descent.py:532: ConvergenceWarning: Objective did not converge. You might want to increase the number of iterations. Duality gap: 2038091300.7349799, tolerance: 200123.5302821518\n",
      "  positive)\n",
      "C:\\Users\\TRANG THOMAS\\Anaconda\\lib\\site-packages\\sklearn\\linear_model\\_coordinate_descent.py:532: ConvergenceWarning: Objective did not converge. You might want to increase the number of iterations. Duality gap: 2020126540.8984118, tolerance: 198064.4263844421\n",
      "  positive)\n",
      "C:\\Users\\TRANG THOMAS\\Anaconda\\lib\\site-packages\\sklearn\\linear_model\\_coordinate_descent.py:532: ConvergenceWarning: Objective did not converge. You might want to increase the number of iterations. Duality gap: 2045542905.314848, tolerance: 202219.9535969969\n",
      "  positive)\n",
      "C:\\Users\\TRANG THOMAS\\Anaconda\\lib\\site-packages\\sklearn\\linear_model\\_coordinate_descent.py:532: ConvergenceWarning: Objective did not converge. You might want to increase the number of iterations. Duality gap: 1941716305.3359876, tolerance: 191615.72795852792\n",
      "  positive)\n",
      "C:\\Users\\TRANG THOMAS\\Anaconda\\lib\\site-packages\\sklearn\\linear_model\\_coordinate_descent.py:532: ConvergenceWarning: Objective did not converge. You might want to increase the number of iterations. Duality gap: 2038438403.635807, tolerance: 200123.5302821518\n",
      "  positive)\n",
      "C:\\Users\\TRANG THOMAS\\Anaconda\\lib\\site-packages\\sklearn\\linear_model\\_coordinate_descent.py:532: ConvergenceWarning: Objective did not converge. You might want to increase the number of iterations. Duality gap: 2020463832.9074888, tolerance: 198064.4263844421\n",
      "  positive)\n",
      "C:\\Users\\TRANG THOMAS\\Anaconda\\lib\\site-packages\\sklearn\\linear_model\\_coordinate_descent.py:532: ConvergenceWarning: Objective did not converge. You might want to increase the number of iterations. Duality gap: 2046024047.0554147, tolerance: 202219.9535969969\n",
      "  positive)\n",
      "C:\\Users\\TRANG THOMAS\\Anaconda\\lib\\site-packages\\sklearn\\linear_model\\_coordinate_descent.py:532: ConvergenceWarning: Objective did not converge. You might want to increase the number of iterations. Duality gap: 1941954674.6214962, tolerance: 191615.72795852792\n",
      "  positive)\n",
      "C:\\Users\\TRANG THOMAS\\Anaconda\\lib\\site-packages\\sklearn\\linear_model\\_coordinate_descent.py:532: ConvergenceWarning: Objective did not converge. You might want to increase the number of iterations. Duality gap: 2038785506.536528, tolerance: 200123.5302821518\n",
      "  positive)\n",
      "C:\\Users\\TRANG THOMAS\\Anaconda\\lib\\site-packages\\sklearn\\linear_model\\_coordinate_descent.py:532: ConvergenceWarning: Objective did not converge. You might want to increase the number of iterations. Duality gap: 2020801124.9166756, tolerance: 198064.4263844421\n",
      "  positive)\n",
      "C:\\Users\\TRANG THOMAS\\Anaconda\\lib\\site-packages\\sklearn\\linear_model\\_coordinate_descent.py:532: ConvergenceWarning: Objective did not converge. You might want to increase the number of iterations. Duality gap: 2046505188.7958066, tolerance: 202219.9535969969\n",
      "  positive)\n",
      "C:\\Users\\TRANG THOMAS\\Anaconda\\lib\\site-packages\\sklearn\\linear_model\\_coordinate_descent.py:532: ConvergenceWarning: Objective did not converge. You might want to increase the number of iterations. Duality gap: 1942193043.9070082, tolerance: 191615.72795852792\n",
      "  positive)\n",
      "C:\\Users\\TRANG THOMAS\\Anaconda\\lib\\site-packages\\sklearn\\linear_model\\_coordinate_descent.py:532: ConvergenceWarning: Objective did not converge. You might want to increase the number of iterations. Duality gap: 2039132609.4372222, tolerance: 200123.5302821518\n",
      "  positive)\n",
      "C:\\Users\\TRANG THOMAS\\Anaconda\\lib\\site-packages\\sklearn\\linear_model\\_coordinate_descent.py:532: ConvergenceWarning: Objective did not converge. You might want to increase the number of iterations. Duality gap: 2021138416.9258256, tolerance: 198064.4263844421\n",
      "  positive)\n",
      "C:\\Users\\TRANG THOMAS\\Anaconda\\lib\\site-packages\\sklearn\\linear_model\\_coordinate_descent.py:532: ConvergenceWarning: Objective did not converge. You might want to increase the number of iterations. Duality gap: 2046986330.5361748, tolerance: 202219.9535969969\n",
      "  positive)\n",
      "C:\\Users\\TRANG THOMAS\\Anaconda\\lib\\site-packages\\sklearn\\linear_model\\_coordinate_descent.py:532: ConvergenceWarning: Objective did not converge. You might want to increase the number of iterations. Duality gap: 1942431413.1925037, tolerance: 191615.72795852792\n",
      "  positive)\n",
      "C:\\Users\\TRANG THOMAS\\Anaconda\\lib\\site-packages\\sklearn\\linear_model\\_coordinate_descent.py:532: ConvergenceWarning: Objective did not converge. You might want to increase the number of iterations. Duality gap: 2013779761.3202095, tolerance: 200123.5302821518\n",
      "  positive)\n",
      "C:\\Users\\TRANG THOMAS\\Anaconda\\lib\\site-packages\\sklearn\\linear_model\\_coordinate_descent.py:532: ConvergenceWarning: Objective did not converge. You might want to increase the number of iterations. Duality gap: 2021475708.9349585, tolerance: 198064.4263844421\n",
      "  positive)\n",
      "C:\\Users\\TRANG THOMAS\\Anaconda\\lib\\site-packages\\sklearn\\linear_model\\_coordinate_descent.py:532: ConvergenceWarning: Objective did not converge. You might want to increase the number of iterations. Duality gap: 2047467472.2768168, tolerance: 202219.9535969969\n",
      "  positive)\n",
      "C:\\Users\\TRANG THOMAS\\Anaconda\\lib\\site-packages\\sklearn\\linear_model\\_coordinate_descent.py:532: ConvergenceWarning: Objective did not converge. You might want to increase the number of iterations. Duality gap: 1919065994.266541, tolerance: 191615.72795852792\n",
      "  positive)\n",
      "C:\\Users\\TRANG THOMAS\\Anaconda\\lib\\site-packages\\sklearn\\linear_model\\_coordinate_descent.py:532: ConvergenceWarning: Objective did not converge. You might want to increase the number of iterations. Duality gap: 2014278934.9369488, tolerance: 200123.5302821518\n",
      "  positive)\n",
      "C:\\Users\\TRANG THOMAS\\Anaconda\\lib\\site-packages\\sklearn\\linear_model\\_coordinate_descent.py:532: ConvergenceWarning: Objective did not converge. You might want to increase the number of iterations. Duality gap: 2021813000.9440885, tolerance: 198064.4263844421\n",
      "  positive)\n"
     ]
    },
    {
     "name": "stderr",
     "output_type": "stream",
     "text": [
      "C:\\Users\\TRANG THOMAS\\Anaconda\\lib\\site-packages\\sklearn\\linear_model\\_coordinate_descent.py:532: ConvergenceWarning: Objective did not converge. You might want to increase the number of iterations. Duality gap: 2047948614.0171225, tolerance: 202219.9535969969\n",
      "  positive)\n",
      "C:\\Users\\TRANG THOMAS\\Anaconda\\lib\\site-packages\\sklearn\\linear_model\\_coordinate_descent.py:532: ConvergenceWarning: Objective did not converge. You might want to increase the number of iterations. Duality gap: 1919444862.2913857, tolerance: 191615.72795852792\n",
      "  positive)\n",
      "C:\\Users\\TRANG THOMAS\\Anaconda\\lib\\site-packages\\sklearn\\linear_model\\_coordinate_descent.py:532: ConvergenceWarning: Objective did not converge. You might want to increase the number of iterations. Duality gap: 2014778108.5537744, tolerance: 200123.5302821518\n",
      "  positive)\n",
      "C:\\Users\\TRANG THOMAS\\Anaconda\\lib\\site-packages\\sklearn\\linear_model\\_coordinate_descent.py:532: ConvergenceWarning: Objective did not converge. You might want to increase the number of iterations. Duality gap: 2022150292.9532216, tolerance: 198064.4263844421\n",
      "  positive)\n",
      "C:\\Users\\TRANG THOMAS\\Anaconda\\lib\\site-packages\\sklearn\\linear_model\\_coordinate_descent.py:532: ConvergenceWarning: Objective did not converge. You might want to increase the number of iterations. Duality gap: 2048429755.7576556, tolerance: 202219.9535969969\n",
      "  positive)\n",
      "C:\\Users\\TRANG THOMAS\\Anaconda\\lib\\site-packages\\sklearn\\linear_model\\_coordinate_descent.py:532: ConvergenceWarning: Objective did not converge. You might want to increase the number of iterations. Duality gap: 1919823730.316248, tolerance: 191615.72795852792\n",
      "  positive)\n",
      "C:\\Users\\TRANG THOMAS\\Anaconda\\lib\\site-packages\\sklearn\\linear_model\\_coordinate_descent.py:532: ConvergenceWarning: Objective did not converge. You might want to increase the number of iterations. Duality gap: 2015277282.1703606, tolerance: 200123.5302821518\n",
      "  positive)\n",
      "C:\\Users\\TRANG THOMAS\\Anaconda\\lib\\site-packages\\sklearn\\linear_model\\_coordinate_descent.py:532: ConvergenceWarning: Objective did not converge. You might want to increase the number of iterations. Duality gap: 2022487584.962358, tolerance: 198064.4263844421\n",
      "  positive)\n",
      "C:\\Users\\TRANG THOMAS\\Anaconda\\lib\\site-packages\\sklearn\\linear_model\\_coordinate_descent.py:532: ConvergenceWarning: Objective did not converge. You might want to increase the number of iterations. Duality gap: 2048910897.4977012, tolerance: 202219.9535969969\n",
      "  positive)\n",
      "C:\\Users\\TRANG THOMAS\\Anaconda\\lib\\site-packages\\sklearn\\linear_model\\_coordinate_descent.py:532: ConvergenceWarning: Objective did not converge. You might want to increase the number of iterations. Duality gap: 1920202598.3411067, tolerance: 191615.72795852792\n",
      "  positive)\n",
      "C:\\Users\\TRANG THOMAS\\Anaconda\\lib\\site-packages\\sklearn\\linear_model\\_coordinate_descent.py:532: ConvergenceWarning: Objective did not converge. You might want to increase the number of iterations. Duality gap: 2015776455.7873616, tolerance: 200123.5302821518\n",
      "  positive)\n",
      "C:\\Users\\TRANG THOMAS\\Anaconda\\lib\\site-packages\\sklearn\\linear_model\\_coordinate_descent.py:532: ConvergenceWarning: Objective did not converge. You might want to increase the number of iterations. Duality gap: 1997706438.5752206, tolerance: 198064.4263844421\n",
      "  positive)\n",
      "C:\\Users\\TRANG THOMAS\\Anaconda\\lib\\site-packages\\sklearn\\linear_model\\_coordinate_descent.py:532: ConvergenceWarning: Objective did not converge. You might want to increase the number of iterations. Duality gap: 2026372972.1813507, tolerance: 202219.9535969969\n",
      "  positive)\n",
      "C:\\Users\\TRANG THOMAS\\Anaconda\\lib\\site-packages\\sklearn\\linear_model\\_coordinate_descent.py:532: ConvergenceWarning: Objective did not converge. You might want to increase the number of iterations. Duality gap: 1920581466.3659606, tolerance: 191615.72795852792\n",
      "  positive)\n",
      "C:\\Users\\TRANG THOMAS\\Anaconda\\lib\\site-packages\\sklearn\\linear_model\\_coordinate_descent.py:532: ConvergenceWarning: Objective did not converge. You might want to increase the number of iterations. Duality gap: 2016275629.4041672, tolerance: 200123.5302821518\n",
      "  positive)\n",
      "C:\\Users\\TRANG THOMAS\\Anaconda\\lib\\site-packages\\sklearn\\linear_model\\_coordinate_descent.py:532: ConvergenceWarning: Objective did not converge. You might want to increase the number of iterations. Duality gap: 1998196891.7941172, tolerance: 198064.4263844421\n",
      "  positive)\n",
      "C:\\Users\\TRANG THOMAS\\Anaconda\\lib\\site-packages\\sklearn\\linear_model\\_coordinate_descent.py:532: ConvergenceWarning: Objective did not converge. You might want to increase the number of iterations. Duality gap: 2026994474.087015, tolerance: 202219.9535969969\n",
      "  positive)\n",
      "C:\\Users\\TRANG THOMAS\\Anaconda\\lib\\site-packages\\sklearn\\linear_model\\_coordinate_descent.py:532: ConvergenceWarning: Objective did not converge. You might want to increase the number of iterations. Duality gap: 1920960334.3906453, tolerance: 191615.72795852792\n",
      "  positive)\n",
      "C:\\Users\\TRANG THOMAS\\Anaconda\\lib\\site-packages\\sklearn\\linear_model\\_coordinate_descent.py:532: ConvergenceWarning: Objective did not converge. You might want to increase the number of iterations. Duality gap: 2016774803.0207787, tolerance: 200123.5302821518\n",
      "  positive)\n",
      "C:\\Users\\TRANG THOMAS\\Anaconda\\lib\\site-packages\\sklearn\\linear_model\\_coordinate_descent.py:532: ConvergenceWarning: Objective did not converge. You might want to increase the number of iterations. Duality gap: 1998687345.0127082, tolerance: 198064.4263844421\n",
      "  positive)\n",
      "C:\\Users\\TRANG THOMAS\\Anaconda\\lib\\site-packages\\sklearn\\linear_model\\_coordinate_descent.py:532: ConvergenceWarning: Objective did not converge. You might want to increase the number of iterations. Duality gap: 2027615975.992568, tolerance: 202219.9535969969\n",
      "  positive)\n",
      "C:\\Users\\TRANG THOMAS\\Anaconda\\lib\\site-packages\\sklearn\\linear_model\\_coordinate_descent.py:532: ConvergenceWarning: Objective did not converge. You might want to increase the number of iterations. Duality gap: 1921339202.415698, tolerance: 191615.72795852792\n",
      "  positive)\n",
      "C:\\Users\\TRANG THOMAS\\Anaconda\\lib\\site-packages\\sklearn\\linear_model\\_coordinate_descent.py:532: ConvergenceWarning: Objective did not converge. You might want to increase the number of iterations. Duality gap: 2017273976.6377604, tolerance: 200123.5302821518\n",
      "  positive)\n",
      "C:\\Users\\TRANG THOMAS\\Anaconda\\lib\\site-packages\\sklearn\\linear_model\\_coordinate_descent.py:532: ConvergenceWarning: Objective did not converge. You might want to increase the number of iterations. Duality gap: 1999177798.231731, tolerance: 198064.4263844421\n",
      "  positive)\n",
      "C:\\Users\\TRANG THOMAS\\Anaconda\\lib\\site-packages\\sklearn\\linear_model\\_coordinate_descent.py:532: ConvergenceWarning: Objective did not converge. You might want to increase the number of iterations. Duality gap: 2028237477.897999, tolerance: 202219.9535969969\n",
      "  positive)\n",
      "C:\\Users\\TRANG THOMAS\\Anaconda\\lib\\site-packages\\sklearn\\linear_model\\_coordinate_descent.py:532: ConvergenceWarning: Objective did not converge. You might want to increase the number of iterations. Duality gap: 1921718070.4405324, tolerance: 191615.72795852792\n",
      "  positive)\n",
      "C:\\Users\\TRANG THOMAS\\Anaconda\\lib\\site-packages\\sklearn\\linear_model\\_coordinate_descent.py:532: ConvergenceWarning: Objective did not converge. You might want to increase the number of iterations. Duality gap: 2017773150.2545567, tolerance: 200123.5302821518\n",
      "  positive)\n",
      "C:\\Users\\TRANG THOMAS\\Anaconda\\lib\\site-packages\\sklearn\\linear_model\\_coordinate_descent.py:532: ConvergenceWarning: Objective did not converge. You might want to increase the number of iterations. Duality gap: 1999668251.4507103, tolerance: 198064.4263844421\n",
      "  positive)\n",
      "C:\\Users\\TRANG THOMAS\\Anaconda\\lib\\site-packages\\sklearn\\linear_model\\_coordinate_descent.py:532: ConvergenceWarning: Objective did not converge. You might want to increase the number of iterations. Duality gap: 2028858979.803325, tolerance: 202219.9535969969\n",
      "  positive)\n",
      "C:\\Users\\TRANG THOMAS\\Anaconda\\lib\\site-packages\\sklearn\\linear_model\\_coordinate_descent.py:532: ConvergenceWarning: Objective did not converge. You might want to increase the number of iterations. Duality gap: 1922096938.4653974, tolerance: 191615.72795852792\n",
      "  positive)\n",
      "C:\\Users\\TRANG THOMAS\\Anaconda\\lib\\site-packages\\sklearn\\linear_model\\_coordinate_descent.py:532: ConvergenceWarning: Objective did not converge. You might want to increase the number of iterations. Duality gap: 2018272323.8710408, tolerance: 200123.5302821518\n",
      "  positive)\n"
     ]
    },
    {
     "name": "stderr",
     "output_type": "stream",
     "text": [
      "C:\\Users\\TRANG THOMAS\\Anaconda\\lib\\site-packages\\sklearn\\linear_model\\_coordinate_descent.py:532: ConvergenceWarning: Objective did not converge. You might want to increase the number of iterations. Duality gap: 2000158704.669569, tolerance: 198064.4263844421\n",
      "  positive)\n",
      "C:\\Users\\TRANG THOMAS\\Anaconda\\lib\\site-packages\\sklearn\\linear_model\\_coordinate_descent.py:532: ConvergenceWarning: Objective did not converge. You might want to increase the number of iterations. Duality gap: 2029480481.7088022, tolerance: 202219.9535969969\n",
      "  positive)\n",
      "C:\\Users\\TRANG THOMAS\\Anaconda\\lib\\site-packages\\sklearn\\linear_model\\_coordinate_descent.py:532: ConvergenceWarning: Objective did not converge. You might want to increase the number of iterations. Duality gap: 1922475806.4902601, tolerance: 191615.72795852792\n",
      "  positive)\n",
      "C:\\Users\\TRANG THOMAS\\Anaconda\\lib\\site-packages\\sklearn\\linear_model\\_coordinate_descent.py:532: ConvergenceWarning: Objective did not converge. You might want to increase the number of iterations. Duality gap: 2018771497.4881356, tolerance: 200123.5302821518\n",
      "  positive)\n",
      "C:\\Users\\TRANG THOMAS\\Anaconda\\lib\\site-packages\\sklearn\\linear_model\\_coordinate_descent.py:532: ConvergenceWarning: Objective did not converge. You might want to increase the number of iterations. Duality gap: 2000649157.8884535, tolerance: 198064.4263844421\n",
      "  positive)\n",
      "C:\\Users\\TRANG THOMAS\\Anaconda\\lib\\site-packages\\sklearn\\linear_model\\_coordinate_descent.py:532: ConvergenceWarning: Objective did not converge. You might want to increase the number of iterations. Duality gap: 2030101983.6139894, tolerance: 202219.9535969969\n",
      "  positive)\n",
      "C:\\Users\\TRANG THOMAS\\Anaconda\\lib\\site-packages\\sklearn\\linear_model\\_coordinate_descent.py:532: ConvergenceWarning: Objective did not converge. You might want to increase the number of iterations. Duality gap: 1922854674.5151181, tolerance: 191615.72795852792\n",
      "  positive)\n",
      "C:\\Users\\TRANG THOMAS\\Anaconda\\lib\\site-packages\\sklearn\\linear_model\\_coordinate_descent.py:532: ConvergenceWarning: Objective did not converge. You might want to increase the number of iterations. Duality gap: 2019270671.104907, tolerance: 200123.5302821518\n",
      "  positive)\n",
      "C:\\Users\\TRANG THOMAS\\Anaconda\\lib\\site-packages\\sklearn\\linear_model\\_coordinate_descent.py:532: ConvergenceWarning: Objective did not converge. You might want to increase the number of iterations. Duality gap: 2001139611.107305, tolerance: 198064.4263844421\n",
      "  positive)\n",
      "C:\\Users\\TRANG THOMAS\\Anaconda\\lib\\site-packages\\sklearn\\linear_model\\_coordinate_descent.py:532: ConvergenceWarning: Objective did not converge. You might want to increase the number of iterations. Duality gap: 2030723485.5196333, tolerance: 202219.9535969969\n",
      "  positive)\n",
      "C:\\Users\\TRANG THOMAS\\Anaconda\\lib\\site-packages\\sklearn\\linear_model\\_coordinate_descent.py:532: ConvergenceWarning: Objective did not converge. You might want to increase the number of iterations. Duality gap: 1923233542.5396848, tolerance: 191615.72795852792\n",
      "  positive)\n",
      "C:\\Users\\TRANG THOMAS\\Anaconda\\lib\\site-packages\\sklearn\\linear_model\\_coordinate_descent.py:532: ConvergenceWarning: Objective did not converge. You might want to increase the number of iterations. Duality gap: 2019769844.721711, tolerance: 200123.5302821518\n",
      "  positive)\n",
      "C:\\Users\\TRANG THOMAS\\Anaconda\\lib\\site-packages\\sklearn\\linear_model\\_coordinate_descent.py:532: ConvergenceWarning: Objective did not converge. You might want to increase the number of iterations. Duality gap: 2001630064.3261793, tolerance: 198064.4263844421\n",
      "  positive)\n",
      "C:\\Users\\TRANG THOMAS\\Anaconda\\lib\\site-packages\\sklearn\\linear_model\\_coordinate_descent.py:532: ConvergenceWarning: Objective did not converge. You might want to increase the number of iterations. Duality gap: 2031344987.4249287, tolerance: 202219.9535969969\n",
      "  positive)\n",
      "C:\\Users\\TRANG THOMAS\\Anaconda\\lib\\site-packages\\sklearn\\linear_model\\_coordinate_descent.py:532: ConvergenceWarning: Objective did not converge. You might want to increase the number of iterations. Duality gap: 1923612410.5647802, tolerance: 191615.72795852792\n",
      "  positive)\n",
      "C:\\Users\\TRANG THOMAS\\Anaconda\\lib\\site-packages\\sklearn\\linear_model\\_coordinate_descent.py:532: ConvergenceWarning: Objective did not converge. You might want to increase the number of iterations. Duality gap: 2020269018.3385267, tolerance: 200123.5302821518\n",
      "  positive)\n",
      "C:\\Users\\TRANG THOMAS\\Anaconda\\lib\\site-packages\\sklearn\\linear_model\\_coordinate_descent.py:532: ConvergenceWarning: Objective did not converge. You might want to increase the number of iterations. Duality gap: 2002120517.545043, tolerance: 198064.4263844421\n",
      "  positive)\n",
      "C:\\Users\\TRANG THOMAS\\Anaconda\\lib\\site-packages\\sklearn\\linear_model\\_coordinate_descent.py:532: ConvergenceWarning: Objective did not converge. You might want to increase the number of iterations. Duality gap: 2031966489.3304484, tolerance: 202219.9535969969\n",
      "  positive)\n",
      "C:\\Users\\TRANG THOMAS\\Anaconda\\lib\\site-packages\\sklearn\\linear_model\\_coordinate_descent.py:532: ConvergenceWarning: Objective did not converge. You might want to increase the number of iterations. Duality gap: 1923991278.5896854, tolerance: 191615.72795852792\n",
      "  positive)\n",
      "C:\\Users\\TRANG THOMAS\\Anaconda\\lib\\site-packages\\sklearn\\linear_model\\_coordinate_descent.py:532: ConvergenceWarning: Objective did not converge. You might want to increase the number of iterations. Duality gap: 2020768191.955309, tolerance: 200123.5302821518\n",
      "  positive)\n",
      "C:\\Users\\TRANG THOMAS\\Anaconda\\lib\\site-packages\\sklearn\\linear_model\\_coordinate_descent.py:532: ConvergenceWarning: Objective did not converge. You might want to increase the number of iterations. Duality gap: 2002610970.7639036, tolerance: 198064.4263844421\n",
      "  positive)\n",
      "C:\\Users\\TRANG THOMAS\\Anaconda\\lib\\site-packages\\sklearn\\linear_model\\_coordinate_descent.py:532: ConvergenceWarning: Objective did not converge. You might want to increase the number of iterations. Duality gap: 2032587991.235878, tolerance: 202219.9535969969\n",
      "  positive)\n",
      "C:\\Users\\TRANG THOMAS\\Anaconda\\lib\\site-packages\\sklearn\\linear_model\\_coordinate_descent.py:532: ConvergenceWarning: Objective did not converge. You might want to increase the number of iterations. Duality gap: 1924370146.6145558, tolerance: 191615.72795852792\n",
      "  positive)\n",
      "C:\\Users\\TRANG THOMAS\\Anaconda\\lib\\site-packages\\sklearn\\linear_model\\_coordinate_descent.py:532: ConvergenceWarning: Objective did not converge. You might want to increase the number of iterations. Duality gap: 2021267365.572083, tolerance: 200123.5302821518\n",
      "  positive)\n",
      "C:\\Users\\TRANG THOMAS\\Anaconda\\lib\\site-packages\\sklearn\\linear_model\\_coordinate_descent.py:532: ConvergenceWarning: Objective did not converge. You might want to increase the number of iterations. Duality gap: 2003101423.982781, tolerance: 198064.4263844421\n",
      "  positive)\n",
      "C:\\Users\\TRANG THOMAS\\Anaconda\\lib\\site-packages\\sklearn\\linear_model\\_coordinate_descent.py:532: ConvergenceWarning: Objective did not converge. You might want to increase the number of iterations. Duality gap: 2033209493.141286, tolerance: 202219.9535969969\n",
      "  positive)\n",
      "C:\\Users\\TRANG THOMAS\\Anaconda\\lib\\site-packages\\sklearn\\linear_model\\_coordinate_descent.py:532: ConvergenceWarning: Objective did not converge. You might want to increase the number of iterations. Duality gap: 1924749014.6394129, tolerance: 191615.72795852792\n",
      "  positive)\n",
      "C:\\Users\\TRANG THOMAS\\Anaconda\\lib\\site-packages\\sklearn\\linear_model\\_coordinate_descent.py:532: ConvergenceWarning: Objective did not converge. You might want to increase the number of iterations. Duality gap: 2021766539.188915, tolerance: 200123.5302821518\n",
      "  positive)\n",
      "C:\\Users\\TRANG THOMAS\\Anaconda\\lib\\site-packages\\sklearn\\linear_model\\_coordinate_descent.py:532: ConvergenceWarning: Objective did not converge. You might want to increase the number of iterations. Duality gap: 2003591877.201641, tolerance: 198064.4263844421\n",
      "  positive)\n",
      "C:\\Users\\TRANG THOMAS\\Anaconda\\lib\\site-packages\\sklearn\\linear_model\\_coordinate_descent.py:532: ConvergenceWarning: Objective did not converge. You might want to increase the number of iterations. Duality gap: 2033830995.0466418, tolerance: 202219.9535969969\n",
      "  positive)\n",
      "C:\\Users\\TRANG THOMAS\\Anaconda\\lib\\site-packages\\sklearn\\linear_model\\_coordinate_descent.py:532: ConvergenceWarning: Objective did not converge. You might want to increase the number of iterations. Duality gap: 1925127882.6642857, tolerance: 191615.72795852792\n",
      "  positive)\n"
     ]
    },
    {
     "name": "stderr",
     "output_type": "stream",
     "text": [
      "C:\\Users\\TRANG THOMAS\\Anaconda\\lib\\site-packages\\sklearn\\linear_model\\_coordinate_descent.py:532: ConvergenceWarning: Objective did not converge. You might want to increase the number of iterations. Duality gap: 2022265712.8056822, tolerance: 200123.5302821518\n",
      "  positive)\n",
      "C:\\Users\\TRANG THOMAS\\Anaconda\\lib\\site-packages\\sklearn\\linear_model\\_coordinate_descent.py:532: ConvergenceWarning: Objective did not converge. You might want to increase the number of iterations. Duality gap: 2004082330.4205298, tolerance: 198064.4263844421\n",
      "  positive)\n",
      "C:\\Users\\TRANG THOMAS\\Anaconda\\lib\\site-packages\\sklearn\\linear_model\\_coordinate_descent.py:532: ConvergenceWarning: Objective did not converge. You might want to increase the number of iterations. Duality gap: 2034452496.9518728, tolerance: 202219.9535969969\n",
      "  positive)\n",
      "C:\\Users\\TRANG THOMAS\\Anaconda\\lib\\site-packages\\sklearn\\linear_model\\_coordinate_descent.py:532: ConvergenceWarning: Objective did not converge. You might want to increase the number of iterations. Duality gap: 1925506750.6891317, tolerance: 191615.72795852792\n",
      "  positive)\n",
      "C:\\Users\\TRANG THOMAS\\Anaconda\\lib\\site-packages\\sklearn\\linear_model\\_coordinate_descent.py:532: ConvergenceWarning: Objective did not converge. You might want to increase the number of iterations. Duality gap: 2022764886.4224393, tolerance: 200123.5302821518\n",
      "  positive)\n",
      "C:\\Users\\TRANG THOMAS\\Anaconda\\lib\\site-packages\\sklearn\\linear_model\\_coordinate_descent.py:532: ConvergenceWarning: Objective did not converge. You might want to increase the number of iterations. Duality gap: 2004572783.6393776, tolerance: 198064.4263844421\n",
      "  positive)\n",
      "C:\\Users\\TRANG THOMAS\\Anaconda\\lib\\site-packages\\sklearn\\linear_model\\_coordinate_descent.py:532: ConvergenceWarning: Objective did not converge. You might want to increase the number of iterations. Duality gap: 2035073998.8575058, tolerance: 202219.9535969969\n",
      "  positive)\n",
      "C:\\Users\\TRANG THOMAS\\Anaconda\\lib\\site-packages\\sklearn\\linear_model\\_coordinate_descent.py:532: ConvergenceWarning: Objective did not converge. You might want to increase the number of iterations. Duality gap: 1925885618.7138898, tolerance: 191615.72795852792\n",
      "  positive)\n",
      "C:\\Users\\TRANG THOMAS\\Anaconda\\lib\\site-packages\\sklearn\\linear_model\\_coordinate_descent.py:532: ConvergenceWarning: Objective did not converge. You might want to increase the number of iterations. Duality gap: 2023264060.0392733, tolerance: 200123.5302821518\n",
      "  positive)\n",
      "C:\\Users\\TRANG THOMAS\\Anaconda\\lib\\site-packages\\sklearn\\linear_model\\_coordinate_descent.py:532: ConvergenceWarning: Objective did not converge. You might want to increase the number of iterations. Duality gap: 2005063236.8582482, tolerance: 198064.4263844421\n",
      "  positive)\n",
      "C:\\Users\\TRANG THOMAS\\Anaconda\\lib\\site-packages\\sklearn\\linear_model\\_coordinate_descent.py:532: ConvergenceWarning: Objective did not converge. You might want to increase the number of iterations. Duality gap: 2035695500.7629337, tolerance: 202219.9535969969\n",
      "  positive)\n",
      "C:\\Users\\TRANG THOMAS\\Anaconda\\lib\\site-packages\\sklearn\\linear_model\\_coordinate_descent.py:532: ConvergenceWarning: Objective did not converge. You might want to increase the number of iterations. Duality gap: 1926264486.7387533, tolerance: 191615.72795852792\n",
      "  positive)\n",
      "C:\\Users\\TRANG THOMAS\\Anaconda\\lib\\site-packages\\sklearn\\linear_model\\_coordinate_descent.py:532: ConvergenceWarning: Objective did not converge. You might want to increase the number of iterations. Duality gap: 2023763233.6558118, tolerance: 200123.5302821518\n",
      "  positive)\n",
      "C:\\Users\\TRANG THOMAS\\Anaconda\\lib\\site-packages\\sklearn\\linear_model\\_coordinate_descent.py:532: ConvergenceWarning: Objective did not converge. You might want to increase the number of iterations. Duality gap: 2005553690.0771308, tolerance: 198064.4263844421\n",
      "  positive)\n",
      "C:\\Users\\TRANG THOMAS\\Anaconda\\lib\\site-packages\\sklearn\\linear_model\\_coordinate_descent.py:532: ConvergenceWarning: Objective did not converge. You might want to increase the number of iterations. Duality gap: 2036317002.6683517, tolerance: 202219.9535969969\n",
      "  positive)\n",
      "C:\\Users\\TRANG THOMAS\\Anaconda\\lib\\site-packages\\sklearn\\linear_model\\_coordinate_descent.py:532: ConvergenceWarning: Objective did not converge. You might want to increase the number of iterations. Duality gap: 1926643354.7636924, tolerance: 191615.72795852792\n",
      "  positive)\n",
      "C:\\Users\\TRANG THOMAS\\Anaconda\\lib\\site-packages\\sklearn\\linear_model\\_coordinate_descent.py:532: ConvergenceWarning: Objective did not converge. You might want to increase the number of iterations. Duality gap: 2024262407.27287, tolerance: 200123.5302821518\n",
      "  positive)\n",
      "C:\\Users\\TRANG THOMAS\\Anaconda\\lib\\site-packages\\sklearn\\linear_model\\_coordinate_descent.py:532: ConvergenceWarning: Objective did not converge. You might want to increase the number of iterations. Duality gap: 2006044143.2959943, tolerance: 198064.4263844421\n",
      "  positive)\n",
      "C:\\Users\\TRANG THOMAS\\Anaconda\\lib\\site-packages\\sklearn\\linear_model\\_coordinate_descent.py:532: ConvergenceWarning: Objective did not converge. You might want to increase the number of iterations. Duality gap: 2036938504.5736384, tolerance: 202219.9535969969\n",
      "  positive)\n",
      "C:\\Users\\TRANG THOMAS\\Anaconda\\lib\\site-packages\\sklearn\\linear_model\\_coordinate_descent.py:532: ConvergenceWarning: Objective did not converge. You might want to increase the number of iterations. Duality gap: 1927022222.7885563, tolerance: 191615.72795852792\n",
      "  positive)\n",
      "C:\\Users\\TRANG THOMAS\\Anaconda\\lib\\site-packages\\sklearn\\linear_model\\_coordinate_descent.py:532: ConvergenceWarning: Objective did not converge. You might want to increase the number of iterations. Duality gap: 2024761580.8896525, tolerance: 200123.5302821518\n",
      "  positive)\n",
      "C:\\Users\\TRANG THOMAS\\Anaconda\\lib\\site-packages\\sklearn\\linear_model\\_coordinate_descent.py:532: ConvergenceWarning: Objective did not converge. You might want to increase the number of iterations. Duality gap: 2006534596.5146465, tolerance: 198064.4263844421\n",
      "  positive)\n",
      "C:\\Users\\TRANG THOMAS\\Anaconda\\lib\\site-packages\\sklearn\\linear_model\\_coordinate_descent.py:532: ConvergenceWarning: Objective did not converge. You might want to increase the number of iterations. Duality gap: 2037560006.4791908, tolerance: 202219.9535969969\n",
      "  positive)\n",
      "C:\\Users\\TRANG THOMAS\\Anaconda\\lib\\site-packages\\sklearn\\linear_model\\_coordinate_descent.py:532: ConvergenceWarning: Objective did not converge. You might want to increase the number of iterations. Duality gap: 1927401090.813395, tolerance: 191615.72795852792\n",
      "  positive)\n",
      "C:\\Users\\TRANG THOMAS\\Anaconda\\lib\\site-packages\\sklearn\\linear_model\\_coordinate_descent.py:532: ConvergenceWarning: Objective did not converge. You might want to increase the number of iterations. Duality gap: 2025260754.506291, tolerance: 200123.5302821518\n",
      "  positive)\n",
      "C:\\Users\\TRANG THOMAS\\Anaconda\\lib\\site-packages\\sklearn\\linear_model\\_coordinate_descent.py:532: ConvergenceWarning: Objective did not converge. You might want to increase the number of iterations. Duality gap: 2007025049.7337375, tolerance: 198064.4263844421\n",
      "  positive)\n",
      "C:\\Users\\TRANG THOMAS\\Anaconda\\lib\\site-packages\\sklearn\\linear_model\\_coordinate_descent.py:532: ConvergenceWarning: Objective did not converge. You might want to increase the number of iterations. Duality gap: 2038181508.3844435, tolerance: 202219.9535969969\n",
      "  positive)\n",
      "C:\\Users\\TRANG THOMAS\\Anaconda\\lib\\site-packages\\sklearn\\linear_model\\_coordinate_descent.py:532: ConvergenceWarning: Objective did not converge. You might want to increase the number of iterations. Duality gap: 1927779958.8382864, tolerance: 191615.72795852792\n",
      "  positive)\n",
      "C:\\Users\\TRANG THOMAS\\Anaconda\\lib\\site-packages\\sklearn\\linear_model\\_coordinate_descent.py:532: ConvergenceWarning: Objective did not converge. You might want to increase the number of iterations. Duality gap: 2025759928.1230133, tolerance: 200123.5302821518\n",
      "  positive)\n",
      "C:\\Users\\TRANG THOMAS\\Anaconda\\lib\\site-packages\\sklearn\\linear_model\\_coordinate_descent.py:532: ConvergenceWarning: Objective did not converge. You might want to increase the number of iterations. Duality gap: 2007515502.952591, tolerance: 198064.4263844421\n",
      "  positive)\n",
      "C:\\Users\\TRANG THOMAS\\Anaconda\\lib\\site-packages\\sklearn\\linear_model\\_coordinate_descent.py:532: ConvergenceWarning: Objective did not converge. You might want to increase the number of iterations. Duality gap: 2038803010.2899902, tolerance: 202219.9535969969\n",
      "  positive)\n",
      "C:\\Users\\TRANG THOMAS\\Anaconda\\lib\\site-packages\\sklearn\\linear_model\\_coordinate_descent.py:532: ConvergenceWarning: Objective did not converge. You might want to increase the number of iterations. Duality gap: 1928158826.863123, tolerance: 191615.72795852792\n",
      "  positive)\n"
     ]
    },
    {
     "name": "stderr",
     "output_type": "stream",
     "text": [
      "C:\\Users\\TRANG THOMAS\\Anaconda\\lib\\site-packages\\sklearn\\linear_model\\_coordinate_descent.py:532: ConvergenceWarning: Objective did not converge. You might want to increase the number of iterations. Duality gap: 2026259101.740018, tolerance: 200123.5302821518\n",
      "  positive)\n",
      "C:\\Users\\TRANG THOMAS\\Anaconda\\lib\\site-packages\\sklearn\\linear_model\\_coordinate_descent.py:532: ConvergenceWarning: Objective did not converge. You might want to increase the number of iterations. Duality gap: 2008005956.171451, tolerance: 198064.4263844421\n",
      "  positive)\n",
      "C:\\Users\\TRANG THOMAS\\Anaconda\\lib\\site-packages\\sklearn\\linear_model\\_coordinate_descent.py:532: ConvergenceWarning: Objective did not converge. You might want to increase the number of iterations. Duality gap: 2039424512.1954253, tolerance: 202219.9535969969\n",
      "  positive)\n",
      "C:\\Users\\TRANG THOMAS\\Anaconda\\lib\\site-packages\\sklearn\\linear_model\\_coordinate_descent.py:532: ConvergenceWarning: Objective did not converge. You might want to increase the number of iterations. Duality gap: 1928537694.887988, tolerance: 191615.72795852792\n",
      "  positive)\n",
      "C:\\Users\\TRANG THOMAS\\Anaconda\\lib\\site-packages\\sklearn\\linear_model\\_coordinate_descent.py:532: ConvergenceWarning: Objective did not converge. You might want to increase the number of iterations. Duality gap: 2026758275.3568249, tolerance: 200123.5302821518\n",
      "  positive)\n",
      "C:\\Users\\TRANG THOMAS\\Anaconda\\lib\\site-packages\\sklearn\\linear_model\\_coordinate_descent.py:532: ConvergenceWarning: Objective did not converge. You might want to increase the number of iterations. Duality gap: 2008496409.3903284, tolerance: 198064.4263844421\n",
      "  positive)\n",
      "C:\\Users\\TRANG THOMAS\\Anaconda\\lib\\site-packages\\sklearn\\linear_model\\_coordinate_descent.py:532: ConvergenceWarning: Objective did not converge. You might want to increase the number of iterations. Duality gap: 2040046014.1007226, tolerance: 202219.9535969969\n",
      "  positive)\n",
      "C:\\Users\\TRANG THOMAS\\Anaconda\\lib\\site-packages\\sklearn\\linear_model\\_coordinate_descent.py:532: ConvergenceWarning: Objective did not converge. You might want to increase the number of iterations. Duality gap: 1928916562.9128513, tolerance: 191615.72795852792\n",
      "  positive)\n",
      "C:\\Users\\TRANG THOMAS\\Anaconda\\lib\\site-packages\\sklearn\\linear_model\\_coordinate_descent.py:532: ConvergenceWarning: Objective did not converge. You might want to increase the number of iterations. Duality gap: 2027257448.973626, tolerance: 200123.5302821518\n",
      "  positive)\n",
      "C:\\Users\\TRANG THOMAS\\Anaconda\\lib\\site-packages\\sklearn\\linear_model\\_coordinate_descent.py:532: ConvergenceWarning: Objective did not converge. You might want to increase the number of iterations. Duality gap: 2008986862.6092038, tolerance: 198064.4263844421\n",
      "  positive)\n",
      "C:\\Users\\TRANG THOMAS\\Anaconda\\lib\\site-packages\\sklearn\\linear_model\\_coordinate_descent.py:532: ConvergenceWarning: Objective did not converge. You might want to increase the number of iterations. Duality gap: 2040667516.0060806, tolerance: 202219.9535969969\n",
      "  positive)\n",
      "C:\\Users\\TRANG THOMAS\\Anaconda\\lib\\site-packages\\sklearn\\linear_model\\_coordinate_descent.py:532: ConvergenceWarning: Objective did not converge. You might want to increase the number of iterations. Duality gap: 1929295430.9376435, tolerance: 191615.72795852792\n",
      "  positive)\n",
      "C:\\Users\\TRANG THOMAS\\Anaconda\\lib\\site-packages\\sklearn\\linear_model\\_coordinate_descent.py:532: ConvergenceWarning: Objective did not converge. You might want to increase the number of iterations. Duality gap: 2027756622.5904336, tolerance: 200123.5302821518\n",
      "  positive)\n",
      "C:\\Users\\TRANG THOMAS\\Anaconda\\lib\\site-packages\\sklearn\\linear_model\\_coordinate_descent.py:532: ConvergenceWarning: Objective did not converge. You might want to increase the number of iterations. Duality gap: 2009477315.828074, tolerance: 198064.4263844421\n",
      "  positive)\n",
      "C:\\Users\\TRANG THOMAS\\Anaconda\\lib\\site-packages\\sklearn\\linear_model\\_coordinate_descent.py:532: ConvergenceWarning: Objective did not converge. You might want to increase the number of iterations. Duality gap: 2041289017.9116578, tolerance: 202219.9535969969\n",
      "  positive)\n",
      "C:\\Users\\TRANG THOMAS\\Anaconda\\lib\\site-packages\\sklearn\\linear_model\\_coordinate_descent.py:532: ConvergenceWarning: Objective did not converge. You might want to increase the number of iterations. Duality gap: 1929674298.9625697, tolerance: 191615.72795852792\n",
      "  positive)\n",
      "C:\\Users\\TRANG THOMAS\\Anaconda\\lib\\site-packages\\sklearn\\linear_model\\_coordinate_descent.py:532: ConvergenceWarning: Objective did not converge. You might want to increase the number of iterations. Duality gap: 2028255796.2072139, tolerance: 200123.5302821518\n",
      "  positive)\n",
      "C:\\Users\\TRANG THOMAS\\Anaconda\\lib\\site-packages\\sklearn\\linear_model\\_coordinate_descent.py:532: ConvergenceWarning: Objective did not converge. You might want to increase the number of iterations. Duality gap: 2009967769.0469437, tolerance: 198064.4263844421\n",
      "  positive)\n",
      "C:\\Users\\TRANG THOMAS\\Anaconda\\lib\\site-packages\\sklearn\\linear_model\\_coordinate_descent.py:532: ConvergenceWarning: Objective did not converge. You might want to increase the number of iterations. Duality gap: 2041910519.8169363, tolerance: 202219.9535969969\n",
      "  positive)\n",
      "C:\\Users\\TRANG THOMAS\\Anaconda\\lib\\site-packages\\sklearn\\linear_model\\_coordinate_descent.py:532: ConvergenceWarning: Objective did not converge. You might want to increase the number of iterations. Duality gap: 1930053166.987421, tolerance: 191615.72795852792\n",
      "  positive)\n",
      "C:\\Users\\TRANG THOMAS\\Anaconda\\lib\\site-packages\\sklearn\\linear_model\\_coordinate_descent.py:532: ConvergenceWarning: Objective did not converge. You might want to increase the number of iterations. Duality gap: 2028754969.8239803, tolerance: 200123.5302821518\n",
      "  positive)\n",
      "C:\\Users\\TRANG THOMAS\\Anaconda\\lib\\site-packages\\sklearn\\linear_model\\_coordinate_descent.py:532: ConvergenceWarning: Objective did not converge. You might want to increase the number of iterations. Duality gap: 2010458222.2657995, tolerance: 198064.4263844421\n",
      "  positive)\n",
      "C:\\Users\\TRANG THOMAS\\Anaconda\\lib\\site-packages\\sklearn\\linear_model\\_coordinate_descent.py:532: ConvergenceWarning: Objective did not converge. You might want to increase the number of iterations. Duality gap: 2042532021.7224164, tolerance: 202219.9535969969\n",
      "  positive)\n",
      "C:\\Users\\TRANG THOMAS\\Anaconda\\lib\\site-packages\\sklearn\\linear_model\\_coordinate_descent.py:532: ConvergenceWarning: Objective did not converge. You might want to increase the number of iterations. Duality gap: 1930432035.01227, tolerance: 191615.72795852792\n",
      "  positive)\n",
      "C:\\Users\\TRANG THOMAS\\Anaconda\\lib\\site-packages\\sklearn\\linear_model\\_coordinate_descent.py:532: ConvergenceWarning: Objective did not converge. You might want to increase the number of iterations. Duality gap: 2029254143.4407775, tolerance: 200123.5302821518\n",
      "  positive)\n",
      "C:\\Users\\TRANG THOMAS\\Anaconda\\lib\\site-packages\\sklearn\\linear_model\\_coordinate_descent.py:532: ConvergenceWarning: Objective did not converge. You might want to increase the number of iterations. Duality gap: 2010948675.4846778, tolerance: 198064.4263844421\n",
      "  positive)\n",
      "C:\\Users\\TRANG THOMAS\\Anaconda\\lib\\site-packages\\sklearn\\linear_model\\_coordinate_descent.py:532: ConvergenceWarning: Objective did not converge. You might want to increase the number of iterations. Duality gap: 2043153523.6278777, tolerance: 202219.9535969969\n",
      "  positive)\n",
      "C:\\Users\\TRANG THOMAS\\Anaconda\\lib\\site-packages\\sklearn\\linear_model\\_coordinate_descent.py:532: ConvergenceWarning: Objective did not converge. You might want to increase the number of iterations. Duality gap: 1930810903.0371428, tolerance: 191615.72795852792\n",
      "  positive)\n",
      "C:\\Users\\TRANG THOMAS\\Anaconda\\lib\\site-packages\\sklearn\\linear_model\\_coordinate_descent.py:532: ConvergenceWarning: Objective did not converge. You might want to increase the number of iterations. Duality gap: 2029753317.0575948, tolerance: 200123.5302821518\n",
      "  positive)\n",
      "C:\\Users\\TRANG THOMAS\\Anaconda\\lib\\site-packages\\sklearn\\linear_model\\_coordinate_descent.py:532: ConvergenceWarning: Objective did not converge. You might want to increase the number of iterations. Duality gap: 2011439128.7035375, tolerance: 198064.4263844421\n",
      "  positive)\n",
      "C:\\Users\\TRANG THOMAS\\Anaconda\\lib\\site-packages\\sklearn\\linear_model\\_coordinate_descent.py:532: ConvergenceWarning: Objective did not converge. You might want to increase the number of iterations. Duality gap: 2043775025.533268, tolerance: 202219.9535969969\n",
      "  positive)\n"
     ]
    },
    {
     "name": "stderr",
     "output_type": "stream",
     "text": [
      "C:\\Users\\TRANG THOMAS\\Anaconda\\lib\\site-packages\\sklearn\\linear_model\\_coordinate_descent.py:532: ConvergenceWarning: Objective did not converge. You might want to increase the number of iterations. Duality gap: 1931189771.06198, tolerance: 191615.72795852792\n",
      "  positive)\n",
      "C:\\Users\\TRANG THOMAS\\Anaconda\\lib\\site-packages\\sklearn\\linear_model\\_coordinate_descent.py:532: ConvergenceWarning: Objective did not converge. You might want to increase the number of iterations. Duality gap: 2030252490.6741748, tolerance: 200123.5302821518\n",
      "  positive)\n",
      "C:\\Users\\TRANG THOMAS\\Anaconda\\lib\\site-packages\\sklearn\\linear_model\\_coordinate_descent.py:532: ConvergenceWarning: Objective did not converge. You might want to increase the number of iterations. Duality gap: 2011929581.9224257, tolerance: 198064.4263844421\n",
      "  positive)\n",
      "C:\\Users\\TRANG THOMAS\\Anaconda\\lib\\site-packages\\sklearn\\linear_model\\_coordinate_descent.py:532: ConvergenceWarning: Objective did not converge. You might want to increase the number of iterations. Duality gap: 2044396527.4387171, tolerance: 202219.9535969969\n",
      "  positive)\n",
      "C:\\Users\\TRANG THOMAS\\Anaconda\\lib\\site-packages\\sklearn\\linear_model\\_coordinate_descent.py:532: ConvergenceWarning: Objective did not converge. You might want to increase the number of iterations. Duality gap: 1931568639.0868611, tolerance: 191615.72795852792\n",
      "  positive)\n",
      "C:\\Users\\TRANG THOMAS\\Anaconda\\lib\\site-packages\\sklearn\\linear_model\\_coordinate_descent.py:532: ConvergenceWarning: Objective did not converge. You might want to increase the number of iterations. Duality gap: 2030751664.2911987, tolerance: 200123.5302821518\n",
      "  positive)\n",
      "C:\\Users\\TRANG THOMAS\\Anaconda\\lib\\site-packages\\sklearn\\linear_model\\_coordinate_descent.py:532: ConvergenceWarning: Objective did not converge. You might want to increase the number of iterations. Duality gap: 2012420035.1412847, tolerance: 198064.4263844421\n",
      "  positive)\n",
      "C:\\Users\\TRANG THOMAS\\Anaconda\\lib\\site-packages\\sklearn\\linear_model\\_coordinate_descent.py:532: ConvergenceWarning: Objective did not converge. You might want to increase the number of iterations. Duality gap: 2045018029.34413, tolerance: 202219.9535969969\n",
      "  positive)\n",
      "C:\\Users\\TRANG THOMAS\\Anaconda\\lib\\site-packages\\sklearn\\linear_model\\_coordinate_descent.py:532: ConvergenceWarning: Objective did not converge. You might want to increase the number of iterations. Duality gap: 1931947507.1117172, tolerance: 191615.72795852792\n",
      "  positive)\n",
      "C:\\Users\\TRANG THOMAS\\Anaconda\\lib\\site-packages\\sklearn\\linear_model\\_coordinate_descent.py:532: ConvergenceWarning: Objective did not converge. You might want to increase the number of iterations. Duality gap: 2031250837.907977, tolerance: 200123.5302821518\n",
      "  positive)\n",
      "C:\\Users\\TRANG THOMAS\\Anaconda\\lib\\site-packages\\sklearn\\linear_model\\_coordinate_descent.py:532: ConvergenceWarning: Objective did not converge. You might want to increase the number of iterations. Duality gap: 2012910488.360149, tolerance: 198064.4263844421\n",
      "  positive)\n",
      "C:\\Users\\TRANG THOMAS\\Anaconda\\lib\\site-packages\\sklearn\\linear_model\\_coordinate_descent.py:532: ConvergenceWarning: Objective did not converge. You might want to increase the number of iterations. Duality gap: 2045639531.2495518, tolerance: 202219.9535969969\n",
      "  positive)\n",
      "C:\\Users\\TRANG THOMAS\\Anaconda\\lib\\site-packages\\sklearn\\linear_model\\_coordinate_descent.py:532: ConvergenceWarning: Objective did not converge. You might want to increase the number of iterations. Duality gap: 1932326375.1365695, tolerance: 191615.72795852792\n",
      "  positive)\n",
      "C:\\Users\\TRANG THOMAS\\Anaconda\\lib\\site-packages\\sklearn\\linear_model\\_coordinate_descent.py:532: ConvergenceWarning: Objective did not converge. You might want to increase the number of iterations. Duality gap: 1808671919.998325, tolerance: 200123.5302821518\n",
      "  positive)\n",
      "C:\\Users\\TRANG THOMAS\\Anaconda\\lib\\site-packages\\sklearn\\linear_model\\_coordinate_descent.py:532: ConvergenceWarning: Objective did not converge. You might want to increase the number of iterations. Duality gap: 2013400941.5789452, tolerance: 198064.4263844421\n",
      "  positive)\n",
      "C:\\Users\\TRANG THOMAS\\Anaconda\\lib\\site-packages\\sklearn\\linear_model\\_coordinate_descent.py:532: ConvergenceWarning: Objective did not converge. You might want to increase the number of iterations. Duality gap: 2046261033.1547241, tolerance: 202219.9535969969\n",
      "  positive)\n",
      "C:\\Users\\TRANG THOMAS\\Anaconda\\lib\\site-packages\\sklearn\\linear_model\\_coordinate_descent.py:532: ConvergenceWarning: Objective did not converge. You might want to increase the number of iterations. Duality gap: 1932705243.1613579, tolerance: 191615.72795852792\n",
      "  positive)\n",
      "C:\\Users\\TRANG THOMAS\\Anaconda\\lib\\site-packages\\sklearn\\linear_model\\_coordinate_descent.py:532: ConvergenceWarning: Objective did not converge. You might want to increase the number of iterations. Duality gap: 1810848372.4988256, tolerance: 200123.5302821518\n",
      "  positive)\n",
      "C:\\Users\\TRANG THOMAS\\Anaconda\\lib\\site-packages\\sklearn\\linear_model\\_coordinate_descent.py:532: ConvergenceWarning: Objective did not converge. You might want to increase the number of iterations. Duality gap: 2013891394.7978806, tolerance: 198064.4263844421\n",
      "  positive)\n",
      "C:\\Users\\TRANG THOMAS\\Anaconda\\lib\\site-packages\\sklearn\\linear_model\\_coordinate_descent.py:532: ConvergenceWarning: Objective did not converge. You might want to increase the number of iterations. Duality gap: 2046882535.060379, tolerance: 202219.9535969969\n",
      "  positive)\n",
      "C:\\Users\\TRANG THOMAS\\Anaconda\\lib\\site-packages\\sklearn\\linear_model\\_coordinate_descent.py:532: ConvergenceWarning: Objective did not converge. You might want to increase the number of iterations. Duality gap: 1933084111.1862938, tolerance: 191615.72795852792\n",
      "  positive)\n",
      "C:\\Users\\TRANG THOMAS\\Anaconda\\lib\\site-packages\\sklearn\\linear_model\\_coordinate_descent.py:532: ConvergenceWarning: Objective did not converge. You might want to increase the number of iterations. Duality gap: 1813024824.999304, tolerance: 200123.5302821518\n",
      "  positive)\n",
      "C:\\Users\\TRANG THOMAS\\Anaconda\\lib\\site-packages\\sklearn\\linear_model\\_coordinate_descent.py:532: ConvergenceWarning: Objective did not converge. You might want to increase the number of iterations. Duality gap: 2014381848.0167427, tolerance: 198064.4263844421\n",
      "  positive)\n",
      "C:\\Users\\TRANG THOMAS\\Anaconda\\lib\\site-packages\\sklearn\\linear_model\\_coordinate_descent.py:532: ConvergenceWarning: Objective did not converge. You might want to increase the number of iterations. Duality gap: 2047504036.9657817, tolerance: 202219.9535969969\n",
      "  positive)\n",
      "C:\\Users\\TRANG THOMAS\\Anaconda\\lib\\site-packages\\sklearn\\linear_model\\_coordinate_descent.py:532: ConvergenceWarning: Objective did not converge. You might want to increase the number of iterations. Duality gap: 1933462979.2111409, tolerance: 191615.72795852792\n",
      "  positive)\n",
      "C:\\Users\\TRANG THOMAS\\Anaconda\\lib\\site-packages\\sklearn\\linear_model\\_coordinate_descent.py:532: ConvergenceWarning: Objective did not converge. You might want to increase the number of iterations. Duality gap: 1815201277.4997516, tolerance: 200123.5302821518\n",
      "  positive)\n",
      "C:\\Users\\TRANG THOMAS\\Anaconda\\lib\\site-packages\\sklearn\\linear_model\\_coordinate_descent.py:532: ConvergenceWarning: Objective did not converge. You might want to increase the number of iterations. Duality gap: 2014872301.235632, tolerance: 198064.4263844421\n",
      "  positive)\n",
      "C:\\Users\\TRANG THOMAS\\Anaconda\\lib\\site-packages\\sklearn\\linear_model\\_coordinate_descent.py:532: ConvergenceWarning: Objective did not converge. You might want to increase the number of iterations. Duality gap: 2048125538.8712025, tolerance: 202219.9535969969\n",
      "  positive)\n",
      "C:\\Users\\TRANG THOMAS\\Anaconda\\lib\\site-packages\\sklearn\\linear_model\\_coordinate_descent.py:532: ConvergenceWarning: Objective did not converge. You might want to increase the number of iterations. Duality gap: 1933841847.236016, tolerance: 191615.72795852792\n",
      "  positive)\n",
      "C:\\Users\\TRANG THOMAS\\Anaconda\\lib\\site-packages\\sklearn\\linear_model\\_coordinate_descent.py:532: ConvergenceWarning: Objective did not converge. You might want to increase the number of iterations. Duality gap: 1817377730.0001917, tolerance: 200123.5302821518\n",
      "  positive)\n",
      "C:\\Users\\TRANG THOMAS\\Anaconda\\lib\\site-packages\\sklearn\\linear_model\\_coordinate_descent.py:532: ConvergenceWarning: Objective did not converge. You might want to increase the number of iterations. Duality gap: 2015362754.4544816, tolerance: 198064.4263844421\n",
      "  positive)\n"
     ]
    },
    {
     "name": "stderr",
     "output_type": "stream",
     "text": [
      "C:\\Users\\TRANG THOMAS\\Anaconda\\lib\\site-packages\\sklearn\\linear_model\\_coordinate_descent.py:532: ConvergenceWarning: Objective did not converge. You might want to increase the number of iterations. Duality gap: 2048747040.7765923, tolerance: 202219.9535969969\n",
      "  positive)\n",
      "C:\\Users\\TRANG THOMAS\\Anaconda\\lib\\site-packages\\sklearn\\linear_model\\_coordinate_descent.py:532: ConvergenceWarning: Objective did not converge. You might want to increase the number of iterations. Duality gap: 1934220715.2608654, tolerance: 191615.72795852792\n",
      "  positive)\n",
      "C:\\Users\\TRANG THOMAS\\Anaconda\\lib\\site-packages\\sklearn\\linear_model\\_coordinate_descent.py:532: ConvergenceWarning: Objective did not converge. You might want to increase the number of iterations. Duality gap: 1819554182.5006433, tolerance: 200123.5302821518\n",
      "  positive)\n",
      "C:\\Users\\TRANG THOMAS\\Anaconda\\lib\\site-packages\\sklearn\\linear_model\\_coordinate_descent.py:532: ConvergenceWarning: Objective did not converge. You might want to increase the number of iterations. Duality gap: 2015853207.6733603, tolerance: 198064.4263844421\n",
      "  positive)\n",
      "C:\\Users\\TRANG THOMAS\\Anaconda\\lib\\site-packages\\sklearn\\linear_model\\_coordinate_descent.py:532: ConvergenceWarning: Objective did not converge. You might want to increase the number of iterations. Duality gap: 2049368542.6819372, tolerance: 202219.9535969969\n",
      "  positive)\n",
      "C:\\Users\\TRANG THOMAS\\Anaconda\\lib\\site-packages\\sklearn\\linear_model\\_coordinate_descent.py:532: ConvergenceWarning: Objective did not converge. You might want to increase the number of iterations. Duality gap: 1934599583.285643, tolerance: 191615.72795852792\n",
      "  positive)\n",
      "C:\\Users\\TRANG THOMAS\\Anaconda\\lib\\site-packages\\sklearn\\linear_model\\_coordinate_descent.py:532: ConvergenceWarning: Objective did not converge. You might want to increase the number of iterations. Duality gap: 1821730635.0008197, tolerance: 200123.5302821518\n",
      "  positive)\n",
      "C:\\Users\\TRANG THOMAS\\Anaconda\\lib\\site-packages\\sklearn\\linear_model\\_coordinate_descent.py:532: ConvergenceWarning: Objective did not converge. You might want to increase the number of iterations. Duality gap: 1814921057.4194121, tolerance: 198064.4263844421\n",
      "  positive)\n",
      "C:\\Users\\TRANG THOMAS\\Anaconda\\lib\\site-packages\\sklearn\\linear_model\\_coordinate_descent.py:532: ConvergenceWarning: Objective did not converge. You might want to increase the number of iterations. Duality gap: 2049990044.5873504, tolerance: 202219.9535969969\n",
      "  positive)\n",
      "C:\\Users\\TRANG THOMAS\\Anaconda\\lib\\site-packages\\sklearn\\linear_model\\_coordinate_descent.py:532: ConvergenceWarning: Objective did not converge. You might want to increase the number of iterations. Duality gap: 1934978451.3105593, tolerance: 191615.72795852792\n",
      "  positive)\n",
      "C:\\Users\\TRANG THOMAS\\Anaconda\\lib\\site-packages\\sklearn\\linear_model\\_coordinate_descent.py:532: ConvergenceWarning: Objective did not converge. You might want to increase the number of iterations. Duality gap: 1823907087.5015335, tolerance: 200123.5302821518\n",
      "  positive)\n",
      "C:\\Users\\TRANG THOMAS\\Anaconda\\lib\\site-packages\\sklearn\\linear_model\\_coordinate_descent.py:532: ConvergenceWarning: Objective did not converge. You might want to increase the number of iterations. Duality gap: 1817010102.7293782, tolerance: 198064.4263844421\n",
      "  positive)\n",
      "C:\\Users\\TRANG THOMAS\\Anaconda\\lib\\site-packages\\sklearn\\linear_model\\_coordinate_descent.py:532: ConvergenceWarning: Objective did not converge. You might want to increase the number of iterations. Duality gap: 2050611546.4926746, tolerance: 202219.9535969969\n",
      "  positive)\n",
      "C:\\Users\\TRANG THOMAS\\Anaconda\\lib\\site-packages\\sklearn\\linear_model\\_coordinate_descent.py:532: ConvergenceWarning: Objective did not converge. You might want to increase the number of iterations. Duality gap: 1935357319.3354144, tolerance: 191615.72795852792\n",
      "  positive)\n",
      "C:\\Users\\TRANG THOMAS\\Anaconda\\lib\\site-packages\\sklearn\\linear_model\\_coordinate_descent.py:532: ConvergenceWarning: Objective did not converge. You might want to increase the number of iterations. Duality gap: 1826083540.0020065, tolerance: 200123.5302821518\n",
      "  positive)\n",
      "C:\\Users\\TRANG THOMAS\\Anaconda\\lib\\site-packages\\sklearn\\linear_model\\_coordinate_descent.py:532: ConvergenceWarning: Objective did not converge. You might want to increase the number of iterations. Duality gap: 1819099148.0393, tolerance: 198064.4263844421\n",
      "  positive)\n",
      "C:\\Users\\TRANG THOMAS\\Anaconda\\lib\\site-packages\\sklearn\\linear_model\\_coordinate_descent.py:532: ConvergenceWarning: Objective did not converge. You might want to increase the number of iterations. Duality gap: 2051233048.3982692, tolerance: 202219.9535969969\n",
      "  positive)\n",
      "C:\\Users\\TRANG THOMAS\\Anaconda\\lib\\site-packages\\sklearn\\linear_model\\_coordinate_descent.py:532: ConvergenceWarning: Objective did not converge. You might want to increase the number of iterations. Duality gap: 1718522892.623877, tolerance: 191615.72795852792\n",
      "  positive)\n",
      "C:\\Users\\TRANG THOMAS\\Anaconda\\lib\\site-packages\\sklearn\\linear_model\\_coordinate_descent.py:532: ConvergenceWarning: Objective did not converge. You might want to increase the number of iterations. Duality gap: 1828259992.5024328, tolerance: 200123.5302821518\n",
      "  positive)\n",
      "C:\\Users\\TRANG THOMAS\\Anaconda\\lib\\site-packages\\sklearn\\linear_model\\_coordinate_descent.py:532: ConvergenceWarning: Objective did not converge. You might want to increase the number of iterations. Duality gap: 1821188193.3492174, tolerance: 198064.4263844421\n",
      "  positive)\n",
      "C:\\Users\\TRANG THOMAS\\Anaconda\\lib\\site-packages\\sklearn\\linear_model\\_coordinate_descent.py:532: ConvergenceWarning: Objective did not converge. You might want to increase the number of iterations. Duality gap: 2051854550.3036842, tolerance: 202219.9535969969\n",
      "  positive)\n",
      "C:\\Users\\TRANG THOMAS\\Anaconda\\lib\\site-packages\\sklearn\\linear_model\\_coordinate_descent.py:532: ConvergenceWarning: Objective did not converge. You might want to increase the number of iterations. Duality gap: 1720653480.7673712, tolerance: 191615.72795852792\n",
      "  positive)\n",
      "C:\\Users\\TRANG THOMAS\\Anaconda\\lib\\site-packages\\sklearn\\linear_model\\_coordinate_descent.py:532: ConvergenceWarning: Objective did not converge. You might want to increase the number of iterations. Duality gap: 1830436445.0028832, tolerance: 200123.5302821518\n",
      "  positive)\n",
      "C:\\Users\\TRANG THOMAS\\Anaconda\\lib\\site-packages\\sklearn\\linear_model\\_coordinate_descent.py:532: ConvergenceWarning: Objective did not converge. You might want to increase the number of iterations. Duality gap: 1823277238.6591344, tolerance: 198064.4263844421\n",
      "  positive)\n",
      "C:\\Users\\TRANG THOMAS\\Anaconda\\lib\\site-packages\\sklearn\\linear_model\\_coordinate_descent.py:532: ConvergenceWarning: Objective did not converge. You might want to increase the number of iterations. Duality gap: 2052476052.2089882, tolerance: 202219.9535969969\n",
      "  positive)\n",
      "C:\\Users\\TRANG THOMAS\\Anaconda\\lib\\site-packages\\sklearn\\linear_model\\_coordinate_descent.py:532: ConvergenceWarning: Objective did not converge. You might want to increase the number of iterations. Duality gap: 1722784068.9112673, tolerance: 191615.72795852792\n",
      "  positive)\n",
      "C:\\Users\\TRANG THOMAS\\Anaconda\\lib\\site-packages\\sklearn\\linear_model\\_coordinate_descent.py:532: ConvergenceWarning: Objective did not converge. You might want to increase the number of iterations. Duality gap: 1832612897.5033317, tolerance: 200123.5302821518\n",
      "  positive)\n",
      "C:\\Users\\TRANG THOMAS\\Anaconda\\lib\\site-packages\\sklearn\\linear_model\\_coordinate_descent.py:532: ConvergenceWarning: Objective did not converge. You might want to increase the number of iterations. Duality gap: 1825366283.9690588, tolerance: 198064.4263844421\n",
      "  positive)\n",
      "C:\\Users\\TRANG THOMAS\\Anaconda\\lib\\site-packages\\sklearn\\linear_model\\_coordinate_descent.py:532: ConvergenceWarning: Objective did not converge. You might want to increase the number of iterations. Duality gap: 2053097554.1145086, tolerance: 202219.9535969969\n",
      "  positive)\n",
      "C:\\Users\\TRANG THOMAS\\Anaconda\\lib\\site-packages\\sklearn\\linear_model\\_coordinate_descent.py:532: ConvergenceWarning: Objective did not converge. You might want to increase the number of iterations. Duality gap: 1724914657.0549445, tolerance: 191615.72795852792\n",
      "  positive)\n",
      "C:\\Users\\TRANG THOMAS\\Anaconda\\lib\\site-packages\\sklearn\\linear_model\\_coordinate_descent.py:532: ConvergenceWarning: Objective did not converge. You might want to increase the number of iterations. Duality gap: 1834789350.0038035, tolerance: 200123.5302821518\n",
      "  positive)\n"
     ]
    },
    {
     "name": "stderr",
     "output_type": "stream",
     "text": [
      "C:\\Users\\TRANG THOMAS\\Anaconda\\lib\\site-packages\\sklearn\\linear_model\\_coordinate_descent.py:532: ConvergenceWarning: Objective did not converge. You might want to increase the number of iterations. Duality gap: 1827455329.2789977, tolerance: 198064.4263844421\n",
      "  positive)\n",
      "C:\\Users\\TRANG THOMAS\\Anaconda\\lib\\site-packages\\sklearn\\linear_model\\_coordinate_descent.py:532: ConvergenceWarning: Objective did not converge. You might want to increase the number of iterations. Duality gap: 2053719056.0199084, tolerance: 202219.9535969969\n",
      "  positive)\n",
      "C:\\Users\\TRANG THOMAS\\Anaconda\\lib\\site-packages\\sklearn\\linear_model\\_coordinate_descent.py:532: ConvergenceWarning: Objective did not converge. You might want to increase the number of iterations. Duality gap: 1727045245.198666, tolerance: 191615.72795852792\n",
      "  positive)\n",
      "C:\\Users\\TRANG THOMAS\\Anaconda\\lib\\site-packages\\sklearn\\linear_model\\_coordinate_descent.py:532: ConvergenceWarning: Objective did not converge. You might want to increase the number of iterations. Duality gap: 1836965802.5042622, tolerance: 200123.5302821518\n",
      "  positive)\n",
      "C:\\Users\\TRANG THOMAS\\Anaconda\\lib\\site-packages\\sklearn\\linear_model\\_coordinate_descent.py:532: ConvergenceWarning: Objective did not converge. You might want to increase the number of iterations. Duality gap: 1829544374.5888963, tolerance: 198064.4263844421\n",
      "  positive)\n",
      "C:\\Users\\TRANG THOMAS\\Anaconda\\lib\\site-packages\\sklearn\\linear_model\\_coordinate_descent.py:532: ConvergenceWarning: Objective did not converge. You might want to increase the number of iterations. Duality gap: 1860668977.338251, tolerance: 202219.9535969969\n",
      "  positive)\n",
      "C:\\Users\\TRANG THOMAS\\Anaconda\\lib\\site-packages\\sklearn\\linear_model\\_coordinate_descent.py:532: ConvergenceWarning: Objective did not converge. You might want to increase the number of iterations. Duality gap: 1729175833.342352, tolerance: 191615.72795852792\n",
      "  positive)\n",
      "C:\\Users\\TRANG THOMAS\\Anaconda\\lib\\site-packages\\sklearn\\linear_model\\_coordinate_descent.py:532: ConvergenceWarning: Objective did not converge. You might want to increase the number of iterations. Duality gap: 1839142255.0047083, tolerance: 200123.5302821518\n",
      "  positive)\n",
      "C:\\Users\\TRANG THOMAS\\Anaconda\\lib\\site-packages\\sklearn\\linear_model\\_coordinate_descent.py:532: ConvergenceWarning: Objective did not converge. You might want to increase the number of iterations. Duality gap: 1831633419.8988483, tolerance: 198064.4263844421\n",
      "  positive)\n",
      "C:\\Users\\TRANG THOMAS\\Anaconda\\lib\\site-packages\\sklearn\\linear_model\\_coordinate_descent.py:532: ConvergenceWarning: Objective did not converge. You might want to increase the number of iterations. Duality gap: 1862917971.5176325, tolerance: 202219.9535969969\n",
      "  positive)\n",
      "C:\\Users\\TRANG THOMAS\\Anaconda\\lib\\site-packages\\sklearn\\linear_model\\_coordinate_descent.py:532: ConvergenceWarning: Objective did not converge. You might want to increase the number of iterations. Duality gap: 1731306421.486071, tolerance: 191615.72795852792\n",
      "  positive)\n",
      "C:\\Users\\TRANG THOMAS\\Anaconda\\lib\\site-packages\\sklearn\\linear_model\\_coordinate_descent.py:532: ConvergenceWarning: Objective did not converge. You might want to increase the number of iterations. Duality gap: 1841318707.5051227, tolerance: 200123.5302821518\n",
      "  positive)\n",
      "C:\\Users\\TRANG THOMAS\\Anaconda\\lib\\site-packages\\sklearn\\linear_model\\_coordinate_descent.py:532: ConvergenceWarning: Objective did not converge. You might want to increase the number of iterations. Duality gap: 1833722465.208766, tolerance: 198064.4263844421\n",
      "  positive)\n",
      "C:\\Users\\TRANG THOMAS\\Anaconda\\lib\\site-packages\\sklearn\\linear_model\\_coordinate_descent.py:532: ConvergenceWarning: Objective did not converge. You might want to increase the number of iterations. Duality gap: 1865166965.69668, tolerance: 202219.9535969969\n",
      "  positive)\n",
      "C:\\Users\\TRANG THOMAS\\Anaconda\\lib\\site-packages\\sklearn\\linear_model\\_coordinate_descent.py:532: ConvergenceWarning: Objective did not converge. You might want to increase the number of iterations. Duality gap: 1733437009.6297345, tolerance: 191615.72795852792\n",
      "  positive)\n",
      "C:\\Users\\TRANG THOMAS\\Anaconda\\lib\\site-packages\\sklearn\\linear_model\\_coordinate_descent.py:532: ConvergenceWarning: Objective did not converge. You might want to increase the number of iterations. Duality gap: 1843495160.0054626, tolerance: 200123.5302821518\n",
      "  positive)\n",
      "C:\\Users\\TRANG THOMAS\\Anaconda\\lib\\site-packages\\sklearn\\linear_model\\_coordinate_descent.py:532: ConvergenceWarning: Objective did not converge. You might want to increase the number of iterations. Duality gap: 1835811510.5186625, tolerance: 198064.4263844421\n",
      "  positive)\n",
      "C:\\Users\\TRANG THOMAS\\Anaconda\\lib\\site-packages\\sklearn\\linear_model\\_coordinate_descent.py:532: ConvergenceWarning: Objective did not converge. You might want to increase the number of iterations. Duality gap: 1867415959.8759856, tolerance: 202219.9535969969\n",
      "  positive)\n",
      "C:\\Users\\TRANG THOMAS\\Anaconda\\lib\\site-packages\\sklearn\\linear_model\\_coordinate_descent.py:532: ConvergenceWarning: Objective did not converge. You might want to increase the number of iterations. Duality gap: 1735567597.773469, tolerance: 191615.72795852792\n",
      "  positive)\n",
      "C:\\Users\\TRANG THOMAS\\Anaconda\\lib\\site-packages\\sklearn\\linear_model\\_coordinate_descent.py:532: ConvergenceWarning: Objective did not converge. You might want to increase the number of iterations. Duality gap: 1845671612.5059962, tolerance: 200123.5302821518\n",
      "  positive)\n",
      "C:\\Users\\TRANG THOMAS\\Anaconda\\lib\\site-packages\\sklearn\\linear_model\\_coordinate_descent.py:532: ConvergenceWarning: Objective did not converge. You might want to increase the number of iterations. Duality gap: 1837900555.8285818, tolerance: 198064.4263844421\n",
      "  positive)\n",
      "C:\\Users\\TRANG THOMAS\\Anaconda\\lib\\site-packages\\sklearn\\linear_model\\_coordinate_descent.py:532: ConvergenceWarning: Objective did not converge. You might want to increase the number of iterations. Duality gap: 1869664954.0553446, tolerance: 202219.9535969969\n",
      "  positive)\n",
      "C:\\Users\\TRANG THOMAS\\Anaconda\\lib\\site-packages\\sklearn\\linear_model\\_coordinate_descent.py:532: ConvergenceWarning: Objective did not converge. You might want to increase the number of iterations. Duality gap: 1737698185.917184, tolerance: 191615.72795852792\n",
      "  positive)\n",
      "C:\\Users\\TRANG THOMAS\\Anaconda\\lib\\site-packages\\sklearn\\linear_model\\_coordinate_descent.py:532: ConvergenceWarning: Objective did not converge. You might want to increase the number of iterations. Duality gap: 1847848065.0065029, tolerance: 200123.5302821518\n",
      "  positive)\n",
      "C:\\Users\\TRANG THOMAS\\Anaconda\\lib\\site-packages\\sklearn\\linear_model\\_coordinate_descent.py:532: ConvergenceWarning: Objective did not converge. You might want to increase the number of iterations. Duality gap: 1839989601.1385245, tolerance: 198064.4263844421\n",
      "  positive)\n",
      "C:\\Users\\TRANG THOMAS\\Anaconda\\lib\\site-packages\\sklearn\\linear_model\\_coordinate_descent.py:532: ConvergenceWarning: Objective did not converge. You might want to increase the number of iterations. Duality gap: 1871913948.2343998, tolerance: 202219.9535969969\n",
      "  positive)\n",
      "C:\\Users\\TRANG THOMAS\\Anaconda\\lib\\site-packages\\sklearn\\linear_model\\_coordinate_descent.py:532: ConvergenceWarning: Objective did not converge. You might want to increase the number of iterations. Duality gap: 1739828774.0608695, tolerance: 191615.72795852792\n",
      "  positive)\n",
      "C:\\Users\\TRANG THOMAS\\Anaconda\\lib\\site-packages\\sklearn\\linear_model\\_coordinate_descent.py:532: ConvergenceWarning: Objective did not converge. You might want to increase the number of iterations. Duality gap: 1850024517.5069187, tolerance: 200123.5302821518\n",
      "  positive)\n",
      "C:\\Users\\TRANG THOMAS\\Anaconda\\lib\\site-packages\\sklearn\\linear_model\\_coordinate_descent.py:532: ConvergenceWarning: Objective did not converge. You might want to increase the number of iterations. Duality gap: 1842078646.44841, tolerance: 198064.4263844421\n",
      "  positive)\n",
      "C:\\Users\\TRANG THOMAS\\Anaconda\\lib\\site-packages\\sklearn\\linear_model\\_coordinate_descent.py:532: ConvergenceWarning: Objective did not converge. You might want to increase the number of iterations. Duality gap: 1874162942.4138618, tolerance: 202219.9535969969\n",
      "  positive)\n",
      "C:\\Users\\TRANG THOMAS\\Anaconda\\lib\\site-packages\\sklearn\\linear_model\\_coordinate_descent.py:532: ConvergenceWarning: Objective did not converge. You might want to increase the number of iterations. Duality gap: 1741959362.204553, tolerance: 191615.72795852792\n",
      "  positive)\n"
     ]
    },
    {
     "name": "stderr",
     "output_type": "stream",
     "text": [
      "C:\\Users\\TRANG THOMAS\\Anaconda\\lib\\site-packages\\sklearn\\linear_model\\_coordinate_descent.py:532: ConvergenceWarning: Objective did not converge. You might want to increase the number of iterations. Duality gap: 1852200970.007218, tolerance: 200123.5302821518\n",
      "  positive)\n",
      "C:\\Users\\TRANG THOMAS\\Anaconda\\lib\\site-packages\\sklearn\\linear_model\\_coordinate_descent.py:532: ConvergenceWarning: Objective did not converge. You might want to increase the number of iterations. Duality gap: 1844167691.7583587, tolerance: 198064.4263844421\n",
      "  positive)\n",
      "C:\\Users\\TRANG THOMAS\\Anaconda\\lib\\site-packages\\sklearn\\linear_model\\_coordinate_descent.py:532: ConvergenceWarning: Objective did not converge. You might want to increase the number of iterations. Duality gap: 1876411936.5930734, tolerance: 202219.9535969969\n",
      "  positive)\n",
      "C:\\Users\\TRANG THOMAS\\Anaconda\\lib\\site-packages\\sklearn\\linear_model\\_coordinate_descent.py:532: ConvergenceWarning: Objective did not converge. You might want to increase the number of iterations. Duality gap: 1744089950.3482618, tolerance: 191615.72795852792\n",
      "  positive)\n",
      "C:\\Users\\TRANG THOMAS\\Anaconda\\lib\\site-packages\\sklearn\\linear_model\\_coordinate_descent.py:532: ConvergenceWarning: Objective did not converge. You might want to increase the number of iterations. Duality gap: 1854377422.5078573, tolerance: 200123.5302821518\n",
      "  positive)\n",
      "C:\\Users\\TRANG THOMAS\\Anaconda\\lib\\site-packages\\sklearn\\linear_model\\_coordinate_descent.py:532: ConvergenceWarning: Objective did not converge. You might want to increase the number of iterations. Duality gap: 1846256737.068283, tolerance: 198064.4263844421\n",
      "  positive)\n",
      "C:\\Users\\TRANG THOMAS\\Anaconda\\lib\\site-packages\\sklearn\\linear_model\\_coordinate_descent.py:532: ConvergenceWarning: Objective did not converge. You might want to increase the number of iterations. Duality gap: 1878660930.7723694, tolerance: 202219.9535969969\n",
      "  positive)\n",
      "C:\\Users\\TRANG THOMAS\\Anaconda\\lib\\site-packages\\sklearn\\linear_model\\_coordinate_descent.py:532: ConvergenceWarning: Objective did not converge. You might want to increase the number of iterations. Duality gap: 1746220538.491972, tolerance: 191615.72795852792\n",
      "  positive)\n",
      "C:\\Users\\TRANG THOMAS\\Anaconda\\lib\\site-packages\\sklearn\\linear_model\\_coordinate_descent.py:532: ConvergenceWarning: Objective did not converge. You might want to increase the number of iterations. Duality gap: 1856553875.0080552, tolerance: 200123.5302821518\n",
      "  positive)\n",
      "C:\\Users\\TRANG THOMAS\\Anaconda\\lib\\site-packages\\sklearn\\linear_model\\_coordinate_descent.py:532: ConvergenceWarning: Objective did not converge. You might want to increase the number of iterations. Duality gap: 1848345782.3782122, tolerance: 198064.4263844421\n",
      "  positive)\n",
      "C:\\Users\\TRANG THOMAS\\Anaconda\\lib\\site-packages\\sklearn\\linear_model\\_coordinate_descent.py:532: ConvergenceWarning: Objective did not converge. You might want to increase the number of iterations. Duality gap: 1880909924.9516416, tolerance: 202219.9535969969\n",
      "  positive)\n",
      "C:\\Users\\TRANG THOMAS\\Anaconda\\lib\\site-packages\\sklearn\\linear_model\\_coordinate_descent.py:532: ConvergenceWarning: Objective did not converge. You might want to increase the number of iterations. Duality gap: 1748351126.635673, tolerance: 191615.72795852792\n",
      "  positive)\n",
      "C:\\Users\\TRANG THOMAS\\Anaconda\\lib\\site-packages\\sklearn\\linear_model\\_coordinate_descent.py:532: ConvergenceWarning: Objective did not converge. You might want to increase the number of iterations. Duality gap: 1858730327.5087163, tolerance: 200123.5302821518\n",
      "  positive)\n",
      "C:\\Users\\TRANG THOMAS\\Anaconda\\lib\\site-packages\\sklearn\\linear_model\\_coordinate_descent.py:532: ConvergenceWarning: Objective did not converge. You might want to increase the number of iterations. Duality gap: 1850434827.6881354, tolerance: 198064.4263844421\n",
      "  positive)\n",
      "C:\\Users\\TRANG THOMAS\\Anaconda\\lib\\site-packages\\sklearn\\linear_model\\_coordinate_descent.py:532: ConvergenceWarning: Objective did not converge. You might want to increase the number of iterations. Duality gap: 1883158919.1308599, tolerance: 202219.9535969969\n",
      "  positive)\n",
      "C:\\Users\\TRANG THOMAS\\Anaconda\\lib\\site-packages\\sklearn\\linear_model\\_coordinate_descent.py:532: ConvergenceWarning: Objective did not converge. You might want to increase the number of iterations. Duality gap: 1750481714.7793398, tolerance: 191615.72795852792\n",
      "  positive)\n",
      "C:\\Users\\TRANG THOMAS\\Anaconda\\lib\\site-packages\\sklearn\\linear_model\\_coordinate_descent.py:532: ConvergenceWarning: Objective did not converge. You might want to increase the number of iterations. Duality gap: 1860906780.009089, tolerance: 200123.5302821518\n",
      "  positive)\n",
      "C:\\Users\\TRANG THOMAS\\Anaconda\\lib\\site-packages\\sklearn\\linear_model\\_coordinate_descent.py:532: ConvergenceWarning: Objective did not converge. You might want to increase the number of iterations. Duality gap: 1852523872.9979358, tolerance: 198064.4263844421\n",
      "  positive)\n",
      "C:\\Users\\TRANG THOMAS\\Anaconda\\lib\\site-packages\\sklearn\\linear_model\\_coordinate_descent.py:532: ConvergenceWarning: Objective did not converge. You might want to increase the number of iterations. Duality gap: 1885407913.3100376, tolerance: 202219.9535969969\n",
      "  positive)\n",
      "C:\\Users\\TRANG THOMAS\\Anaconda\\lib\\site-packages\\sklearn\\linear_model\\_coordinate_descent.py:532: ConvergenceWarning: Objective did not converge. You might want to increase the number of iterations. Duality gap: 1752612302.923071, tolerance: 191615.72795852792\n",
      "  positive)\n",
      "C:\\Users\\TRANG THOMAS\\Anaconda\\lib\\site-packages\\sklearn\\linear_model\\_coordinate_descent.py:532: ConvergenceWarning: Objective did not converge. You might want to increase the number of iterations. Duality gap: 1863083232.5094419, tolerance: 200123.5302821518\n",
      "  positive)\n",
      "C:\\Users\\TRANG THOMAS\\Anaconda\\lib\\site-packages\\sklearn\\linear_model\\_coordinate_descent.py:532: ConvergenceWarning: Objective did not converge. You might want to increase the number of iterations. Duality gap: 1854612918.307908, tolerance: 198064.4263844421\n",
      "  positive)\n",
      "C:\\Users\\TRANG THOMAS\\Anaconda\\lib\\site-packages\\sklearn\\linear_model\\_coordinate_descent.py:532: ConvergenceWarning: Objective did not converge. You might want to increase the number of iterations. Duality gap: 1887656907.4892602, tolerance: 202219.9535969969\n",
      "  positive)\n",
      "C:\\Users\\TRANG THOMAS\\Anaconda\\lib\\site-packages\\sklearn\\linear_model\\_coordinate_descent.py:532: ConvergenceWarning: Objective did not converge. You might want to increase the number of iterations. Duality gap: 1754742891.0667734, tolerance: 191615.72795852792\n",
      "  positive)\n",
      "C:\\Users\\TRANG THOMAS\\Anaconda\\lib\\site-packages\\sklearn\\linear_model\\_coordinate_descent.py:532: ConvergenceWarning: Objective did not converge. You might want to increase the number of iterations. Duality gap: 1865259685.0100598, tolerance: 200123.5302821518\n",
      "  positive)\n",
      "C:\\Users\\TRANG THOMAS\\Anaconda\\lib\\site-packages\\sklearn\\linear_model\\_coordinate_descent.py:532: ConvergenceWarning: Objective did not converge. You might want to increase the number of iterations. Duality gap: 1856701963.6179056, tolerance: 198064.4263844421\n",
      "  positive)\n",
      "C:\\Users\\TRANG THOMAS\\Anaconda\\lib\\site-packages\\sklearn\\linear_model\\_coordinate_descent.py:532: ConvergenceWarning: Objective did not converge. You might want to increase the number of iterations. Duality gap: 1889905901.6684902, tolerance: 202219.9535969969\n",
      "  positive)\n",
      "C:\\Users\\TRANG THOMAS\\Anaconda\\lib\\site-packages\\sklearn\\linear_model\\_coordinate_descent.py:532: ConvergenceWarning: Objective did not converge. You might want to increase the number of iterations. Duality gap: 1756873479.2104757, tolerance: 191615.72795852792\n",
      "  positive)\n",
      "C:\\Users\\TRANG THOMAS\\Anaconda\\lib\\site-packages\\sklearn\\linear_model\\_coordinate_descent.py:532: ConvergenceWarning: Objective did not converge. You might want to increase the number of iterations. Duality gap: 1867436137.5102432, tolerance: 200123.5302821518\n",
      "  positive)\n",
      "C:\\Users\\TRANG THOMAS\\Anaconda\\lib\\site-packages\\sklearn\\linear_model\\_coordinate_descent.py:532: ConvergenceWarning: Objective did not converge. You might want to increase the number of iterations. Duality gap: 1858791008.9278326, tolerance: 198064.4263844421\n",
      "  positive)\n",
      "C:\\Users\\TRANG THOMAS\\Anaconda\\lib\\site-packages\\sklearn\\linear_model\\_coordinate_descent.py:532: ConvergenceWarning: Objective did not converge. You might want to increase the number of iterations. Duality gap: 1892154895.8479104, tolerance: 202219.9535969969\n",
      "  positive)\n"
     ]
    },
    {
     "name": "stderr",
     "output_type": "stream",
     "text": [
      "C:\\Users\\TRANG THOMAS\\Anaconda\\lib\\site-packages\\sklearn\\linear_model\\_coordinate_descent.py:532: ConvergenceWarning: Objective did not converge. You might want to increase the number of iterations. Duality gap: 1759004067.3541474, tolerance: 191615.72795852792\n",
      "  positive)\n",
      "C:\\Users\\TRANG THOMAS\\Anaconda\\lib\\site-packages\\sklearn\\linear_model\\_coordinate_descent.py:532: ConvergenceWarning: Objective did not converge. You might want to increase the number of iterations. Duality gap: 1869612590.0110025, tolerance: 200123.5302821518\n",
      "  positive)\n",
      "C:\\Users\\TRANG THOMAS\\Anaconda\\lib\\site-packages\\sklearn\\linear_model\\_coordinate_descent.py:532: ConvergenceWarning: Objective did not converge. You might want to increase the number of iterations. Duality gap: 1860880054.2377124, tolerance: 198064.4263844421\n",
      "  positive)\n",
      "C:\\Users\\TRANG THOMAS\\Anaconda\\lib\\site-packages\\sklearn\\linear_model\\_coordinate_descent.py:532: ConvergenceWarning: Objective did not converge. You might want to increase the number of iterations. Duality gap: 1894403890.027143, tolerance: 202219.9535969969\n",
      "  positive)\n",
      "C:\\Users\\TRANG THOMAS\\Anaconda\\lib\\site-packages\\sklearn\\linear_model\\_coordinate_descent.py:532: ConvergenceWarning: Objective did not converge. You might want to increase the number of iterations. Duality gap: 1761134655.4978776, tolerance: 191615.72795852792\n",
      "  positive)\n",
      "C:\\Users\\TRANG THOMAS\\Anaconda\\lib\\site-packages\\sklearn\\linear_model\\_coordinate_descent.py:532: ConvergenceWarning: Objective did not converge. You might want to increase the number of iterations. Duality gap: 1871789042.5114675, tolerance: 200123.5302821518\n",
      "  positive)\n",
      "C:\\Users\\TRANG THOMAS\\Anaconda\\lib\\site-packages\\sklearn\\linear_model\\_coordinate_descent.py:532: ConvergenceWarning: Objective did not converge. You might want to increase the number of iterations. Duality gap: 1862969099.5476642, tolerance: 198064.4263844421\n",
      "  positive)\n",
      "C:\\Users\\TRANG THOMAS\\Anaconda\\lib\\site-packages\\sklearn\\linear_model\\_coordinate_descent.py:532: ConvergenceWarning: Objective did not converge. You might want to increase the number of iterations. Duality gap: 1896652884.2063403, tolerance: 202219.9535969969\n",
      "  positive)\n",
      "C:\\Users\\TRANG THOMAS\\Anaconda\\lib\\site-packages\\sklearn\\linear_model\\_coordinate_descent.py:532: ConvergenceWarning: Objective did not converge. You might want to increase the number of iterations. Duality gap: 1763265243.6415296, tolerance: 191615.72795852792\n",
      "  positive)\n",
      "C:\\Users\\TRANG THOMAS\\Anaconda\\lib\\site-packages\\sklearn\\linear_model\\_coordinate_descent.py:532: ConvergenceWarning: Objective did not converge. You might want to increase the number of iterations. Duality gap: 1873965495.0119185, tolerance: 200123.5302821518\n",
      "  positive)\n",
      "C:\\Users\\TRANG THOMAS\\Anaconda\\lib\\site-packages\\sklearn\\linear_model\\_coordinate_descent.py:532: ConvergenceWarning: Objective did not converge. You might want to increase the number of iterations. Duality gap: 1865058144.8575935, tolerance: 198064.4263844421\n",
      "  positive)\n",
      "C:\\Users\\TRANG THOMAS\\Anaconda\\lib\\site-packages\\sklearn\\linear_model\\_coordinate_descent.py:532: ConvergenceWarning: Objective did not converge. You might want to increase the number of iterations. Duality gap: 1898901878.3855472, tolerance: 202219.9535969969\n",
      "  positive)\n",
      "C:\\Users\\TRANG THOMAS\\Anaconda\\lib\\site-packages\\sklearn\\linear_model\\_coordinate_descent.py:532: ConvergenceWarning: Objective did not converge. You might want to increase the number of iterations. Duality gap: 1765395831.7852798, tolerance: 191615.72795852792\n",
      "  positive)\n",
      "C:\\Users\\TRANG THOMAS\\Anaconda\\lib\\site-packages\\sklearn\\linear_model\\_coordinate_descent.py:532: ConvergenceWarning: Objective did not converge. You might want to increase the number of iterations. Duality gap: 1876141947.5123718, tolerance: 200123.5302821518\n",
      "  positive)\n",
      "C:\\Users\\TRANG THOMAS\\Anaconda\\lib\\site-packages\\sklearn\\linear_model\\_coordinate_descent.py:532: ConvergenceWarning: Objective did not converge. You might want to increase the number of iterations. Duality gap: 1867147190.1675162, tolerance: 198064.4263844421\n",
      "  positive)\n",
      "C:\\Users\\TRANG THOMAS\\Anaconda\\lib\\site-packages\\sklearn\\linear_model\\_coordinate_descent.py:532: ConvergenceWarning: Objective did not converge. You might want to increase the number of iterations. Duality gap: 1901150872.5649095, tolerance: 202219.9535969969\n",
      "  positive)\n",
      "C:\\Users\\TRANG THOMAS\\Anaconda\\lib\\site-packages\\sklearn\\linear_model\\_coordinate_descent.py:532: ConvergenceWarning: Objective did not converge. You might want to increase the number of iterations. Duality gap: 1767526419.9289708, tolerance: 191615.72795852792\n",
      "  positive)\n",
      "C:\\Users\\TRANG THOMAS\\Anaconda\\lib\\site-packages\\sklearn\\linear_model\\_coordinate_descent.py:532: ConvergenceWarning: Objective did not converge. You might want to increase the number of iterations. Duality gap: 1878318400.0127602, tolerance: 200123.5302821518\n",
      "  positive)\n",
      "C:\\Users\\TRANG THOMAS\\Anaconda\\lib\\site-packages\\sklearn\\linear_model\\_coordinate_descent.py:532: ConvergenceWarning: Objective did not converge. You might want to increase the number of iterations. Duality gap: 1869236235.4774342, tolerance: 198064.4263844421\n",
      "  positive)\n",
      "C:\\Users\\TRANG THOMAS\\Anaconda\\lib\\site-packages\\sklearn\\linear_model\\_coordinate_descent.py:532: ConvergenceWarning: Objective did not converge. You might want to increase the number of iterations. Duality gap: 1903399866.7441773, tolerance: 202219.9535969969\n",
      "  positive)\n",
      "C:\\Users\\TRANG THOMAS\\Anaconda\\lib\\site-packages\\sklearn\\linear_model\\_coordinate_descent.py:532: ConvergenceWarning: Objective did not converge. You might want to increase the number of iterations. Duality gap: 1769657008.0726643, tolerance: 191615.72795852792\n",
      "  positive)\n",
      "C:\\Users\\TRANG THOMAS\\Anaconda\\lib\\site-packages\\sklearn\\linear_model\\_coordinate_descent.py:532: ConvergenceWarning: Objective did not converge. You might want to increase the number of iterations. Duality gap: 1880494852.5132704, tolerance: 200123.5302821518\n",
      "  positive)\n",
      "C:\\Users\\TRANG THOMAS\\Anaconda\\lib\\site-packages\\sklearn\\linear_model\\_coordinate_descent.py:532: ConvergenceWarning: Objective did not converge. You might want to increase the number of iterations. Duality gap: 1871325280.7873535, tolerance: 198064.4263844421\n",
      "  positive)\n",
      "C:\\Users\\TRANG THOMAS\\Anaconda\\lib\\site-packages\\sklearn\\linear_model\\_coordinate_descent.py:532: ConvergenceWarning: Objective did not converge. You might want to increase the number of iterations. Duality gap: 1905648860.9234262, tolerance: 202219.9535969969\n",
      "  positive)\n",
      "C:\\Users\\TRANG THOMAS\\Anaconda\\lib\\site-packages\\sklearn\\linear_model\\_coordinate_descent.py:532: ConvergenceWarning: Objective did not converge. You might want to increase the number of iterations. Duality gap: 1771787596.216206, tolerance: 191615.72795852792\n",
      "  positive)\n",
      "C:\\Users\\TRANG THOMAS\\Anaconda\\lib\\site-packages\\sklearn\\linear_model\\_coordinate_descent.py:532: ConvergenceWarning: Objective did not converge. You might want to increase the number of iterations. Duality gap: 1882671305.0135286, tolerance: 200123.5302821518\n",
      "  positive)\n",
      "C:\\Users\\TRANG THOMAS\\Anaconda\\lib\\site-packages\\sklearn\\linear_model\\_coordinate_descent.py:532: ConvergenceWarning: Objective did not converge. You might want to increase the number of iterations. Duality gap: 1873414326.0972328, tolerance: 198064.4263844421\n",
      "  positive)\n",
      "C:\\Users\\TRANG THOMAS\\Anaconda\\lib\\site-packages\\sklearn\\linear_model\\_coordinate_descent.py:532: ConvergenceWarning: Objective did not converge. You might want to increase the number of iterations. Duality gap: 1907897855.1026888, tolerance: 202219.9535969969\n",
      "  positive)\n",
      "C:\\Users\\TRANG THOMAS\\Anaconda\\lib\\site-packages\\sklearn\\linear_model\\_coordinate_descent.py:532: ConvergenceWarning: Objective did not converge. You might want to increase the number of iterations. Duality gap: 1773918184.3599973, tolerance: 191615.72795852792\n",
      "  positive)\n",
      "C:\\Users\\TRANG THOMAS\\Anaconda\\lib\\site-packages\\sklearn\\linear_model\\_coordinate_descent.py:532: ConvergenceWarning: Objective did not converge. You might want to increase the number of iterations. Duality gap: 1884847757.5141804, tolerance: 200123.5302821518\n",
      "  positive)\n",
      "C:\\Users\\TRANG THOMAS\\Anaconda\\lib\\site-packages\\sklearn\\linear_model\\_coordinate_descent.py:532: ConvergenceWarning: Objective did not converge. You might want to increase the number of iterations. Duality gap: 1875503371.4072053, tolerance: 198064.4263844421\n",
      "  positive)\n"
     ]
    },
    {
     "name": "stderr",
     "output_type": "stream",
     "text": [
      "C:\\Users\\TRANG THOMAS\\Anaconda\\lib\\site-packages\\sklearn\\linear_model\\_coordinate_descent.py:532: ConvergenceWarning: Objective did not converge. You might want to increase the number of iterations. Duality gap: 1910146849.2817712, tolerance: 202219.9535969969\n",
      "  positive)\n",
      "C:\\Users\\TRANG THOMAS\\Anaconda\\lib\\site-packages\\sklearn\\linear_model\\_coordinate_descent.py:532: ConvergenceWarning: Objective did not converge. You might want to increase the number of iterations. Duality gap: 1776048772.5037782, tolerance: 191615.72795852792\n",
      "  positive)\n",
      "C:\\Users\\TRANG THOMAS\\Anaconda\\lib\\site-packages\\sklearn\\linear_model\\_coordinate_descent.py:532: ConvergenceWarning: Objective did not converge. You might want to increase the number of iterations. Duality gap: 1887024210.0146039, tolerance: 200123.5302821518\n",
      "  positive)\n",
      "C:\\Users\\TRANG THOMAS\\Anaconda\\lib\\site-packages\\sklearn\\linear_model\\_coordinate_descent.py:532: ConvergenceWarning: Objective did not converge. You might want to increase the number of iterations. Duality gap: 1877592416.7170877, tolerance: 198064.4263844421\n",
      "  positive)\n",
      "C:\\Users\\TRANG THOMAS\\Anaconda\\lib\\site-packages\\sklearn\\linear_model\\_coordinate_descent.py:532: ConvergenceWarning: Objective did not converge. You might want to increase the number of iterations. Duality gap: 1912395843.4611988, tolerance: 202219.9535969969\n",
      "  positive)\n",
      "C:\\Users\\TRANG THOMAS\\Anaconda\\lib\\site-packages\\sklearn\\linear_model\\_coordinate_descent.py:532: ConvergenceWarning: Objective did not converge. You might want to increase the number of iterations. Duality gap: 1778179360.6474805, tolerance: 191615.72795852792\n",
      "  positive)\n",
      "C:\\Users\\TRANG THOMAS\\Anaconda\\lib\\site-packages\\sklearn\\linear_model\\_coordinate_descent.py:532: ConvergenceWarning: Objective did not converge. You might want to increase the number of iterations. Duality gap: 1889200662.5150495, tolerance: 200123.5302821518\n",
      "  positive)\n",
      "C:\\Users\\TRANG THOMAS\\Anaconda\\lib\\site-packages\\sklearn\\linear_model\\_coordinate_descent.py:532: ConvergenceWarning: Objective did not converge. You might want to increase the number of iterations. Duality gap: 1879681462.0270557, tolerance: 198064.4263844421\n",
      "  positive)\n",
      "C:\\Users\\TRANG THOMAS\\Anaconda\\lib\\site-packages\\sklearn\\linear_model\\_coordinate_descent.py:532: ConvergenceWarning: Objective did not converge. You might want to increase the number of iterations. Duality gap: 1914644837.64043, tolerance: 202219.9535969969\n",
      "  positive)\n",
      "C:\\Users\\TRANG THOMAS\\Anaconda\\lib\\site-packages\\sklearn\\linear_model\\_coordinate_descent.py:532: ConvergenceWarning: Objective did not converge. You might want to increase the number of iterations. Duality gap: 1780309948.7911792, tolerance: 191615.72795852792\n",
      "  positive)\n",
      "C:\\Users\\TRANG THOMAS\\Anaconda\\lib\\site-packages\\sklearn\\linear_model\\_coordinate_descent.py:532: ConvergenceWarning: Objective did not converge. You might want to increase the number of iterations. Duality gap: 1891377115.0154557, tolerance: 200123.5302821518\n",
      "  positive)\n",
      "C:\\Users\\TRANG THOMAS\\Anaconda\\lib\\site-packages\\sklearn\\linear_model\\_coordinate_descent.py:532: ConvergenceWarning: Objective did not converge. You might want to increase the number of iterations. Duality gap: 1881770507.3369663, tolerance: 198064.4263844421\n",
      "  positive)\n",
      "C:\\Users\\TRANG THOMAS\\Anaconda\\lib\\site-packages\\sklearn\\linear_model\\_coordinate_descent.py:532: ConvergenceWarning: Objective did not converge. You might want to increase the number of iterations. Duality gap: 1916893831.8197134, tolerance: 202219.9535969969\n",
      "  positive)\n",
      "C:\\Users\\TRANG THOMAS\\Anaconda\\lib\\site-packages\\sklearn\\linear_model\\_coordinate_descent.py:532: ConvergenceWarning: Objective did not converge. You might want to increase the number of iterations. Duality gap: 1782440536.9348707, tolerance: 191615.72795852792\n",
      "  positive)\n",
      "C:\\Users\\TRANG THOMAS\\Anaconda\\lib\\site-packages\\sklearn\\linear_model\\_coordinate_descent.py:532: ConvergenceWarning: Objective did not converge. You might want to increase the number of iterations. Duality gap: 1893553567.5159643, tolerance: 200123.5302821518\n",
      "  positive)\n",
      "C:\\Users\\TRANG THOMAS\\Anaconda\\lib\\site-packages\\sklearn\\linear_model\\_coordinate_descent.py:532: ConvergenceWarning: Objective did not converge. You might want to increase the number of iterations. Duality gap: 1883859552.6468906, tolerance: 198064.4263844421\n",
      "  positive)\n",
      "C:\\Users\\TRANG THOMAS\\Anaconda\\lib\\site-packages\\sklearn\\linear_model\\_coordinate_descent.py:532: ConvergenceWarning: Objective did not converge. You might want to increase the number of iterations. Duality gap: 1919142825.9989538, tolerance: 202219.9535969969\n",
      "  positive)\n",
      "C:\\Users\\TRANG THOMAS\\Anaconda\\lib\\site-packages\\sklearn\\linear_model\\_coordinate_descent.py:532: ConvergenceWarning: Objective did not converge. You might want to increase the number of iterations. Duality gap: 1784571125.0785847, tolerance: 191615.72795852792\n",
      "  positive)\n",
      "C:\\Users\\TRANG THOMAS\\Anaconda\\lib\\site-packages\\sklearn\\linear_model\\_coordinate_descent.py:532: ConvergenceWarning: Objective did not converge. You might want to increase the number of iterations. Duality gap: 1895730020.0164323, tolerance: 200123.5302821518\n",
      "  positive)\n",
      "C:\\Users\\TRANG THOMAS\\Anaconda\\lib\\site-packages\\sklearn\\linear_model\\_coordinate_descent.py:532: ConvergenceWarning: Objective did not converge. You might want to increase the number of iterations. Duality gap: 1885948597.9568086, tolerance: 198064.4263844421\n",
      "  positive)\n",
      "C:\\Users\\TRANG THOMAS\\Anaconda\\lib\\site-packages\\sklearn\\linear_model\\_coordinate_descent.py:532: ConvergenceWarning: Objective did not converge. You might want to increase the number of iterations. Duality gap: 1921391820.1781871, tolerance: 202219.9535969969\n",
      "  positive)\n",
      "C:\\Users\\TRANG THOMAS\\Anaconda\\lib\\site-packages\\sklearn\\linear_model\\_coordinate_descent.py:532: ConvergenceWarning: Objective did not converge. You might want to increase the number of iterations. Duality gap: 1786701713.2222812, tolerance: 191615.72795852792\n",
      "  positive)\n",
      "C:\\Users\\TRANG THOMAS\\Anaconda\\lib\\site-packages\\sklearn\\linear_model\\_coordinate_descent.py:532: ConvergenceWarning: Objective did not converge. You might want to increase the number of iterations. Duality gap: 1897906472.5168786, tolerance: 200123.5302821518\n",
      "  positive)\n",
      "C:\\Users\\TRANG THOMAS\\Anaconda\\lib\\site-packages\\sklearn\\linear_model\\_coordinate_descent.py:532: ConvergenceWarning: Objective did not converge. You might want to increase the number of iterations. Duality gap: 1888037643.2667358, tolerance: 198064.4263844421\n",
      "  positive)\n",
      "C:\\Users\\TRANG THOMAS\\Anaconda\\lib\\site-packages\\sklearn\\linear_model\\_coordinate_descent.py:532: ConvergenceWarning: Objective did not converge. You might want to increase the number of iterations. Duality gap: 1923640814.35739, tolerance: 202219.9535969969\n",
      "  positive)\n",
      "C:\\Users\\TRANG THOMAS\\Anaconda\\lib\\site-packages\\sklearn\\linear_model\\_coordinate_descent.py:532: ConvergenceWarning: Objective did not converge. You might want to increase the number of iterations. Duality gap: 1788832301.3659902, tolerance: 191615.72795852792\n",
      "  positive)\n",
      "C:\\Users\\TRANG THOMAS\\Anaconda\\lib\\site-packages\\sklearn\\linear_model\\_coordinate_descent.py:532: ConvergenceWarning: Objective did not converge. You might want to increase the number of iterations. Duality gap: 1900082925.0173094, tolerance: 200123.5302821518\n",
      "  positive)\n",
      "C:\\Users\\TRANG THOMAS\\Anaconda\\lib\\site-packages\\sklearn\\linear_model\\_coordinate_descent.py:532: ConvergenceWarning: Objective did not converge. You might want to increase the number of iterations. Duality gap: 1890126688.5766573, tolerance: 198064.4263844421\n",
      "  positive)\n",
      "C:\\Users\\TRANG THOMAS\\Anaconda\\lib\\site-packages\\sklearn\\linear_model\\_coordinate_descent.py:532: ConvergenceWarning: Objective did not converge. You might want to increase the number of iterations. Duality gap: 1925889808.5366845, tolerance: 202219.9535969969\n",
      "  positive)\n",
      "C:\\Users\\TRANG THOMAS\\Anaconda\\lib\\site-packages\\sklearn\\linear_model\\_coordinate_descent.py:532: ConvergenceWarning: Objective did not converge. You might want to increase the number of iterations. Duality gap: 1790962889.5096617, tolerance: 191615.72795852792\n",
      "  positive)\n",
      "C:\\Users\\TRANG THOMAS\\Anaconda\\lib\\site-packages\\sklearn\\linear_model\\_coordinate_descent.py:532: ConvergenceWarning: Objective did not converge. You might want to increase the number of iterations. Duality gap: 1902259377.5177522, tolerance: 200123.5302821518\n",
      "  positive)\n"
     ]
    },
    {
     "name": "stderr",
     "output_type": "stream",
     "text": [
      "C:\\Users\\TRANG THOMAS\\Anaconda\\lib\\site-packages\\sklearn\\linear_model\\_coordinate_descent.py:532: ConvergenceWarning: Objective did not converge. You might want to increase the number of iterations. Duality gap: 1892215733.8865716, tolerance: 198064.4263844421\n",
      "  positive)\n",
      "C:\\Users\\TRANG THOMAS\\Anaconda\\lib\\site-packages\\sklearn\\linear_model\\_coordinate_descent.py:532: ConvergenceWarning: Objective did not converge. You might want to increase the number of iterations. Duality gap: 1928138802.7159586, tolerance: 202219.9535969969\n",
      "  positive)\n",
      "C:\\Users\\TRANG THOMAS\\Anaconda\\lib\\site-packages\\sklearn\\linear_model\\_coordinate_descent.py:532: ConvergenceWarning: Objective did not converge. You might want to increase the number of iterations. Duality gap: 1793093477.6533766, tolerance: 191615.72795852792\n",
      "  positive)\n",
      "C:\\Users\\TRANG THOMAS\\Anaconda\\lib\\site-packages\\sklearn\\linear_model\\_coordinate_descent.py:532: ConvergenceWarning: Objective did not converge. You might want to increase the number of iterations. Duality gap: 1904435830.0182476, tolerance: 200123.5302821518\n",
      "  positive)\n",
      "C:\\Users\\TRANG THOMAS\\Anaconda\\lib\\site-packages\\sklearn\\linear_model\\_coordinate_descent.py:532: ConvergenceWarning: Objective did not converge. You might want to increase the number of iterations. Duality gap: 1894304779.1964893, tolerance: 198064.4263844421\n",
      "  positive)\n",
      "C:\\Users\\TRANG THOMAS\\Anaconda\\lib\\site-packages\\sklearn\\linear_model\\_coordinate_descent.py:532: ConvergenceWarning: Objective did not converge. You might want to increase the number of iterations. Duality gap: 1930387796.8952086, tolerance: 202219.9535969969\n",
      "  positive)\n",
      "C:\\Users\\TRANG THOMAS\\Anaconda\\lib\\site-packages\\sklearn\\linear_model\\_coordinate_descent.py:532: ConvergenceWarning: Objective did not converge. You might want to increase the number of iterations. Duality gap: 1795224065.7970657, tolerance: 191615.72795852792\n",
      "  positive)\n",
      "C:\\Users\\TRANG THOMAS\\Anaconda\\lib\\site-packages\\sklearn\\linear_model\\_coordinate_descent.py:532: ConvergenceWarning: Objective did not converge. You might want to increase the number of iterations. Duality gap: 1906612282.5186384, tolerance: 200123.5302821518\n",
      "  positive)\n",
      "C:\\Users\\TRANG THOMAS\\Anaconda\\lib\\site-packages\\sklearn\\linear_model\\_coordinate_descent.py:532: ConvergenceWarning: Objective did not converge. You might want to increase the number of iterations. Duality gap: 1896393824.5063949, tolerance: 198064.4263844421\n",
      "  positive)\n",
      "C:\\Users\\TRANG THOMAS\\Anaconda\\lib\\site-packages\\sklearn\\linear_model\\_coordinate_descent.py:532: ConvergenceWarning: Objective did not converge. You might want to increase the number of iterations. Duality gap: 1932636791.0743833, tolerance: 202219.9535969969\n",
      "  positive)\n",
      "C:\\Users\\TRANG THOMAS\\Anaconda\\lib\\site-packages\\sklearn\\linear_model\\_coordinate_descent.py:532: ConvergenceWarning: Objective did not converge. You might want to increase the number of iterations. Duality gap: 1797354653.9407494, tolerance: 191615.72795852792\n",
      "  positive)\n",
      "C:\\Users\\TRANG THOMAS\\Anaconda\\lib\\site-packages\\sklearn\\linear_model\\_coordinate_descent.py:532: ConvergenceWarning: Objective did not converge. You might want to increase the number of iterations. Duality gap: 1908788735.0191338, tolerance: 200123.5302821518\n",
      "  positive)\n",
      "C:\\Users\\TRANG THOMAS\\Anaconda\\lib\\site-packages\\sklearn\\linear_model\\_coordinate_descent.py:532: ConvergenceWarning: Objective did not converge. You might want to increase the number of iterations. Duality gap: 1898482869.8163257, tolerance: 198064.4263844421\n",
      "  positive)\n",
      "C:\\Users\\TRANG THOMAS\\Anaconda\\lib\\site-packages\\sklearn\\linear_model\\_coordinate_descent.py:532: ConvergenceWarning: Objective did not converge. You might want to increase the number of iterations. Duality gap: 1934885785.253559, tolerance: 202219.9535969969\n",
      "  positive)\n",
      "C:\\Users\\TRANG THOMAS\\Anaconda\\lib\\site-packages\\sklearn\\linear_model\\_coordinate_descent.py:532: ConvergenceWarning: Objective did not converge. You might want to increase the number of iterations. Duality gap: 1799485242.0844104, tolerance: 191615.72795852792\n",
      "  positive)\n",
      "C:\\Users\\TRANG THOMAS\\Anaconda\\lib\\site-packages\\sklearn\\linear_model\\_coordinate_descent.py:532: ConvergenceWarning: Objective did not converge. You might want to increase the number of iterations. Duality gap: 1910965187.519417, tolerance: 200123.5302821518\n",
      "  positive)\n",
      "C:\\Users\\TRANG THOMAS\\Anaconda\\lib\\site-packages\\sklearn\\linear_model\\_coordinate_descent.py:532: ConvergenceWarning: Objective did not converge. You might want to increase the number of iterations. Duality gap: 1900571915.1262054, tolerance: 198064.4263844421\n",
      "  positive)\n",
      "C:\\Users\\TRANG THOMAS\\Anaconda\\lib\\site-packages\\sklearn\\linear_model\\_coordinate_descent.py:532: ConvergenceWarning: Objective did not converge. You might want to increase the number of iterations. Duality gap: 1937134779.432928, tolerance: 202219.9535969969\n",
      "  positive)\n",
      "C:\\Users\\TRANG THOMAS\\Anaconda\\lib\\site-packages\\sklearn\\linear_model\\_coordinate_descent.py:532: ConvergenceWarning: Objective did not converge. You might want to increase the number of iterations. Duality gap: 1801615830.2281785, tolerance: 191615.72795852792\n",
      "  positive)\n",
      "C:\\Users\\TRANG THOMAS\\Anaconda\\lib\\site-packages\\sklearn\\linear_model\\_coordinate_descent.py:532: ConvergenceWarning: Objective did not converge. You might want to increase the number of iterations. Duality gap: 1913141640.0199637, tolerance: 200123.5302821518\n",
      "  positive)\n",
      "C:\\Users\\TRANG THOMAS\\Anaconda\\lib\\site-packages\\sklearn\\linear_model\\_coordinate_descent.py:532: ConvergenceWarning: Objective did not converge. You might want to increase the number of iterations. Duality gap: 1902660960.436188, tolerance: 198064.4263844421\n",
      "  positive)\n",
      "C:\\Users\\TRANG THOMAS\\Anaconda\\lib\\site-packages\\sklearn\\linear_model\\_coordinate_descent.py:532: ConvergenceWarning: Objective did not converge. You might want to increase the number of iterations. Duality gap: 1939383773.6122265, tolerance: 202219.9535969969\n",
      "  positive)\n",
      "C:\\Users\\TRANG THOMAS\\Anaconda\\lib\\site-packages\\sklearn\\linear_model\\_coordinate_descent.py:532: ConvergenceWarning: Objective did not converge. You might want to increase the number of iterations. Duality gap: 1803746418.371879, tolerance: 191615.72795852792\n",
      "  positive)\n",
      "C:\\Users\\TRANG THOMAS\\Anaconda\\lib\\site-packages\\sklearn\\linear_model\\_coordinate_descent.py:532: ConvergenceWarning: Objective did not converge. You might want to increase the number of iterations. Duality gap: 1915318092.5204754, tolerance: 200123.5302821518\n",
      "  positive)\n",
      "C:\\Users\\TRANG THOMAS\\Anaconda\\lib\\site-packages\\sklearn\\linear_model\\_coordinate_descent.py:532: ConvergenceWarning: Objective did not converge. You might want to increase the number of iterations. Duality gap: 1904750005.7461123, tolerance: 198064.4263844421\n",
      "  positive)\n",
      "C:\\Users\\TRANG THOMAS\\Anaconda\\lib\\site-packages\\sklearn\\linear_model\\_coordinate_descent.py:532: ConvergenceWarning: Objective did not converge. You might want to increase the number of iterations. Duality gap: 1941632767.791468, tolerance: 202219.9535969969\n",
      "  positive)\n",
      "C:\\Users\\TRANG THOMAS\\Anaconda\\lib\\site-packages\\sklearn\\linear_model\\_coordinate_descent.py:532: ConvergenceWarning: Objective did not converge. You might want to increase the number of iterations. Duality gap: 1805877006.5155587, tolerance: 191615.72795852792\n",
      "  positive)\n",
      "C:\\Users\\TRANG THOMAS\\Anaconda\\lib\\site-packages\\sklearn\\linear_model\\_coordinate_descent.py:532: ConvergenceWarning: Objective did not converge. You might want to increase the number of iterations. Duality gap: 1917494545.020922, tolerance: 200123.5302821518\n",
      "  positive)\n",
      "C:\\Users\\TRANG THOMAS\\Anaconda\\lib\\site-packages\\sklearn\\linear_model\\_coordinate_descent.py:532: ConvergenceWarning: Objective did not converge. You might want to increase the number of iterations. Duality gap: 1906839051.0558822, tolerance: 198064.4263844421\n",
      "  positive)\n",
      "C:\\Users\\TRANG THOMAS\\Anaconda\\lib\\site-packages\\sklearn\\linear_model\\_coordinate_descent.py:532: ConvergenceWarning: Objective did not converge. You might want to increase the number of iterations. Duality gap: 1943881761.9706604, tolerance: 202219.9535969969\n",
      "  positive)\n",
      "C:\\Users\\TRANG THOMAS\\Anaconda\\lib\\site-packages\\sklearn\\linear_model\\_coordinate_descent.py:532: ConvergenceWarning: Objective did not converge. You might want to increase the number of iterations. Duality gap: 1808007594.6592755, tolerance: 191615.72795852792\n",
      "  positive)\n",
      "C:\\Users\\TRANG THOMAS\\Anaconda\\lib\\site-packages\\sklearn\\linear_model\\_coordinate_descent.py:532: ConvergenceWarning: Objective did not converge. You might want to increase the number of iterations. Duality gap: 1919670997.5210297, tolerance: 200123.5302821518\n",
      "  positive)\n"
     ]
    },
    {
     "name": "stderr",
     "output_type": "stream",
     "text": [
      "C:\\Users\\TRANG THOMAS\\Anaconda\\lib\\site-packages\\sklearn\\linear_model\\_coordinate_descent.py:532: ConvergenceWarning: Objective did not converge. You might want to increase the number of iterations. Duality gap: 1908928096.365958, tolerance: 198064.4263844421\n",
      "  positive)\n",
      "C:\\Users\\TRANG THOMAS\\Anaconda\\lib\\site-packages\\sklearn\\linear_model\\_coordinate_descent.py:532: ConvergenceWarning: Objective did not converge. You might want to increase the number of iterations. Duality gap: 1946130756.1499913, tolerance: 202219.9535969969\n",
      "  positive)\n",
      "C:\\Users\\TRANG THOMAS\\Anaconda\\lib\\site-packages\\sklearn\\linear_model\\_coordinate_descent.py:532: ConvergenceWarning: Objective did not converge. You might want to increase the number of iterations. Duality gap: 1810138182.8029413, tolerance: 191615.72795852792\n",
      "  positive)\n",
      "C:\\Users\\TRANG THOMAS\\Anaconda\\lib\\site-packages\\sklearn\\linear_model\\_coordinate_descent.py:532: ConvergenceWarning: Objective did not converge. You might want to increase the number of iterations. Duality gap: 1921847450.021832, tolerance: 200123.5302821518\n",
      "  positive)\n",
      "C:\\Users\\TRANG THOMAS\\Anaconda\\lib\\site-packages\\sklearn\\linear_model\\_coordinate_descent.py:532: ConvergenceWarning: Objective did not converge. You might want to increase the number of iterations. Duality gap: 1911017141.67587, tolerance: 198064.4263844421\n",
      "  positive)\n",
      "C:\\Users\\TRANG THOMAS\\Anaconda\\lib\\site-packages\\sklearn\\linear_model\\_coordinate_descent.py:532: ConvergenceWarning: Objective did not converge. You might want to increase the number of iterations. Duality gap: 1948379750.3292384, tolerance: 202219.9535969969\n",
      "  positive)\n",
      "C:\\Users\\TRANG THOMAS\\Anaconda\\lib\\site-packages\\sklearn\\linear_model\\_coordinate_descent.py:532: ConvergenceWarning: Objective did not converge. You might want to increase the number of iterations. Duality gap: 1812268770.946672, tolerance: 191615.72795852792\n",
      "  positive)\n",
      "C:\\Users\\TRANG THOMAS\\Anaconda\\lib\\site-packages\\sklearn\\linear_model\\_coordinate_descent.py:532: ConvergenceWarning: Objective did not converge. You might want to increase the number of iterations. Duality gap: 1924023902.522275, tolerance: 200123.5302821518\n",
      "  positive)\n",
      "C:\\Users\\TRANG THOMAS\\Anaconda\\lib\\site-packages\\sklearn\\linear_model\\_coordinate_descent.py:532: ConvergenceWarning: Objective did not converge. You might want to increase the number of iterations. Duality gap: 1913106186.9857907, tolerance: 198064.4263844421\n",
      "  positive)\n",
      "C:\\Users\\TRANG THOMAS\\Anaconda\\lib\\site-packages\\sklearn\\linear_model\\_coordinate_descent.py:532: ConvergenceWarning: Objective did not converge. You might want to increase the number of iterations. Duality gap: 1950628744.5084772, tolerance: 202219.9535969969\n",
      "  positive)\n",
      "C:\\Users\\TRANG THOMAS\\Anaconda\\lib\\site-packages\\sklearn\\linear_model\\_coordinate_descent.py:532: ConvergenceWarning: Objective did not converge. You might want to increase the number of iterations. Duality gap: 1814399359.0903723, tolerance: 191615.72795852792\n",
      "  positive)\n",
      "C:\\Users\\TRANG THOMAS\\Anaconda\\lib\\site-packages\\sklearn\\linear_model\\_coordinate_descent.py:532: ConvergenceWarning: Objective did not converge. You might want to increase the number of iterations. Duality gap: 1926200355.0227225, tolerance: 200123.5302821518\n",
      "  positive)\n",
      "C:\\Users\\TRANG THOMAS\\Anaconda\\lib\\site-packages\\sklearn\\linear_model\\_coordinate_descent.py:532: ConvergenceWarning: Objective did not converge. You might want to increase the number of iterations. Duality gap: 1915195232.295714, tolerance: 198064.4263844421\n",
      "  positive)\n",
      "C:\\Users\\TRANG THOMAS\\Anaconda\\lib\\site-packages\\sklearn\\linear_model\\_coordinate_descent.py:532: ConvergenceWarning: Objective did not converge. You might want to increase the number of iterations. Duality gap: 1952877738.687745, tolerance: 202219.9535969969\n",
      "  positive)\n",
      "C:\\Users\\TRANG THOMAS\\Anaconda\\lib\\site-packages\\sklearn\\linear_model\\_coordinate_descent.py:532: ConvergenceWarning: Objective did not converge. You might want to increase the number of iterations. Duality gap: 1816529947.2340689, tolerance: 191615.72795852792\n",
      "  positive)\n",
      "C:\\Users\\TRANG THOMAS\\Anaconda\\lib\\site-packages\\sklearn\\linear_model\\_coordinate_descent.py:532: ConvergenceWarning: Objective did not converge. You might want to increase the number of iterations. Duality gap: 1928376807.52316, tolerance: 200123.5302821518\n",
      "  positive)\n",
      "C:\\Users\\TRANG THOMAS\\Anaconda\\lib\\site-packages\\sklearn\\linear_model\\_coordinate_descent.py:532: ConvergenceWarning: Objective did not converge. You might want to increase the number of iterations. Duality gap: 1917284277.6056383, tolerance: 198064.4263844421\n",
      "  positive)\n",
      "C:\\Users\\TRANG THOMAS\\Anaconda\\lib\\site-packages\\sklearn\\linear_model\\_coordinate_descent.py:532: ConvergenceWarning: Objective did not converge. You might want to increase the number of iterations. Duality gap: 1955126732.866808, tolerance: 202219.9535969969\n",
      "  positive)\n",
      "C:\\Users\\TRANG THOMAS\\Anaconda\\lib\\site-packages\\sklearn\\linear_model\\_coordinate_descent.py:532: ConvergenceWarning: Objective did not converge. You might want to increase the number of iterations. Duality gap: 1818660535.3777695, tolerance: 191615.72795852792\n",
      "  positive)\n",
      "C:\\Users\\TRANG THOMAS\\Anaconda\\lib\\site-packages\\sklearn\\linear_model\\_coordinate_descent.py:532: ConvergenceWarning: Objective did not converge. You might want to increase the number of iterations. Duality gap: 1930553260.0236263, tolerance: 200123.5302821518\n",
      "  positive)\n",
      "C:\\Users\\TRANG THOMAS\\Anaconda\\lib\\site-packages\\sklearn\\linear_model\\_coordinate_descent.py:532: ConvergenceWarning: Objective did not converge. You might want to increase the number of iterations. Duality gap: 1919373322.915557, tolerance: 198064.4263844421\n",
      "  positive)\n",
      "C:\\Users\\TRANG THOMAS\\Anaconda\\lib\\site-packages\\sklearn\\linear_model\\_coordinate_descent.py:532: ConvergenceWarning: Objective did not converge. You might want to increase the number of iterations. Duality gap: 1957375727.0462575, tolerance: 202219.9535969969\n",
      "  positive)\n",
      "C:\\Users\\TRANG THOMAS\\Anaconda\\lib\\site-packages\\sklearn\\linear_model\\_coordinate_descent.py:532: ConvergenceWarning: Objective did not converge. You might want to increase the number of iterations. Duality gap: 1820791123.5214944, tolerance: 191615.72795852792\n",
      "  positive)\n",
      "C:\\Users\\TRANG THOMAS\\Anaconda\\lib\\site-packages\\sklearn\\linear_model\\_coordinate_descent.py:532: ConvergenceWarning: Objective did not converge. You might want to increase the number of iterations. Duality gap: 1932729712.5240946, tolerance: 200123.5302821518\n",
      "  positive)\n",
      "C:\\Users\\TRANG THOMAS\\Anaconda\\lib\\site-packages\\sklearn\\linear_model\\_coordinate_descent.py:532: ConvergenceWarning: Objective did not converge. You might want to increase the number of iterations. Duality gap: 1921462368.225493, tolerance: 198064.4263844421\n",
      "  positive)\n",
      "C:\\Users\\TRANG THOMAS\\Anaconda\\lib\\site-packages\\sklearn\\linear_model\\_coordinate_descent.py:532: ConvergenceWarning: Objective did not converge. You might want to increase the number of iterations. Duality gap: 1959624721.2254303, tolerance: 202219.9535969969\n",
      "  positive)\n",
      "C:\\Users\\TRANG THOMAS\\Anaconda\\lib\\site-packages\\sklearn\\linear_model\\_coordinate_descent.py:532: ConvergenceWarning: Objective did not converge. You might want to increase the number of iterations. Duality gap: 1822921711.6651902, tolerance: 191615.72795852792\n",
      "  positive)\n",
      "C:\\Users\\TRANG THOMAS\\Anaconda\\lib\\site-packages\\sklearn\\linear_model\\_coordinate_descent.py:532: ConvergenceWarning: Objective did not converge. You might want to increase the number of iterations. Duality gap: 1934906165.024535, tolerance: 200123.5302821518\n",
      "  positive)\n",
      "C:\\Users\\TRANG THOMAS\\Anaconda\\lib\\site-packages\\sklearn\\linear_model\\_coordinate_descent.py:532: ConvergenceWarning: Objective did not converge. You might want to increase the number of iterations. Duality gap: 1923551413.5353594, tolerance: 198064.4263844421\n",
      "  positive)\n",
      "C:\\Users\\TRANG THOMAS\\Anaconda\\lib\\site-packages\\sklearn\\linear_model\\_coordinate_descent.py:532: ConvergenceWarning: Objective did not converge. You might want to increase the number of iterations. Duality gap: 1961873715.404723, tolerance: 202219.9535969969\n",
      "  positive)\n",
      "C:\\Users\\TRANG THOMAS\\Anaconda\\lib\\site-packages\\sklearn\\linear_model\\_coordinate_descent.py:532: ConvergenceWarning: Objective did not converge. You might want to increase the number of iterations. Duality gap: 1825052299.8088512, tolerance: 191615.72795852792\n",
      "  positive)\n"
     ]
    },
    {
     "name": "stderr",
     "output_type": "stream",
     "text": [
      "C:\\Users\\TRANG THOMAS\\Anaconda\\lib\\site-packages\\sklearn\\linear_model\\_coordinate_descent.py:532: ConvergenceWarning: Objective did not converge. You might want to increase the number of iterations. Duality gap: 1937082617.5249705, tolerance: 200123.5302821518\n",
      "  positive)\n",
      "C:\\Users\\TRANG THOMAS\\Anaconda\\lib\\site-packages\\sklearn\\linear_model\\_coordinate_descent.py:532: ConvergenceWarning: Objective did not converge. You might want to increase the number of iterations. Duality gap: 1925640458.84533, tolerance: 198064.4263844421\n",
      "  positive)\n",
      "C:\\Users\\TRANG THOMAS\\Anaconda\\lib\\site-packages\\sklearn\\linear_model\\_coordinate_descent.py:532: ConvergenceWarning: Objective did not converge. You might want to increase the number of iterations. Duality gap: 1964122709.5840037, tolerance: 202219.9535969969\n",
      "  positive)\n",
      "C:\\Users\\TRANG THOMAS\\Anaconda\\lib\\site-packages\\sklearn\\linear_model\\_coordinate_descent.py:532: ConvergenceWarning: Objective did not converge. You might want to increase the number of iterations. Duality gap: 1827182887.9525898, tolerance: 191615.72795852792\n",
      "  positive)\n",
      "C:\\Users\\TRANG THOMAS\\Anaconda\\lib\\site-packages\\sklearn\\linear_model\\_coordinate_descent.py:532: ConvergenceWarning: Objective did not converge. You might want to increase the number of iterations. Duality gap: 1939259070.025403, tolerance: 200123.5302821518\n",
      "  positive)\n",
      "C:\\Users\\TRANG THOMAS\\Anaconda\\lib\\site-packages\\sklearn\\linear_model\\_coordinate_descent.py:532: ConvergenceWarning: Objective did not converge. You might want to increase the number of iterations. Duality gap: 1927729504.1552534, tolerance: 198064.4263844421\n",
      "  positive)\n",
      "C:\\Users\\TRANG THOMAS\\Anaconda\\lib\\site-packages\\sklearn\\linear_model\\_coordinate_descent.py:532: ConvergenceWarning: Objective did not converge. You might want to increase the number of iterations. Duality gap: 1966371703.7631228, tolerance: 202219.9535969969\n",
      "  positive)\n",
      "C:\\Users\\TRANG THOMAS\\Anaconda\\lib\\site-packages\\sklearn\\linear_model\\_coordinate_descent.py:532: ConvergenceWarning: Objective did not converge. You might want to increase the number of iterations. Duality gap: 1829313476.0962732, tolerance: 191615.72795852792\n",
      "  positive)\n",
      "C:\\Users\\TRANG THOMAS\\Anaconda\\lib\\site-packages\\sklearn\\linear_model\\_coordinate_descent.py:532: ConvergenceWarning: Objective did not converge. You might want to increase the number of iterations. Duality gap: 1941435522.5255094, tolerance: 200123.5302821518\n",
      "  positive)\n",
      "C:\\Users\\TRANG THOMAS\\Anaconda\\lib\\site-packages\\sklearn\\linear_model\\_coordinate_descent.py:532: ConvergenceWarning: Objective did not converge. You might want to increase the number of iterations. Duality gap: 1929818549.4651582, tolerance: 198064.4263844421\n",
      "  positive)\n",
      "C:\\Users\\TRANG THOMAS\\Anaconda\\lib\\site-packages\\sklearn\\linear_model\\_coordinate_descent.py:532: ConvergenceWarning: Objective did not converge. You might want to increase the number of iterations. Duality gap: 1968620697.9425063, tolerance: 202219.9535969969\n",
      "  positive)\n",
      "C:\\Users\\TRANG THOMAS\\Anaconda\\lib\\site-packages\\sklearn\\linear_model\\_coordinate_descent.py:532: ConvergenceWarning: Objective did not converge. You might want to increase the number of iterations. Duality gap: 1831444064.2399912, tolerance: 191615.72795852792\n",
      "  positive)\n",
      "C:\\Users\\TRANG THOMAS\\Anaconda\\lib\\site-packages\\sklearn\\linear_model\\_coordinate_descent.py:532: ConvergenceWarning: Objective did not converge. You might want to increase the number of iterations. Duality gap: 1943611975.02621, tolerance: 200123.5302821518\n",
      "  positive)\n",
      "C:\\Users\\TRANG THOMAS\\Anaconda\\lib\\site-packages\\sklearn\\linear_model\\_coordinate_descent.py:532: ConvergenceWarning: Objective did not converge. You might want to increase the number of iterations. Duality gap: 1931907594.774903, tolerance: 198064.4263844421\n",
      "  positive)\n",
      "C:\\Users\\TRANG THOMAS\\Anaconda\\lib\\site-packages\\sklearn\\linear_model\\_coordinate_descent.py:532: ConvergenceWarning: Objective did not converge. You might want to increase the number of iterations. Duality gap: 1970869692.121706, tolerance: 202219.9535969969\n",
      "  positive)\n",
      "C:\\Users\\TRANG THOMAS\\Anaconda\\lib\\site-packages\\sklearn\\linear_model\\_coordinate_descent.py:532: ConvergenceWarning: Objective did not converge. You might want to increase the number of iterations. Duality gap: 1833574652.383695, tolerance: 191615.72795852792\n",
      "  positive)\n",
      "C:\\Users\\TRANG THOMAS\\Anaconda\\lib\\site-packages\\sklearn\\linear_model\\_coordinate_descent.py:532: ConvergenceWarning: Objective did not converge. You might want to increase the number of iterations. Duality gap: 1945788427.5266962, tolerance: 200123.5302821518\n",
      "  positive)\n",
      "C:\\Users\\TRANG THOMAS\\Anaconda\\lib\\site-packages\\sklearn\\linear_model\\_coordinate_descent.py:532: ConvergenceWarning: Objective did not converge. You might want to increase the number of iterations. Duality gap: 1933996640.08502, tolerance: 198064.4263844421\n",
      "  positive)\n",
      "C:\\Users\\TRANG THOMAS\\Anaconda\\lib\\site-packages\\sklearn\\linear_model\\_coordinate_descent.py:532: ConvergenceWarning: Objective did not converge. You might want to increase the number of iterations. Duality gap: 1973118686.3010151, tolerance: 202219.9535969969\n",
      "  positive)\n",
      "C:\\Users\\TRANG THOMAS\\Anaconda\\lib\\site-packages\\sklearn\\linear_model\\_coordinate_descent.py:532: ConvergenceWarning: Objective did not converge. You might want to increase the number of iterations. Duality gap: 1835705240.5273862, tolerance: 191615.72795852792\n",
      "  positive)\n",
      "C:\\Users\\TRANG THOMAS\\Anaconda\\lib\\site-packages\\sklearn\\linear_model\\_coordinate_descent.py:532: ConvergenceWarning: Objective did not converge. You might want to increase the number of iterations. Duality gap: 1947964880.0272415, tolerance: 200123.5302821518\n",
      "  positive)\n",
      "C:\\Users\\TRANG THOMAS\\Anaconda\\lib\\site-packages\\sklearn\\linear_model\\_coordinate_descent.py:532: ConvergenceWarning: Objective did not converge. You might want to increase the number of iterations. Duality gap: 1936085685.3949275, tolerance: 198064.4263844421\n",
      "  positive)\n",
      "C:\\Users\\TRANG THOMAS\\Anaconda\\lib\\site-packages\\sklearn\\linear_model\\_coordinate_descent.py:532: ConvergenceWarning: Objective did not converge. You might want to increase the number of iterations. Duality gap: 1975367680.480231, tolerance: 202219.9535969969\n",
      "  positive)\n",
      "C:\\Users\\TRANG THOMAS\\Anaconda\\lib\\site-packages\\sklearn\\linear_model\\_coordinate_descent.py:532: ConvergenceWarning: Objective did not converge. You might want to increase the number of iterations. Duality gap: 1837835828.6709483, tolerance: 191615.72795852792\n",
      "  positive)\n",
      "C:\\Users\\TRANG THOMAS\\Anaconda\\lib\\site-packages\\sklearn\\linear_model\\_coordinate_descent.py:532: ConvergenceWarning: Objective did not converge. You might want to increase the number of iterations. Duality gap: 1950141332.5276785, tolerance: 200123.5302821518\n",
      "  positive)\n",
      "C:\\Users\\TRANG THOMAS\\Anaconda\\lib\\site-packages\\sklearn\\linear_model\\_coordinate_descent.py:532: ConvergenceWarning: Objective did not converge. You might want to increase the number of iterations. Duality gap: 1938174730.7048693, tolerance: 198064.4263844421\n",
      "  positive)\n",
      "C:\\Users\\TRANG THOMAS\\Anaconda\\lib\\site-packages\\sklearn\\linear_model\\_coordinate_descent.py:532: ConvergenceWarning: Objective did not converge. You might want to increase the number of iterations. Duality gap: 1977616674.659487, tolerance: 202219.9535969969\n",
      "  positive)\n",
      "C:\\Users\\TRANG THOMAS\\Anaconda\\lib\\site-packages\\sklearn\\linear_model\\_coordinate_descent.py:532: ConvergenceWarning: Objective did not converge. You might want to increase the number of iterations. Duality gap: 1839966416.8147569, tolerance: 191615.72795852792\n",
      "  positive)\n",
      "C:\\Users\\TRANG THOMAS\\Anaconda\\lib\\site-packages\\sklearn\\linear_model\\_coordinate_descent.py:532: ConvergenceWarning: Objective did not converge. You might want to increase the number of iterations. Duality gap: 1952317785.0280623, tolerance: 200123.5302821518\n",
      "  positive)\n",
      "C:\\Users\\TRANG THOMAS\\Anaconda\\lib\\site-packages\\sklearn\\linear_model\\_coordinate_descent.py:532: ConvergenceWarning: Objective did not converge. You might want to increase the number of iterations. Duality gap: 1940263776.0147853, tolerance: 198064.4263844421\n",
      "  positive)\n",
      "C:\\Users\\TRANG THOMAS\\Anaconda\\lib\\site-packages\\sklearn\\linear_model\\_coordinate_descent.py:532: ConvergenceWarning: Objective did not converge. You might want to increase the number of iterations. Duality gap: 1979865668.8387828, tolerance: 202219.9535969969\n",
      "  positive)\n"
     ]
    },
    {
     "name": "stderr",
     "output_type": "stream",
     "text": [
      "C:\\Users\\TRANG THOMAS\\Anaconda\\lib\\site-packages\\sklearn\\linear_model\\_coordinate_descent.py:532: ConvergenceWarning: Objective did not converge. You might want to increase the number of iterations. Duality gap: 1842097004.9584894, tolerance: 191615.72795852792\n",
      "  positive)\n",
      "C:\\Users\\TRANG THOMAS\\Anaconda\\lib\\site-packages\\sklearn\\linear_model\\_coordinate_descent.py:532: ConvergenceWarning: Objective did not converge. You might want to increase the number of iterations. Duality gap: 1926281606.8820248, tolerance: 200123.5302821518\n",
      "  positive)\n",
      "C:\\Users\\TRANG THOMAS\\Anaconda\\lib\\site-packages\\sklearn\\linear_model\\_coordinate_descent.py:532: ConvergenceWarning: Objective did not converge. You might want to increase the number of iterations. Duality gap: 1942352821.3246531, tolerance: 198064.4263844421\n",
      "  positive)\n",
      "C:\\Users\\TRANG THOMAS\\Anaconda\\lib\\site-packages\\sklearn\\linear_model\\_coordinate_descent.py:532: ConvergenceWarning: Objective did not converge. You might want to increase the number of iterations. Duality gap: 1982114663.0180435, tolerance: 202219.9535969969\n",
      "  positive)\n",
      "C:\\Users\\TRANG THOMAS\\Anaconda\\lib\\site-packages\\sklearn\\linear_model\\_coordinate_descent.py:532: ConvergenceWarning: Objective did not converge. You might want to increase the number of iterations. Duality gap: 1844227593.102199, tolerance: 191615.72795852792\n",
      "  positive)\n",
      "C:\\Users\\TRANG THOMAS\\Anaconda\\lib\\site-packages\\sklearn\\linear_model\\_coordinate_descent.py:532: ConvergenceWarning: Objective did not converge. You might want to increase the number of iterations. Duality gap: 1928885523.483041, tolerance: 200123.5302821518\n",
      "  positive)\n",
      "C:\\Users\\TRANG THOMAS\\Anaconda\\lib\\site-packages\\sklearn\\linear_model\\_coordinate_descent.py:532: ConvergenceWarning: Objective did not converge. You might want to increase the number of iterations. Duality gap: 1944441866.6346292, tolerance: 198064.4263844421\n",
      "  positive)\n",
      "C:\\Users\\TRANG THOMAS\\Anaconda\\lib\\site-packages\\sklearn\\linear_model\\_coordinate_descent.py:532: ConvergenceWarning: Objective did not converge. You might want to increase the number of iterations. Duality gap: 1984363657.1972787, tolerance: 202219.9535969969\n",
      "  positive)\n",
      "C:\\Users\\TRANG THOMAS\\Anaconda\\lib\\site-packages\\sklearn\\linear_model\\_coordinate_descent.py:532: ConvergenceWarning: Objective did not converge. You might want to increase the number of iterations. Duality gap: 1846358181.2458234, tolerance: 191615.72795852792\n",
      "  positive)\n",
      "C:\\Users\\TRANG THOMAS\\Anaconda\\lib\\site-packages\\sklearn\\linear_model\\_coordinate_descent.py:532: ConvergenceWarning: Objective did not converge. You might want to increase the number of iterations. Duality gap: 1931489440.0842326, tolerance: 200123.5302821518\n",
      "  positive)\n",
      "C:\\Users\\TRANG THOMAS\\Anaconda\\lib\\site-packages\\sklearn\\linear_model\\_coordinate_descent.py:532: ConvergenceWarning: Objective did not converge. You might want to increase the number of iterations. Duality gap: 1946530911.944552, tolerance: 198064.4263844421\n",
      "  positive)\n",
      "C:\\Users\\TRANG THOMAS\\Anaconda\\lib\\site-packages\\sklearn\\linear_model\\_coordinate_descent.py:532: ConvergenceWarning: Objective did not converge. You might want to increase the number of iterations. Duality gap: 1986612651.3765285, tolerance: 202219.9535969969\n",
      "  positive)\n",
      "C:\\Users\\TRANG THOMAS\\Anaconda\\lib\\site-packages\\sklearn\\linear_model\\_coordinate_descent.py:532: ConvergenceWarning: Objective did not converge. You might want to increase the number of iterations. Duality gap: 1848488769.389509, tolerance: 191615.72795852792\n",
      "  positive)\n",
      "C:\\Users\\TRANG THOMAS\\Anaconda\\lib\\site-packages\\sklearn\\linear_model\\_coordinate_descent.py:532: ConvergenceWarning: Objective did not converge. You might want to increase the number of iterations. Duality gap: 1934093356.685462, tolerance: 200123.5302821518\n",
      "  positive)\n",
      "C:\\Users\\TRANG THOMAS\\Anaconda\\lib\\site-packages\\sklearn\\linear_model\\_coordinate_descent.py:532: ConvergenceWarning: Objective did not converge. You might want to increase the number of iterations. Duality gap: 1948619957.254476, tolerance: 198064.4263844421\n",
      "  positive)\n",
      "C:\\Users\\TRANG THOMAS\\Anaconda\\lib\\site-packages\\sklearn\\linear_model\\_coordinate_descent.py:532: ConvergenceWarning: Objective did not converge. You might want to increase the number of iterations. Duality gap: 1988861645.5556421, tolerance: 202219.9535969969\n",
      "  positive)\n",
      "C:\\Users\\TRANG THOMAS\\Anaconda\\lib\\site-packages\\sklearn\\linear_model\\_coordinate_descent.py:532: ConvergenceWarning: Objective did not converge. You might want to increase the number of iterations. Duality gap: 1850619357.533117, tolerance: 191615.72795852792\n",
      "  positive)\n",
      "C:\\Users\\TRANG THOMAS\\Anaconda\\lib\\site-packages\\sklearn\\linear_model\\_coordinate_descent.py:532: ConvergenceWarning: Objective did not converge. You might want to increase the number of iterations. Duality gap: 1936697273.2866282, tolerance: 200123.5302821518\n",
      "  positive)\n",
      "C:\\Users\\TRANG THOMAS\\Anaconda\\lib\\site-packages\\sklearn\\linear_model\\_coordinate_descent.py:532: ConvergenceWarning: Objective did not converge. You might want to increase the number of iterations. Duality gap: 1950709002.5644016, tolerance: 198064.4263844421\n",
      "  positive)\n",
      "C:\\Users\\TRANG THOMAS\\Anaconda\\lib\\site-packages\\sklearn\\linear_model\\_coordinate_descent.py:532: ConvergenceWarning: Objective did not converge. You might want to increase the number of iterations. Duality gap: 1991110639.7350388, tolerance: 202219.9535969969\n",
      "  positive)\n",
      "C:\\Users\\TRANG THOMAS\\Anaconda\\lib\\site-packages\\sklearn\\linear_model\\_coordinate_descent.py:532: ConvergenceWarning: Objective did not converge. You might want to increase the number of iterations. Duality gap: 1852749945.676912, tolerance: 191615.72795852792\n",
      "  positive)\n",
      "C:\\Users\\TRANG THOMAS\\Anaconda\\lib\\site-packages\\sklearn\\linear_model\\_coordinate_descent.py:532: ConvergenceWarning: Objective did not converge. You might want to increase the number of iterations. Duality gap: 1939301189.887747, tolerance: 200123.5302821518\n",
      "  positive)\n",
      "C:\\Users\\TRANG THOMAS\\Anaconda\\lib\\site-packages\\sklearn\\linear_model\\_coordinate_descent.py:532: ConvergenceWarning: Objective did not converge. You might want to increase the number of iterations. Duality gap: 1952798047.8743172, tolerance: 198064.4263844421\n",
      "  positive)\n",
      "C:\\Users\\TRANG THOMAS\\Anaconda\\lib\\site-packages\\sklearn\\linear_model\\_coordinate_descent.py:532: ConvergenceWarning: Objective did not converge. You might want to increase the number of iterations. Duality gap: 1993359633.9141903, tolerance: 202219.9535969969\n",
      "  positive)\n",
      "C:\\Users\\TRANG THOMAS\\Anaconda\\lib\\site-packages\\sklearn\\linear_model\\_coordinate_descent.py:532: ConvergenceWarning: Objective did not converge. You might want to increase the number of iterations. Duality gap: 1854880533.8204904, tolerance: 191615.72795852792\n",
      "  positive)\n",
      "C:\\Users\\TRANG THOMAS\\Anaconda\\lib\\site-packages\\sklearn\\linear_model\\_coordinate_descent.py:532: ConvergenceWarning: Objective did not converge. You might want to increase the number of iterations. Duality gap: 1941905106.488624, tolerance: 200123.5302821518\n",
      "  positive)\n",
      "C:\\Users\\TRANG THOMAS\\Anaconda\\lib\\site-packages\\sklearn\\linear_model\\_coordinate_descent.py:532: ConvergenceWarning: Objective did not converge. You might want to increase the number of iterations. Duality gap: 1954887093.1842186, tolerance: 198064.4263844421\n",
      "  positive)\n",
      "C:\\Users\\TRANG THOMAS\\Anaconda\\lib\\site-packages\\sklearn\\linear_model\\_coordinate_descent.py:532: ConvergenceWarning: Objective did not converge. You might want to increase the number of iterations. Duality gap: 1995608628.0935419, tolerance: 202219.9535969969\n",
      "  positive)\n",
      "C:\\Users\\TRANG THOMAS\\Anaconda\\lib\\site-packages\\sklearn\\linear_model\\_coordinate_descent.py:532: ConvergenceWarning: Objective did not converge. You might want to increase the number of iterations. Duality gap: 1857011121.9643948, tolerance: 191615.72795852792\n",
      "  positive)\n",
      "C:\\Users\\TRANG THOMAS\\Anaconda\\lib\\site-packages\\sklearn\\linear_model\\_coordinate_descent.py:532: ConvergenceWarning: Objective did not converge. You might want to increase the number of iterations. Duality gap: 1944509023.090108, tolerance: 200123.5302821518\n",
      "  positive)\n",
      "C:\\Users\\TRANG THOMAS\\Anaconda\\lib\\site-packages\\sklearn\\linear_model\\_coordinate_descent.py:532: ConvergenceWarning: Objective did not converge. You might want to increase the number of iterations. Duality gap: 1956976138.4941645, tolerance: 198064.4263844421\n",
      "  positive)\n",
      "C:\\Users\\TRANG THOMAS\\Anaconda\\lib\\site-packages\\sklearn\\linear_model\\_coordinate_descent.py:532: ConvergenceWarning: Objective did not converge. You might want to increase the number of iterations. Duality gap: 1997857622.2728047, tolerance: 202219.9535969969\n",
      "  positive)\n"
     ]
    },
    {
     "name": "stderr",
     "output_type": "stream",
     "text": [
      "C:\\Users\\TRANG THOMAS\\Anaconda\\lib\\site-packages\\sklearn\\linear_model\\_coordinate_descent.py:532: ConvergenceWarning: Objective did not converge. You might want to increase the number of iterations. Duality gap: 1859141710.1080825, tolerance: 191615.72795852792\n",
      "  positive)\n",
      "C:\\Users\\TRANG THOMAS\\Anaconda\\lib\\site-packages\\sklearn\\linear_model\\_coordinate_descent.py:532: ConvergenceWarning: Objective did not converge. You might want to increase the number of iterations. Duality gap: 1947112939.6911795, tolerance: 200123.5302821518\n",
      "  positive)\n",
      "C:\\Users\\TRANG THOMAS\\Anaconda\\lib\\site-packages\\sklearn\\linear_model\\_coordinate_descent.py:532: ConvergenceWarning: Objective did not converge. You might want to increase the number of iterations. Duality gap: 1959065183.8040748, tolerance: 198064.4263844421\n",
      "  positive)\n",
      "C:\\Users\\TRANG THOMAS\\Anaconda\\lib\\site-packages\\sklearn\\linear_model\\_coordinate_descent.py:532: ConvergenceWarning: Objective did not converge. You might want to increase the number of iterations. Duality gap: 2000106616.4518983, tolerance: 202219.9535969969\n",
      "  positive)\n",
      "C:\\Users\\TRANG THOMAS\\Anaconda\\lib\\site-packages\\sklearn\\linear_model\\_coordinate_descent.py:532: ConvergenceWarning: Objective did not converge. You might want to increase the number of iterations. Duality gap: 1861272298.2517924, tolerance: 191615.72795852792\n",
      "  positive)\n",
      "C:\\Users\\TRANG THOMAS\\Anaconda\\lib\\site-packages\\sklearn\\linear_model\\_coordinate_descent.py:532: ConvergenceWarning: Objective did not converge. You might want to increase the number of iterations. Duality gap: 1949716856.2924159, tolerance: 200123.5302821518\n",
      "  positive)\n",
      "C:\\Users\\TRANG THOMAS\\Anaconda\\lib\\site-packages\\sklearn\\linear_model\\_coordinate_descent.py:532: ConvergenceWarning: Objective did not converge. You might want to increase the number of iterations. Duality gap: 1961154229.1140049, tolerance: 198064.4263844421\n",
      "  positive)\n",
      "C:\\Users\\TRANG THOMAS\\Anaconda\\lib\\site-packages\\sklearn\\linear_model\\_coordinate_descent.py:532: ConvergenceWarning: Objective did not converge. You might want to increase the number of iterations. Duality gap: 2002355610.6312647, tolerance: 202219.9535969969\n",
      "  positive)\n",
      "C:\\Users\\TRANG THOMAS\\Anaconda\\lib\\site-packages\\sklearn\\linear_model\\_coordinate_descent.py:532: ConvergenceWarning: Objective did not converge. You might want to increase the number of iterations. Duality gap: 1863402886.3954532, tolerance: 191615.72795852792\n",
      "  positive)\n",
      "C:\\Users\\TRANG THOMAS\\Anaconda\\lib\\site-packages\\sklearn\\linear_model\\_coordinate_descent.py:532: ConvergenceWarning: Objective did not converge. You might want to increase the number of iterations. Duality gap: 1952320772.8935688, tolerance: 200123.5302821518\n",
      "  positive)\n",
      "C:\\Users\\TRANG THOMAS\\Anaconda\\lib\\site-packages\\sklearn\\linear_model\\_coordinate_descent.py:532: ConvergenceWarning: Objective did not converge. You might want to increase the number of iterations. Duality gap: 1963243274.4236345, tolerance: 198064.4263844421\n",
      "  positive)\n",
      "C:\\Users\\TRANG THOMAS\\Anaconda\\lib\\site-packages\\sklearn\\linear_model\\_coordinate_descent.py:532: ConvergenceWarning: Objective did not converge. You might want to increase the number of iterations. Duality gap: 2004604604.8105319, tolerance: 202219.9535969969\n",
      "  positive)\n",
      "C:\\Users\\TRANG THOMAS\\Anaconda\\lib\\site-packages\\sklearn\\linear_model\\_coordinate_descent.py:532: ConvergenceWarning: Objective did not converge. You might want to increase the number of iterations. Duality gap: 1865533474.5391927, tolerance: 191615.72795852792\n",
      "  positive)\n",
      "C:\\Users\\TRANG THOMAS\\Anaconda\\lib\\site-packages\\sklearn\\linear_model\\_coordinate_descent.py:532: ConvergenceWarning: Objective did not converge. You might want to increase the number of iterations. Duality gap: 1954924689.4946911, tolerance: 200123.5302821518\n",
      "  positive)\n",
      "C:\\Users\\TRANG THOMAS\\Anaconda\\lib\\site-packages\\sklearn\\linear_model\\_coordinate_descent.py:532: ConvergenceWarning: Objective did not converge. You might want to increase the number of iterations. Duality gap: 1965332319.7338176, tolerance: 198064.4263844421\n",
      "  positive)\n",
      "C:\\Users\\TRANG THOMAS\\Anaconda\\lib\\site-packages\\sklearn\\linear_model\\_coordinate_descent.py:532: ConvergenceWarning: Objective did not converge. You might want to increase the number of iterations. Duality gap: 2006853598.9897814, tolerance: 202219.9535969969\n",
      "  positive)\n",
      "C:\\Users\\TRANG THOMAS\\Anaconda\\lib\\site-packages\\sklearn\\linear_model\\_coordinate_descent.py:532: ConvergenceWarning: Objective did not converge. You might want to increase the number of iterations. Duality gap: 1867664062.682906, tolerance: 191615.72795852792\n",
      "  positive)\n",
      "C:\\Users\\TRANG THOMAS\\Anaconda\\lib\\site-packages\\sklearn\\linear_model\\_coordinate_descent.py:532: ConvergenceWarning: Objective did not converge. You might want to increase the number of iterations. Duality gap: 1957528606.0958526, tolerance: 200123.5302821518\n",
      "  positive)\n",
      "C:\\Users\\TRANG THOMAS\\Anaconda\\lib\\site-packages\\sklearn\\linear_model\\_coordinate_descent.py:532: ConvergenceWarning: Objective did not converge. You might want to increase the number of iterations. Duality gap: 1967421365.0437715, tolerance: 198064.4263844421\n",
      "  positive)\n",
      "C:\\Users\\TRANG THOMAS\\Anaconda\\lib\\site-packages\\sklearn\\linear_model\\_coordinate_descent.py:532: ConvergenceWarning: Objective did not converge. You might want to increase the number of iterations. Duality gap: 2009102593.1690505, tolerance: 202219.9535969969\n",
      "  positive)\n",
      "C:\\Users\\TRANG THOMAS\\Anaconda\\lib\\site-packages\\sklearn\\linear_model\\_coordinate_descent.py:532: ConvergenceWarning: Objective did not converge. You might want to increase the number of iterations. Duality gap: 1869794650.826511, tolerance: 191615.72795852792\n",
      "  positive)\n",
      "C:\\Users\\TRANG THOMAS\\Anaconda\\lib\\site-packages\\sklearn\\linear_model\\_coordinate_descent.py:532: ConvergenceWarning: Objective did not converge. You might want to increase the number of iterations. Duality gap: 1960132522.697056, tolerance: 200123.5302821518\n",
      "  positive)\n",
      "C:\\Users\\TRANG THOMAS\\Anaconda\\lib\\site-packages\\sklearn\\linear_model\\_coordinate_descent.py:532: ConvergenceWarning: Objective did not converge. You might want to increase the number of iterations. Duality gap: 1969510410.3536963, tolerance: 198064.4263844421\n",
      "  positive)\n",
      "C:\\Users\\TRANG THOMAS\\Anaconda\\lib\\site-packages\\sklearn\\linear_model\\_coordinate_descent.py:532: ConvergenceWarning: Objective did not converge. You might want to increase the number of iterations. Duality gap: 2011351587.3482375, tolerance: 202219.9535969969\n",
      "  positive)\n",
      "C:\\Users\\TRANG THOMAS\\Anaconda\\lib\\site-packages\\sklearn\\linear_model\\_coordinate_descent.py:532: ConvergenceWarning: Objective did not converge. You might want to increase the number of iterations. Duality gap: 1871925238.9702787, tolerance: 191615.72795852792\n",
      "  positive)\n",
      "C:\\Users\\TRANG THOMAS\\Anaconda\\lib\\site-packages\\sklearn\\linear_model\\_coordinate_descent.py:532: ConvergenceWarning: Objective did not converge. You might want to increase the number of iterations. Duality gap: 1962736439.2982178, tolerance: 200123.5302821518\n",
      "  positive)\n",
      "C:\\Users\\TRANG THOMAS\\Anaconda\\lib\\site-packages\\sklearn\\linear_model\\_coordinate_descent.py:532: ConvergenceWarning: Objective did not converge. You might want to increase the number of iterations. Duality gap: 1971599455.6636214, tolerance: 198064.4263844421\n",
      "  positive)\n",
      "C:\\Users\\TRANG THOMAS\\Anaconda\\lib\\site-packages\\sklearn\\linear_model\\_coordinate_descent.py:532: ConvergenceWarning: Objective did not converge. You might want to increase the number of iterations. Duality gap: 2013600581.5275817, tolerance: 202219.9535969969\n",
      "  positive)\n",
      "C:\\Users\\TRANG THOMAS\\Anaconda\\lib\\site-packages\\sklearn\\linear_model\\_coordinate_descent.py:532: ConvergenceWarning: Objective did not converge. You might want to increase the number of iterations. Duality gap: 1874055827.1139603, tolerance: 191615.72795852792\n",
      "  positive)\n",
      "C:\\Users\\TRANG THOMAS\\Anaconda\\lib\\site-packages\\sklearn\\linear_model\\_coordinate_descent.py:532: ConvergenceWarning: Objective did not converge. You might want to increase the number of iterations. Duality gap: 1965340355.8993673, tolerance: 200123.5302821518\n",
      "  positive)\n"
     ]
    },
    {
     "name": "stderr",
     "output_type": "stream",
     "text": [
      "C:\\Users\\TRANG THOMAS\\Anaconda\\lib\\site-packages\\sklearn\\linear_model\\_coordinate_descent.py:532: ConvergenceWarning: Objective did not converge. You might want to increase the number of iterations. Duality gap: 1973688500.9734583, tolerance: 198064.4263844421\n",
      "  positive)\n",
      "C:\\Users\\TRANG THOMAS\\Anaconda\\lib\\site-packages\\sklearn\\linear_model\\_coordinate_descent.py:532: ConvergenceWarning: Objective did not converge. You might want to increase the number of iterations. Duality gap: 2015849575.7067454, tolerance: 202219.9535969969\n",
      "  positive)\n",
      "C:\\Users\\TRANG THOMAS\\Anaconda\\lib\\site-packages\\sklearn\\linear_model\\_coordinate_descent.py:532: ConvergenceWarning: Objective did not converge. You might want to increase the number of iterations. Duality gap: 1876186415.2577024, tolerance: 191615.72795852792\n",
      "  positive)\n",
      "C:\\Users\\TRANG THOMAS\\Anaconda\\lib\\site-packages\\sklearn\\linear_model\\_coordinate_descent.py:532: ConvergenceWarning: Objective did not converge. You might want to increase the number of iterations. Duality gap: 1967944272.5005536, tolerance: 200123.5302821518\n",
      "  positive)\n",
      "C:\\Users\\TRANG THOMAS\\Anaconda\\lib\\site-packages\\sklearn\\linear_model\\_coordinate_descent.py:532: ConvergenceWarning: Objective did not converge. You might want to increase the number of iterations. Duality gap: 1975777546.2834425, tolerance: 198064.4263844421\n",
      "  positive)\n",
      "C:\\Users\\TRANG THOMAS\\Anaconda\\lib\\site-packages\\sklearn\\linear_model\\_coordinate_descent.py:532: ConvergenceWarning: Objective did not converge. You might want to increase the number of iterations. Duality gap: 2018098569.886056, tolerance: 202219.9535969969\n",
      "  positive)\n",
      "C:\\Users\\TRANG THOMAS\\Anaconda\\lib\\site-packages\\sklearn\\linear_model\\_coordinate_descent.py:532: ConvergenceWarning: Objective did not converge. You might want to increase the number of iterations. Duality gap: 1878317003.4013872, tolerance: 191615.72795852792\n",
      "  positive)\n",
      "C:\\Users\\TRANG THOMAS\\Anaconda\\lib\\site-packages\\sklearn\\linear_model\\_coordinate_descent.py:532: ConvergenceWarning: Objective did not converge. You might want to increase the number of iterations. Duality gap: 1970548189.101616, tolerance: 200123.5302821518\n",
      "  positive)\n",
      "C:\\Users\\TRANG THOMAS\\Anaconda\\lib\\site-packages\\sklearn\\linear_model\\_coordinate_descent.py:532: ConvergenceWarning: Objective did not converge. You might want to increase the number of iterations. Duality gap: 1977866591.593389, tolerance: 198064.4263844421\n",
      "  positive)\n",
      "C:\\Users\\TRANG THOMAS\\Anaconda\\lib\\site-packages\\sklearn\\linear_model\\_coordinate_descent.py:532: ConvergenceWarning: Objective did not converge. You might want to increase the number of iterations. Duality gap: 2020347564.0652244, tolerance: 202219.9535969969\n",
      "  positive)\n",
      "C:\\Users\\TRANG THOMAS\\Anaconda\\lib\\site-packages\\sklearn\\linear_model\\_coordinate_descent.py:532: ConvergenceWarning: Objective did not converge. You might want to increase the number of iterations. Duality gap: 1880447591.5450795, tolerance: 191615.72795852792\n",
      "  positive)\n",
      "C:\\Users\\TRANG THOMAS\\Anaconda\\lib\\site-packages\\sklearn\\linear_model\\_coordinate_descent.py:532: ConvergenceWarning: Objective did not converge. You might want to increase the number of iterations. Duality gap: 1973152105.7028189, tolerance: 200123.5302821518\n",
      "  positive)\n",
      "C:\\Users\\TRANG THOMAS\\Anaconda\\lib\\site-packages\\sklearn\\linear_model\\_coordinate_descent.py:532: ConvergenceWarning: Objective did not converge. You might want to increase the number of iterations. Duality gap: 1964855618.2497466, tolerance: 198064.4263844421\n",
      "  positive)\n",
      "C:\\Users\\TRANG THOMAS\\Anaconda\\lib\\site-packages\\sklearn\\linear_model\\_coordinate_descent.py:532: ConvergenceWarning: Objective did not converge. You might want to increase the number of iterations. Duality gap: 2022596558.244276, tolerance: 202219.9535969969\n",
      "  positive)\n",
      "C:\\Users\\TRANG THOMAS\\Anaconda\\lib\\site-packages\\sklearn\\linear_model\\_coordinate_descent.py:532: ConvergenceWarning: Objective did not converge. You might want to increase the number of iterations. Duality gap: 1882578179.6887777, tolerance: 191615.72795852792\n",
      "  positive)\n",
      "C:\\Users\\TRANG THOMAS\\Anaconda\\lib\\site-packages\\sklearn\\linear_model\\_coordinate_descent.py:532: ConvergenceWarning: Objective did not converge. You might want to increase the number of iterations. Duality gap: 1975756022.3039744, tolerance: 200123.5302821518\n",
      "  positive)\n",
      "C:\\Users\\TRANG THOMAS\\Anaconda\\lib\\site-packages\\sklearn\\linear_model\\_coordinate_descent.py:532: ConvergenceWarning: Objective did not converge. You might want to increase the number of iterations. Duality gap: 1967265940.552297, tolerance: 198064.4263844421\n",
      "  positive)\n",
      "C:\\Users\\TRANG THOMAS\\Anaconda\\lib\\site-packages\\sklearn\\linear_model\\_coordinate_descent.py:532: ConvergenceWarning: Objective did not converge. You might want to increase the number of iterations. Duality gap: 2024845552.4238112, tolerance: 202219.9535969969\n",
      "  positive)\n",
      "C:\\Users\\TRANG THOMAS\\Anaconda\\lib\\site-packages\\sklearn\\linear_model\\_coordinate_descent.py:532: ConvergenceWarning: Objective did not converge. You might want to increase the number of iterations. Duality gap: 1884708767.8324938, tolerance: 191615.72795852792\n",
      "  positive)\n",
      "C:\\Users\\TRANG THOMAS\\Anaconda\\lib\\site-packages\\sklearn\\linear_model\\_coordinate_descent.py:532: ConvergenceWarning: Objective did not converge. You might want to increase the number of iterations. Duality gap: 1978359938.9049096, tolerance: 200123.5302821518\n",
      "  positive)\n",
      "C:\\Users\\TRANG THOMAS\\Anaconda\\lib\\site-packages\\sklearn\\linear_model\\_coordinate_descent.py:532: ConvergenceWarning: Objective did not converge. You might want to increase the number of iterations. Duality gap: 1969676262.8548574, tolerance: 198064.4263844421\n",
      "  positive)\n",
      "C:\\Users\\TRANG THOMAS\\Anaconda\\lib\\site-packages\\sklearn\\linear_model\\_coordinate_descent.py:532: ConvergenceWarning: Objective did not converge. You might want to increase the number of iterations. Duality gap: 2027094546.6031008, tolerance: 202219.9535969969\n",
      "  positive)\n",
      "C:\\Users\\TRANG THOMAS\\Anaconda\\lib\\site-packages\\sklearn\\linear_model\\_coordinate_descent.py:532: ConvergenceWarning: Objective did not converge. You might want to increase the number of iterations. Duality gap: 1886839355.9761953, tolerance: 191615.72795852792\n",
      "  positive)\n",
      "C:\\Users\\TRANG THOMAS\\Anaconda\\lib\\site-packages\\sklearn\\linear_model\\_coordinate_descent.py:532: ConvergenceWarning: Objective did not converge. You might want to increase the number of iterations. Duality gap: 1980963855.506256, tolerance: 200123.5302821518\n",
      "  positive)\n",
      "C:\\Users\\TRANG THOMAS\\Anaconda\\lib\\site-packages\\sklearn\\linear_model\\_coordinate_descent.py:532: ConvergenceWarning: Objective did not converge. You might want to increase the number of iterations. Duality gap: 1972086585.1573977, tolerance: 198064.4263844421\n",
      "  positive)\n",
      "C:\\Users\\TRANG THOMAS\\Anaconda\\lib\\site-packages\\sklearn\\linear_model\\_coordinate_descent.py:532: ConvergenceWarning: Objective did not converge. You might want to increase the number of iterations. Duality gap: 2029343540.78234, tolerance: 202219.9535969969\n",
      "  positive)\n",
      "C:\\Users\\TRANG THOMAS\\Anaconda\\lib\\site-packages\\sklearn\\linear_model\\_coordinate_descent.py:532: ConvergenceWarning: Objective did not converge. You might want to increase the number of iterations. Duality gap: 1888969944.1198745, tolerance: 191615.72795852792\n",
      "  positive)\n",
      "C:\\Users\\TRANG THOMAS\\Anaconda\\lib\\site-packages\\sklearn\\linear_model\\_coordinate_descent.py:532: ConvergenceWarning: Objective did not converge. You might want to increase the number of iterations. Duality gap: 1983567772.1074305, tolerance: 200123.5302821518\n",
      "  positive)\n",
      "C:\\Users\\TRANG THOMAS\\Anaconda\\lib\\site-packages\\sklearn\\linear_model\\_coordinate_descent.py:532: ConvergenceWarning: Objective did not converge. You might want to increase the number of iterations. Duality gap: 1974496907.4599662, tolerance: 198064.4263844421\n",
      "  positive)\n",
      "C:\\Users\\TRANG THOMAS\\Anaconda\\lib\\site-packages\\sklearn\\linear_model\\_coordinate_descent.py:532: ConvergenceWarning: Objective did not converge. You might want to increase the number of iterations. Duality gap: 2031592534.9614954, tolerance: 202219.9535969969\n",
      "  positive)\n",
      "C:\\Users\\TRANG THOMAS\\Anaconda\\lib\\site-packages\\sklearn\\linear_model\\_coordinate_descent.py:532: ConvergenceWarning: Objective did not converge. You might want to increase the number of iterations. Duality gap: 1891100532.2636027, tolerance: 191615.72795852792\n",
      "  positive)\n",
      "C:\\Users\\TRANG THOMAS\\Anaconda\\lib\\site-packages\\sklearn\\linear_model\\_coordinate_descent.py:532: ConvergenceWarning: Objective did not converge. You might want to increase the number of iterations. Duality gap: 1986171688.7086072, tolerance: 200123.5302821518\n",
      "  positive)\n"
     ]
    },
    {
     "name": "stderr",
     "output_type": "stream",
     "text": [
      "C:\\Users\\TRANG THOMAS\\Anaconda\\lib\\site-packages\\sklearn\\linear_model\\_coordinate_descent.py:532: ConvergenceWarning: Objective did not converge. You might want to increase the number of iterations. Duality gap: 1976907229.7624536, tolerance: 198064.4263844421\n",
      "  positive)\n",
      "C:\\Users\\TRANG THOMAS\\Anaconda\\lib\\site-packages\\sklearn\\linear_model\\_coordinate_descent.py:532: ConvergenceWarning: Objective did not converge. You might want to increase the number of iterations. Duality gap: 2033841529.1407435, tolerance: 202219.9535969969\n",
      "  positive)\n",
      "C:\\Users\\TRANG THOMAS\\Anaconda\\lib\\site-packages\\sklearn\\linear_model\\_coordinate_descent.py:532: ConvergenceWarning: Objective did not converge. You might want to increase the number of iterations. Duality gap: 1882447361.0080347, tolerance: 191615.72795852792\n",
      "  positive)\n",
      "C:\\Users\\TRANG THOMAS\\Anaconda\\lib\\site-packages\\sklearn\\linear_model\\_coordinate_descent.py:532: ConvergenceWarning: Objective did not converge. You might want to increase the number of iterations. Duality gap: 1988775605.3097975, tolerance: 200123.5302821518\n",
      "  positive)\n",
      "C:\\Users\\TRANG THOMAS\\Anaconda\\lib\\site-packages\\sklearn\\linear_model\\_coordinate_descent.py:532: ConvergenceWarning: Objective did not converge. You might want to increase the number of iterations. Duality gap: 1979317552.0648668, tolerance: 198064.4263844421\n",
      "  positive)\n",
      "C:\\Users\\TRANG THOMAS\\Anaconda\\lib\\site-packages\\sklearn\\linear_model\\_coordinate_descent.py:532: ConvergenceWarning: Objective did not converge. You might want to increase the number of iterations. Duality gap: 2036090523.320075, tolerance: 202219.9535969969\n",
      "  positive)\n",
      "C:\\Users\\TRANG THOMAS\\Anaconda\\lib\\site-packages\\sklearn\\linear_model\\_coordinate_descent.py:532: ConvergenceWarning: Objective did not converge. You might want to increase the number of iterations. Duality gap: 1884834705.3280177, tolerance: 191615.72795852792\n",
      "  positive)\n",
      "C:\\Users\\TRANG THOMAS\\Anaconda\\lib\\site-packages\\sklearn\\linear_model\\_coordinate_descent.py:532: ConvergenceWarning: Objective did not converge. You might want to increase the number of iterations. Duality gap: 1991379521.91044, tolerance: 200123.5302821518\n",
      "  positive)\n",
      "C:\\Users\\TRANG THOMAS\\Anaconda\\lib\\site-packages\\sklearn\\linear_model\\_coordinate_descent.py:532: ConvergenceWarning: Objective did not converge. You might want to increase the number of iterations. Duality gap: 1981727874.3674712, tolerance: 198064.4263844421\n",
      "  positive)\n",
      "C:\\Users\\TRANG THOMAS\\Anaconda\\lib\\site-packages\\sklearn\\linear_model\\_coordinate_descent.py:532: ConvergenceWarning: Objective did not converge. You might want to increase the number of iterations. Duality gap: 2027995896.0377388, tolerance: 202219.9535969969\n",
      "  positive)\n",
      "C:\\Users\\TRANG THOMAS\\Anaconda\\lib\\site-packages\\sklearn\\linear_model\\_coordinate_descent.py:532: ConvergenceWarning: Objective did not converge. You might want to increase the number of iterations. Duality gap: 1887222049.6478233, tolerance: 191615.72795852792\n",
      "  positive)\n",
      "C:\\Users\\TRANG THOMAS\\Anaconda\\lib\\site-packages\\sklearn\\linear_model\\_coordinate_descent.py:532: ConvergenceWarning: Objective did not converge. You might want to increase the number of iterations. Duality gap: 1993983438.5118637, tolerance: 200123.5302821518\n",
      "  positive)\n",
      "C:\\Users\\TRANG THOMAS\\Anaconda\\lib\\site-packages\\sklearn\\linear_model\\_coordinate_descent.py:532: ConvergenceWarning: Objective did not converge. You might want to increase the number of iterations. Duality gap: 1984138196.6701598, tolerance: 198064.4263844421\n",
      "  positive)\n",
      "C:\\Users\\TRANG THOMAS\\Anaconda\\lib\\site-packages\\sklearn\\linear_model\\_coordinate_descent.py:532: ConvergenceWarning: Objective did not converge. You might want to increase the number of iterations. Duality gap: 2030503480.753446, tolerance: 202219.9535969969\n",
      "  positive)\n",
      "C:\\Users\\TRANG THOMAS\\Anaconda\\lib\\site-packages\\sklearn\\linear_model\\_coordinate_descent.py:532: ConvergenceWarning: Objective did not converge. You might want to increase the number of iterations. Duality gap: 1889609393.967741, tolerance: 191615.72795852792\n",
      "  positive)\n",
      "C:\\Users\\TRANG THOMAS\\Anaconda\\lib\\site-packages\\sklearn\\linear_model\\_coordinate_descent.py:532: ConvergenceWarning: Objective did not converge. You might want to increase the number of iterations. Duality gap: 1996587355.1130238, tolerance: 200123.5302821518\n",
      "  positive)\n",
      "C:\\Users\\TRANG THOMAS\\Anaconda\\lib\\site-packages\\sklearn\\linear_model\\_coordinate_descent.py:532: ConvergenceWarning: Objective did not converge. You might want to increase the number of iterations. Duality gap: 1986548518.9727168, tolerance: 198064.4263844421\n",
      "  positive)\n",
      "C:\\Users\\TRANG THOMAS\\Anaconda\\lib\\site-packages\\sklearn\\linear_model\\_coordinate_descent.py:532: ConvergenceWarning: Objective did not converge. You might want to increase the number of iterations. Duality gap: 2033011065.4692793, tolerance: 202219.9535969969\n",
      "  positive)\n",
      "C:\\Users\\TRANG THOMAS\\Anaconda\\lib\\site-packages\\sklearn\\linear_model\\_coordinate_descent.py:532: ConvergenceWarning: Objective did not converge. You might want to increase the number of iterations. Duality gap: 1891996738.2876058, tolerance: 191615.72795852792\n",
      "  positive)\n",
      "C:\\Users\\TRANG THOMAS\\Anaconda\\lib\\site-packages\\sklearn\\linear_model\\_coordinate_descent.py:532: ConvergenceWarning: Objective did not converge. You might want to increase the number of iterations. Duality gap: 1999191271.7144246, tolerance: 200123.5302821518\n",
      "  positive)\n",
      "C:\\Users\\TRANG THOMAS\\Anaconda\\lib\\site-packages\\sklearn\\linear_model\\_coordinate_descent.py:532: ConvergenceWarning: Objective did not converge. You might want to increase the number of iterations. Duality gap: 1988958841.275269, tolerance: 198064.4263844421\n",
      "  positive)\n",
      "C:\\Users\\TRANG THOMAS\\Anaconda\\lib\\site-packages\\sklearn\\linear_model\\_coordinate_descent.py:532: ConvergenceWarning: Objective did not converge. You might want to increase the number of iterations. Duality gap: 2035518650.1850722, tolerance: 202219.9535969969\n",
      "  positive)\n",
      "C:\\Users\\TRANG THOMAS\\Anaconda\\lib\\site-packages\\sklearn\\linear_model\\_coordinate_descent.py:532: ConvergenceWarning: Objective did not converge. You might want to increase the number of iterations. Duality gap: 1894384082.6074643, tolerance: 191615.72795852792\n",
      "  positive)\n",
      "C:\\Users\\TRANG THOMAS\\Anaconda\\lib\\site-packages\\sklearn\\linear_model\\_coordinate_descent.py:532: ConvergenceWarning: Objective did not converge. You might want to increase the number of iterations. Duality gap: 2001795188.3153322, tolerance: 200123.5302821518\n",
      "  positive)\n",
      "C:\\Users\\TRANG THOMAS\\Anaconda\\lib\\site-packages\\sklearn\\linear_model\\_coordinate_descent.py:532: ConvergenceWarning: Objective did not converge. You might want to increase the number of iterations. Duality gap: 1991369163.5778089, tolerance: 198064.4263844421\n",
      "  positive)\n",
      "C:\\Users\\TRANG THOMAS\\Anaconda\\lib\\site-packages\\sklearn\\linear_model\\_coordinate_descent.py:532: ConvergenceWarning: Objective did not converge. You might want to increase the number of iterations. Duality gap: 2038026234.9008622, tolerance: 202219.9535969969\n",
      "  positive)\n",
      "C:\\Users\\TRANG THOMAS\\Anaconda\\lib\\site-packages\\sklearn\\linear_model\\_coordinate_descent.py:532: ConvergenceWarning: Objective did not converge. You might want to increase the number of iterations. Duality gap: 1896771426.9273572, tolerance: 191615.72795852792\n",
      "  positive)\n",
      "C:\\Users\\TRANG THOMAS\\Anaconda\\lib\\site-packages\\sklearn\\linear_model\\_coordinate_descent.py:532: ConvergenceWarning: Objective did not converge. You might want to increase the number of iterations. Duality gap: 2004399104.916676, tolerance: 200123.5302821518\n",
      "  positive)\n",
      "C:\\Users\\TRANG THOMAS\\Anaconda\\lib\\site-packages\\sklearn\\linear_model\\_coordinate_descent.py:532: ConvergenceWarning: Objective did not converge. You might want to increase the number of iterations. Duality gap: 1993779485.880309, tolerance: 198064.4263844421\n",
      "  positive)\n",
      "C:\\Users\\TRANG THOMAS\\Anaconda\\lib\\site-packages\\sklearn\\linear_model\\_coordinate_descent.py:532: ConvergenceWarning: Objective did not converge. You might want to increase the number of iterations. Duality gap: 2040533819.6167169, tolerance: 202219.9535969969\n",
      "  positive)\n",
      "C:\\Users\\TRANG THOMAS\\Anaconda\\lib\\site-packages\\sklearn\\linear_model\\_coordinate_descent.py:532: ConvergenceWarning: Objective did not converge. You might want to increase the number of iterations. Duality gap: 1899158771.2472425, tolerance: 191615.72795852792\n",
      "  positive)\n",
      "C:\\Users\\TRANG THOMAS\\Anaconda\\lib\\site-packages\\sklearn\\linear_model\\_coordinate_descent.py:532: ConvergenceWarning: Objective did not converge. You might want to increase the number of iterations. Duality gap: 2007003021.5178745, tolerance: 200123.5302821518\n",
      "  positive)\n"
     ]
    },
    {
     "name": "stderr",
     "output_type": "stream",
     "text": [
      "C:\\Users\\TRANG THOMAS\\Anaconda\\lib\\site-packages\\sklearn\\linear_model\\_coordinate_descent.py:532: ConvergenceWarning: Objective did not converge. You might want to increase the number of iterations. Duality gap: 1996189808.1827803, tolerance: 198064.4263844421\n",
      "  positive)\n",
      "C:\\Users\\TRANG THOMAS\\Anaconda\\lib\\site-packages\\sklearn\\linear_model\\_coordinate_descent.py:532: ConvergenceWarning: Objective did not converge. You might want to increase the number of iterations. Duality gap: 2043041404.3325024, tolerance: 202219.9535969969\n",
      "  positive)\n",
      "C:\\Users\\TRANG THOMAS\\Anaconda\\lib\\site-packages\\sklearn\\linear_model\\_coordinate_descent.py:532: ConvergenceWarning: Objective did not converge. You might want to increase the number of iterations. Duality gap: 1901546115.567103, tolerance: 191615.72795852792\n",
      "  positive)\n",
      "C:\\Users\\TRANG THOMAS\\Anaconda\\lib\\site-packages\\sklearn\\linear_model\\_coordinate_descent.py:532: ConvergenceWarning: Objective did not converge. You might want to increase the number of iterations. Duality gap: 2009606938.1189435, tolerance: 200123.5302821518\n",
      "  positive)\n",
      "C:\\Users\\TRANG THOMAS\\Anaconda\\lib\\site-packages\\sklearn\\linear_model\\_coordinate_descent.py:532: ConvergenceWarning: Objective did not converge. You might want to increase the number of iterations. Duality gap: 1998600130.4854653, tolerance: 198064.4263844421\n",
      "  positive)\n",
      "C:\\Users\\TRANG THOMAS\\Anaconda\\lib\\site-packages\\sklearn\\linear_model\\_coordinate_descent.py:532: ConvergenceWarning: Objective did not converge. You might want to increase the number of iterations. Duality gap: 2045548989.048057, tolerance: 202219.9535969969\n",
      "  positive)\n",
      "C:\\Users\\TRANG THOMAS\\Anaconda\\lib\\site-packages\\sklearn\\linear_model\\_coordinate_descent.py:532: ConvergenceWarning: Objective did not converge. You might want to increase the number of iterations. Duality gap: 1903933459.886969, tolerance: 191615.72795852792\n",
      "  positive)\n",
      "C:\\Users\\TRANG THOMAS\\Anaconda\\lib\\site-packages\\sklearn\\linear_model\\_coordinate_descent.py:532: ConvergenceWarning: Objective did not converge. You might want to increase the number of iterations. Duality gap: 2012210854.7201805, tolerance: 200123.5302821518\n",
      "  positive)\n",
      "C:\\Users\\TRANG THOMAS\\Anaconda\\lib\\site-packages\\sklearn\\linear_model\\_coordinate_descent.py:532: ConvergenceWarning: Objective did not converge. You might want to increase the number of iterations. Duality gap: 2001010452.787956, tolerance: 198064.4263844421\n",
      "  positive)\n",
      "C:\\Users\\TRANG THOMAS\\Anaconda\\lib\\site-packages\\sklearn\\linear_model\\_coordinate_descent.py:532: ConvergenceWarning: Objective did not converge. You might want to increase the number of iterations. Duality gap: 2048056573.7640493, tolerance: 202219.9535969969\n",
      "  positive)\n",
      "C:\\Users\\TRANG THOMAS\\Anaconda\\lib\\site-packages\\sklearn\\linear_model\\_coordinate_descent.py:532: ConvergenceWarning: Objective did not converge. You might want to increase the number of iterations. Duality gap: 1906320804.2067804, tolerance: 191615.72795852792\n",
      "  positive)\n",
      "C:\\Users\\TRANG THOMAS\\Anaconda\\lib\\site-packages\\sklearn\\linear_model\\_coordinate_descent.py:532: ConvergenceWarning: Objective did not converge. You might want to increase the number of iterations. Duality gap: 2014814771.3213644, tolerance: 200123.5302821518\n",
      "  positive)\n",
      "C:\\Users\\TRANG THOMAS\\Anaconda\\lib\\site-packages\\sklearn\\linear_model\\_coordinate_descent.py:532: ConvergenceWarning: Objective did not converge. You might want to increase the number of iterations. Duality gap: 2003420775.090458, tolerance: 198064.4263844421\n",
      "  positive)\n",
      "C:\\Users\\TRANG THOMAS\\Anaconda\\lib\\site-packages\\sklearn\\linear_model\\_coordinate_descent.py:532: ConvergenceWarning: Objective did not converge. You might want to increase the number of iterations. Duality gap: 2050564158.4798698, tolerance: 202219.9535969969\n",
      "  positive)\n",
      "C:\\Users\\TRANG THOMAS\\Anaconda\\lib\\site-packages\\sklearn\\linear_model\\_coordinate_descent.py:532: ConvergenceWarning: Objective did not converge. You might want to increase the number of iterations. Duality gap: 1908708148.5267243, tolerance: 191615.72795852792\n",
      "  positive)\n",
      "C:\\Users\\TRANG THOMAS\\Anaconda\\lib\\site-packages\\sklearn\\linear_model\\_coordinate_descent.py:532: ConvergenceWarning: Objective did not converge. You might want to increase the number of iterations. Duality gap: 2017418687.9224386, tolerance: 200123.5302821518\n",
      "  positive)\n",
      "C:\\Users\\TRANG THOMAS\\Anaconda\\lib\\site-packages\\sklearn\\linear_model\\_coordinate_descent.py:532: ConvergenceWarning: Objective did not converge. You might want to increase the number of iterations. Duality gap: 2005831097.392728, tolerance: 198064.4263844421\n",
      "  positive)\n",
      "C:\\Users\\TRANG THOMAS\\Anaconda\\lib\\site-packages\\sklearn\\linear_model\\_coordinate_descent.py:532: ConvergenceWarning: Objective did not converge. You might want to increase the number of iterations. Duality gap: 2053071743.195283, tolerance: 202219.9535969969\n",
      "  positive)\n",
      "C:\\Users\\TRANG THOMAS\\Anaconda\\lib\\site-packages\\sklearn\\linear_model\\_coordinate_descent.py:532: ConvergenceWarning: Objective did not converge. You might want to increase the number of iterations. Duality gap: 1911095492.8465753, tolerance: 191615.72795852792\n",
      "  positive)\n",
      "C:\\Users\\TRANG THOMAS\\Anaconda\\lib\\site-packages\\sklearn\\linear_model\\_coordinate_descent.py:532: ConvergenceWarning: Objective did not converge. You might want to increase the number of iterations. Duality gap: 2020022604.5229964, tolerance: 200123.5302821518\n",
      "  positive)\n",
      "C:\\Users\\TRANG THOMAS\\Anaconda\\lib\\site-packages\\sklearn\\linear_model\\_coordinate_descent.py:532: ConvergenceWarning: Objective did not converge. You might want to increase the number of iterations. Duality gap: 2008241419.6956482, tolerance: 198064.4263844421\n",
      "  positive)\n",
      "C:\\Users\\TRANG THOMAS\\Anaconda\\lib\\site-packages\\sklearn\\linear_model\\_coordinate_descent.py:532: ConvergenceWarning: Objective did not converge. You might want to increase the number of iterations. Duality gap: 2055579327.9114957, tolerance: 202219.9535969969\n",
      "  positive)\n",
      "C:\\Users\\TRANG THOMAS\\Anaconda\\lib\\site-packages\\sklearn\\linear_model\\_coordinate_descent.py:532: ConvergenceWarning: Objective did not converge. You might want to increase the number of iterations. Duality gap: 1913482837.166428, tolerance: 191615.72795852792\n",
      "  positive)\n",
      "C:\\Users\\TRANG THOMAS\\Anaconda\\lib\\site-packages\\sklearn\\linear_model\\_coordinate_descent.py:532: ConvergenceWarning: Objective did not converge. You might want to increase the number of iterations. Duality gap: 2022626521.1247551, tolerance: 200123.5302821518\n",
      "  positive)\n",
      "C:\\Users\\TRANG THOMAS\\Anaconda\\lib\\site-packages\\sklearn\\linear_model\\_coordinate_descent.py:532: ConvergenceWarning: Objective did not converge. You might want to increase the number of iterations. Duality gap: 2010651741.998148, tolerance: 198064.4263844421\n",
      "  positive)\n",
      "C:\\Users\\TRANG THOMAS\\Anaconda\\lib\\site-packages\\sklearn\\linear_model\\_coordinate_descent.py:532: ConvergenceWarning: Objective did not converge. You might want to increase the number of iterations. Duality gap: 2058086912.626925, tolerance: 202219.9535969969\n",
      "  positive)\n",
      "C:\\Users\\TRANG THOMAS\\Anaconda\\lib\\site-packages\\sklearn\\linear_model\\_coordinate_descent.py:532: ConvergenceWarning: Objective did not converge. You might want to increase the number of iterations. Duality gap: 1915870181.486324, tolerance: 191615.72795852792\n",
      "  positive)\n",
      "C:\\Users\\TRANG THOMAS\\Anaconda\\lib\\site-packages\\sklearn\\linear_model\\_coordinate_descent.py:532: ConvergenceWarning: Objective did not converge. You might want to increase the number of iterations. Duality gap: 2025230437.7256124, tolerance: 200123.5302821518\n",
      "  positive)\n",
      "C:\\Users\\TRANG THOMAS\\Anaconda\\lib\\site-packages\\sklearn\\linear_model\\_coordinate_descent.py:532: ConvergenceWarning: Objective did not converge. You might want to increase the number of iterations. Duality gap: 2013062064.300747, tolerance: 198064.4263844421\n",
      "  positive)\n",
      "C:\\Users\\TRANG THOMAS\\Anaconda\\lib\\site-packages\\sklearn\\linear_model\\_coordinate_descent.py:532: ConvergenceWarning: Objective did not converge. You might want to increase the number of iterations. Duality gap: 2060594497.3426507, tolerance: 202219.9535969969\n",
      "  positive)\n",
      "C:\\Users\\TRANG THOMAS\\Anaconda\\lib\\site-packages\\sklearn\\linear_model\\_coordinate_descent.py:532: ConvergenceWarning: Objective did not converge. You might want to increase the number of iterations. Duality gap: 1918257525.8061182, tolerance: 191615.72795852792\n",
      "  positive)\n"
     ]
    },
    {
     "name": "stderr",
     "output_type": "stream",
     "text": [
      "C:\\Users\\TRANG THOMAS\\Anaconda\\lib\\site-packages\\sklearn\\linear_model\\_coordinate_descent.py:532: ConvergenceWarning: Objective did not converge. You might want to increase the number of iterations. Duality gap: 2027834354.3271217, tolerance: 200123.5302821518\n",
      "  positive)\n",
      "C:\\Users\\TRANG THOMAS\\Anaconda\\lib\\site-packages\\sklearn\\linear_model\\_coordinate_descent.py:532: ConvergenceWarning: Objective did not converge. You might want to increase the number of iterations. Duality gap: 2015472386.6031723, tolerance: 198064.4263844421\n",
      "  positive)\n",
      "C:\\Users\\TRANG THOMAS\\Anaconda\\lib\\site-packages\\sklearn\\linear_model\\_coordinate_descent.py:532: ConvergenceWarning: Objective did not converge. You might want to increase the number of iterations. Duality gap: 2063102082.0588717, tolerance: 202219.9535969969\n",
      "  positive)\n",
      "C:\\Users\\TRANG THOMAS\\Anaconda\\lib\\site-packages\\sklearn\\linear_model\\_coordinate_descent.py:532: ConvergenceWarning: Objective did not converge. You might want to increase the number of iterations. Duality gap: 1920644870.1258683, tolerance: 191615.72795852792\n",
      "  positive)\n",
      "C:\\Users\\TRANG THOMAS\\Anaconda\\lib\\site-packages\\sklearn\\linear_model\\_coordinate_descent.py:532: ConvergenceWarning: Objective did not converge. You might want to increase the number of iterations. Duality gap: 2030438270.9282742, tolerance: 200123.5302821518\n",
      "  positive)\n",
      "C:\\Users\\TRANG THOMAS\\Anaconda\\lib\\site-packages\\sklearn\\linear_model\\_coordinate_descent.py:532: ConvergenceWarning: Objective did not converge. You might want to increase the number of iterations. Duality gap: 2017869853.5769665, tolerance: 198064.4263844421\n",
      "  positive)\n",
      "C:\\Users\\TRANG THOMAS\\Anaconda\\lib\\site-packages\\sklearn\\linear_model\\_coordinate_descent.py:532: ConvergenceWarning: Objective did not converge. You might want to increase the number of iterations. Duality gap: 2065609666.7743955, tolerance: 202219.9535969969\n",
      "  positive)\n",
      "C:\\Users\\TRANG THOMAS\\Anaconda\\lib\\site-packages\\sklearn\\linear_model\\_coordinate_descent.py:532: ConvergenceWarning: Objective did not converge. You might want to increase the number of iterations. Duality gap: 1923032214.4456856, tolerance: 191615.72795852792\n",
      "  positive)\n",
      "C:\\Users\\TRANG THOMAS\\Anaconda\\lib\\site-packages\\sklearn\\linear_model\\_coordinate_descent.py:532: ConvergenceWarning: Objective did not converge. You might want to increase the number of iterations. Duality gap: 2033042187.5291371, tolerance: 200123.5302821518\n",
      "  positive)\n",
      "C:\\Users\\TRANG THOMAS\\Anaconda\\lib\\site-packages\\sklearn\\linear_model\\_coordinate_descent.py:532: ConvergenceWarning: Objective did not converge. You might want to increase the number of iterations. Duality gap: 2020280690.0927405, tolerance: 198064.4263844421\n",
      "  positive)\n",
      "C:\\Users\\TRANG THOMAS\\Anaconda\\lib\\site-packages\\sklearn\\linear_model\\_coordinate_descent.py:532: ConvergenceWarning: Objective did not converge. You might want to increase the number of iterations. Duality gap: 2068117251.4904327, tolerance: 202219.9535969969\n",
      "  positive)\n",
      "C:\\Users\\TRANG THOMAS\\Anaconda\\lib\\site-packages\\sklearn\\linear_model\\_coordinate_descent.py:532: ConvergenceWarning: Objective did not converge. You might want to increase the number of iterations. Duality gap: 1925419558.7655237, tolerance: 191615.72795852792\n",
      "  positive)\n",
      "C:\\Users\\TRANG THOMAS\\Anaconda\\lib\\site-packages\\sklearn\\linear_model\\_coordinate_descent.py:532: ConvergenceWarning: Objective did not converge. You might want to increase the number of iterations. Duality gap: 2035646104.1300688, tolerance: 200123.5302821518\n",
      "  positive)\n",
      "C:\\Users\\TRANG THOMAS\\Anaconda\\lib\\site-packages\\sklearn\\linear_model\\_coordinate_descent.py:532: ConvergenceWarning: Objective did not converge. You might want to increase the number of iterations. Duality gap: 2022691526.608261, tolerance: 198064.4263844421\n",
      "  positive)\n",
      "C:\\Users\\TRANG THOMAS\\Anaconda\\lib\\site-packages\\sklearn\\linear_model\\_coordinate_descent.py:532: ConvergenceWarning: Objective did not converge. You might want to increase the number of iterations. Duality gap: 2070624836.2062464, tolerance: 202219.9535969969\n",
      "  positive)\n",
      "C:\\Users\\TRANG THOMAS\\Anaconda\\lib\\site-packages\\sklearn\\linear_model\\_coordinate_descent.py:532: ConvergenceWarning: Objective did not converge. You might want to increase the number of iterations. Duality gap: 1927806903.0853138, tolerance: 191615.72795852792\n",
      "  positive)\n",
      "C:\\Users\\TRANG THOMAS\\Anaconda\\lib\\site-packages\\sklearn\\linear_model\\_coordinate_descent.py:532: ConvergenceWarning: Objective did not converge. You might want to increase the number of iterations. Duality gap: 2038250020.7311997, tolerance: 200123.5302821518\n",
      "  positive)\n",
      "C:\\Users\\TRANG THOMAS\\Anaconda\\lib\\site-packages\\sklearn\\linear_model\\_coordinate_descent.py:532: ConvergenceWarning: Objective did not converge. You might want to increase the number of iterations. Duality gap: 2025102363.124156, tolerance: 198064.4263844421\n",
      "  positive)\n",
      "C:\\Users\\TRANG THOMAS\\Anaconda\\lib\\site-packages\\sklearn\\linear_model\\_coordinate_descent.py:532: ConvergenceWarning: Objective did not converge. You might want to increase the number of iterations. Duality gap: 2073132420.92197, tolerance: 202219.9535969969\n",
      "  positive)\n",
      "C:\\Users\\TRANG THOMAS\\Anaconda\\lib\\site-packages\\sklearn\\linear_model\\_coordinate_descent.py:532: ConvergenceWarning: Objective did not converge. You might want to increase the number of iterations. Duality gap: 1930194247.405518, tolerance: 191615.72795852792\n",
      "  positive)\n",
      "C:\\Users\\TRANG THOMAS\\Anaconda\\lib\\site-packages\\sklearn\\linear_model\\_coordinate_descent.py:532: ConvergenceWarning: Objective did not converge. You might want to increase the number of iterations. Duality gap: 2040853937.332512, tolerance: 200123.5302821518\n",
      "  positive)\n",
      "C:\\Users\\TRANG THOMAS\\Anaconda\\lib\\site-packages\\sklearn\\linear_model\\_coordinate_descent.py:532: ConvergenceWarning: Objective did not converge. You might want to increase the number of iterations. Duality gap: 2027513199.6398509, tolerance: 198064.4263844421\n",
      "  positive)\n",
      "C:\\Users\\TRANG THOMAS\\Anaconda\\lib\\site-packages\\sklearn\\linear_model\\_coordinate_descent.py:532: ConvergenceWarning: Objective did not converge. You might want to increase the number of iterations. Duality gap: 2075640005.6374526, tolerance: 202219.9535969969\n",
      "  positive)\n",
      "C:\\Users\\TRANG THOMAS\\Anaconda\\lib\\site-packages\\sklearn\\linear_model\\_coordinate_descent.py:532: ConvergenceWarning: Objective did not converge. You might want to increase the number of iterations. Duality gap: 1932581591.725264, tolerance: 191615.72795852792\n",
      "  positive)\n",
      "C:\\Users\\TRANG THOMAS\\Anaconda\\lib\\site-packages\\sklearn\\linear_model\\_coordinate_descent.py:532: ConvergenceWarning: Objective did not converge. You might want to increase the number of iterations. Duality gap: 2043457853.9337795, tolerance: 200123.5302821518\n",
      "  positive)\n",
      "C:\\Users\\TRANG THOMAS\\Anaconda\\lib\\site-packages\\sklearn\\linear_model\\_coordinate_descent.py:532: ConvergenceWarning: Objective did not converge. You might want to increase the number of iterations. Duality gap: 2029924036.1555266, tolerance: 198064.4263844421\n",
      "  positive)\n",
      "C:\\Users\\TRANG THOMAS\\Anaconda\\lib\\site-packages\\sklearn\\linear_model\\_coordinate_descent.py:532: ConvergenceWarning: Objective did not converge. You might want to increase the number of iterations. Duality gap: 2078147590.353603, tolerance: 202219.9535969969\n",
      "  positive)\n",
      "C:\\Users\\TRANG THOMAS\\Anaconda\\lib\\site-packages\\sklearn\\linear_model\\_coordinate_descent.py:532: ConvergenceWarning: Objective did not converge. You might want to increase the number of iterations. Duality gap: 1934968936.0452847, tolerance: 191615.72795852792\n",
      "  positive)\n",
      "C:\\Users\\TRANG THOMAS\\Anaconda\\lib\\site-packages\\sklearn\\linear_model\\_coordinate_descent.py:532: ConvergenceWarning: Objective did not converge. You might want to increase the number of iterations. Duality gap: 2046061770.5344415, tolerance: 200123.5302821518\n",
      "  positive)\n",
      "C:\\Users\\TRANG THOMAS\\Anaconda\\lib\\site-packages\\sklearn\\linear_model\\_coordinate_descent.py:532: ConvergenceWarning: Objective did not converge. You might want to increase the number of iterations. Duality gap: 2032334872.6708946, tolerance: 198064.4263844421\n",
      "  positive)\n",
      "C:\\Users\\TRANG THOMAS\\Anaconda\\lib\\site-packages\\sklearn\\linear_model\\_coordinate_descent.py:532: ConvergenceWarning: Objective did not converge. You might want to increase the number of iterations. Duality gap: 2080655175.0694246, tolerance: 202219.9535969969\n",
      "  positive)\n",
      "C:\\Users\\TRANG THOMAS\\Anaconda\\lib\\site-packages\\sklearn\\linear_model\\_coordinate_descent.py:532: ConvergenceWarning: Objective did not converge. You might want to increase the number of iterations. Duality gap: 1937356280.3651447, tolerance: 191615.72795852792\n",
      "  positive)\n"
     ]
    },
    {
     "name": "stderr",
     "output_type": "stream",
     "text": [
      "C:\\Users\\TRANG THOMAS\\Anaconda\\lib\\site-packages\\sklearn\\linear_model\\_coordinate_descent.py:532: ConvergenceWarning: Objective did not converge. You might want to increase the number of iterations. Duality gap: 2048665687.1362782, tolerance: 200123.5302821518\n",
      "  positive)\n",
      "C:\\Users\\TRANG THOMAS\\Anaconda\\lib\\site-packages\\sklearn\\linear_model\\_coordinate_descent.py:532: ConvergenceWarning: Objective did not converge. You might want to increase the number of iterations. Duality gap: 2034745709.186423, tolerance: 198064.4263844421\n",
      "  positive)\n",
      "C:\\Users\\TRANG THOMAS\\Anaconda\\lib\\site-packages\\sklearn\\linear_model\\_coordinate_descent.py:532: ConvergenceWarning: Objective did not converge. You might want to increase the number of iterations. Duality gap: 2083162759.7852116, tolerance: 202219.9535969969\n",
      "  positive)\n",
      "C:\\Users\\TRANG THOMAS\\Anaconda\\lib\\site-packages\\sklearn\\linear_model\\_coordinate_descent.py:532: ConvergenceWarning: Objective did not converge. You might want to increase the number of iterations. Duality gap: 1939743624.6849947, tolerance: 191615.72795852792\n",
      "  positive)\n",
      "C:\\Users\\TRANG THOMAS\\Anaconda\\lib\\site-packages\\sklearn\\linear_model\\_coordinate_descent.py:532: ConvergenceWarning: Objective did not converge. You might want to increase the number of iterations. Duality gap: 2051269603.7375116, tolerance: 200123.5302821518\n",
      "  positive)\n",
      "C:\\Users\\TRANG THOMAS\\Anaconda\\lib\\site-packages\\sklearn\\linear_model\\_coordinate_descent.py:532: ConvergenceWarning: Objective did not converge. You might want to increase the number of iterations. Duality gap: 2037156545.702599, tolerance: 198064.4263844421\n",
      "  positive)\n",
      "C:\\Users\\TRANG THOMAS\\Anaconda\\lib\\site-packages\\sklearn\\linear_model\\_coordinate_descent.py:532: ConvergenceWarning: Objective did not converge. You might want to increase the number of iterations. Duality gap: 2085664105.2115576, tolerance: 202219.9535969969\n",
      "  positive)\n",
      "C:\\Users\\TRANG THOMAS\\Anaconda\\lib\\site-packages\\sklearn\\linear_model\\_coordinate_descent.py:532: ConvergenceWarning: Objective did not converge. You might want to increase the number of iterations. Duality gap: 1942130969.0048664, tolerance: 191615.72795852792\n",
      "  positive)\n",
      "C:\\Users\\TRANG THOMAS\\Anaconda\\lib\\site-packages\\sklearn\\linear_model\\_coordinate_descent.py:532: ConvergenceWarning: Objective did not converge. You might want to increase the number of iterations. Duality gap: 2053873520.3386092, tolerance: 200123.5302821518\n",
      "  positive)\n",
      "C:\\Users\\TRANG THOMAS\\Anaconda\\lib\\site-packages\\sklearn\\linear_model\\_coordinate_descent.py:532: ConvergenceWarning: Objective did not converge. You might want to increase the number of iterations. Duality gap: 2039567382.2180815, tolerance: 198064.4263844421\n",
      "  positive)\n",
      "C:\\Users\\TRANG THOMAS\\Anaconda\\lib\\site-packages\\sklearn\\linear_model\\_coordinate_descent.py:532: ConvergenceWarning: Objective did not converge. You might want to increase the number of iterations. Duality gap: 2088172056.9435315, tolerance: 202219.9535969969\n",
      "  positive)\n",
      "C:\\Users\\TRANG THOMAS\\Anaconda\\lib\\site-packages\\sklearn\\linear_model\\_coordinate_descent.py:532: ConvergenceWarning: Objective did not converge. You might want to increase the number of iterations. Duality gap: 1944518313.3247235, tolerance: 191615.72795852792\n",
      "  positive)\n",
      "C:\\Users\\TRANG THOMAS\\Anaconda\\lib\\site-packages\\sklearn\\linear_model\\_coordinate_descent.py:532: ConvergenceWarning: Objective did not converge. You might want to increase the number of iterations. Duality gap: 2056477436.9397547, tolerance: 200123.5302821518\n",
      "  positive)\n",
      "C:\\Users\\TRANG THOMAS\\Anaconda\\lib\\site-packages\\sklearn\\linear_model\\_coordinate_descent.py:532: ConvergenceWarning: Objective did not converge. You might want to increase the number of iterations. Duality gap: 2041978218.7340832, tolerance: 198064.4263844421\n",
      "  positive)\n",
      "C:\\Users\\TRANG THOMAS\\Anaconda\\lib\\site-packages\\sklearn\\linear_model\\_coordinate_descent.py:532: ConvergenceWarning: Objective did not converge. You might want to increase the number of iterations. Duality gap: 2090680008.676814, tolerance: 202219.9535969969\n",
      "  positive)\n",
      "C:\\Users\\TRANG THOMAS\\Anaconda\\lib\\site-packages\\sklearn\\linear_model\\_coordinate_descent.py:532: ConvergenceWarning: Objective did not converge. You might want to increase the number of iterations. Duality gap: 1946905657.6445866, tolerance: 191615.72795852792\n",
      "  positive)\n",
      "C:\\Users\\TRANG THOMAS\\Anaconda\\lib\\site-packages\\sklearn\\linear_model\\_coordinate_descent.py:532: ConvergenceWarning: Objective did not converge. You might want to increase the number of iterations. Duality gap: 2059081353.540946, tolerance: 200123.5302821518\n",
      "  positive)\n",
      "C:\\Users\\TRANG THOMAS\\Anaconda\\lib\\site-packages\\sklearn\\linear_model\\_coordinate_descent.py:532: ConvergenceWarning: Objective did not converge. You might want to increase the number of iterations. Duality gap: 2044389055.2486959, tolerance: 198064.4263844421\n",
      "  positive)\n",
      "C:\\Users\\TRANG THOMAS\\Anaconda\\lib\\site-packages\\sklearn\\linear_model\\_coordinate_descent.py:532: ConvergenceWarning: Objective did not converge. You might want to increase the number of iterations. Duality gap: 2093187960.4099445, tolerance: 202219.9535969969\n",
      "  positive)\n",
      "C:\\Users\\TRANG THOMAS\\Anaconda\\lib\\site-packages\\sklearn\\linear_model\\_coordinate_descent.py:532: ConvergenceWarning: Objective did not converge. You might want to increase the number of iterations. Duality gap: 1949293001.9638262, tolerance: 191615.72795852792\n",
      "  positive)\n",
      "C:\\Users\\TRANG THOMAS\\Anaconda\\lib\\site-packages\\sklearn\\linear_model\\_coordinate_descent.py:532: ConvergenceWarning: Objective did not converge. You might want to increase the number of iterations. Duality gap: 2061685270.1421251, tolerance: 200123.5302821518\n",
      "  positive)\n",
      "C:\\Users\\TRANG THOMAS\\Anaconda\\lib\\site-packages\\sklearn\\linear_model\\_coordinate_descent.py:532: ConvergenceWarning: Objective did not converge. You might want to increase the number of iterations. Duality gap: 2046799891.7653975, tolerance: 198064.4263844421\n",
      "  positive)\n",
      "C:\\Users\\TRANG THOMAS\\Anaconda\\lib\\site-packages\\sklearn\\linear_model\\_coordinate_descent.py:532: ConvergenceWarning: Objective did not converge. You might want to increase the number of iterations. Duality gap: 2095695912.1417623, tolerance: 202219.9535969969\n",
      "  positive)\n",
      "C:\\Users\\TRANG THOMAS\\Anaconda\\lib\\site-packages\\sklearn\\linear_model\\_coordinate_descent.py:532: ConvergenceWarning: Objective did not converge. You might want to increase the number of iterations. Duality gap: 1951676906.6153765, tolerance: 191615.72795852792\n",
      "  positive)\n",
      "C:\\Users\\TRANG THOMAS\\Anaconda\\lib\\site-packages\\sklearn\\linear_model\\_coordinate_descent.py:532: ConvergenceWarning: Objective did not converge. You might want to increase the number of iterations. Duality gap: 2064289186.7431846, tolerance: 200123.5302821518\n",
      "  positive)\n",
      "C:\\Users\\TRANG THOMAS\\Anaconda\\lib\\site-packages\\sklearn\\linear_model\\_coordinate_descent.py:532: ConvergenceWarning: Objective did not converge. You might want to increase the number of iterations. Duality gap: 2049210728.281177, tolerance: 198064.4263844421\n",
      "  positive)\n",
      "C:\\Users\\TRANG THOMAS\\Anaconda\\lib\\site-packages\\sklearn\\linear_model\\_coordinate_descent.py:532: ConvergenceWarning: Objective did not converge. You might want to increase the number of iterations. Duality gap: 2098203863.875563, tolerance: 202219.9535969969\n",
      "  positive)\n",
      "C:\\Users\\TRANG THOMAS\\Anaconda\\lib\\site-packages\\sklearn\\linear_model\\_coordinate_descent.py:532: ConvergenceWarning: Objective did not converge. You might want to increase the number of iterations. Duality gap: 1954064515.5250125, tolerance: 191615.72795852792\n",
      "  positive)\n",
      "C:\\Users\\TRANG THOMAS\\Anaconda\\lib\\site-packages\\sklearn\\linear_model\\_coordinate_descent.py:532: ConvergenceWarning: Objective did not converge. You might want to increase the number of iterations. Duality gap: 2066889656.6852608, tolerance: 200123.5302821518\n",
      "  positive)\n",
      "C:\\Users\\TRANG THOMAS\\Anaconda\\lib\\site-packages\\sklearn\\linear_model\\_coordinate_descent.py:532: ConvergenceWarning: Objective did not converge. You might want to increase the number of iterations. Duality gap: 2051621564.7967386, tolerance: 198064.4263844421\n",
      "  positive)\n",
      "C:\\Users\\TRANG THOMAS\\Anaconda\\lib\\site-packages\\sklearn\\linear_model\\_coordinate_descent.py:532: ConvergenceWarning: Objective did not converge. You might want to increase the number of iterations. Duality gap: 2100711815.607766, tolerance: 202219.9535969969\n",
      "  positive)\n"
     ]
    },
    {
     "name": "stderr",
     "output_type": "stream",
     "text": [
      "C:\\Users\\TRANG THOMAS\\Anaconda\\lib\\site-packages\\sklearn\\linear_model\\_coordinate_descent.py:532: ConvergenceWarning: Objective did not converge. You might want to increase the number of iterations. Duality gap: 1956452124.433919, tolerance: 191615.72795852792\n",
      "  positive)\n",
      "C:\\Users\\TRANG THOMAS\\Anaconda\\lib\\site-packages\\sklearn\\linear_model\\_coordinate_descent.py:532: ConvergenceWarning: Objective did not converge. You might want to increase the number of iterations. Duality gap: 2069493860.508136, tolerance: 200123.5302821518\n",
      "  positive)\n",
      "C:\\Users\\TRANG THOMAS\\Anaconda\\lib\\site-packages\\sklearn\\linear_model\\_coordinate_descent.py:532: ConvergenceWarning: Objective did not converge. You might want to increase the number of iterations. Duality gap: 2054032401.3126054, tolerance: 198064.4263844421\n",
      "  positive)\n",
      "C:\\Users\\TRANG THOMAS\\Anaconda\\lib\\site-packages\\sklearn\\linear_model\\_coordinate_descent.py:532: ConvergenceWarning: Objective did not converge. You might want to increase the number of iterations. Duality gap: 2103219767.341196, tolerance: 202219.9535969969\n",
      "  positive)\n",
      "C:\\Users\\TRANG THOMAS\\Anaconda\\lib\\site-packages\\sklearn\\linear_model\\_coordinate_descent.py:532: ConvergenceWarning: Objective did not converge. You might want to increase the number of iterations. Duality gap: 1958839733.3447623, tolerance: 191615.72795852792\n",
      "  positive)\n",
      "C:\\Users\\TRANG THOMAS\\Anaconda\\lib\\site-packages\\sklearn\\linear_model\\_coordinate_descent.py:532: ConvergenceWarning: Objective did not converge. You might want to increase the number of iterations. Duality gap: 2072098064.330787, tolerance: 200123.5302821518\n",
      "  positive)\n",
      "C:\\Users\\TRANG THOMAS\\Anaconda\\lib\\site-packages\\sklearn\\linear_model\\_coordinate_descent.py:532: ConvergenceWarning: Objective did not converge. You might want to increase the number of iterations. Duality gap: 2056443237.8282824, tolerance: 198064.4263844421\n",
      "  positive)\n",
      "C:\\Users\\TRANG THOMAS\\Anaconda\\lib\\site-packages\\sklearn\\linear_model\\_coordinate_descent.py:532: ConvergenceWarning: Objective did not converge. You might want to increase the number of iterations. Duality gap: 2105727719.0738444, tolerance: 202219.9535969969\n",
      "  positive)\n",
      "C:\\Users\\TRANG THOMAS\\Anaconda\\lib\\site-packages\\sklearn\\linear_model\\_coordinate_descent.py:532: ConvergenceWarning: Objective did not converge. You might want to increase the number of iterations. Duality gap: 1961227342.2545505, tolerance: 191615.72795852792\n",
      "  positive)\n",
      "C:\\Users\\TRANG THOMAS\\Anaconda\\lib\\site-packages\\sklearn\\linear_model\\_coordinate_descent.py:532: ConvergenceWarning: Objective did not converge. You might want to increase the number of iterations. Duality gap: 2074702268.153512, tolerance: 200123.5302821518\n",
      "  positive)\n",
      "C:\\Users\\TRANG THOMAS\\Anaconda\\lib\\site-packages\\sklearn\\linear_model\\_coordinate_descent.py:532: ConvergenceWarning: Objective did not converge. You might want to increase the number of iterations. Duality gap: 2058854074.3439136, tolerance: 198064.4263844421\n",
      "  positive)\n",
      "C:\\Users\\TRANG THOMAS\\Anaconda\\lib\\site-packages\\sklearn\\linear_model\\_coordinate_descent.py:532: ConvergenceWarning: Objective did not converge. You might want to increase the number of iterations. Duality gap: 2108235670.8067932, tolerance: 202219.9535969969\n",
      "  positive)\n",
      "C:\\Users\\TRANG THOMAS\\Anaconda\\lib\\site-packages\\sklearn\\linear_model\\_coordinate_descent.py:532: ConvergenceWarning: Objective did not converge. You might want to increase the number of iterations. Duality gap: 1963614951.1637564, tolerance: 191615.72795852792\n",
      "  positive)\n",
      "C:\\Users\\TRANG THOMAS\\Anaconda\\lib\\site-packages\\sklearn\\linear_model\\_coordinate_descent.py:532: ConvergenceWarning: Objective did not converge. You might want to increase the number of iterations. Duality gap: 2077306471.975002, tolerance: 200123.5302821518\n",
      "  positive)\n",
      "C:\\Users\\TRANG THOMAS\\Anaconda\\lib\\site-packages\\sklearn\\linear_model\\_coordinate_descent.py:532: ConvergenceWarning: Objective did not converge. You might want to increase the number of iterations. Duality gap: 2061264910.8597174, tolerance: 198064.4263844421\n",
      "  positive)\n",
      "C:\\Users\\TRANG THOMAS\\Anaconda\\lib\\site-packages\\sklearn\\linear_model\\_coordinate_descent.py:532: ConvergenceWarning: Objective did not converge. You might want to increase the number of iterations. Duality gap: 2110743622.5383475, tolerance: 202219.9535969969\n",
      "  positive)\n",
      "C:\\Users\\TRANG THOMAS\\Anaconda\\lib\\site-packages\\sklearn\\linear_model\\_coordinate_descent.py:532: ConvergenceWarning: Objective did not converge. You might want to increase the number of iterations. Duality gap: 1966002560.0737221, tolerance: 191615.72795852792\n",
      "  positive)\n",
      "C:\\Users\\TRANG THOMAS\\Anaconda\\lib\\site-packages\\sklearn\\linear_model\\_coordinate_descent.py:532: ConvergenceWarning: Objective did not converge. You might want to increase the number of iterations. Duality gap: 2079910675.7989151, tolerance: 200123.5302821518\n",
      "  positive)\n",
      "C:\\Users\\TRANG THOMAS\\Anaconda\\lib\\site-packages\\sklearn\\linear_model\\_coordinate_descent.py:532: ConvergenceWarning: Objective did not converge. You might want to increase the number of iterations. Duality gap: 2063675747.3754077, tolerance: 198064.4263844421\n",
      "  positive)\n",
      "C:\\Users\\TRANG THOMAS\\Anaconda\\lib\\site-packages\\sklearn\\linear_model\\_coordinate_descent.py:532: ConvergenceWarning: Objective did not converge. You might want to increase the number of iterations. Duality gap: 2113251574.2705889, tolerance: 202219.9535969969\n",
      "  positive)\n",
      "C:\\Users\\TRANG THOMAS\\Anaconda\\lib\\site-packages\\sklearn\\linear_model\\_coordinate_descent.py:532: ConvergenceWarning: Objective did not converge. You might want to increase the number of iterations. Duality gap: 1968390168.983918, tolerance: 191615.72795852792\n",
      "  positive)\n",
      "C:\\Users\\TRANG THOMAS\\Anaconda\\lib\\site-packages\\sklearn\\linear_model\\_coordinate_descent.py:532: ConvergenceWarning: Objective did not converge. You might want to increase the number of iterations. Duality gap: 2082514879.6213074, tolerance: 200123.5302821518\n",
      "  positive)\n",
      "C:\\Users\\TRANG THOMAS\\Anaconda\\lib\\site-packages\\sklearn\\linear_model\\_coordinate_descent.py:532: ConvergenceWarning: Objective did not converge. You might want to increase the number of iterations. Duality gap: 2066086583.8909993, tolerance: 198064.4263844421\n",
      "  positive)\n",
      "C:\\Users\\TRANG THOMAS\\Anaconda\\lib\\site-packages\\sklearn\\linear_model\\_coordinate_descent.py:532: ConvergenceWarning: Objective did not converge. You might want to increase the number of iterations. Duality gap: 2115759526.0051937, tolerance: 202219.9535969969\n",
      "  positive)\n",
      "C:\\Users\\TRANG THOMAS\\Anaconda\\lib\\site-packages\\sklearn\\linear_model\\_coordinate_descent.py:532: ConvergenceWarning: Objective did not converge. You might want to increase the number of iterations. Duality gap: 1970777777.8936062, tolerance: 191615.72795852792\n",
      "  positive)\n",
      "C:\\Users\\TRANG THOMAS\\Anaconda\\lib\\site-packages\\sklearn\\linear_model\\_coordinate_descent.py:532: ConvergenceWarning: Objective did not converge. You might want to increase the number of iterations. Duality gap: 2085119083.4440417, tolerance: 200123.5302821518\n",
      "  positive)\n",
      "C:\\Users\\TRANG THOMAS\\Anaconda\\lib\\site-packages\\sklearn\\linear_model\\_coordinate_descent.py:532: ConvergenceWarning: Objective did not converge. You might want to increase the number of iterations. Duality gap: 2068497420.4044657, tolerance: 198064.4263844421\n",
      "  positive)\n",
      "C:\\Users\\TRANG THOMAS\\Anaconda\\lib\\site-packages\\sklearn\\linear_model\\_coordinate_descent.py:532: ConvergenceWarning: Objective did not converge. You might want to increase the number of iterations. Duality gap: 2118267477.7365713, tolerance: 202219.9535969969\n",
      "  positive)\n",
      "C:\\Users\\TRANG THOMAS\\Anaconda\\lib\\site-packages\\sklearn\\linear_model\\_coordinate_descent.py:532: ConvergenceWarning: Objective did not converge. You might want to increase the number of iterations. Duality gap: 1973165386.8015885, tolerance: 191615.72795852792\n",
      "  positive)\n",
      "C:\\Users\\TRANG THOMAS\\Anaconda\\lib\\site-packages\\sklearn\\linear_model\\_coordinate_descent.py:532: ConvergenceWarning: Objective did not converge. You might want to increase the number of iterations. Duality gap: 2087723287.2672088, tolerance: 200123.5302821518\n",
      "  positive)\n",
      "C:\\Users\\TRANG THOMAS\\Anaconda\\lib\\site-packages\\sklearn\\linear_model\\_coordinate_descent.py:532: ConvergenceWarning: Objective did not converge. You might want to increase the number of iterations. Duality gap: 2070908256.9224265, tolerance: 198064.4263844421\n",
      "  positive)\n",
      "C:\\Users\\TRANG THOMAS\\Anaconda\\lib\\site-packages\\sklearn\\linear_model\\_coordinate_descent.py:532: ConvergenceWarning: Objective did not converge. You might want to increase the number of iterations. Duality gap: 2120775429.4706838, tolerance: 202219.9535969969\n",
      "  positive)\n"
     ]
    },
    {
     "name": "stderr",
     "output_type": "stream",
     "text": [
      "C:\\Users\\TRANG THOMAS\\Anaconda\\lib\\site-packages\\sklearn\\linear_model\\_coordinate_descent.py:532: ConvergenceWarning: Objective did not converge. You might want to increase the number of iterations. Duality gap: 1975552995.7132044, tolerance: 191615.72795852792\n",
      "  positive)\n",
      "C:\\Users\\TRANG THOMAS\\Anaconda\\lib\\site-packages\\sklearn\\linear_model\\_coordinate_descent.py:532: ConvergenceWarning: Objective did not converge. You might want to increase the number of iterations. Duality gap: 2090327491.086608, tolerance: 200123.5302821518\n",
      "  positive)\n",
      "C:\\Users\\TRANG THOMAS\\Anaconda\\lib\\site-packages\\sklearn\\linear_model\\_coordinate_descent.py:532: ConvergenceWarning: Objective did not converge. You might want to increase the number of iterations. Duality gap: 2073319093.437986, tolerance: 198064.4263844421\n",
      "  positive)\n",
      "C:\\Users\\TRANG THOMAS\\Anaconda\\lib\\site-packages\\sklearn\\linear_model\\_coordinate_descent.py:532: ConvergenceWarning: Objective did not converge. You might want to increase the number of iterations. Duality gap: 2123283381.1984901, tolerance: 202219.9535969969\n",
      "  positive)\n",
      "C:\\Users\\TRANG THOMAS\\Anaconda\\lib\\site-packages\\sklearn\\linear_model\\_coordinate_descent.py:532: ConvergenceWarning: Objective did not converge. You might want to increase the number of iterations. Duality gap: 1977940604.6224322, tolerance: 191615.72795852792\n",
      "  positive)\n",
      "C:\\Users\\TRANG THOMAS\\Anaconda\\lib\\site-packages\\sklearn\\linear_model\\_coordinate_descent.py:532: ConvergenceWarning: Objective did not converge. You might want to increase the number of iterations. Duality gap: 2092931694.9124875, tolerance: 200123.5302821518\n",
      "  positive)\n",
      "C:\\Users\\TRANG THOMAS\\Anaconda\\lib\\site-packages\\sklearn\\linear_model\\_coordinate_descent.py:532: ConvergenceWarning: Objective did not converge. You might want to increase the number of iterations. Duality gap: 2075729929.9536343, tolerance: 198064.4263844421\n",
      "  positive)\n",
      "C:\\Users\\TRANG THOMAS\\Anaconda\\lib\\site-packages\\sklearn\\linear_model\\_coordinate_descent.py:532: ConvergenceWarning: Objective did not converge. You might want to increase the number of iterations. Duality gap: 2125791332.9366338, tolerance: 202219.9535969969\n",
      "  positive)\n",
      "C:\\Users\\TRANG THOMAS\\Anaconda\\lib\\site-packages\\sklearn\\linear_model\\_coordinate_descent.py:532: ConvergenceWarning: Objective did not converge. You might want to increase the number of iterations. Duality gap: 1980328213.531581, tolerance: 191615.72795852792\n",
      "  positive)\n",
      "C:\\Users\\TRANG THOMAS\\Anaconda\\lib\\site-packages\\sklearn\\linear_model\\_coordinate_descent.py:532: ConvergenceWarning: Objective did not converge. You might want to increase the number of iterations. Duality gap: 2095535898.7337892, tolerance: 200123.5302821518\n",
      "  positive)\n",
      "C:\\Users\\TRANG THOMAS\\Anaconda\\lib\\site-packages\\sklearn\\model_selection\\_validation.py:593: UserWarning: With alpha=0, this algorithm does not converge well. You are advised to use the LinearRegression estimator\n",
      "  estimator.fit(X_train, y_train, **fit_params)\n",
      "C:\\Users\\TRANG THOMAS\\Anaconda\\lib\\site-packages\\sklearn\\linear_model\\_coordinate_descent.py:532: UserWarning: Coordinate descent with no regularization may lead to unexpected results and is discouraged.\n",
      "  positive)\n",
      "C:\\Users\\TRANG THOMAS\\Anaconda\\lib\\site-packages\\sklearn\\linear_model\\_coordinate_descent.py:532: ConvergenceWarning: Objective did not converge. You might want to increase the number of iterations. Duality gap: 519535191.61741287, tolerance: 198064.4263844421\n",
      "  positive)\n",
      "C:\\Users\\TRANG THOMAS\\Anaconda\\lib\\site-packages\\sklearn\\model_selection\\_validation.py:593: UserWarning: With alpha=0, this algorithm does not converge well. You are advised to use the LinearRegression estimator\n",
      "  estimator.fit(X_train, y_train, **fit_params)\n",
      "C:\\Users\\TRANG THOMAS\\Anaconda\\lib\\site-packages\\sklearn\\linear_model\\_coordinate_descent.py:532: UserWarning: Coordinate descent with no regularization may lead to unexpected results and is discouraged.\n",
      "  positive)\n",
      "C:\\Users\\TRANG THOMAS\\Anaconda\\lib\\site-packages\\sklearn\\linear_model\\_coordinate_descent.py:532: ConvergenceWarning: Objective did not converge. You might want to increase the number of iterations. Duality gap: 532074821.16737384, tolerance: 202219.9535969969\n",
      "  positive)\n",
      "C:\\Users\\TRANG THOMAS\\Anaconda\\lib\\site-packages\\sklearn\\model_selection\\_validation.py:593: UserWarning: With alpha=0, this algorithm does not converge well. You are advised to use the LinearRegression estimator\n",
      "  estimator.fit(X_train, y_train, **fit_params)\n",
      "C:\\Users\\TRANG THOMAS\\Anaconda\\lib\\site-packages\\sklearn\\linear_model\\_coordinate_descent.py:532: UserWarning: Coordinate descent with no regularization may lead to unexpected results and is discouraged.\n",
      "  positive)\n",
      "C:\\Users\\TRANG THOMAS\\Anaconda\\lib\\site-packages\\sklearn\\linear_model\\_coordinate_descent.py:532: ConvergenceWarning: Objective did not converge. You might want to increase the number of iterations. Duality gap: 495678955.61068356, tolerance: 191615.72795852792\n",
      "  positive)\n",
      "C:\\Users\\TRANG THOMAS\\Anaconda\\lib\\site-packages\\sklearn\\model_selection\\_validation.py:593: UserWarning: With alpha=0, this algorithm does not converge well. You are advised to use the LinearRegression estimator\n",
      "  estimator.fit(X_train, y_train, **fit_params)\n",
      "C:\\Users\\TRANG THOMAS\\Anaconda\\lib\\site-packages\\sklearn\\linear_model\\_coordinate_descent.py:532: UserWarning: Coordinate descent with no regularization may lead to unexpected results and is discouraged.\n",
      "  positive)\n",
      "C:\\Users\\TRANG THOMAS\\Anaconda\\lib\\site-packages\\sklearn\\linear_model\\_coordinate_descent.py:532: ConvergenceWarning: Objective did not converge. You might want to increase the number of iterations. Duality gap: 524535025.63958955, tolerance: 200123.5302821518\n",
      "  positive)\n"
     ]
    }
   ],
   "source": [
    "lasso=Lasso()\n",
    "#parameters={'alpha':[-10000,-6000,-100,-200, 1, 10, 20, 50,100,150,200, 600, 1000000]}\n",
    "parameters={'alpha':list(range(-300,300))}\n",
    "\n",
    "gridSearchLasso=GridSearchCV(lasso,parameters,scoring='r2',cv=4)\n",
    "gridSearchLasso.fit(X_train,y_train)\n",
    "\n",
    "\n",
    "\n",
    "best_Lasso=gridSearchLasso.best_estimator_\n",
    "bestLasso_testScore=best_Lasso.score(X_test,y_test)\n",
    "\n"
   ]
  },
  {
   "cell_type": "code",
   "execution_count": 67,
   "metadata": {},
   "outputs": [
    {
     "name": "stdout",
     "output_type": "stream",
     "text": [
      "The best R2 train score is : 0.47 with Alpha = 1.00\n",
      " \n",
      "The best R2 test score is : 0.46\n",
      " with Alpha = 1.00\n",
      " \n"
     ]
    }
   ],
   "source": [
    "print('The best R2 train score is : {:.2f} with Alpha = {:.2f}\\n \\\n",
    "'.format(gridSearchLasso.best_score_,gridSearchLasso.best_params_['alpha']))\n",
    "print('The best R2 test score is : {:.2f}\\n with Alpha = {:.2f}\\n \\\n",
    "'.format(bestLasso_testScore,gridSearchLasso.best_params_['alpha']))\n"
   ]
  },
  {
   "cell_type": "code",
   "execution_count": 68,
   "metadata": {},
   "outputs": [],
   "source": [
    "reporting['Lasso regression']=bestLasso_testScore"
   ]
  },
  {
   "cell_type": "markdown",
   "metadata": {},
   "source": [
    "We see all the coef when the alphas raise, our coeficients converge to 0"
   ]
  },
  {
   "cell_type": "code",
   "execution_count": 69,
   "metadata": {},
   "outputs": [
    {
     "data": {
      "image/png": "[encoded data removed]",
      "text/plain": [
       "<Figure size 432x288 with 1 Axes>"
      ]
     },
     "metadata": {
      "needs_background": "light"
     },
     "output_type": "display_data"
    }
   ],
   "source": [
    "ax=plt.gca()\n",
    "ax.plot(alphas,coefs)\n",
    "ax.set_xscale('log')\n",
    "ax.set_ylim(-75,75)\n",
    "plt.show()\n"
   ]
  },
  {
   "cell_type": "markdown",
   "metadata": {},
   "source": [
    "## SVR regression"
   ]
  },
  {
   "cell_type": "code",
   "execution_count": 70,
   "metadata": {
    "scrolled": true
   },
   "outputs": [
    {
     "name": "stdout",
     "output_type": "stream",
     "text": [
      "C = 10.00\n",
      " SVR R2 training: -0.02, R2 test: -0.04\n",
      "\n",
      "C = 50.00\n",
      " SVR R2 training: 0.02, R2 test: -0.01\n",
      "\n",
      "C = 80.00\n",
      " SVR R2 training: 0.04, R2 test: 0.01\n",
      "\n",
      "C = 100.00\n",
      " SVR R2 training: 0.05, R2 test: 0.02\n",
      "\n",
      "C = 500.00\n",
      " SVR R2 training: 0.22, R2 test: 0.19\n",
      "\n",
      "C = 600.00\n",
      " SVR R2 training: 0.25, R2 test: 0.22\n",
      "\n",
      "C = 800.00\n",
      " SVR R2 training: 0.29, R2 test: 0.27\n",
      "\n",
      "C = 1000.00\n",
      " SVR R2 training: 0.32, R2 test: 0.30\n",
      "\n",
      "C = 1400.00\n",
      " SVR R2 training: 0.36, R2 test: 0.33\n",
      "\n",
      "C = 1800.00\n",
      " SVR R2 training: 0.38, R2 test: 0.35\n",
      "\n",
      "C = 2200.00\n",
      " SVR R2 training: 0.39, R2 test: 0.36\n",
      "\n"
     ]
    }
   ],
   "source": [
    "C=[ 10,50,80,100, 500,600,800,1000,1400,1800,2200 ]\n",
    "for i in C:\n",
    "    svr_Model = SVR(C = i).fit(X_train, y_train)\n",
    "    r2_train_svr = svr_Model.score(X_train, y_train)\n",
    "    r2_test_svr=svr_Model.score(X_test, y_test)\n",
    "    print('C = {:.2f}\\n \\\n",
    "SVR R2 training: {:.2f}, R2 test: {:.2f}\\n'\n",
    "         .format(i, r2_train_svr, r2_test_svr))"
   ]
  },
  {
   "cell_type": "code",
   "execution_count": 71,
   "metadata": {},
   "outputs": [],
   "source": [
    "svr_Model=SVR()\n",
    "\n",
    "param = {'C' : [800,1000,1400,1800,2200]}\n",
    "\n",
    "gridSearchSVR=GridSearchCV(svr_Model,param,scoring='r2',cv=5)\n",
    "gridSearchSVR.fit(X_train,y_train)\n",
    "\n",
    "\n",
    "best_SVR=gridSearchSVR.best_estimator_\n",
    "bestSVR_testScore=best_SVR.score(X_test,y_test)\n"
   ]
  },
  {
   "cell_type": "code",
   "execution_count": 72,
   "metadata": {},
   "outputs": [
    {
     "name": "stdout",
     "output_type": "stream",
     "text": [
      "The best R2 train score is : 0.37 with C = 2200.00\n",
      " \n",
      "The best R2 test score is : 0.36\n",
      " with Alpha = 2200.00\n",
      " \n"
     ]
    }
   ],
   "source": [
    "print('The best R2 train score is : {:.2f} with C = {:.2f}\\n \\\n",
    "'.format(gridSearchSVR.best_score_,gridSearchSVR.best_params_['C']))\n",
    "print('The best R2 test score is : {:.2f}\\n with Alpha = {:.2f}\\n \\\n",
    "'.format(bestSVR_testScore,gridSearchSVR.best_params_['C']))"
   ]
  },
  {
   "cell_type": "code",
   "execution_count": 73,
   "metadata": {},
   "outputs": [],
   "source": [
    "reporting['SVR']=gridSearchSVR.best_score_"
   ]
  },
  {
   "cell_type": "markdown",
   "metadata": {},
   "source": [
    "## Decision Tree Regressor\n",
    "We first need to standartize data"
   ]
  },
  {
   "cell_type": "code",
   "execution_count": 74,
   "metadata": {},
   "outputs": [],
   "source": [
    "scalerTrain = preprocessing.StandardScaler().fit(X_train)\n",
    "scalerTest = preprocessing.StandardScaler().fit(X_test)\n",
    "X_train_Scaled=scalerTrain.transform(X_train)\n",
    "X_test_Scaled=scalerTest.transform(X_test)\n"
   ]
  },
  {
   "cell_type": "code",
   "execution_count": 75,
   "metadata": {},
   "outputs": [],
   "source": [
    "decisionTree = DecisionTreeRegressor()\n",
    "\n",
    "param = {'max_depth' : [1,4,5,6,7,10,15,20,8]}\n",
    "\n",
    "gridSearch_decisionTree=GridSearchCV(decisionTree,param,scoring='r2',cv=6)\n",
    "gridSearch_decisionTree.fit(X_train_Scaled,y_train)\n",
    "\n",
    "\n",
    "best_DecisionTree=gridSearch_decisionTree.best_estimator_\n",
    "bestDecisionTree_testScore=best_DecisionTree.score(X_test_Scaled,y_test)\n",
    "\n"
   ]
  },
  {
   "cell_type": "code",
   "execution_count": 76,
   "metadata": {},
   "outputs": [
    {
     "name": "stdout",
     "output_type": "stream",
     "text": [
      "The best Decision Tree R2 score is : 0.71 with max depth = 8.00 \n",
      " \n",
      "The best R2 test score is : 0.70\n",
      " with Alpha = 8.00\n",
      " \n"
     ]
    }
   ],
   "source": [
    "print('The best Decision Tree R2 score is : {:.2f} with max depth = {:.2f} \\n \\\n",
    "'.format(gridSearch_decisionTree.best_score_,gridSearch_decisionTree.best_params_['max_depth'] ))\n",
    "print('The best R2 test score is : {:.2f}\\n with max depth = {:.2f}\\n \\\n",
    "'.format(bestDecisionTree_testScore,gridSearch_decisionTree.best_params_['max_depth']))"
   ]
  },
  {
   "cell_type": "code",
   "execution_count": 77,
   "metadata": {},
   "outputs": [],
   "source": [
    "reporting['Decision Tree Regressor']=bestDecisionTree_testScore"
   ]
  },
  {
   "cell_type": "markdown",
   "metadata": {},
   "source": [
    "## Random Forest Regressor"
   ]
  },
  {
   "cell_type": "code",
   "execution_count": 78,
   "metadata": {},
   "outputs": [],
   "source": [
    "randomForestAlgo = RandomForestRegressor()\n",
    "\n",
    "\n",
    "param = {'n_estimators' : [int(x) for x in np.linspace(start=10,stop=100, num=10)], \n",
    "         'max_depth' : [60,70,80,90,100],\n",
    "         'min_samples_split':[2,4,6,8],\n",
    "         'min_samples_leaf':[1,2,3,4],\n",
    "         'bootstrap' : [True,False]\n",
    "        }\n",
    "\n",
    "gridSearch_RandomForest=GridSearchCV(randomForestAlgo,param,scoring='r2',cv=5)\n",
    "gridSearch_RandomForest.fit(X_train_Scaled,y_train)\n",
    "\n",
    "best_randomForest=gridSearch_RandomForest.best_estimator_\n",
    "bestRandomForest_testScore=best_randomForest.score(X_test_Scaled,y_test)\n"
   ]
  },
  {
   "cell_type": "markdown",
   "metadata": {},
   "source": [
    "this is how we predict the target of one day with its features"
   ]
  },
  {
   "cell_type": "code",
   "execution_count": 79,
   "metadata": {},
   "outputs": [],
   "source": [
    "#best_randomForest.predict([[10,10,60,3,1000,0,0,2,12,1]])[0]"
   ]
  },
  {
   "cell_type": "code",
   "execution_count": 80,
   "metadata": {},
   "outputs": [
    {
     "name": "stdout",
     "output_type": "stream",
     "text": [
      "The best Random Forest R2 train score is : 0.83 with n estimators = 90.00, max depth : 100.00, min samples split : 2 and min samples leaf : 1  \n",
      " \n",
      "The best Random Forest R2 test score is : 0.82 with n estimators = 90.00, max depth : 100.00, min samples split : 2 and min samples leaf : 1  \n",
      " \n"
     ]
    }
   ],
   "source": [
    "print('The best Random Forest R2 train score is : {:.2f} with n estimators = {:.2f}, max depth : {:.2f}, min samples split : {} and min samples leaf : {}  \\n \\\n",
    "'.format(gridSearch_RandomForest.best_score_,gridSearch_RandomForest.best_params_['n_estimators'],gridSearch_RandomForest.best_params_['max_depth'],gridSearch_RandomForest.best_params_['min_samples_split'],gridSearch_RandomForest.best_params_['min_samples_leaf'] ))\n",
    "print('The best Random Forest R2 test score is : {:.2f} with n estimators = {:.2f}, max depth : {:.2f}, min samples split : {} and min samples leaf : {}  \\n \\\n",
    "'.format(bestRandomForest_testScore,gridSearch_RandomForest.best_params_['n_estimators'],gridSearch_RandomForest.best_params_['max_depth'],gridSearch_RandomForest.best_params_['min_samples_split'],gridSearch_RandomForest.best_params_['min_samples_leaf'] ))\n"
   ]
  },
  {
   "cell_type": "code",
   "execution_count": 81,
   "metadata": {},
   "outputs": [],
   "source": [
    "reporting['Random Forest Regressor']=bestRandomForest_testScore"
   ]
  },
  {
   "cell_type": "markdown",
   "metadata": {},
   "source": [
    "## Extra Trees Regressor"
   ]
  },
  {
   "cell_type": "code",
   "execution_count": 91,
   "metadata": {},
   "outputs": [],
   "source": [
    "extraTreesAlgo = ExtraTreesRegressor()\n",
    "\n",
    "param = {'n_estimators' : [int(x) for x in np.linspace(start=10,stop=170, num=10)], \n",
    "         'max_depth' : [50,60,70,80,90,100],\n",
    "         'min_samples_split':[1,2,4,6,8],\n",
    "         'min_samples_leaf':[1,2,3,4],\n",
    "         'bootstrap' : [True,False]\n",
    "        }\n",
    "\n",
    "gridSearch_ExtraTrees=GridSearchCV(extraTreesAlgo,param,scoring='r2',cv=5)\n",
    "gridSearch_ExtraTrees.fit(X_train_Scaled,y_train)\n",
    "\n",
    "best_ExtrasTrees=gridSearch_ExtraTrees.best_estimator_\n",
    "bestExtrasTrees_testScore=best_ExtrasTrees.score(X_test_Scaled,y_test)\n",
    "\n"
   ]
  },
  {
   "cell_type": "code",
   "execution_count": 92,
   "metadata": {},
   "outputs": [],
   "source": [
    "#best_ExtrasTrees.predict([[10,10,60,3,1000,0,0,2,12,1]])[0]"
   ]
  },
  {
   "cell_type": "code",
   "execution_count": 93,
   "metadata": {},
   "outputs": [
    {
     "name": "stdout",
     "output_type": "stream",
     "text": [
      "The best Random Forest R2 score is : 0.84 with n estimators = 180.00, max depth : 80.00, min samples split : 2 and min samples leaf : 1  \n",
      " \n",
      "The best Random Forest R2 test score is : 0.83 with n estimators = 180.00, max depth : 80.00, min samples split : 2 and min samples leaf : 1  \n",
      " \n"
     ]
    }
   ],
   "source": [
    "print('The best Random Forest R2 score is : {:.2f} with n estimators = {:.2f}, max depth : {:.2f}, min samples split : {} and min samples leaf : {}  \\n \\\n",
    "'.format(gridSearch_ExtraTrees.best_score_,gridSearch_ExtraTrees.best_params_['n_estimators'],gridSearch_ExtraTrees.best_params_['max_depth'],gridSearch_ExtraTrees.best_params_['min_samples_split'],gridSearch_ExtraTrees.best_params_['min_samples_leaf'] ))\n",
    "print('The best Random Forest R2 test score is : {:.2f} with n estimators = {:.2f}, max depth : {:.2f}, min samples split : {} and min samples leaf : {}  \\n \\\n",
    "'.format(bestExtrasTrees_testScore,gridSearch_ExtraTrees.best_params_['n_estimators'],gridSearch_ExtraTrees.best_params_['max_depth'],gridSearch_ExtraTrees.best_params_['min_samples_split'],gridSearch_ExtraTrees.best_params_['min_samples_leaf'] ))"
   ]
  },
  {
   "cell_type": "code",
   "execution_count": 94,
   "metadata": {},
   "outputs": [],
   "source": [
    "reporting['Extra Trees Regressor']=bestExtrasTrees_testScore"
   ]
  },
  {
   "cell_type": "markdown",
   "metadata": {},
   "source": [
    "# Present all the results of every model in a data frame and plot these in function of the model"
   ]
  },
  {
   "cell_type": "code",
   "execution_count": 95,
   "metadata": {},
   "outputs": [],
   "source": [
    "df_results=pd.DataFrame()\n",
    "df_results['model']=reporting.keys()\n",
    "df_results['Score R2']=reporting.values()"
   ]
  },
  {
   "cell_type": "code",
   "execution_count": 96,
   "metadata": {},
   "outputs": [],
   "source": [
    "df_results=df_results.set_index('model')"
   ]
  },
  {
   "cell_type": "code",
   "execution_count": 98,
   "metadata": {},
   "outputs": [
    {
     "data": {
      "text/html": [
       "<style  type=\"text/css\" >\n",
       "#T_6a2bb_row0_col0{\n",
       "            background-color:  #ff0000;\n",
       "            color:  #f1f1f1;\n",
       "        }#T_6a2bb_row1_col0{\n",
       "            background-color:  #ff0505;\n",
       "            color:  #f1f1f1;\n",
       "        }#T_6a2bb_row2_col0{\n",
       "            background-color:  #ff3f3f;\n",
       "            color:  #f1f1f1;\n",
       "        }#T_6a2bb_row3_col0{\n",
       "            background-color:  #ffb4b4;\n",
       "            color:  #000000;\n",
       "        }#T_6a2bb_row4_col0,#T_6a2bb_row5_col0{\n",
       "            background-color:  #ffb8b8;\n",
       "            color:  #000000;\n",
       "        }#T_6a2bb_row6_col0{\n",
       "            background-color:  #ffe5e5;\n",
       "            color:  #000000;\n",
       "        }</style><table id=\"T_6a2bb_\" ><thead>    <tr>        <th class=\"blank level0\" ></th>        <th class=\"col_heading level0 col0\" >Score R2</th>    </tr>    <tr>        <th class=\"index_name level0\" >model</th>        <th class=\"blank\" ></th>    </tr></thead><tbody>\n",
       "                <tr>\n",
       "                        <th id=\"T_6a2bb_level0_row0\" class=\"row_heading level0 row0\" >Extra Trees Regressor</th>\n",
       "                        <td id=\"T_6a2bb_row0_col0\" class=\"data row0 col0\" >0.828773</td>\n",
       "            </tr>\n",
       "            <tr>\n",
       "                        <th id=\"T_6a2bb_level0_row1\" class=\"row_heading level0 row1\" >Random Forest Regressor</th>\n",
       "                        <td id=\"T_6a2bb_row1_col0\" class=\"data row1 col0\" >0.819044</td>\n",
       "            </tr>\n",
       "            <tr>\n",
       "                        <th id=\"T_6a2bb_level0_row2\" class=\"row_heading level0 row2\" >Decision Tree Regressor</th>\n",
       "                        <td id=\"T_6a2bb_row2_col0\" class=\"data row2 col0\" >0.702782</td>\n",
       "            </tr>\n",
       "            <tr>\n",
       "                        <th id=\"T_6a2bb_level0_row3\" class=\"row_heading level0 row3\" >Linear regression</th>\n",
       "                        <td id=\"T_6a2bb_row3_col0\" class=\"data row3 col0\" >0.472014</td>\n",
       "            </tr>\n",
       "            <tr>\n",
       "                        <th id=\"T_6a2bb_level0_row4\" class=\"row_heading level0 row4\" >Lasso regression</th>\n",
       "                        <td id=\"T_6a2bb_row4_col0\" class=\"data row4 col0\" >0.462381</td>\n",
       "            </tr>\n",
       "            <tr>\n",
       "                        <th id=\"T_6a2bb_level0_row5\" class=\"row_heading level0 row5\" >Ridge regression</th>\n",
       "                        <td id=\"T_6a2bb_row5_col0\" class=\"data row5 col0\" >0.462287</td>\n",
       "            </tr>\n",
       "            <tr>\n",
       "                        <th id=\"T_6a2bb_level0_row6\" class=\"row_heading level0 row6\" >SVR</th>\n",
       "                        <td id=\"T_6a2bb_row6_col0\" class=\"data row6 col0\" >0.373138</td>\n",
       "            </tr>\n",
       "    </tbody></table>"
      ],
      "text/plain": [
       "<pandas.io.formats.style.Styler at 0x207ad5140b8>"
      ]
     },
     "execution_count": 98,
     "metadata": {},
     "output_type": "execute_result"
    }
   ],
   "source": [
    "dfVizModels=pd.DataFrame(df_results['Score R2'].sort_values(ascending=False))\n",
    "dfVizModels.style.background_gradient(cmap=sns.light_palette(\"red\", as_cmap=True))"
   ]
  },
  {
   "cell_type": "markdown",
   "metadata": {},
   "source": [
    "## The best model after grid search is the Extra Trees regressor with a R2 score of 0.83"
   ]
  },
  {
   "cell_type": "markdown",
   "metadata": {},
   "source": [
    " ###  "
   ]
  },
  {
   "cell_type": "markdown",
   "metadata": {},
   "source": [
    "# Let's pickle the model with the best R2 in order to implement the API"
   ]
  },
  {
   "cell_type": "code",
   "execution_count": 65,
   "metadata": {},
   "outputs": [],
   "source": [
    "import pickle "
   ]
  },
  {
   "cell_type": "markdown",
   "metadata": {},
   "source": [
    "save the model in a pickle file"
   ]
  },
  {
   "cell_type": "code",
   "execution_count": 66,
   "metadata": {},
   "outputs": [],
   "source": [
    "pickle.dump(best_ExtrasTrees, open(\"model.pkl\",'wb'))"
   ]
  },
  {
   "cell_type": "markdown",
   "metadata": {},
   "source": [
    "load the model in a variable"
   ]
  },
  {
   "cell_type": "code",
   "execution_count": 67,
   "metadata": {},
   "outputs": [],
   "source": [
    "model=pickle.load(open(\"model.pkl\",'rb'))"
   ]
  },
  {
   "cell_type": "markdown",
   "metadata": {},
   "source": [
    "Let's take this example, with theses values for the features"
   ]
  },
  {
   "cell_type": "code",
   "execution_count": 68,
   "metadata": {},
   "outputs": [
    {
     "name": "stdout",
     "output_type": "stream",
     "text": [
      "499.2857142857143\n"
     ]
    }
   ],
   "source": [
    "print(model.predict([[10,10,60,3,1000,0,0,2,12,1]])[0])"
   ]
  }
 ],
 "metadata": {
  "kernelspec": {
   "display_name": "Python 3",
   "language": "python",
   "name": "python3"
  },
  "language_info": {
   "codemirror_mode": {
    "name": "ipython",
    "version": 3
   },
   "file_extension": ".py",
   "mimetype": "text/x-python",
   "name": "python",
   "nbconvert_exporter": "python",
   "pygments_lexer": "ipython3",
   "version": "3.7.1"
  }
 },
 "nbformat": 4,
 "nbformat_minor": 2
}
